{
 "cells": [
  {
   "cell_type": "code",
   "execution_count": 41,
   "metadata": {
    "collapsed": true
   },
   "outputs": [],
   "source": [
    "import data as data\n",
    "import pandas as pd"
   ]
  },
  {
   "cell_type": "code",
   "execution_count": 42,
   "outputs": [
    {
     "data": {
      "text/plain": "     순위                                             상품명      브랜드명  \\\n0    1위                   (시티보이) 오버핏 옥스포드 셔츠_SPYWD23C01       스파오   \n1    2위  [23SS Ver.][PACKAGE] 시티보이 빅오버 워싱 데님 셔츠_4 Color    라퍼지스토어   \n2    3위      [MUSINSA EXCLUSIVE] 뉴욕 복싱 클럽 코튼 치노 셔츠 - 블랙  폴로 랄프 로렌   \n3    4위                                   베이식 긴팔 티셔츠 2팩  무신사 스탠다드   \n4    5위                       레이어드 크루 넥 반팔 티셔츠_일반 기장 2팩  무신사 스탠다드   \n..  ...                                             ...       ...   \n85  86위                                베이식 긴팔 티셔츠 [화이트]  무신사 스탠다드   \n86  87위                    (23SS) 2 TONE ARCH TEE WHITE        예일   \n87  88위                               오버핏 그래피티 로고 후디-블랙    필루미네이트   \n88  89위              Comfort Shirt  01 (Silver  (Thin))       포터리   \n89  90위              LONELY/LOVELY FLUFF HOODIE OATMEAL        노앙   \n\n                                                  url         조회수     좋아요  \\\n0   https://www.musinsa.com/app/goods/2272830?loc=...  22.4만 회 이상  46,073   \n1   https://www.musinsa.com/app/goods/3150516?loc=...   1.5만 회 이상     884   \n2   https://www.musinsa.com/app/goods/3072191?loc=...   1.5만 회 이상     314   \n3   https://www.musinsa.com/app/goods/2149254?loc=...  14.1만 회 이상  57,235   \n4   https://www.musinsa.com/app/goods/2122566?loc=...   8.7만 회 이상  18,637   \n..                                                ...         ...     ...   \n85  https://www.musinsa.com/app/goods/1144989?loc=...   4.1만 회 이상  58,738   \n86  https://www.musinsa.com/app/goods/1841764?loc=...   4.5만 회 이상  75,338   \n87  https://www.musinsa.com/app/goods/2913659?loc=...     5만 회 이상  10,355   \n88  https://www.musinsa.com/app/goods/3043302?loc=...   1.5만 회 이상     641   \n89  https://www.musinsa.com/app/goods/3080138?loc=...   4.1천 회 이상     281   \n\n          구매후기 개수     평점  누적판매량(1년)  \n0   후기 17,548개 보기    4.9    5만 개 이상  \n1        후기 3개 보기    4.7    100개 이상  \n2           후기 0개  평점 0점    100개 이상  \n3   후기 31,434개 보기    4.9   12만 개 이상  \n4   후기 14,555개 보기    4.9    5만 개 이상  \n..            ...    ...        ...  \n85  후기 66,755개 보기    4.8  4.7만 개 이상  \n86  후기 12,873개 보기    4.8  6.4만 개 이상  \n87     후기 207개 보기    4.8    2천 개 이상  \n88      후기 31개 보기    4.9    100개 이상  \n89       후기 5개 보기      5     50개 이상  \n\n[90 rows x 9 columns]",
      "text/html": "<div>\n<style scoped>\n    .dataframe tbody tr th:only-of-type {\n        vertical-align: middle;\n    }\n\n    .dataframe tbody tr th {\n        vertical-align: top;\n    }\n\n    .dataframe thead th {\n        text-align: right;\n    }\n</style>\n<table border=\"1\" class=\"dataframe\">\n  <thead>\n    <tr style=\"text-align: right;\">\n      <th></th>\n      <th>순위</th>\n      <th>상품명</th>\n      <th>브랜드명</th>\n      <th>url</th>\n      <th>조회수</th>\n      <th>좋아요</th>\n      <th>구매후기 개수</th>\n      <th>평점</th>\n      <th>누적판매량(1년)</th>\n    </tr>\n  </thead>\n  <tbody>\n    <tr>\n      <th>0</th>\n      <td>1위</td>\n      <td>(시티보이) 오버핏 옥스포드 셔츠_SPYWD23C01</td>\n      <td>스파오</td>\n      <td>https://www.musinsa.com/app/goods/2272830?loc=...</td>\n      <td>22.4만 회 이상</td>\n      <td>46,073</td>\n      <td>후기 17,548개 보기</td>\n      <td>4.9</td>\n      <td>5만 개 이상</td>\n    </tr>\n    <tr>\n      <th>1</th>\n      <td>2위</td>\n      <td>[23SS Ver.][PACKAGE] 시티보이 빅오버 워싱 데님 셔츠_4 Color</td>\n      <td>라퍼지스토어</td>\n      <td>https://www.musinsa.com/app/goods/3150516?loc=...</td>\n      <td>1.5만 회 이상</td>\n      <td>884</td>\n      <td>후기 3개 보기</td>\n      <td>4.7</td>\n      <td>100개 이상</td>\n    </tr>\n    <tr>\n      <th>2</th>\n      <td>3위</td>\n      <td>[MUSINSA EXCLUSIVE] 뉴욕 복싱 클럽 코튼 치노 셔츠 - 블랙</td>\n      <td>폴로 랄프 로렌</td>\n      <td>https://www.musinsa.com/app/goods/3072191?loc=...</td>\n      <td>1.5만 회 이상</td>\n      <td>314</td>\n      <td>후기 0개</td>\n      <td>평점 0점</td>\n      <td>100개 이상</td>\n    </tr>\n    <tr>\n      <th>3</th>\n      <td>4위</td>\n      <td>베이식 긴팔 티셔츠 2팩</td>\n      <td>무신사 스탠다드</td>\n      <td>https://www.musinsa.com/app/goods/2149254?loc=...</td>\n      <td>14.1만 회 이상</td>\n      <td>57,235</td>\n      <td>후기 31,434개 보기</td>\n      <td>4.9</td>\n      <td>12만 개 이상</td>\n    </tr>\n    <tr>\n      <th>4</th>\n      <td>5위</td>\n      <td>레이어드 크루 넥 반팔 티셔츠_일반 기장 2팩</td>\n      <td>무신사 스탠다드</td>\n      <td>https://www.musinsa.com/app/goods/2122566?loc=...</td>\n      <td>8.7만 회 이상</td>\n      <td>18,637</td>\n      <td>후기 14,555개 보기</td>\n      <td>4.9</td>\n      <td>5만 개 이상</td>\n    </tr>\n    <tr>\n      <th>...</th>\n      <td>...</td>\n      <td>...</td>\n      <td>...</td>\n      <td>...</td>\n      <td>...</td>\n      <td>...</td>\n      <td>...</td>\n      <td>...</td>\n      <td>...</td>\n    </tr>\n    <tr>\n      <th>85</th>\n      <td>86위</td>\n      <td>베이식 긴팔 티셔츠 [화이트]</td>\n      <td>무신사 스탠다드</td>\n      <td>https://www.musinsa.com/app/goods/1144989?loc=...</td>\n      <td>4.1만 회 이상</td>\n      <td>58,738</td>\n      <td>후기 66,755개 보기</td>\n      <td>4.8</td>\n      <td>4.7만 개 이상</td>\n    </tr>\n    <tr>\n      <th>86</th>\n      <td>87위</td>\n      <td>(23SS) 2 TONE ARCH TEE WHITE</td>\n      <td>예일</td>\n      <td>https://www.musinsa.com/app/goods/1841764?loc=...</td>\n      <td>4.5만 회 이상</td>\n      <td>75,338</td>\n      <td>후기 12,873개 보기</td>\n      <td>4.8</td>\n      <td>6.4만 개 이상</td>\n    </tr>\n    <tr>\n      <th>87</th>\n      <td>88위</td>\n      <td>오버핏 그래피티 로고 후디-블랙</td>\n      <td>필루미네이트</td>\n      <td>https://www.musinsa.com/app/goods/2913659?loc=...</td>\n      <td>5만 회 이상</td>\n      <td>10,355</td>\n      <td>후기 207개 보기</td>\n      <td>4.8</td>\n      <td>2천 개 이상</td>\n    </tr>\n    <tr>\n      <th>88</th>\n      <td>89위</td>\n      <td>Comfort Shirt  01 (Silver  (Thin))</td>\n      <td>포터리</td>\n      <td>https://www.musinsa.com/app/goods/3043302?loc=...</td>\n      <td>1.5만 회 이상</td>\n      <td>641</td>\n      <td>후기 31개 보기</td>\n      <td>4.9</td>\n      <td>100개 이상</td>\n    </tr>\n    <tr>\n      <th>89</th>\n      <td>90위</td>\n      <td>LONELY/LOVELY FLUFF HOODIE OATMEAL</td>\n      <td>노앙</td>\n      <td>https://www.musinsa.com/app/goods/3080138?loc=...</td>\n      <td>4.1천 회 이상</td>\n      <td>281</td>\n      <td>후기 5개 보기</td>\n      <td>5</td>\n      <td>50개 이상</td>\n    </tr>\n  </tbody>\n</table>\n<p>90 rows × 9 columns</p>\n</div>"
     },
     "execution_count": 42,
     "metadata": {},
     "output_type": "execute_result"
    }
   ],
   "source": [
    "Musinsa_top=pd.read_csv('./0319 musinsa_ranking_category1_page1.csv')\n",
    "Musinsa_top"
   ],
   "metadata": {
    "collapsed": false,
    "pycharm": {
     "name": "#%%\n"
    }
   }
  },
  {
   "cell_type": "code",
   "execution_count": 43,
   "outputs": [
    {
     "name": "stdout",
     "output_type": "stream",
     "text": [
      "<class 'pandas.core.frame.DataFrame'>\n",
      "RangeIndex: 90 entries, 0 to 89\n",
      "Data columns (total 9 columns):\n",
      " #   Column     Non-Null Count  Dtype \n",
      "---  ------     --------------  ----- \n",
      " 0   순위         90 non-null     object\n",
      " 1   상품명        90 non-null     object\n",
      " 2   브랜드명       90 non-null     object\n",
      " 3   url        90 non-null     object\n",
      " 4   조회수        86 non-null     object\n",
      " 5   좋아요        90 non-null     object\n",
      " 6   구매후기 개수    90 non-null     object\n",
      " 7   평점         90 non-null     object\n",
      " 8   누적판매량(1년)  80 non-null     object\n",
      "dtypes: object(9)\n",
      "memory usage: 6.5+ KB\n"
     ]
    }
   ],
   "source": [
    "Musinsa_top.info()"
   ],
   "metadata": {
    "collapsed": false,
    "pycharm": {
     "name": "#%%\n"
    }
   }
  },
  {
   "cell_type": "markdown",
   "source": [],
   "metadata": {
    "collapsed": false
   }
  },
  {
   "cell_type": "markdown",
   "source": [],
   "metadata": {
    "collapsed": false
   }
  },
  {
   "cell_type": "code",
   "execution_count": 58,
   "outputs": [
    {
     "data": {
      "text/plain": "     순위                                             상품명      브랜드명  \\\n0    1위                   (시티보이) 오버핏 옥스포드 셔츠_SPYWD23C01       스파오   \n1    2위  [23SS Ver.][PACKAGE] 시티보이 빅오버 워싱 데님 셔츠_4 Color    라퍼지스토어   \n2    3위      [MUSINSA EXCLUSIVE] 뉴욕 복싱 클럽 코튼 치노 셔츠 - 블랙  폴로 랄프 로렌   \n3    4위                                   베이식 긴팔 티셔츠 2팩  무신사 스탠다드   \n4    5위                       레이어드 크루 넥 반팔 티셔츠_일반 기장 2팩  무신사 스탠다드   \n..  ...                                             ...       ...   \n85  86위                                베이식 긴팔 티셔츠 [화이트]  무신사 스탠다드   \n86  87위                    (23SS) 2 TONE ARCH TEE WHITE        예일   \n87  88위                               오버핏 그래피티 로고 후디-블랙    필루미네이트   \n88  89위              Comfort Shirt  01 (Silver  (Thin))       포터리   \n89  90위              LONELY/LOVELY FLUFF HOODIE OATMEAL        노앙   \n\n                                                  url       조회수     좋아요  \\\n0   https://www.musinsa.com/app/goods/2272830?loc=...  224000.0  46,073   \n1   https://www.musinsa.com/app/goods/3150516?loc=...   15000.0     884   \n2   https://www.musinsa.com/app/goods/3072191?loc=...   15000.0     314   \n3   https://www.musinsa.com/app/goods/2149254?loc=...  141000.0  57,235   \n4   https://www.musinsa.com/app/goods/2122566?loc=...   87000.0  18,637   \n..                                                ...       ...     ...   \n85  https://www.musinsa.com/app/goods/1144989?loc=...   41000.0  58,738   \n86  https://www.musinsa.com/app/goods/1841764?loc=...   45000.0  75,338   \n87  https://www.musinsa.com/app/goods/2913659?loc=...   50000.0  10,355   \n88  https://www.musinsa.com/app/goods/3043302?loc=...   15000.0     641   \n89  https://www.musinsa.com/app/goods/3080138?loc=...    4100.0     281   \n\n          구매후기 개수     평점  누적판매량(1년)  \n0   후기 17,548개 보기    4.9    5만 개 이상  \n1        후기 3개 보기    4.7    100개 이상  \n2           후기 0개  평점 0점    100개 이상  \n3   후기 31,434개 보기    4.9   12만 개 이상  \n4   후기 14,555개 보기    4.9    5만 개 이상  \n..            ...    ...        ...  \n85  후기 66,755개 보기    4.8  4.7만 개 이상  \n86  후기 12,873개 보기    4.8  6.4만 개 이상  \n87     후기 207개 보기    4.8    2천 개 이상  \n88      후기 31개 보기    4.9    100개 이상  \n89       후기 5개 보기      5     50개 이상  \n\n[90 rows x 9 columns]",
      "text/html": "<div>\n<style scoped>\n    .dataframe tbody tr th:only-of-type {\n        vertical-align: middle;\n    }\n\n    .dataframe tbody tr th {\n        vertical-align: top;\n    }\n\n    .dataframe thead th {\n        text-align: right;\n    }\n</style>\n<table border=\"1\" class=\"dataframe\">\n  <thead>\n    <tr style=\"text-align: right;\">\n      <th></th>\n      <th>순위</th>\n      <th>상품명</th>\n      <th>브랜드명</th>\n      <th>url</th>\n      <th>조회수</th>\n      <th>좋아요</th>\n      <th>구매후기 개수</th>\n      <th>평점</th>\n      <th>누적판매량(1년)</th>\n    </tr>\n  </thead>\n  <tbody>\n    <tr>\n      <th>0</th>\n      <td>1위</td>\n      <td>(시티보이) 오버핏 옥스포드 셔츠_SPYWD23C01</td>\n      <td>스파오</td>\n      <td>https://www.musinsa.com/app/goods/2272830?loc=...</td>\n      <td>224000.0</td>\n      <td>46,073</td>\n      <td>후기 17,548개 보기</td>\n      <td>4.9</td>\n      <td>5만 개 이상</td>\n    </tr>\n    <tr>\n      <th>1</th>\n      <td>2위</td>\n      <td>[23SS Ver.][PACKAGE] 시티보이 빅오버 워싱 데님 셔츠_4 Color</td>\n      <td>라퍼지스토어</td>\n      <td>https://www.musinsa.com/app/goods/3150516?loc=...</td>\n      <td>15000.0</td>\n      <td>884</td>\n      <td>후기 3개 보기</td>\n      <td>4.7</td>\n      <td>100개 이상</td>\n    </tr>\n    <tr>\n      <th>2</th>\n      <td>3위</td>\n      <td>[MUSINSA EXCLUSIVE] 뉴욕 복싱 클럽 코튼 치노 셔츠 - 블랙</td>\n      <td>폴로 랄프 로렌</td>\n      <td>https://www.musinsa.com/app/goods/3072191?loc=...</td>\n      <td>15000.0</td>\n      <td>314</td>\n      <td>후기 0개</td>\n      <td>평점 0점</td>\n      <td>100개 이상</td>\n    </tr>\n    <tr>\n      <th>3</th>\n      <td>4위</td>\n      <td>베이식 긴팔 티셔츠 2팩</td>\n      <td>무신사 스탠다드</td>\n      <td>https://www.musinsa.com/app/goods/2149254?loc=...</td>\n      <td>141000.0</td>\n      <td>57,235</td>\n      <td>후기 31,434개 보기</td>\n      <td>4.9</td>\n      <td>12만 개 이상</td>\n    </tr>\n    <tr>\n      <th>4</th>\n      <td>5위</td>\n      <td>레이어드 크루 넥 반팔 티셔츠_일반 기장 2팩</td>\n      <td>무신사 스탠다드</td>\n      <td>https://www.musinsa.com/app/goods/2122566?loc=...</td>\n      <td>87000.0</td>\n      <td>18,637</td>\n      <td>후기 14,555개 보기</td>\n      <td>4.9</td>\n      <td>5만 개 이상</td>\n    </tr>\n    <tr>\n      <th>...</th>\n      <td>...</td>\n      <td>...</td>\n      <td>...</td>\n      <td>...</td>\n      <td>...</td>\n      <td>...</td>\n      <td>...</td>\n      <td>...</td>\n      <td>...</td>\n    </tr>\n    <tr>\n      <th>85</th>\n      <td>86위</td>\n      <td>베이식 긴팔 티셔츠 [화이트]</td>\n      <td>무신사 스탠다드</td>\n      <td>https://www.musinsa.com/app/goods/1144989?loc=...</td>\n      <td>41000.0</td>\n      <td>58,738</td>\n      <td>후기 66,755개 보기</td>\n      <td>4.8</td>\n      <td>4.7만 개 이상</td>\n    </tr>\n    <tr>\n      <th>86</th>\n      <td>87위</td>\n      <td>(23SS) 2 TONE ARCH TEE WHITE</td>\n      <td>예일</td>\n      <td>https://www.musinsa.com/app/goods/1841764?loc=...</td>\n      <td>45000.0</td>\n      <td>75,338</td>\n      <td>후기 12,873개 보기</td>\n      <td>4.8</td>\n      <td>6.4만 개 이상</td>\n    </tr>\n    <tr>\n      <th>87</th>\n      <td>88위</td>\n      <td>오버핏 그래피티 로고 후디-블랙</td>\n      <td>필루미네이트</td>\n      <td>https://www.musinsa.com/app/goods/2913659?loc=...</td>\n      <td>50000.0</td>\n      <td>10,355</td>\n      <td>후기 207개 보기</td>\n      <td>4.8</td>\n      <td>2천 개 이상</td>\n    </tr>\n    <tr>\n      <th>88</th>\n      <td>89위</td>\n      <td>Comfort Shirt  01 (Silver  (Thin))</td>\n      <td>포터리</td>\n      <td>https://www.musinsa.com/app/goods/3043302?loc=...</td>\n      <td>15000.0</td>\n      <td>641</td>\n      <td>후기 31개 보기</td>\n      <td>4.9</td>\n      <td>100개 이상</td>\n    </tr>\n    <tr>\n      <th>89</th>\n      <td>90위</td>\n      <td>LONELY/LOVELY FLUFF HOODIE OATMEAL</td>\n      <td>노앙</td>\n      <td>https://www.musinsa.com/app/goods/3080138?loc=...</td>\n      <td>4100.0</td>\n      <td>281</td>\n      <td>후기 5개 보기</td>\n      <td>5</td>\n      <td>50개 이상</td>\n    </tr>\n  </tbody>\n</table>\n<p>90 rows × 9 columns</p>\n</div>"
     },
     "execution_count": 58,
     "metadata": {},
     "output_type": "execute_result"
    }
   ],
   "source": [
    "import re\n",
    "def convert_view_count(count_str):\n",
    "    if isinstance(count_str, float):\n",
    "        return count_str\n",
    "    count_str = count_str.replace(',', '')  # 쉼표 제거\n",
    "    if '만' in count_str:\n",
    "        count = count_str.split('만')[0]\n",
    "        count = float(count) * 10000\n",
    "    elif '천' in count_str:\n",
    "        count = count_str.split('천')[0]\n",
    "        count = float(count) * 1000\n",
    "    else:\n",
    "        count = float(re.sub(r'[^0-9]','',count_str))\n",
    "    return int(count)\n",
    "\n",
    "Musinsa_top['조회수'] = Musinsa_top['조회수'].apply(convert_view_count)\n",
    "Musinsa_top"
   ],
   "metadata": {
    "collapsed": false,
    "pycharm": {
     "name": "#%%\n"
    }
    
   }
  },
  {
   "cell_type": "code",
   "execution_count": null,
   "outputs": [],
   "source": [
    "\n"
   ],
   "metadata": {
    "collapsed": false,
    "pycharm": {
     "name": "#%%\n"
    }
   }
  }
 ],
 "metadata": {
  "kernelspec": {
   "display_name": "Python 3",
   "language": "python",
   "name": "python3"
  },
  "language_info": {
   "codemirror_mode": {
    "name": "ipython",
    "version": 2
   },
   "file_extension": ".py",
   "mimetype": "text/x-python",
   "name": "python",
   "nbconvert_exporter": "python",
   "pygments_lexer": "ipython2",
   "version": "2.7.6"
  }
 },
 "nbformat": 4,
 "nbformat_minor": 0
}
