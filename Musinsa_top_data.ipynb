{
 "cells": [
  {
   "cell_type": "code",
   "execution_count": 48,
   "metadata": {
    "collapsed": true
   },
   "outputs": [],
   "source": [
    "import pandas as pd\n",
    "import re"
   ]
  },
  {
   "cell_type": "code",
   "execution_count": 49,
   "outputs": [],
   "source": [
    "p1=pd.read_csv('./pre_final_data/0319 musinsa_ranking_category1_page1.csv')\n",
    "p2=pd.read_csv('./pre_final_data/0319 musinsa_ranking_category1_page2.csv')\n",
    "p3=pd.read_csv('./pre_final_data/0319 musinsa_ranking_category1_page3.csv')\n",
    "p4=pd.read_csv('./pre_final_data/0319 musinsa_ranking_category1_page4.csv')\n",
    "p5=pd.read_csv('./pre_final_data/0319 musinsa_ranking_category1_page5.csv')\n",
    "p6=pd.read_csv('./pre_final_data/0319 musinsa_ranking_category1_page6.csv')\n",
    "p7=pd.read_csv('./pre_final_data/0319 musinsa_ranking_category1_page7.csv')\n",
    "p8=pd.read_csv('./pre_final_data/0319 musinsa_ranking_category1_page8.csv')\n",
    "p9=pd.read_csv('./pre_final_data/0319 musinsa_ranking_category1_page9.csv')\n",
    "p10=pd.read_csv('./pre_final_data/0319 musinsa_ranking_category1_page10.csv')\n",
    "p11=pd.read_csv('./pre_final_data/0319 musinsa_ranking_category1_page11.csv')\n",
    "p12=pd.read_csv('./pre_final_data/0319 musinsa_ranking_category1_page12.csv')\n",
    "p13=pd.read_csv('./pre_final_data/0319 musinsa_ranking_category1_page13.csv')\n",
    "p14=pd.read_csv('./pre_final_data/0319 musinsa_ranking_category1_page14.csv')\n",
    "p15=pd.read_csv('./pre_final_data/0319 musinsa_ranking_category1_page15.csv')\n",
    "p16=pd.read_csv('./pre_final_data/0319 musinsa_ranking_category1_page16.csv')\n",
    "p17=pd.read_csv('./pre_final_data/0319 musinsa_ranking_category1_page17.csv')\n",
    "p18=pd.read_csv('./pre_final_data/0319 musinsa_ranking_category1_page18.csv')\n",
    "p19=pd.read_csv('./pre_final_data/0319 musinsa_ranking_category1_page19.csv')\n",
    "p20=pd.read_csv('./pre_final_data/0319 musinsa_ranking_category1_page20.csv')\n",
    "p21=pd.read_csv('./pre_final_data/0319 musinsa_ranking_category1_page21.csv')\n",
    "p22=pd.read_csv('./pre_final_data/0319 musinsa_ranking_category1_page22.csv')\n",
    "p23=pd.read_csv('./pre_final_data/0319 musinsa_ranking_category1_page23.csv')\n",
    "p24=pd.read_csv('./pre_final_data/0319 musinsa_ranking_category1_page24.csv')\n",
    "p25=pd.read_csv('./pre_final_data/0319 musinsa_ranking_category1_page25.csv')\n",
    "p26=pd.read_csv('./pre_final_data/0319 musinsa_ranking_category1_page26.csv')\n",
    "p27=pd.read_csv('./pre_final_data/0319 musinsa_ranking_category1_page27.csv')\n",
    "p28=pd.read_csv('./pre_final_data/0319 musinsa_ranking_category1_page28.csv')\n",
    "p29=pd.read_csv('./pre_final_data/0319 musinsa_ranking_category1_page29.csv')\n",
    "p30=pd.read_csv('./pre_final_data/0319 musinsa_ranking_category1_page30.csv')\n",
    "p31=pd.read_csv('./pre_final_data/0319 musinsa_ranking_category1_page31.csv')\n",
    "p32=pd.read_csv('./pre_final_data/0319 musinsa_ranking_category1_page32.csv')\n",
    "p33=pd.read_csv('./pre_final_data/0319 musinsa_ranking_category1_page33.csv')\n",
    "p34=pd.read_csv('./pre_final_data/0319 musinsa_ranking_category1_page34.csv')\n",
    "p35=pd.read_csv('./pre_final_data/0319 musinsa_ranking_category1_page35.csv')\n",
    "p36=pd.read_csv('./pre_final_data/0319 musinsa_ranking_category1_page36.csv')\n",
    "p37=pd.read_csv('./pre_final_data/0319 musinsa_ranking_category1_page37.csv')\n",
    "p38=pd.read_csv('./pre_final_data/0319 musinsa_ranking_category1_page38.csv')\n",
    "p39=pd.read_csv('./pre_final_data/0319 musinsa_ranking_category1_page39.csv')\n",
    "p40=pd.read_csv('./pre_final_data/0319 musinsa_ranking_category1_page40.csv')\n",
    "p41=pd.read_csv('./pre_final_data/0319 musinsa_ranking_category1_page41.csv')\n",
    "p42=pd.read_csv('./pre_final_data/0319 musinsa_ranking_category1_page42.csv')\n",
    "p43=pd.read_csv('./pre_final_data/0319 musinsa_ranking_category1_page43.csv')\n",
    "p44=pd.read_csv('./pre_final_data/0319 musinsa_ranking_category1_page44.csv')\n",
    "p45=pd.read_csv('./pre_final_data/0319 musinsa_ranking_category1_page45.csv')\n",
    "p46=pd.read_csv('./pre_final_data/0319 musinsa_ranking_category1_page46.csv')\n",
    "p47=pd.read_csv('./pre_final_data/0319 musinsa_ranking_category1_page47.csv')\n",
    "p48=pd.read_csv('./pre_final_data/0319 musinsa_ranking_category1_page48.csv')\n",
    "p49=pd.read_csv('./pre_final_data/0319 musinsa_ranking_category1_page49.csv')\n",
    "p50=pd.read_csv('./pre_final_data/0319 musinsa_ranking_category1_page50.csv')"
   ],
   
   "metadata": {
    "collapsed": false,
    "pycharm": {
     "name": "#%%\n"
    }
   }
  },
  {
   "cell_type": "code",
   "execution_count": 50,
   "outputs": [
    {
     "data": {
      "text/plain": "       순위                                             상품명             브랜드명  \\\n0      1위                   (시티보이) 오버핏 옥스포드 셔츠_SPYWD23C01              스파오   \n1      2위  [23SS Ver.][PACKAGE] 시티보이 빅오버 워싱 데님 셔츠_4 Color           라퍼지스토어   \n2      3위      [MUSINSA EXCLUSIVE] 뉴욕 복싱 클럽 코튼 치노 셔츠 - 블랙         폴로 랄프 로렌   \n3      4위                                   베이식 긴팔 티셔츠 2팩         무신사 스탠다드   \n4      5위                       레이어드 크루 넥 반팔 티셔츠_일반 기장 2팩         무신사 스탠다드   \n..    ...                                             ...              ...   \n85  4496위                                벌룬핏 크루넥 니트 BLACK            인사일런스   \n86  4497위                    Narbe Half Shirt - Blue Grey          오프닝프로젝트   \n87  4498위  PHYPS® MONDAY ROUTINE STITCH HOODIE BERRY PINK  피지컬 에듀케이션 디파트먼트   \n88  4499위            차콜그레이 벌룬핏 피그먼트 다잉 후드 티셔츠 IETS3E201CG             일꼬르소   \n89  4500위                                캡 슬리브 워머 셔츠 / 블랙              오호스   \n\n                                                  url         조회수     좋아요  \\\n0   https://www.musinsa.com/app/goods/2272830?loc=...  22.4만 회 이상  46,073   \n1   https://www.musinsa.com/app/goods/3150516?loc=...   1.5만 회 이상     884   \n2   https://www.musinsa.com/app/goods/3072191?loc=...   1.5만 회 이상     314   \n3   https://www.musinsa.com/app/goods/2149254?loc=...  14.1만 회 이상  57,235   \n4   https://www.musinsa.com/app/goods/2122566?loc=...   8.7만 회 이상  18,637   \n..                                                ...         ...     ...   \n85  https://www.musinsa.com/app/goods/2780269?loc=...   2.2천 회 이상     351   \n86  https://www.musinsa.com/app/goods/3051777?loc=...   1.4천 회 이상     173   \n87  https://www.musinsa.com/app/goods/3073854?loc=...   6.2천 회 이상     924   \n88  https://www.musinsa.com/app/goods/2873711?loc=...   4.4천 회 이상     802   \n89  https://www.musinsa.com/app/goods/3133209?loc=...     200회 이상      74   \n\n          구매후기 개수     평점 누적판매량(1년)  \n0   후기 17,548개 보기    4.9   5만 개 이상  \n1        후기 3개 보기    4.7   100개 이상  \n2           후기 0개  평점 0점   100개 이상  \n3   후기 31,434개 보기    4.9  12만 개 이상  \n4   후기 14,555개 보기    4.9   5만 개 이상  \n..            ...    ...       ...  \n85      후기 46개 보기    4.9   100개 이상  \n86          후기 0개  평점 0점       NaN  \n87      후기 24개 보기    4.5   100개 이상  \n88      후기 61개 보기      5   200개 이상  \n89          후기 0개  평점 0점       NaN  \n\n[4500 rows x 9 columns]",
      "text/html": "<div>\n<style scoped>\n    .dataframe tbody tr th:only-of-type {\n        vertical-align: middle;\n    }\n\n    .dataframe tbody tr th {\n        vertical-align: top;\n    }\n\n    .dataframe thead th {\n        text-align: right;\n    }\n</style>\n<table border=\"1\" class=\"dataframe\">\n  <thead>\n    <tr style=\"text-align: right;\">\n      <th></th>\n      <th>순위</th>\n      <th>상품명</th>\n      <th>브랜드명</th>\n      <th>url</th>\n      <th>조회수</th>\n      <th>좋아요</th>\n      <th>구매후기 개수</th>\n      <th>평점</th>\n      <th>누적판매량(1년)</th>\n    </tr>\n  </thead>\n  <tbody>\n    <tr>\n      <th>0</th>\n      <td>1위</td>\n      <td>(시티보이) 오버핏 옥스포드 셔츠_SPYWD23C01</td>\n      <td>스파오</td>\n      <td>https://www.musinsa.com/app/goods/2272830?loc=...</td>\n      <td>22.4만 회 이상</td>\n      <td>46,073</td>\n      <td>후기 17,548개 보기</td>\n      <td>4.9</td>\n      <td>5만 개 이상</td>\n    </tr>\n    <tr>\n      <th>1</th>\n      <td>2위</td>\n      <td>[23SS Ver.][PACKAGE] 시티보이 빅오버 워싱 데님 셔츠_4 Color</td>\n      <td>라퍼지스토어</td>\n      <td>https://www.musinsa.com/app/goods/3150516?loc=...</td>\n      <td>1.5만 회 이상</td>\n      <td>884</td>\n      <td>후기 3개 보기</td>\n      <td>4.7</td>\n      <td>100개 이상</td>\n    </tr>\n    <tr>\n      <th>2</th>\n      <td>3위</td>\n      <td>[MUSINSA EXCLUSIVE] 뉴욕 복싱 클럽 코튼 치노 셔츠 - 블랙</td>\n      <td>폴로 랄프 로렌</td>\n      <td>https://www.musinsa.com/app/goods/3072191?loc=...</td>\n      <td>1.5만 회 이상</td>\n      <td>314</td>\n      <td>후기 0개</td>\n      <td>평점 0점</td>\n      <td>100개 이상</td>\n    </tr>\n    <tr>\n      <th>3</th>\n      <td>4위</td>\n      <td>베이식 긴팔 티셔츠 2팩</td>\n      <td>무신사 스탠다드</td>\n      <td>https://www.musinsa.com/app/goods/2149254?loc=...</td>\n      <td>14.1만 회 이상</td>\n      <td>57,235</td>\n      <td>후기 31,434개 보기</td>\n      <td>4.9</td>\n      <td>12만 개 이상</td>\n    </tr>\n    <tr>\n      <th>4</th>\n      <td>5위</td>\n      <td>레이어드 크루 넥 반팔 티셔츠_일반 기장 2팩</td>\n      <td>무신사 스탠다드</td>\n      <td>https://www.musinsa.com/app/goods/2122566?loc=...</td>\n      <td>8.7만 회 이상</td>\n      <td>18,637</td>\n      <td>후기 14,555개 보기</td>\n      <td>4.9</td>\n      <td>5만 개 이상</td>\n    </tr>\n    <tr>\n      <th>...</th>\n      <td>...</td>\n      <td>...</td>\n      <td>...</td>\n      <td>...</td>\n      <td>...</td>\n      <td>...</td>\n      <td>...</td>\n      <td>...</td>\n      <td>...</td>\n    </tr>\n    <tr>\n      <th>85</th>\n      <td>4496위</td>\n      <td>벌룬핏 크루넥 니트 BLACK</td>\n      <td>인사일런스</td>\n      <td>https://www.musinsa.com/app/goods/2780269?loc=...</td>\n      <td>2.2천 회 이상</td>\n      <td>351</td>\n      <td>후기 46개 보기</td>\n      <td>4.9</td>\n      <td>100개 이상</td>\n    </tr>\n    <tr>\n      <th>86</th>\n      <td>4497위</td>\n      <td>Narbe Half Shirt - Blue Grey</td>\n      <td>오프닝프로젝트</td>\n      <td>https://www.musinsa.com/app/goods/3051777?loc=...</td>\n      <td>1.4천 회 이상</td>\n      <td>173</td>\n      <td>후기 0개</td>\n      <td>평점 0점</td>\n      <td>NaN</td>\n    </tr>\n    <tr>\n      <th>87</th>\n      <td>4498위</td>\n      <td>PHYPS® MONDAY ROUTINE STITCH HOODIE BERRY PINK</td>\n      <td>피지컬 에듀케이션 디파트먼트</td>\n      <td>https://www.musinsa.com/app/goods/3073854?loc=...</td>\n      <td>6.2천 회 이상</td>\n      <td>924</td>\n      <td>후기 24개 보기</td>\n      <td>4.5</td>\n      <td>100개 이상</td>\n    </tr>\n    <tr>\n      <th>88</th>\n      <td>4499위</td>\n      <td>차콜그레이 벌룬핏 피그먼트 다잉 후드 티셔츠 IETS3E201CG</td>\n      <td>일꼬르소</td>\n      <td>https://www.musinsa.com/app/goods/2873711?loc=...</td>\n      <td>4.4천 회 이상</td>\n      <td>802</td>\n      <td>후기 61개 보기</td>\n      <td>5</td>\n      <td>200개 이상</td>\n    </tr>\n    <tr>\n      <th>89</th>\n      <td>4500위</td>\n      <td>캡 슬리브 워머 셔츠 / 블랙</td>\n      <td>오호스</td>\n      <td>https://www.musinsa.com/app/goods/3133209?loc=...</td>\n      <td>200회 이상</td>\n      <td>74</td>\n      <td>후기 0개</td>\n      <td>평점 0점</td>\n      <td>NaN</td>\n    </tr>\n  </tbody>\n</table>\n<p>4500 rows × 9 columns</p>\n</div>"
     },
     "execution_count": 50,
     "metadata": {},
     "output_type": "execute_result"
    }
   ],
   "source": [
    "merged_df = pd.concat([p1, p2, p3,p4,p5,p6,p7,p8,p9,p10,p11,p12,p13,p14,p15,p16,p17,p18,p19,p20,p21,p22,p23,p24,p25,p26,p27,p28,p29,p30,p31,p32,p33,p34,p35,p36,p37,p38,p39,p40,p41,p42,p43,p44,p45,p46,p47,p48,p49,p50], axis=0)\n",
    "\n",
    "merged_df"
   ],
   "metadata": {
    "collapsed": false,
    "pycharm": {
     "name": "#%%\n"
    }
   }
  },
  {
   "cell_type": "code",
   "execution_count": 51,
   "outputs": [
    {
     "data": {
      "text/plain": "         순위                                             상품명             브랜드명  \\\n0        1위                   (시티보이) 오버핏 옥스포드 셔츠_SPYWD23C01              스파오   \n1        2위  [23SS Ver.][PACKAGE] 시티보이 빅오버 워싱 데님 셔츠_4 Color           라퍼지스토어   \n2        3위      [MUSINSA EXCLUSIVE] 뉴욕 복싱 클럽 코튼 치노 셔츠 - 블랙         폴로 랄프 로렌   \n3        4위                                   베이식 긴팔 티셔츠 2팩         무신사 스탠다드   \n4        5위                       레이어드 크루 넥 반팔 티셔츠_일반 기장 2팩         무신사 스탠다드   \n...     ...                                             ...              ...   \n4495  4496위                                벌룬핏 크루넥 니트 BLACK            인사일런스   \n4496  4497위                    Narbe Half Shirt - Blue Grey          오프닝프로젝트   \n4497  4498위  PHYPS® MONDAY ROUTINE STITCH HOODIE BERRY PINK  피지컬 에듀케이션 디파트먼트   \n4498  4499위            차콜그레이 벌룬핏 피그먼트 다잉 후드 티셔츠 IETS3E201CG             일꼬르소   \n4499  4500위                                캡 슬리브 워머 셔츠 / 블랙              오호스   \n\n                                                    url         조회수     좋아요  \\\n0     https://www.musinsa.com/app/goods/2272830?loc=...  22.4만 회 이상  46,073   \n1     https://www.musinsa.com/app/goods/3150516?loc=...   1.5만 회 이상     884   \n2     https://www.musinsa.com/app/goods/3072191?loc=...   1.5만 회 이상     314   \n3     https://www.musinsa.com/app/goods/2149254?loc=...  14.1만 회 이상  57,235   \n4     https://www.musinsa.com/app/goods/2122566?loc=...   8.7만 회 이상  18,637   \n...                                                 ...         ...     ...   \n4495  https://www.musinsa.com/app/goods/2780269?loc=...   2.2천 회 이상     351   \n4496  https://www.musinsa.com/app/goods/3051777?loc=...   1.4천 회 이상     173   \n4497  https://www.musinsa.com/app/goods/3073854?loc=...   6.2천 회 이상     924   \n4498  https://www.musinsa.com/app/goods/2873711?loc=...   4.4천 회 이상     802   \n4499  https://www.musinsa.com/app/goods/3133209?loc=...     200회 이상      74   \n\n            구매후기 개수     평점 누적판매량(1년)  \n0     후기 17,548개 보기    4.9   5만 개 이상  \n1          후기 3개 보기    4.7   100개 이상  \n2             후기 0개  평점 0점   100개 이상  \n3     후기 31,434개 보기    4.9  12만 개 이상  \n4     후기 14,555개 보기    4.9   5만 개 이상  \n...             ...    ...       ...  \n4495      후기 46개 보기    4.9   100개 이상  \n4496          후기 0개  평점 0점       NaN  \n4497      후기 24개 보기    4.5   100개 이상  \n4498      후기 61개 보기      5   200개 이상  \n4499          후기 0개  평점 0점       NaN  \n\n[4500 rows x 9 columns]",
      "text/html": "<div>\n<style scoped>\n    .dataframe tbody tr th:only-of-type {\n        vertical-align: middle;\n    }\n\n    .dataframe tbody tr th {\n        vertical-align: top;\n    }\n\n    .dataframe thead th {\n        text-align: right;\n    }\n</style>\n<table border=\"1\" class=\"dataframe\">\n  <thead>\n    <tr style=\"text-align: right;\">\n      <th></th>\n      <th>순위</th>\n      <th>상품명</th>\n      <th>브랜드명</th>\n      <th>url</th>\n      <th>조회수</th>\n      <th>좋아요</th>\n      <th>구매후기 개수</th>\n      <th>평점</th>\n      <th>누적판매량(1년)</th>\n    </tr>\n  </thead>\n  <tbody>\n    <tr>\n      <th>0</th>\n      <td>1위</td>\n      <td>(시티보이) 오버핏 옥스포드 셔츠_SPYWD23C01</td>\n      <td>스파오</td>\n      <td>https://www.musinsa.com/app/goods/2272830?loc=...</td>\n      <td>22.4만 회 이상</td>\n      <td>46,073</td>\n      <td>후기 17,548개 보기</td>\n      <td>4.9</td>\n      <td>5만 개 이상</td>\n    </tr>\n    <tr>\n      <th>1</th>\n      <td>2위</td>\n      <td>[23SS Ver.][PACKAGE] 시티보이 빅오버 워싱 데님 셔츠_4 Color</td>\n      <td>라퍼지스토어</td>\n      <td>https://www.musinsa.com/app/goods/3150516?loc=...</td>\n      <td>1.5만 회 이상</td>\n      <td>884</td>\n      <td>후기 3개 보기</td>\n      <td>4.7</td>\n      <td>100개 이상</td>\n    </tr>\n    <tr>\n      <th>2</th>\n      <td>3위</td>\n      <td>[MUSINSA EXCLUSIVE] 뉴욕 복싱 클럽 코튼 치노 셔츠 - 블랙</td>\n      <td>폴로 랄프 로렌</td>\n      <td>https://www.musinsa.com/app/goods/3072191?loc=...</td>\n      <td>1.5만 회 이상</td>\n      <td>314</td>\n      <td>후기 0개</td>\n      <td>평점 0점</td>\n      <td>100개 이상</td>\n    </tr>\n    <tr>\n      <th>3</th>\n      <td>4위</td>\n      <td>베이식 긴팔 티셔츠 2팩</td>\n      <td>무신사 스탠다드</td>\n      <td>https://www.musinsa.com/app/goods/2149254?loc=...</td>\n      <td>14.1만 회 이상</td>\n      <td>57,235</td>\n      <td>후기 31,434개 보기</td>\n      <td>4.9</td>\n      <td>12만 개 이상</td>\n    </tr>\n    <tr>\n      <th>4</th>\n      <td>5위</td>\n      <td>레이어드 크루 넥 반팔 티셔츠_일반 기장 2팩</td>\n      <td>무신사 스탠다드</td>\n      <td>https://www.musinsa.com/app/goods/2122566?loc=...</td>\n      <td>8.7만 회 이상</td>\n      <td>18,637</td>\n      <td>후기 14,555개 보기</td>\n      <td>4.9</td>\n      <td>5만 개 이상</td>\n    </tr>\n    <tr>\n      <th>...</th>\n      <td>...</td>\n      <td>...</td>\n      <td>...</td>\n      <td>...</td>\n      <td>...</td>\n      <td>...</td>\n      <td>...</td>\n      <td>...</td>\n      <td>...</td>\n    </tr>\n    <tr>\n      <th>4495</th>\n      <td>4496위</td>\n      <td>벌룬핏 크루넥 니트 BLACK</td>\n      <td>인사일런스</td>\n      <td>https://www.musinsa.com/app/goods/2780269?loc=...</td>\n      <td>2.2천 회 이상</td>\n      <td>351</td>\n      <td>후기 46개 보기</td>\n      <td>4.9</td>\n      <td>100개 이상</td>\n    </tr>\n    <tr>\n      <th>4496</th>\n      <td>4497위</td>\n      <td>Narbe Half Shirt - Blue Grey</td>\n      <td>오프닝프로젝트</td>\n      <td>https://www.musinsa.com/app/goods/3051777?loc=...</td>\n      <td>1.4천 회 이상</td>\n      <td>173</td>\n      <td>후기 0개</td>\n      <td>평점 0점</td>\n      <td>NaN</td>\n    </tr>\n    <tr>\n      <th>4497</th>\n      <td>4498위</td>\n      <td>PHYPS® MONDAY ROUTINE STITCH HOODIE BERRY PINK</td>\n      <td>피지컬 에듀케이션 디파트먼트</td>\n      <td>https://www.musinsa.com/app/goods/3073854?loc=...</td>\n      <td>6.2천 회 이상</td>\n      <td>924</td>\n      <td>후기 24개 보기</td>\n      <td>4.5</td>\n      <td>100개 이상</td>\n    </tr>\n    <tr>\n      <th>4498</th>\n      <td>4499위</td>\n      <td>차콜그레이 벌룬핏 피그먼트 다잉 후드 티셔츠 IETS3E201CG</td>\n      <td>일꼬르소</td>\n      <td>https://www.musinsa.com/app/goods/2873711?loc=...</td>\n      <td>4.4천 회 이상</td>\n      <td>802</td>\n      <td>후기 61개 보기</td>\n      <td>5</td>\n      <td>200개 이상</td>\n    </tr>\n    <tr>\n      <th>4499</th>\n      <td>4500위</td>\n      <td>캡 슬리브 워머 셔츠 / 블랙</td>\n      <td>오호스</td>\n      <td>https://www.musinsa.com/app/goods/3133209?loc=...</td>\n      <td>200회 이상</td>\n      <td>74</td>\n      <td>후기 0개</td>\n      <td>평점 0점</td>\n      <td>NaN</td>\n    </tr>\n  </tbody>\n</table>\n<p>4500 rows × 9 columns</p>\n</div>"
     },
     "execution_count": 51,
     "metadata": {},
     "output_type": "execute_result"
    }
   ],
   "source": [
    "merged_df = merged_df.reset_index(drop=True)\n",
    "merged_df"
   ],
   "metadata": {
    "collapsed": false,
    "pycharm": {
     "name": "#%%\n"
    }
   }
  },
  {
   "cell_type": "code",
   "execution_count": 52,
   "outputs": [
    {
     "data": {
      "text/plain": "         순위                                             상품명             브랜드명  \\\n0        1위                   (시티보이) 오버핏 옥스포드 셔츠_SPYWD23C01              스파오   \n1        2위  [23SS Ver.][PACKAGE] 시티보이 빅오버 워싱 데님 셔츠_4 Color           라퍼지스토어   \n2        3위      [MUSINSA EXCLUSIVE] 뉴욕 복싱 클럽 코튼 치노 셔츠 - 블랙         폴로 랄프 로렌   \n3        4위                                   베이식 긴팔 티셔츠 2팩         무신사 스탠다드   \n4        5위                       레이어드 크루 넥 반팔 티셔츠_일반 기장 2팩         무신사 스탠다드   \n...     ...                                             ...              ...   \n4495  4496위                                벌룬핏 크루넥 니트 BLACK            인사일런스   \n4496  4497위                    Narbe Half Shirt - Blue Grey          오프닝프로젝트   \n4497  4498위  PHYPS® MONDAY ROUTINE STITCH HOODIE BERRY PINK  피지컬 에듀케이션 디파트먼트   \n4498  4499위            차콜그레이 벌룬핏 피그먼트 다잉 후드 티셔츠 IETS3E201CG             일꼬르소   \n4499  4500위                                캡 슬리브 워머 셔츠 / 블랙              오호스   \n\n                                                    url         조회수     좋아요  \\\n0     https://www.musinsa.com/app/goods/2272830?loc=...  22.4만 회 이상  46,073   \n1     https://www.musinsa.com/app/goods/3150516?loc=...   1.5만 회 이상     884   \n2     https://www.musinsa.com/app/goods/3072191?loc=...   1.5만 회 이상     314   \n3     https://www.musinsa.com/app/goods/2149254?loc=...  14.1만 회 이상  57,235   \n4     https://www.musinsa.com/app/goods/2122566?loc=...   8.7만 회 이상  18,637   \n...                                                 ...         ...     ...   \n4495  https://www.musinsa.com/app/goods/2780269?loc=...   2.2천 회 이상     351   \n4496  https://www.musinsa.com/app/goods/3051777?loc=...   1.4천 회 이상     173   \n4497  https://www.musinsa.com/app/goods/3073854?loc=...   6.2천 회 이상     924   \n4498  https://www.musinsa.com/app/goods/2873711?loc=...   4.4천 회 이상     802   \n4499  https://www.musinsa.com/app/goods/3133209?loc=...     200회 이상      74   \n\n            구매후기 개수     평점 누적판매량(1년)  \n0     후기 17,548개 보기    4.9   5만 개 이상  \n1          후기 3개 보기    4.7   100개 이상  \n2             후기 0개  평점 0점   100개 이상  \n3     후기 31,434개 보기    4.9  12만 개 이상  \n4     후기 14,555개 보기    4.9   5만 개 이상  \n...             ...    ...       ...  \n4495      후기 46개 보기    4.9   100개 이상  \n4496          후기 0개  평점 0점       NaN  \n4497      후기 24개 보기    4.5   100개 이상  \n4498      후기 61개 보기      5   200개 이상  \n4499          후기 0개  평점 0점       NaN  \n\n[4500 rows x 9 columns]",
      "text/html": "<div>\n<style scoped>\n    .dataframe tbody tr th:only-of-type {\n        vertical-align: middle;\n    }\n\n    .dataframe tbody tr th {\n        vertical-align: top;\n    }\n\n    .dataframe thead th {\n        text-align: right;\n    }\n</style>\n<table border=\"1\" class=\"dataframe\">\n  <thead>\n    <tr style=\"text-align: right;\">\n      <th></th>\n      <th>순위</th>\n      <th>상품명</th>\n      <th>브랜드명</th>\n      <th>url</th>\n      <th>조회수</th>\n      <th>좋아요</th>\n      <th>구매후기 개수</th>\n      <th>평점</th>\n      <th>누적판매량(1년)</th>\n    </tr>\n  </thead>\n  <tbody>\n    <tr>\n      <th>0</th>\n      <td>1위</td>\n      <td>(시티보이) 오버핏 옥스포드 셔츠_SPYWD23C01</td>\n      <td>스파오</td>\n      <td>https://www.musinsa.com/app/goods/2272830?loc=...</td>\n      <td>22.4만 회 이상</td>\n      <td>46,073</td>\n      <td>후기 17,548개 보기</td>\n      <td>4.9</td>\n      <td>5만 개 이상</td>\n    </tr>\n    <tr>\n      <th>1</th>\n      <td>2위</td>\n      <td>[23SS Ver.][PACKAGE] 시티보이 빅오버 워싱 데님 셔츠_4 Color</td>\n      <td>라퍼지스토어</td>\n      <td>https://www.musinsa.com/app/goods/3150516?loc=...</td>\n      <td>1.5만 회 이상</td>\n      <td>884</td>\n      <td>후기 3개 보기</td>\n      <td>4.7</td>\n      <td>100개 이상</td>\n    </tr>\n    <tr>\n      <th>2</th>\n      <td>3위</td>\n      <td>[MUSINSA EXCLUSIVE] 뉴욕 복싱 클럽 코튼 치노 셔츠 - 블랙</td>\n      <td>폴로 랄프 로렌</td>\n      <td>https://www.musinsa.com/app/goods/3072191?loc=...</td>\n      <td>1.5만 회 이상</td>\n      <td>314</td>\n      <td>후기 0개</td>\n      <td>평점 0점</td>\n      <td>100개 이상</td>\n    </tr>\n    <tr>\n      <th>3</th>\n      <td>4위</td>\n      <td>베이식 긴팔 티셔츠 2팩</td>\n      <td>무신사 스탠다드</td>\n      <td>https://www.musinsa.com/app/goods/2149254?loc=...</td>\n      <td>14.1만 회 이상</td>\n      <td>57,235</td>\n      <td>후기 31,434개 보기</td>\n      <td>4.9</td>\n      <td>12만 개 이상</td>\n    </tr>\n    <tr>\n      <th>4</th>\n      <td>5위</td>\n      <td>레이어드 크루 넥 반팔 티셔츠_일반 기장 2팩</td>\n      <td>무신사 스탠다드</td>\n      <td>https://www.musinsa.com/app/goods/2122566?loc=...</td>\n      <td>8.7만 회 이상</td>\n      <td>18,637</td>\n      <td>후기 14,555개 보기</td>\n      <td>4.9</td>\n      <td>5만 개 이상</td>\n    </tr>\n    <tr>\n      <th>...</th>\n      <td>...</td>\n      <td>...</td>\n      <td>...</td>\n      <td>...</td>\n      <td>...</td>\n      <td>...</td>\n      <td>...</td>\n      <td>...</td>\n      <td>...</td>\n    </tr>\n    <tr>\n      <th>4495</th>\n      <td>4496위</td>\n      <td>벌룬핏 크루넥 니트 BLACK</td>\n      <td>인사일런스</td>\n      <td>https://www.musinsa.com/app/goods/2780269?loc=...</td>\n      <td>2.2천 회 이상</td>\n      <td>351</td>\n      <td>후기 46개 보기</td>\n      <td>4.9</td>\n      <td>100개 이상</td>\n    </tr>\n    <tr>\n      <th>4496</th>\n      <td>4497위</td>\n      <td>Narbe Half Shirt - Blue Grey</td>\n      <td>오프닝프로젝트</td>\n      <td>https://www.musinsa.com/app/goods/3051777?loc=...</td>\n      <td>1.4천 회 이상</td>\n      <td>173</td>\n      <td>후기 0개</td>\n      <td>평점 0점</td>\n      <td>NaN</td>\n    </tr>\n    <tr>\n      <th>4497</th>\n      <td>4498위</td>\n      <td>PHYPS® MONDAY ROUTINE STITCH HOODIE BERRY PINK</td>\n      <td>피지컬 에듀케이션 디파트먼트</td>\n      <td>https://www.musinsa.com/app/goods/3073854?loc=...</td>\n      <td>6.2천 회 이상</td>\n      <td>924</td>\n      <td>후기 24개 보기</td>\n      <td>4.5</td>\n      <td>100개 이상</td>\n    </tr>\n    <tr>\n      <th>4498</th>\n      <td>4499위</td>\n      <td>차콜그레이 벌룬핏 피그먼트 다잉 후드 티셔츠 IETS3E201CG</td>\n      <td>일꼬르소</td>\n      <td>https://www.musinsa.com/app/goods/2873711?loc=...</td>\n      <td>4.4천 회 이상</td>\n      <td>802</td>\n      <td>후기 61개 보기</td>\n      <td>5</td>\n      <td>200개 이상</td>\n    </tr>\n    <tr>\n      <th>4499</th>\n      <td>4500위</td>\n      <td>캡 슬리브 워머 셔츠 / 블랙</td>\n      <td>오호스</td>\n      <td>https://www.musinsa.com/app/goods/3133209?loc=...</td>\n      <td>200회 이상</td>\n      <td>74</td>\n      <td>후기 0개</td>\n      <td>평점 0점</td>\n      <td>NaN</td>\n    </tr>\n  </tbody>\n</table>\n<p>4500 rows × 9 columns</p>\n</div>"
     },
     "execution_count": 52,
     "metadata": {},
     "output_type": "execute_result"
    }
   ],
   "source": [
    "merged_df.to_csv('Musinsa data_merged_file_final.csv', index=False)\n",
    "merged_df"
   ],
   "metadata": {
    "collapsed": false,
    "pycharm": {
     "name": "#%%\n"
    }
   }
  },
  {
   "cell_type": "code",
   "execution_count": 53,
   "outputs": [
    {
     "data": {
      "text/plain": "         순위                                             상품명             브랜드명  \\\n0        1위                   (시티보이) 오버핏 옥스포드 셔츠_SPYWD23C01              스파오   \n1        2위  [23SS Ver.][PACKAGE] 시티보이 빅오버 워싱 데님 셔츠_4 Color           라퍼지스토어   \n2        3위      [MUSINSA EXCLUSIVE] 뉴욕 복싱 클럽 코튼 치노 셔츠 - 블랙         폴로 랄프 로렌   \n3        4위                                   베이식 긴팔 티셔츠 2팩         무신사 스탠다드   \n4        5위                       레이어드 크루 넥 반팔 티셔츠_일반 기장 2팩         무신사 스탠다드   \n...     ...                                             ...              ...   \n4495  4496위                                벌룬핏 크루넥 니트 BLACK            인사일런스   \n4496  4497위                    Narbe Half Shirt - Blue Grey          오프닝프로젝트   \n4497  4498위  PHYPS® MONDAY ROUTINE STITCH HOODIE BERRY PINK  피지컬 에듀케이션 디파트먼트   \n4498  4499위            차콜그레이 벌룬핏 피그먼트 다잉 후드 티셔츠 IETS3E201CG             일꼬르소   \n4499  4500위                                캡 슬리브 워머 셔츠 / 블랙              오호스   \n\n                                                    url         조회수     좋아요  \\\n0     https://www.musinsa.com/app/goods/2272830?loc=...  22.4만 회 이상  46,073   \n1     https://www.musinsa.com/app/goods/3150516?loc=...   1.5만 회 이상     884   \n2     https://www.musinsa.com/app/goods/3072191?loc=...   1.5만 회 이상     314   \n3     https://www.musinsa.com/app/goods/2149254?loc=...  14.1만 회 이상  57,235   \n4     https://www.musinsa.com/app/goods/2122566?loc=...   8.7만 회 이상  18,637   \n...                                                 ...         ...     ...   \n4495  https://www.musinsa.com/app/goods/2780269?loc=...   2.2천 회 이상     351   \n4496  https://www.musinsa.com/app/goods/3051777?loc=...   1.4천 회 이상     173   \n4497  https://www.musinsa.com/app/goods/3073854?loc=...   6.2천 회 이상     924   \n4498  https://www.musinsa.com/app/goods/2873711?loc=...   4.4천 회 이상     802   \n4499  https://www.musinsa.com/app/goods/3133209?loc=...     200회 이상      74   \n\n            구매후기 개수     평점 누적판매량(1년)    조회수_수정  누적판매량(1년)_수정  \n0     후기 17,548개 보기    4.9   5만 개 이상  224000.0       50000.0  \n1          후기 3개 보기    4.7   100개 이상   15000.0         100.0  \n2             후기 0개  평점 0점   100개 이상   15000.0         100.0  \n3     후기 31,434개 보기    4.9  12만 개 이상  141000.0      120000.0  \n4     후기 14,555개 보기    4.9   5만 개 이상   87000.0       50000.0  \n...             ...    ...       ...       ...           ...  \n4495      후기 46개 보기    4.9   100개 이상    2200.0         100.0  \n4496          후기 0개  평점 0점       NaN    1400.0           NaN  \n4497      후기 24개 보기    4.5   100개 이상    6200.0         100.0  \n4498      후기 61개 보기      5   200개 이상    4400.0         200.0  \n4499          후기 0개  평점 0점       NaN     200.0           NaN  \n\n[4500 rows x 11 columns]",
      "text/html": "<div>\n<style scoped>\n    .dataframe tbody tr th:only-of-type {\n        vertical-align: middle;\n    }\n\n    .dataframe tbody tr th {\n        vertical-align: top;\n    }\n\n    .dataframe thead th {\n        text-align: right;\n    }\n</style>\n<table border=\"1\" class=\"dataframe\">\n  <thead>\n    <tr style=\"text-align: right;\">\n      <th></th>\n      <th>순위</th>\n      <th>상품명</th>\n      <th>브랜드명</th>\n      <th>url</th>\n      <th>조회수</th>\n      <th>좋아요</th>\n      <th>구매후기 개수</th>\n      <th>평점</th>\n      <th>누적판매량(1년)</th>\n      <th>조회수_수정</th>\n      <th>누적판매량(1년)_수정</th>\n    </tr>\n  </thead>\n  <tbody>\n    <tr>\n      <th>0</th>\n      <td>1위</td>\n      <td>(시티보이) 오버핏 옥스포드 셔츠_SPYWD23C01</td>\n      <td>스파오</td>\n      <td>https://www.musinsa.com/app/goods/2272830?loc=...</td>\n      <td>22.4만 회 이상</td>\n      <td>46,073</td>\n      <td>후기 17,548개 보기</td>\n      <td>4.9</td>\n      <td>5만 개 이상</td>\n      <td>224000.0</td>\n      <td>50000.0</td>\n    </tr>\n    <tr>\n      <th>1</th>\n      <td>2위</td>\n      <td>[23SS Ver.][PACKAGE] 시티보이 빅오버 워싱 데님 셔츠_4 Color</td>\n      <td>라퍼지스토어</td>\n      <td>https://www.musinsa.com/app/goods/3150516?loc=...</td>\n      <td>1.5만 회 이상</td>\n      <td>884</td>\n      <td>후기 3개 보기</td>\n      <td>4.7</td>\n      <td>100개 이상</td>\n      <td>15000.0</td>\n      <td>100.0</td>\n    </tr>\n    <tr>\n      <th>2</th>\n      <td>3위</td>\n      <td>[MUSINSA EXCLUSIVE] 뉴욕 복싱 클럽 코튼 치노 셔츠 - 블랙</td>\n      <td>폴로 랄프 로렌</td>\n      <td>https://www.musinsa.com/app/goods/3072191?loc=...</td>\n      <td>1.5만 회 이상</td>\n      <td>314</td>\n      <td>후기 0개</td>\n      <td>평점 0점</td>\n      <td>100개 이상</td>\n      <td>15000.0</td>\n      <td>100.0</td>\n    </tr>\n    <tr>\n      <th>3</th>\n      <td>4위</td>\n      <td>베이식 긴팔 티셔츠 2팩</td>\n      <td>무신사 스탠다드</td>\n      <td>https://www.musinsa.com/app/goods/2149254?loc=...</td>\n      <td>14.1만 회 이상</td>\n      <td>57,235</td>\n      <td>후기 31,434개 보기</td>\n      <td>4.9</td>\n      <td>12만 개 이상</td>\n      <td>141000.0</td>\n      <td>120000.0</td>\n    </tr>\n    <tr>\n      <th>4</th>\n      <td>5위</td>\n      <td>레이어드 크루 넥 반팔 티셔츠_일반 기장 2팩</td>\n      <td>무신사 스탠다드</td>\n      <td>https://www.musinsa.com/app/goods/2122566?loc=...</td>\n      <td>8.7만 회 이상</td>\n      <td>18,637</td>\n      <td>후기 14,555개 보기</td>\n      <td>4.9</td>\n      <td>5만 개 이상</td>\n      <td>87000.0</td>\n      <td>50000.0</td>\n    </tr>\n    <tr>\n      <th>...</th>\n      <td>...</td>\n      <td>...</td>\n      <td>...</td>\n      <td>...</td>\n      <td>...</td>\n      <td>...</td>\n      <td>...</td>\n      <td>...</td>\n      <td>...</td>\n      <td>...</td>\n      <td>...</td>\n    </tr>\n    <tr>\n      <th>4495</th>\n      <td>4496위</td>\n      <td>벌룬핏 크루넥 니트 BLACK</td>\n      <td>인사일런스</td>\n      <td>https://www.musinsa.com/app/goods/2780269?loc=...</td>\n      <td>2.2천 회 이상</td>\n      <td>351</td>\n      <td>후기 46개 보기</td>\n      <td>4.9</td>\n      <td>100개 이상</td>\n      <td>2200.0</td>\n      <td>100.0</td>\n    </tr>\n    <tr>\n      <th>4496</th>\n      <td>4497위</td>\n      <td>Narbe Half Shirt - Blue Grey</td>\n      <td>오프닝프로젝트</td>\n      <td>https://www.musinsa.com/app/goods/3051777?loc=...</td>\n      <td>1.4천 회 이상</td>\n      <td>173</td>\n      <td>후기 0개</td>\n      <td>평점 0점</td>\n      <td>NaN</td>\n      <td>1400.0</td>\n      <td>NaN</td>\n    </tr>\n    <tr>\n      <th>4497</th>\n      <td>4498위</td>\n      <td>PHYPS® MONDAY ROUTINE STITCH HOODIE BERRY PINK</td>\n      <td>피지컬 에듀케이션 디파트먼트</td>\n      <td>https://www.musinsa.com/app/goods/3073854?loc=...</td>\n      <td>6.2천 회 이상</td>\n      <td>924</td>\n      <td>후기 24개 보기</td>\n      <td>4.5</td>\n      <td>100개 이상</td>\n      <td>6200.0</td>\n      <td>100.0</td>\n    </tr>\n    <tr>\n      <th>4498</th>\n      <td>4499위</td>\n      <td>차콜그레이 벌룬핏 피그먼트 다잉 후드 티셔츠 IETS3E201CG</td>\n      <td>일꼬르소</td>\n      <td>https://www.musinsa.com/app/goods/2873711?loc=...</td>\n      <td>4.4천 회 이상</td>\n      <td>802</td>\n      <td>후기 61개 보기</td>\n      <td>5</td>\n      <td>200개 이상</td>\n      <td>4400.0</td>\n      <td>200.0</td>\n    </tr>\n    <tr>\n      <th>4499</th>\n      <td>4500위</td>\n      <td>캡 슬리브 워머 셔츠 / 블랙</td>\n      <td>오호스</td>\n      <td>https://www.musinsa.com/app/goods/3133209?loc=...</td>\n      <td>200회 이상</td>\n      <td>74</td>\n      <td>후기 0개</td>\n      <td>평점 0점</td>\n      <td>NaN</td>\n      <td>200.0</td>\n      <td>NaN</td>\n    </tr>\n  </tbody>\n</table>\n<p>4500 rows × 11 columns</p>\n</div>"
     },
     "execution_count": 53,
     "metadata": {},
     "output_type": "execute_result"
    }
   ],
   "source": [
    "def convert_view_count(count_str):\n",
    "    if isinstance(count_str, float):\n",
    "        return count_str\n",
    "    count_str = count_str.replace(',', '')  # 쉼표 제거\n",
    "    if '만' in count_str:\n",
    "        count = count_str.split('만')[0]\n",
    "        count = float(count) * 10000\n",
    "    elif '천' in count_str:\n",
    "        count = count_str.split('천')[0]\n",
    "        count = float(count) * 1000\n",
    "    else:\n",
    "        count = float(re.sub(r'[^0-9]','',count_str))\n",
    "    return int(count)\n",
    "\n",
    "def convert_sale_count(count_str):\n",
    "    if isinstance(count_str, float):\n",
    "        return count_str\n",
    "    count_str = count_str.replace(',', '')  # 쉼표 제거\n",
    "    if '만 개 이상' in count_str:\n",
    "        count = count_str.split('만')[0]\n",
    "        count = float(count) * 10000\n",
    "    elif '천 개 이상' in count_str:\n",
    "        count = count_str.split('천')[0]\n",
    "        count = float(count) * 1000\n",
    "    else:\n",
    "        count = float(re.sub(r'[^0-9]','',count_str))\n",
    "    return int(count)\n",
    "\n",
    "merged_df['조회수_수정'] = merged_df['조회수'].apply(convert_view_count)\n",
    "merged_df['누적판매량(1년)_수정']=merged_df['누적판매량(1년)'].apply(convert_sale_count)\n",
    "merged_df"
   ],
   "metadata": {
    "collapsed": false,
    "pycharm": {
     "name": "#%%\n"
    }
   }
  },
  {
   "cell_type": "code",
   "execution_count": 54,
   "outputs": [
    {
     "data": {
      "text/plain": "         순위                                             상품명             브랜드명  \\\n0        1위                   (시티보이) 오버핏 옥스포드 셔츠_SPYWD23C01              스파오   \n1        2위  [23SS Ver.][PACKAGE] 시티보이 빅오버 워싱 데님 셔츠_4 Color           라퍼지스토어   \n2        3위      [MUSINSA EXCLUSIVE] 뉴욕 복싱 클럽 코튼 치노 셔츠 - 블랙         폴로 랄프 로렌   \n3        4위                                   베이식 긴팔 티셔츠 2팩         무신사 스탠다드   \n4        5위                       레이어드 크루 넥 반팔 티셔츠_일반 기장 2팩         무신사 스탠다드   \n...     ...                                             ...              ...   \n4495  4496위                                벌룬핏 크루넥 니트 BLACK            인사일런스   \n4496  4497위                    Narbe Half Shirt - Blue Grey          오프닝프로젝트   \n4497  4498위  PHYPS® MONDAY ROUTINE STITCH HOODIE BERRY PINK  피지컬 에듀케이션 디파트먼트   \n4498  4499위            차콜그레이 벌룬핏 피그먼트 다잉 후드 티셔츠 IETS3E201CG             일꼬르소   \n4499  4500위                                캡 슬리브 워머 셔츠 / 블랙              오호스   \n\n                                                    url     좋아요  \\\n0     https://www.musinsa.com/app/goods/2272830?loc=...  46,073   \n1     https://www.musinsa.com/app/goods/3150516?loc=...     884   \n2     https://www.musinsa.com/app/goods/3072191?loc=...     314   \n3     https://www.musinsa.com/app/goods/2149254?loc=...  57,235   \n4     https://www.musinsa.com/app/goods/2122566?loc=...  18,637   \n...                                                 ...     ...   \n4495  https://www.musinsa.com/app/goods/2780269?loc=...     351   \n4496  https://www.musinsa.com/app/goods/3051777?loc=...     173   \n4497  https://www.musinsa.com/app/goods/3073854?loc=...     924   \n4498  https://www.musinsa.com/app/goods/2873711?loc=...     802   \n4499  https://www.musinsa.com/app/goods/3133209?loc=...      74   \n\n            구매후기 개수     평점    조회수_수정  누적판매량(1년)_수정  \n0     후기 17,548개 보기    4.9  224000.0       50000.0  \n1          후기 3개 보기    4.7   15000.0         100.0  \n2             후기 0개  평점 0점   15000.0         100.0  \n3     후기 31,434개 보기    4.9  141000.0      120000.0  \n4     후기 14,555개 보기    4.9   87000.0       50000.0  \n...             ...    ...       ...           ...  \n4495      후기 46개 보기    4.9    2200.0         100.0  \n4496          후기 0개  평점 0점    1400.0           NaN  \n4497      후기 24개 보기    4.5    6200.0         100.0  \n4498      후기 61개 보기      5    4400.0         200.0  \n4499          후기 0개  평점 0점     200.0           NaN  \n\n[4500 rows x 9 columns]",
      "text/html": "<div>\n<style scoped>\n    .dataframe tbody tr th:only-of-type {\n        vertical-align: middle;\n    }\n\n    .dataframe tbody tr th {\n        vertical-align: top;\n    }\n\n    .dataframe thead th {\n        text-align: right;\n    }\n</style>\n<table border=\"1\" class=\"dataframe\">\n  <thead>\n    <tr style=\"text-align: right;\">\n      <th></th>\n      <th>순위</th>\n      <th>상품명</th>\n      <th>브랜드명</th>\n      <th>url</th>\n      <th>좋아요</th>\n      <th>구매후기 개수</th>\n      <th>평점</th>\n      <th>조회수_수정</th>\n      <th>누적판매량(1년)_수정</th>\n    </tr>\n  </thead>\n  <tbody>\n    <tr>\n      <th>0</th>\n      <td>1위</td>\n      <td>(시티보이) 오버핏 옥스포드 셔츠_SPYWD23C01</td>\n      <td>스파오</td>\n      <td>https://www.musinsa.com/app/goods/2272830?loc=...</td>\n      <td>46,073</td>\n      <td>후기 17,548개 보기</td>\n      <td>4.9</td>\n      <td>224000.0</td>\n      <td>50000.0</td>\n    </tr>\n    <tr>\n      <th>1</th>\n      <td>2위</td>\n      <td>[23SS Ver.][PACKAGE] 시티보이 빅오버 워싱 데님 셔츠_4 Color</td>\n      <td>라퍼지스토어</td>\n      <td>https://www.musinsa.com/app/goods/3150516?loc=...</td>\n      <td>884</td>\n      <td>후기 3개 보기</td>\n      <td>4.7</td>\n      <td>15000.0</td>\n      <td>100.0</td>\n    </tr>\n    <tr>\n      <th>2</th>\n      <td>3위</td>\n      <td>[MUSINSA EXCLUSIVE] 뉴욕 복싱 클럽 코튼 치노 셔츠 - 블랙</td>\n      <td>폴로 랄프 로렌</td>\n      <td>https://www.musinsa.com/app/goods/3072191?loc=...</td>\n      <td>314</td>\n      <td>후기 0개</td>\n      <td>평점 0점</td>\n      <td>15000.0</td>\n      <td>100.0</td>\n    </tr>\n    <tr>\n      <th>3</th>\n      <td>4위</td>\n      <td>베이식 긴팔 티셔츠 2팩</td>\n      <td>무신사 스탠다드</td>\n      <td>https://www.musinsa.com/app/goods/2149254?loc=...</td>\n      <td>57,235</td>\n      <td>후기 31,434개 보기</td>\n      <td>4.9</td>\n      <td>141000.0</td>\n      <td>120000.0</td>\n    </tr>\n    <tr>\n      <th>4</th>\n      <td>5위</td>\n      <td>레이어드 크루 넥 반팔 티셔츠_일반 기장 2팩</td>\n      <td>무신사 스탠다드</td>\n      <td>https://www.musinsa.com/app/goods/2122566?loc=...</td>\n      <td>18,637</td>\n      <td>후기 14,555개 보기</td>\n      <td>4.9</td>\n      <td>87000.0</td>\n      <td>50000.0</td>\n    </tr>\n    <tr>\n      <th>...</th>\n      <td>...</td>\n      <td>...</td>\n      <td>...</td>\n      <td>...</td>\n      <td>...</td>\n      <td>...</td>\n      <td>...</td>\n      <td>...</td>\n      <td>...</td>\n    </tr>\n    <tr>\n      <th>4495</th>\n      <td>4496위</td>\n      <td>벌룬핏 크루넥 니트 BLACK</td>\n      <td>인사일런스</td>\n      <td>https://www.musinsa.com/app/goods/2780269?loc=...</td>\n      <td>351</td>\n      <td>후기 46개 보기</td>\n      <td>4.9</td>\n      <td>2200.0</td>\n      <td>100.0</td>\n    </tr>\n    <tr>\n      <th>4496</th>\n      <td>4497위</td>\n      <td>Narbe Half Shirt - Blue Grey</td>\n      <td>오프닝프로젝트</td>\n      <td>https://www.musinsa.com/app/goods/3051777?loc=...</td>\n      <td>173</td>\n      <td>후기 0개</td>\n      <td>평점 0점</td>\n      <td>1400.0</td>\n      <td>NaN</td>\n    </tr>\n    <tr>\n      <th>4497</th>\n      <td>4498위</td>\n      <td>PHYPS® MONDAY ROUTINE STITCH HOODIE BERRY PINK</td>\n      <td>피지컬 에듀케이션 디파트먼트</td>\n      <td>https://www.musinsa.com/app/goods/3073854?loc=...</td>\n      <td>924</td>\n      <td>후기 24개 보기</td>\n      <td>4.5</td>\n      <td>6200.0</td>\n      <td>100.0</td>\n    </tr>\n    <tr>\n      <th>4498</th>\n      <td>4499위</td>\n      <td>차콜그레이 벌룬핏 피그먼트 다잉 후드 티셔츠 IETS3E201CG</td>\n      <td>일꼬르소</td>\n      <td>https://www.musinsa.com/app/goods/2873711?loc=...</td>\n      <td>802</td>\n      <td>후기 61개 보기</td>\n      <td>5</td>\n      <td>4400.0</td>\n      <td>200.0</td>\n    </tr>\n    <tr>\n      <th>4499</th>\n      <td>4500위</td>\n      <td>캡 슬리브 워머 셔츠 / 블랙</td>\n      <td>오호스</td>\n      <td>https://www.musinsa.com/app/goods/3133209?loc=...</td>\n      <td>74</td>\n      <td>후기 0개</td>\n      <td>평점 0점</td>\n      <td>200.0</td>\n      <td>NaN</td>\n    </tr>\n  </tbody>\n</table>\n<p>4500 rows × 9 columns</p>\n</div>"
     },
     "execution_count": 54,
     "metadata": {},
     "output_type": "execute_result"
    }
   ],
   "source": [
    "merged_df=merged_df.drop('조회수', axis=1)\n",
    "merged_df=merged_df.drop('누적판매량(1년)', axis=1)\n",
    "merged_df"
   ],
   "metadata": {
    "collapsed": false,
    "pycharm": {
     "name": "#%%\n"
    }
   }
  },
  {
   "cell_type": "code",
   "execution_count": 55,
   "outputs": [
    {
     "data": {
      "text/plain": "         순위                                             상품명             브랜드명  \\\n0        1위                   (시티보이) 오버핏 옥스포드 셔츠_SPYWD23C01              스파오   \n1        2위  [23SS Ver.][PACKAGE] 시티보이 빅오버 워싱 데님 셔츠_4 Color           라퍼지스토어   \n2        3위      [MUSINSA EXCLUSIVE] 뉴욕 복싱 클럽 코튼 치노 셔츠 - 블랙         폴로 랄프 로렌   \n3        4위                                   베이식 긴팔 티셔츠 2팩         무신사 스탠다드   \n4        5위                       레이어드 크루 넥 반팔 티셔츠_일반 기장 2팩         무신사 스탠다드   \n...     ...                                             ...              ...   \n4495  4496위                                벌룬핏 크루넥 니트 BLACK            인사일런스   \n4496  4497위                    Narbe Half Shirt - Blue Grey          오프닝프로젝트   \n4497  4498위  PHYPS® MONDAY ROUTINE STITCH HOODIE BERRY PINK  피지컬 에듀케이션 디파트먼트   \n4498  4499위            차콜그레이 벌룬핏 피그먼트 다잉 후드 티셔츠 IETS3E201CG             일꼬르소   \n4499  4500위                                캡 슬리브 워머 셔츠 / 블랙              오호스   \n\n                                                    url     좋아요     평점  \\\n0     https://www.musinsa.com/app/goods/2272830?loc=...  46,073    4.9   \n1     https://www.musinsa.com/app/goods/3150516?loc=...     884    4.7   \n2     https://www.musinsa.com/app/goods/3072191?loc=...     314  평점 0점   \n3     https://www.musinsa.com/app/goods/2149254?loc=...  57,235    4.9   \n4     https://www.musinsa.com/app/goods/2122566?loc=...  18,637    4.9   \n...                                                 ...     ...    ...   \n4495  https://www.musinsa.com/app/goods/2780269?loc=...     351    4.9   \n4496  https://www.musinsa.com/app/goods/3051777?loc=...     173  평점 0점   \n4497  https://www.musinsa.com/app/goods/3073854?loc=...     924    4.5   \n4498  https://www.musinsa.com/app/goods/2873711?loc=...     802      5   \n4499  https://www.musinsa.com/app/goods/3133209?loc=...      74  평점 0점   \n\n        조회수_수정  누적판매량(1년)_수정  구매후기 개수_수정  \n0     224000.0       50000.0       17548  \n1      15000.0         100.0           3  \n2      15000.0         100.0           0  \n3     141000.0      120000.0       31434  \n4      87000.0       50000.0       14555  \n...        ...           ...         ...  \n4495    2200.0         100.0          46  \n4496    1400.0           NaN           0  \n4497    6200.0         100.0          24  \n4498    4400.0         200.0          61  \n4499     200.0           NaN           0  \n\n[4500 rows x 9 columns]",
      "text/html": "<div>\n<style scoped>\n    .dataframe tbody tr th:only-of-type {\n        vertical-align: middle;\n    }\n\n    .dataframe tbody tr th {\n        vertical-align: top;\n    }\n\n    .dataframe thead th {\n        text-align: right;\n    }\n</style>\n<table border=\"1\" class=\"dataframe\">\n  <thead>\n    <tr style=\"text-align: right;\">\n      <th></th>\n      <th>순위</th>\n      <th>상품명</th>\n      <th>브랜드명</th>\n      <th>url</th>\n      <th>좋아요</th>\n      <th>평점</th>\n      <th>조회수_수정</th>\n      <th>누적판매량(1년)_수정</th>\n      <th>구매후기 개수_수정</th>\n    </tr>\n  </thead>\n  <tbody>\n    <tr>\n      <th>0</th>\n      <td>1위</td>\n      <td>(시티보이) 오버핏 옥스포드 셔츠_SPYWD23C01</td>\n      <td>스파오</td>\n      <td>https://www.musinsa.com/app/goods/2272830?loc=...</td>\n      <td>46,073</td>\n      <td>4.9</td>\n      <td>224000.0</td>\n      <td>50000.0</td>\n      <td>17548</td>\n    </tr>\n    <tr>\n      <th>1</th>\n      <td>2위</td>\n      <td>[23SS Ver.][PACKAGE] 시티보이 빅오버 워싱 데님 셔츠_4 Color</td>\n      <td>라퍼지스토어</td>\n      <td>https://www.musinsa.com/app/goods/3150516?loc=...</td>\n      <td>884</td>\n      <td>4.7</td>\n      <td>15000.0</td>\n      <td>100.0</td>\n      <td>3</td>\n    </tr>\n    <tr>\n      <th>2</th>\n      <td>3위</td>\n      <td>[MUSINSA EXCLUSIVE] 뉴욕 복싱 클럽 코튼 치노 셔츠 - 블랙</td>\n      <td>폴로 랄프 로렌</td>\n      <td>https://www.musinsa.com/app/goods/3072191?loc=...</td>\n      <td>314</td>\n      <td>평점 0점</td>\n      <td>15000.0</td>\n      <td>100.0</td>\n      <td>0</td>\n    </tr>\n    <tr>\n      <th>3</th>\n      <td>4위</td>\n      <td>베이식 긴팔 티셔츠 2팩</td>\n      <td>무신사 스탠다드</td>\n      <td>https://www.musinsa.com/app/goods/2149254?loc=...</td>\n      <td>57,235</td>\n      <td>4.9</td>\n      <td>141000.0</td>\n      <td>120000.0</td>\n      <td>31434</td>\n    </tr>\n    <tr>\n      <th>4</th>\n      <td>5위</td>\n      <td>레이어드 크루 넥 반팔 티셔츠_일반 기장 2팩</td>\n      <td>무신사 스탠다드</td>\n      <td>https://www.musinsa.com/app/goods/2122566?loc=...</td>\n      <td>18,637</td>\n      <td>4.9</td>\n      <td>87000.0</td>\n      <td>50000.0</td>\n      <td>14555</td>\n    </tr>\n    <tr>\n      <th>...</th>\n      <td>...</td>\n      <td>...</td>\n      <td>...</td>\n      <td>...</td>\n      <td>...</td>\n      <td>...</td>\n      <td>...</td>\n      <td>...</td>\n      <td>...</td>\n    </tr>\n    <tr>\n      <th>4495</th>\n      <td>4496위</td>\n      <td>벌룬핏 크루넥 니트 BLACK</td>\n      <td>인사일런스</td>\n      <td>https://www.musinsa.com/app/goods/2780269?loc=...</td>\n      <td>351</td>\n      <td>4.9</td>\n      <td>2200.0</td>\n      <td>100.0</td>\n      <td>46</td>\n    </tr>\n    <tr>\n      <th>4496</th>\n      <td>4497위</td>\n      <td>Narbe Half Shirt - Blue Grey</td>\n      <td>오프닝프로젝트</td>\n      <td>https://www.musinsa.com/app/goods/3051777?loc=...</td>\n      <td>173</td>\n      <td>평점 0점</td>\n      <td>1400.0</td>\n      <td>NaN</td>\n      <td>0</td>\n    </tr>\n    <tr>\n      <th>4497</th>\n      <td>4498위</td>\n      <td>PHYPS® MONDAY ROUTINE STITCH HOODIE BERRY PINK</td>\n      <td>피지컬 에듀케이션 디파트먼트</td>\n      <td>https://www.musinsa.com/app/goods/3073854?loc=...</td>\n      <td>924</td>\n      <td>4.5</td>\n      <td>6200.0</td>\n      <td>100.0</td>\n      <td>24</td>\n    </tr>\n    <tr>\n      <th>4498</th>\n      <td>4499위</td>\n      <td>차콜그레이 벌룬핏 피그먼트 다잉 후드 티셔츠 IETS3E201CG</td>\n      <td>일꼬르소</td>\n      <td>https://www.musinsa.com/app/goods/2873711?loc=...</td>\n      <td>802</td>\n      <td>5</td>\n      <td>4400.0</td>\n      <td>200.0</td>\n      <td>61</td>\n    </tr>\n    <tr>\n      <th>4499</th>\n      <td>4500위</td>\n      <td>캡 슬리브 워머 셔츠 / 블랙</td>\n      <td>오호스</td>\n      <td>https://www.musinsa.com/app/goods/3133209?loc=...</td>\n      <td>74</td>\n      <td>평점 0점</td>\n      <td>200.0</td>\n      <td>NaN</td>\n      <td>0</td>\n    </tr>\n  </tbody>\n</table>\n<p>4500 rows × 9 columns</p>\n</div>"
     },
     "execution_count": 55,
     "metadata": {},
     "output_type": "execute_result"
    }
   ],
   "source": [
    "def convert_count(count_str):\n",
    "    count_str = float(re.sub(r'[^0-9]','',count_str))\n",
    "    return int(count_str)\n",
    "merged_df['구매후기 개수_수정'] = merged_df['구매후기 개수'].apply(convert_view_count)\n",
    "merged_df=merged_df.drop('구매후기 개수', axis=1)\n",
    "merged_df"
   ],
   "metadata": {
    "collapsed": false,
    "pycharm": {
     "name": "#%%\n"
    }
   }
  },
  {
   "cell_type": "code",
   "execution_count": 56,
   "outputs": [],
   "source": [
    "merged_df=merged_df.drop('url', axis=1)"
   ],
   "metadata": {
    "collapsed": false,
    "pycharm": {
     "name": "#%%\n"
    }
   }
  },
  {
   "cell_type": "code",
   "execution_count": 71,
   "outputs": [
    {
     "data": {
      "text/plain": "         순위                                             상품명             브랜드명  \\\n0        1위                   (시티보이) 오버핏 옥스포드 셔츠_SPYWD23C01              스파오   \n1        2위  [23SS Ver.][PACKAGE] 시티보이 빅오버 워싱 데님 셔츠_4 Color           라퍼지스토어   \n3        4위                                   베이식 긴팔 티셔츠 2팩         무신사 스탠다드   \n4        5위                       레이어드 크루 넥 반팔 티셔츠_일반 기장 2팩         무신사 스탠다드   \n5        6위                              커스텀핏 옥스포드 셔츠 - 화이트         폴로 랄프 로렌   \n...     ...                                             ...              ...   \n4492  4493위                  Button-down Shirt Big Fit Grey           사운즈라이프   \n4494  4495위   N231USW930 베어 와펜 세미 오버핏 맨투맨 티셔츠 CRYSTAL BEIGE         내셔널지오그래픽   \n4495  4496위                                벌룬핏 크루넥 니트 BLACK            인사일런스   \n4497  4498위  PHYPS® MONDAY ROUTINE STITCH HOODIE BERRY PINK  피지컬 에듀케이션 디파트먼트   \n4498  4499위            차콜그레이 벌룬핏 피그먼트 다잉 후드 티셔츠 IETS3E201CG             일꼬르소   \n\n         좋아요   평점    조회수_수정  누적판매량(1년)_수정  구매후기 개수_수정  \n0     46,073  4.9  224000.0       50000.0       17548  \n1        884  4.7   15000.0         100.0           3  \n3     57,235  4.9  141000.0      120000.0       31434  \n4     18,637  4.9   87000.0       50000.0       14555  \n5     11,720  4.9   23000.0        4300.0        2335  \n...      ...  ...       ...           ...         ...  \n4492      95  4.9     700.0          50.0          13  \n4494      49    5    1100.0          50.0           2  \n4495     351  4.9    2200.0         100.0          46  \n4497     924  4.5    6200.0         100.0          24  \n4498     802    5    4400.0         200.0          61  \n\n[3896 rows x 8 columns]",
      "text/html": "<div>\n<style scoped>\n    .dataframe tbody tr th:only-of-type {\n        vertical-align: middle;\n    }\n\n    .dataframe tbody tr th {\n        vertical-align: top;\n    }\n\n    .dataframe thead th {\n        text-align: right;\n    }\n</style>\n<table border=\"1\" class=\"dataframe\">\n  <thead>\n    <tr style=\"text-align: right;\">\n      <th></th>\n      <th>순위</th>\n      <th>상품명</th>\n      <th>브랜드명</th>\n      <th>좋아요</th>\n      <th>평점</th>\n      <th>조회수_수정</th>\n      <th>누적판매량(1년)_수정</th>\n      <th>구매후기 개수_수정</th>\n    </tr>\n  </thead>\n  <tbody>\n    <tr>\n      <th>0</th>\n      <td>1위</td>\n      <td>(시티보이) 오버핏 옥스포드 셔츠_SPYWD23C01</td>\n      <td>스파오</td>\n      <td>46,073</td>\n      <td>4.9</td>\n      <td>224000.0</td>\n      <td>50000.0</td>\n      <td>17548</td>\n    </tr>\n    <tr>\n      <th>1</th>\n      <td>2위</td>\n      <td>[23SS Ver.][PACKAGE] 시티보이 빅오버 워싱 데님 셔츠_4 Color</td>\n      <td>라퍼지스토어</td>\n      <td>884</td>\n      <td>4.7</td>\n      <td>15000.0</td>\n      <td>100.0</td>\n      <td>3</td>\n    </tr>\n    <tr>\n      <th>3</th>\n      <td>4위</td>\n      <td>베이식 긴팔 티셔츠 2팩</td>\n      <td>무신사 스탠다드</td>\n      <td>57,235</td>\n      <td>4.9</td>\n      <td>141000.0</td>\n      <td>120000.0</td>\n      <td>31434</td>\n    </tr>\n    <tr>\n      <th>4</th>\n      <td>5위</td>\n      <td>레이어드 크루 넥 반팔 티셔츠_일반 기장 2팩</td>\n      <td>무신사 스탠다드</td>\n      <td>18,637</td>\n      <td>4.9</td>\n      <td>87000.0</td>\n      <td>50000.0</td>\n      <td>14555</td>\n    </tr>\n    <tr>\n      <th>5</th>\n      <td>6위</td>\n      <td>커스텀핏 옥스포드 셔츠 - 화이트</td>\n      <td>폴로 랄프 로렌</td>\n      <td>11,720</td>\n      <td>4.9</td>\n      <td>23000.0</td>\n      <td>4300.0</td>\n      <td>2335</td>\n    </tr>\n    <tr>\n      <th>...</th>\n      <td>...</td>\n      <td>...</td>\n      <td>...</td>\n      <td>...</td>\n      <td>...</td>\n      <td>...</td>\n      <td>...</td>\n      <td>...</td>\n    </tr>\n    <tr>\n      <th>4492</th>\n      <td>4493위</td>\n      <td>Button-down Shirt Big Fit Grey</td>\n      <td>사운즈라이프</td>\n      <td>95</td>\n      <td>4.9</td>\n      <td>700.0</td>\n      <td>50.0</td>\n      <td>13</td>\n    </tr>\n    <tr>\n      <th>4494</th>\n      <td>4495위</td>\n      <td>N231USW930 베어 와펜 세미 오버핏 맨투맨 티셔츠 CRYSTAL BEIGE</td>\n      <td>내셔널지오그래픽</td>\n      <td>49</td>\n      <td>5</td>\n      <td>1100.0</td>\n      <td>50.0</td>\n      <td>2</td>\n    </tr>\n    <tr>\n      <th>4495</th>\n      <td>4496위</td>\n      <td>벌룬핏 크루넥 니트 BLACK</td>\n      <td>인사일런스</td>\n      <td>351</td>\n      <td>4.9</td>\n      <td>2200.0</td>\n      <td>100.0</td>\n      <td>46</td>\n    </tr>\n    <tr>\n      <th>4497</th>\n      <td>4498위</td>\n      <td>PHYPS® MONDAY ROUTINE STITCH HOODIE BERRY PINK</td>\n      <td>피지컬 에듀케이션 디파트먼트</td>\n      <td>924</td>\n      <td>4.5</td>\n      <td>6200.0</td>\n      <td>100.0</td>\n      <td>24</td>\n    </tr>\n    <tr>\n      <th>4498</th>\n      <td>4499위</td>\n      <td>차콜그레이 벌룬핏 피그먼트 다잉 후드 티셔츠 IETS3E201CG</td>\n      <td>일꼬르소</td>\n      <td>802</td>\n      <td>5</td>\n      <td>4400.0</td>\n      <td>200.0</td>\n      <td>61</td>\n    </tr>\n  </tbody>\n</table>\n<p>3896 rows × 8 columns</p>\n</div>"
     },
     "execution_count": 71,
     "metadata": {},
     "output_type": "execute_result"
    }
   ],
   "source": [
    "merged_df = merged_df[merged_df['순위'] != 0]\n",
    "merged_df"
   ],
   "metadata": {
    "collapsed": false,
    "pycharm": {
     "name": "#%%\n"
    }
   }
  },
  {
   "cell_type": "code",
   "execution_count": 72,
   "outputs": [
    {
     "data": {
      "text/plain": "         순위                                             상품명             브랜드명  \\\n0        1위                   (시티보이) 오버핏 옥스포드 셔츠_SPYWD23C01              스파오   \n1        2위  [23SS Ver.][PACKAGE] 시티보이 빅오버 워싱 데님 셔츠_4 Color           라퍼지스토어   \n3        4위                                   베이식 긴팔 티셔츠 2팩         무신사 스탠다드   \n4        5위                       레이어드 크루 넥 반팔 티셔츠_일반 기장 2팩         무신사 스탠다드   \n5        6위                              커스텀핏 옥스포드 셔츠 - 화이트         폴로 랄프 로렌   \n...     ...                                             ...              ...   \n4492  4493위                  Button-down Shirt Big Fit Grey           사운즈라이프   \n4494  4495위   N231USW930 베어 와펜 세미 오버핏 맨투맨 티셔츠 CRYSTAL BEIGE         내셔널지오그래픽   \n4495  4496위                                벌룬핏 크루넥 니트 BLACK            인사일런스   \n4497  4498위  PHYPS® MONDAY ROUTINE STITCH HOODIE BERRY PINK  피지컬 에듀케이션 디파트먼트   \n4498  4499위            차콜그레이 벌룬핏 피그먼트 다잉 후드 티셔츠 IETS3E201CG             일꼬르소   \n\n         좋아요   평점    조회수_수정  누적판매량(1년)_수정  구매후기 개수_수정  \n0     46,073  4.9  224000.0       50000.0       17548  \n1        884  4.7   15000.0         100.0           3  \n3     57,235  4.9  141000.0      120000.0       31434  \n4     18,637  4.9   87000.0       50000.0       14555  \n5     11,720  4.9   23000.0        4300.0        2335  \n...      ...  ...       ...           ...         ...  \n4492      95  4.9     700.0          50.0          13  \n4494      49    5    1100.0          50.0           2  \n4495     351  4.9    2200.0         100.0          46  \n4497     924  4.5    6200.0         100.0          24  \n4498     802    5    4400.0         200.0          61  \n\n[3896 rows x 8 columns]",
      "text/html": "<div>\n<style scoped>\n    .dataframe tbody tr th:only-of-type {\n        vertical-align: middle;\n    }\n\n    .dataframe tbody tr th {\n        vertical-align: top;\n    }\n\n    .dataframe thead th {\n        text-align: right;\n    }\n</style>\n<table border=\"1\" class=\"dataframe\">\n  <thead>\n    <tr style=\"text-align: right;\">\n      <th></th>\n      <th>순위</th>\n      <th>상품명</th>\n      <th>브랜드명</th>\n      <th>좋아요</th>\n      <th>평점</th>\n      <th>조회수_수정</th>\n      <th>누적판매량(1년)_수정</th>\n      <th>구매후기 개수_수정</th>\n    </tr>\n  </thead>\n  <tbody>\n    <tr>\n      <th>0</th>\n      <td>1위</td>\n      <td>(시티보이) 오버핏 옥스포드 셔츠_SPYWD23C01</td>\n      <td>스파오</td>\n      <td>46,073</td>\n      <td>4.9</td>\n      <td>224000.0</td>\n      <td>50000.0</td>\n      <td>17548</td>\n    </tr>\n    <tr>\n      <th>1</th>\n      <td>2위</td>\n      <td>[23SS Ver.][PACKAGE] 시티보이 빅오버 워싱 데님 셔츠_4 Color</td>\n      <td>라퍼지스토어</td>\n      <td>884</td>\n      <td>4.7</td>\n      <td>15000.0</td>\n      <td>100.0</td>\n      <td>3</td>\n    </tr>\n    <tr>\n      <th>3</th>\n      <td>4위</td>\n      <td>베이식 긴팔 티셔츠 2팩</td>\n      <td>무신사 스탠다드</td>\n      <td>57,235</td>\n      <td>4.9</td>\n      <td>141000.0</td>\n      <td>120000.0</td>\n      <td>31434</td>\n    </tr>\n    <tr>\n      <th>4</th>\n      <td>5위</td>\n      <td>레이어드 크루 넥 반팔 티셔츠_일반 기장 2팩</td>\n      <td>무신사 스탠다드</td>\n      <td>18,637</td>\n      <td>4.9</td>\n      <td>87000.0</td>\n      <td>50000.0</td>\n      <td>14555</td>\n    </tr>\n    <tr>\n      <th>5</th>\n      <td>6위</td>\n      <td>커스텀핏 옥스포드 셔츠 - 화이트</td>\n      <td>폴로 랄프 로렌</td>\n      <td>11,720</td>\n      <td>4.9</td>\n      <td>23000.0</td>\n      <td>4300.0</td>\n      <td>2335</td>\n    </tr>\n    <tr>\n      <th>...</th>\n      <td>...</td>\n      <td>...</td>\n      <td>...</td>\n      <td>...</td>\n      <td>...</td>\n      <td>...</td>\n      <td>...</td>\n      <td>...</td>\n    </tr>\n    <tr>\n      <th>4492</th>\n      <td>4493위</td>\n      <td>Button-down Shirt Big Fit Grey</td>\n      <td>사운즈라이프</td>\n      <td>95</td>\n      <td>4.9</td>\n      <td>700.0</td>\n      <td>50.0</td>\n      <td>13</td>\n    </tr>\n    <tr>\n      <th>4494</th>\n      <td>4495위</td>\n      <td>N231USW930 베어 와펜 세미 오버핏 맨투맨 티셔츠 CRYSTAL BEIGE</td>\n      <td>내셔널지오그래픽</td>\n      <td>49</td>\n      <td>5</td>\n      <td>1100.0</td>\n      <td>50.0</td>\n      <td>2</td>\n    </tr>\n    <tr>\n      <th>4495</th>\n      <td>4496위</td>\n      <td>벌룬핏 크루넥 니트 BLACK</td>\n      <td>인사일런스</td>\n      <td>351</td>\n      <td>4.9</td>\n      <td>2200.0</td>\n      <td>100.0</td>\n      <td>46</td>\n    </tr>\n    <tr>\n      <th>4497</th>\n      <td>4498위</td>\n      <td>PHYPS® MONDAY ROUTINE STITCH HOODIE BERRY PINK</td>\n      <td>피지컬 에듀케이션 디파트먼트</td>\n      <td>924</td>\n      <td>4.5</td>\n      <td>6200.0</td>\n      <td>100.0</td>\n      <td>24</td>\n    </tr>\n    <tr>\n      <th>4498</th>\n      <td>4499위</td>\n      <td>차콜그레이 벌룬핏 피그먼트 다잉 후드 티셔츠 IETS3E201CG</td>\n      <td>일꼬르소</td>\n      <td>802</td>\n      <td>5</td>\n      <td>4400.0</td>\n      <td>200.0</td>\n      <td>61</td>\n    </tr>\n  </tbody>\n</table>\n<p>3896 rows × 8 columns</p>\n</div>"
     },
     "execution_count": 72,
     "metadata": {},
     "output_type": "execute_result"
    }
   ],
   "source": [
    "merged_df.loc[merged_df['평점'] == '평점 0점'] = 0\n",
    "merged_df"
   ],
   "metadata": {
    "collapsed": false,
    "pycharm": {
     "name": "#%%\n"
    }
   }
  },
  {
   "cell_type": "code",
   "execution_count": 73,
   "outputs": [
    {
     "data": {
      "text/plain": "         순위                                             상품명             브랜드명  \\\n0        1위                   (시티보이) 오버핏 옥스포드 셔츠_SPYWD23C01              스파오   \n1        2위  [23SS Ver.][PACKAGE] 시티보이 빅오버 워싱 데님 셔츠_4 Color           라퍼지스토어   \n3        4위                                   베이식 긴팔 티셔츠 2팩         무신사 스탠다드   \n4        5위                       레이어드 크루 넥 반팔 티셔츠_일반 기장 2팩         무신사 스탠다드   \n5        6위                              커스텀핏 옥스포드 셔츠 - 화이트         폴로 랄프 로렌   \n...     ...                                             ...              ...   \n4492  4493위                  Button-down Shirt Big Fit Grey           사운즈라이프   \n4494  4495위   N231USW930 베어 와펜 세미 오버핏 맨투맨 티셔츠 CRYSTAL BEIGE         내셔널지오그래픽   \n4495  4496위                                벌룬핏 크루넥 니트 BLACK            인사일런스   \n4497  4498위  PHYPS® MONDAY ROUTINE STITCH HOODIE BERRY PINK  피지컬 에듀케이션 디파트먼트   \n4498  4499위            차콜그레이 벌룬핏 피그먼트 다잉 후드 티셔츠 IETS3E201CG             일꼬르소   \n\n         좋아요   평점    조회수_수정  누적판매량(1년)_수정  구매후기 개수_수정  \n0     46,073  4.9  224000.0       50000.0       17548  \n1        884  4.7   15000.0         100.0           3  \n3     57,235  4.9  141000.0      120000.0       31434  \n4     18,637  4.9   87000.0       50000.0       14555  \n5     11,720  4.9   23000.0        4300.0        2335  \n...      ...  ...       ...           ...         ...  \n4492      95  4.9     700.0          50.0          13  \n4494      49    5    1100.0          50.0           2  \n4495     351  4.9    2200.0         100.0          46  \n4497     924  4.5    6200.0         100.0          24  \n4498     802    5    4400.0         200.0          61  \n\n[3896 rows x 8 columns]",
      "text/html": "<div>\n<style scoped>\n    .dataframe tbody tr th:only-of-type {\n        vertical-align: middle;\n    }\n\n    .dataframe tbody tr th {\n        vertical-align: top;\n    }\n\n    .dataframe thead th {\n        text-align: right;\n    }\n</style>\n<table border=\"1\" class=\"dataframe\">\n  <thead>\n    <tr style=\"text-align: right;\">\n      <th></th>\n      <th>순위</th>\n      <th>상품명</th>\n      <th>브랜드명</th>\n      <th>좋아요</th>\n      <th>평점</th>\n      <th>조회수_수정</th>\n      <th>누적판매량(1년)_수정</th>\n      <th>구매후기 개수_수정</th>\n    </tr>\n  </thead>\n  <tbody>\n    <tr>\n      <th>0</th>\n      <td>1위</td>\n      <td>(시티보이) 오버핏 옥스포드 셔츠_SPYWD23C01</td>\n      <td>스파오</td>\n      <td>46,073</td>\n      <td>4.9</td>\n      <td>224000.0</td>\n      <td>50000.0</td>\n      <td>17548</td>\n    </tr>\n    <tr>\n      <th>1</th>\n      <td>2위</td>\n      <td>[23SS Ver.][PACKAGE] 시티보이 빅오버 워싱 데님 셔츠_4 Color</td>\n      <td>라퍼지스토어</td>\n      <td>884</td>\n      <td>4.7</td>\n      <td>15000.0</td>\n      <td>100.0</td>\n      <td>3</td>\n    </tr>\n    <tr>\n      <th>3</th>\n      <td>4위</td>\n      <td>베이식 긴팔 티셔츠 2팩</td>\n      <td>무신사 스탠다드</td>\n      <td>57,235</td>\n      <td>4.9</td>\n      <td>141000.0</td>\n      <td>120000.0</td>\n      <td>31434</td>\n    </tr>\n    <tr>\n      <th>4</th>\n      <td>5위</td>\n      <td>레이어드 크루 넥 반팔 티셔츠_일반 기장 2팩</td>\n      <td>무신사 스탠다드</td>\n      <td>18,637</td>\n      <td>4.9</td>\n      <td>87000.0</td>\n      <td>50000.0</td>\n      <td>14555</td>\n    </tr>\n    <tr>\n      <th>5</th>\n      <td>6위</td>\n      <td>커스텀핏 옥스포드 셔츠 - 화이트</td>\n      <td>폴로 랄프 로렌</td>\n      <td>11,720</td>\n      <td>4.9</td>\n      <td>23000.0</td>\n      <td>4300.0</td>\n      <td>2335</td>\n    </tr>\n    <tr>\n      <th>...</th>\n      <td>...</td>\n      <td>...</td>\n      <td>...</td>\n      <td>...</td>\n      <td>...</td>\n      <td>...</td>\n      <td>...</td>\n      <td>...</td>\n    </tr>\n    <tr>\n      <th>4492</th>\n      <td>4493위</td>\n      <td>Button-down Shirt Big Fit Grey</td>\n      <td>사운즈라이프</td>\n      <td>95</td>\n      <td>4.9</td>\n      <td>700.0</td>\n      <td>50.0</td>\n      <td>13</td>\n    </tr>\n    <tr>\n      <th>4494</th>\n      <td>4495위</td>\n      <td>N231USW930 베어 와펜 세미 오버핏 맨투맨 티셔츠 CRYSTAL BEIGE</td>\n      <td>내셔널지오그래픽</td>\n      <td>49</td>\n      <td>5</td>\n      <td>1100.0</td>\n      <td>50.0</td>\n      <td>2</td>\n    </tr>\n    <tr>\n      <th>4495</th>\n      <td>4496위</td>\n      <td>벌룬핏 크루넥 니트 BLACK</td>\n      <td>인사일런스</td>\n      <td>351</td>\n      <td>4.9</td>\n      <td>2200.0</td>\n      <td>100.0</td>\n      <td>46</td>\n    </tr>\n    <tr>\n      <th>4497</th>\n      <td>4498위</td>\n      <td>PHYPS® MONDAY ROUTINE STITCH HOODIE BERRY PINK</td>\n      <td>피지컬 에듀케이션 디파트먼트</td>\n      <td>924</td>\n      <td>4.5</td>\n      <td>6200.0</td>\n      <td>100.0</td>\n      <td>24</td>\n    </tr>\n    <tr>\n      <th>4498</th>\n      <td>4499위</td>\n      <td>차콜그레이 벌룬핏 피그먼트 다잉 후드 티셔츠 IETS3E201CG</td>\n      <td>일꼬르소</td>\n      <td>802</td>\n      <td>5</td>\n      <td>4400.0</td>\n      <td>200.0</td>\n      <td>61</td>\n    </tr>\n  </tbody>\n</table>\n<p>3896 rows × 8 columns</p>\n</div>"
     },
     "execution_count": 73,
     "metadata": {},
     "output_type": "execute_result"
    }
   ],
   "source": [
    "merged_df=merged_df.fillna(0)\n",
    "merged_df"
   ],
   "metadata": {
    "collapsed": false,
    "pycharm": {
     "name": "#%%\n"
    }
   }
  },
  {
   "cell_type": "code",
   "execution_count": 83,
   "outputs": [
    {
     "name": "stdout",
     "output_type": "stream",
     "text": [
      "<class 'pandas.core.frame.DataFrame'>\n",
      "Int64Index: 3896 entries, 0 to 4498\n",
      "Data columns (total 8 columns):\n",
      " #   Column        Non-Null Count  Dtype  \n",
      "---  ------        --------------  -----  \n",
      " 0   순위            3896 non-null   object \n",
      " 1   상품명           3896 non-null   object \n",
      " 2   브랜드명          3896 non-null   object \n",
      " 3   좋아요           3896 non-null   float64\n",
      " 4   평점            3896 non-null   object \n",
      " 5   조회수_수정        3896 non-null   float64\n",
      " 6   누적판매량(1년)_수정  3896 non-null   float64\n",
      " 7   구매후기 개수_수정    3896 non-null   int64  \n",
      "dtypes: float64(3), int64(1), object(4)\n",
      "memory usage: 273.9+ KB\n"
     ]
    }
   ],
   "source": [
    "merged_df.info()"
   ],
   "metadata": {
    "collapsed": false,
    "pycharm": {
     "name": "#%%\n"
    }
   }
  },
  {
   "cell_type": "code",
   "execution_count": 82,
   "outputs": [
    {
     "ename": "AttributeError",
     "evalue": "Can only use .str accessor with string values!",
     "output_type": "error",
     "traceback": [
      "\u001B[1;31m---------------------------------------------------------------------------\u001B[0m",
      "\u001B[1;31mAttributeError\u001B[0m                            Traceback (most recent call last)",
      "Input \u001B[1;32mIn [82]\u001B[0m, in \u001B[0;36m<cell line: 1>\u001B[1;34m()\u001B[0m\n\u001B[1;32m----> 1\u001B[0m merged_df[\u001B[38;5;124m'\u001B[39m\u001B[38;5;124m좋아요\u001B[39m\u001B[38;5;124m'\u001B[39m] \u001B[38;5;241m=\u001B[39m \u001B[43mmerged_df\u001B[49m\u001B[43m[\u001B[49m\u001B[38;5;124;43m'\u001B[39;49m\u001B[38;5;124;43m좋아요\u001B[39;49m\u001B[38;5;124;43m'\u001B[39;49m\u001B[43m]\u001B[49m\u001B[38;5;241;43m.\u001B[39;49m\u001B[43mstr\u001B[49m\u001B[38;5;241m.\u001B[39mreplace(\u001B[38;5;124m'\u001B[39m\u001B[38;5;124m,\u001B[39m\u001B[38;5;124m'\u001B[39m, \u001B[38;5;124m'\u001B[39m\u001B[38;5;124m'\u001B[39m)\u001B[38;5;241m.\u001B[39mastype(\u001B[38;5;28mfloat\u001B[39m)\n",
      "File \u001B[1;32mc:\\users\\jpc10\\ideaprojects\\untitled\\venv\\lib\\site-packages\\pandas\\core\\generic.py:5575\u001B[0m, in \u001B[0;36mNDFrame.__getattr__\u001B[1;34m(self, name)\u001B[0m\n\u001B[0;32m   5568\u001B[0m \u001B[38;5;28;01mif\u001B[39;00m (\n\u001B[0;32m   5569\u001B[0m     name \u001B[38;5;129;01mnot\u001B[39;00m \u001B[38;5;129;01min\u001B[39;00m \u001B[38;5;28mself\u001B[39m\u001B[38;5;241m.\u001B[39m_internal_names_set\n\u001B[0;32m   5570\u001B[0m     \u001B[38;5;129;01mand\u001B[39;00m name \u001B[38;5;129;01mnot\u001B[39;00m \u001B[38;5;129;01min\u001B[39;00m \u001B[38;5;28mself\u001B[39m\u001B[38;5;241m.\u001B[39m_metadata\n\u001B[0;32m   5571\u001B[0m     \u001B[38;5;129;01mand\u001B[39;00m name \u001B[38;5;129;01mnot\u001B[39;00m \u001B[38;5;129;01min\u001B[39;00m \u001B[38;5;28mself\u001B[39m\u001B[38;5;241m.\u001B[39m_accessors\n\u001B[0;32m   5572\u001B[0m     \u001B[38;5;129;01mand\u001B[39;00m \u001B[38;5;28mself\u001B[39m\u001B[38;5;241m.\u001B[39m_info_axis\u001B[38;5;241m.\u001B[39m_can_hold_identifiers_and_holds_name(name)\n\u001B[0;32m   5573\u001B[0m ):\n\u001B[0;32m   5574\u001B[0m     \u001B[38;5;28;01mreturn\u001B[39;00m \u001B[38;5;28mself\u001B[39m[name]\n\u001B[1;32m-> 5575\u001B[0m \u001B[38;5;28;01mreturn\u001B[39;00m \u001B[38;5;28;43mobject\u001B[39;49m\u001B[38;5;241;43m.\u001B[39;49m\u001B[38;5;21;43m__getattribute__\u001B[39;49m\u001B[43m(\u001B[49m\u001B[38;5;28;43mself\u001B[39;49m\u001B[43m,\u001B[49m\u001B[43m \u001B[49m\u001B[43mname\u001B[49m\u001B[43m)\u001B[49m\n",
      "File \u001B[1;32mc:\\users\\jpc10\\ideaprojects\\untitled\\venv\\lib\\site-packages\\pandas\\core\\accessor.py:182\u001B[0m, in \u001B[0;36mCachedAccessor.__get__\u001B[1;34m(self, obj, cls)\u001B[0m\n\u001B[0;32m    179\u001B[0m \u001B[38;5;28;01mif\u001B[39;00m obj \u001B[38;5;129;01mis\u001B[39;00m \u001B[38;5;28;01mNone\u001B[39;00m:\n\u001B[0;32m    180\u001B[0m     \u001B[38;5;66;03m# we're accessing the attribute of the class, i.e., Dataset.geo\u001B[39;00m\n\u001B[0;32m    181\u001B[0m     \u001B[38;5;28;01mreturn\u001B[39;00m \u001B[38;5;28mself\u001B[39m\u001B[38;5;241m.\u001B[39m_accessor\n\u001B[1;32m--> 182\u001B[0m accessor_obj \u001B[38;5;241m=\u001B[39m \u001B[38;5;28;43mself\u001B[39;49m\u001B[38;5;241;43m.\u001B[39;49m\u001B[43m_accessor\u001B[49m\u001B[43m(\u001B[49m\u001B[43mobj\u001B[49m\u001B[43m)\u001B[49m\n\u001B[0;32m    183\u001B[0m \u001B[38;5;66;03m# Replace the property with the accessor object. Inspired by:\u001B[39;00m\n\u001B[0;32m    184\u001B[0m \u001B[38;5;66;03m# https://www.pydanny.com/cached-property.html\u001B[39;00m\n\u001B[0;32m    185\u001B[0m \u001B[38;5;66;03m# We need to use object.__setattr__ because we overwrite __setattr__ on\u001B[39;00m\n\u001B[0;32m    186\u001B[0m \u001B[38;5;66;03m# NDFrame\u001B[39;00m\n\u001B[0;32m    187\u001B[0m \u001B[38;5;28mobject\u001B[39m\u001B[38;5;241m.\u001B[39m\u001B[38;5;21m__setattr__\u001B[39m(obj, \u001B[38;5;28mself\u001B[39m\u001B[38;5;241m.\u001B[39m_name, accessor_obj)\n",
      "File \u001B[1;32mc:\\users\\jpc10\\ideaprojects\\untitled\\venv\\lib\\site-packages\\pandas\\core\\strings\\accessor.py:177\u001B[0m, in \u001B[0;36mStringMethods.__init__\u001B[1;34m(self, data)\u001B[0m\n\u001B[0;32m    174\u001B[0m \u001B[38;5;28;01mdef\u001B[39;00m \u001B[38;5;21m__init__\u001B[39m(\u001B[38;5;28mself\u001B[39m, data):\n\u001B[0;32m    175\u001B[0m     \u001B[38;5;28;01mfrom\u001B[39;00m \u001B[38;5;21;01mpandas\u001B[39;00m\u001B[38;5;21;01m.\u001B[39;00m\u001B[38;5;21;01mcore\u001B[39;00m\u001B[38;5;21;01m.\u001B[39;00m\u001B[38;5;21;01marrays\u001B[39;00m\u001B[38;5;21;01m.\u001B[39;00m\u001B[38;5;21;01mstring_\u001B[39;00m \u001B[38;5;28;01mimport\u001B[39;00m StringDtype\n\u001B[1;32m--> 177\u001B[0m     \u001B[38;5;28mself\u001B[39m\u001B[38;5;241m.\u001B[39m_inferred_dtype \u001B[38;5;241m=\u001B[39m \u001B[38;5;28;43mself\u001B[39;49m\u001B[38;5;241;43m.\u001B[39;49m\u001B[43m_validate\u001B[49m\u001B[43m(\u001B[49m\u001B[43mdata\u001B[49m\u001B[43m)\u001B[49m\n\u001B[0;32m    178\u001B[0m     \u001B[38;5;28mself\u001B[39m\u001B[38;5;241m.\u001B[39m_is_categorical \u001B[38;5;241m=\u001B[39m is_categorical_dtype(data\u001B[38;5;241m.\u001B[39mdtype)\n\u001B[0;32m    179\u001B[0m     \u001B[38;5;28mself\u001B[39m\u001B[38;5;241m.\u001B[39m_is_string \u001B[38;5;241m=\u001B[39m \u001B[38;5;28misinstance\u001B[39m(data\u001B[38;5;241m.\u001B[39mdtype, StringDtype)\n",
      "File \u001B[1;32mc:\\users\\jpc10\\ideaprojects\\untitled\\venv\\lib\\site-packages\\pandas\\core\\strings\\accessor.py:231\u001B[0m, in \u001B[0;36mStringMethods._validate\u001B[1;34m(data)\u001B[0m\n\u001B[0;32m    228\u001B[0m inferred_dtype \u001B[38;5;241m=\u001B[39m lib\u001B[38;5;241m.\u001B[39minfer_dtype(values, skipna\u001B[38;5;241m=\u001B[39m\u001B[38;5;28;01mTrue\u001B[39;00m)\n\u001B[0;32m    230\u001B[0m \u001B[38;5;28;01mif\u001B[39;00m inferred_dtype \u001B[38;5;129;01mnot\u001B[39;00m \u001B[38;5;129;01min\u001B[39;00m allowed_types:\n\u001B[1;32m--> 231\u001B[0m     \u001B[38;5;28;01mraise\u001B[39;00m \u001B[38;5;167;01mAttributeError\u001B[39;00m(\u001B[38;5;124m\"\u001B[39m\u001B[38;5;124mCan only use .str accessor with string values!\u001B[39m\u001B[38;5;124m\"\u001B[39m)\n\u001B[0;32m    232\u001B[0m \u001B[38;5;28;01mreturn\u001B[39;00m inferred_dtype\n",
      "\u001B[1;31mAttributeError\u001B[0m: Can only use .str accessor with string values!"
     ]
    }
   ],
   "source": [
    "merged_df['좋아요'] = merged_df['좋아요'].str.replace(',', '').astype(float)"
   ],
   "metadata": {
    "collapsed": false,
    "pycharm": {
     "name": "#%%\n"
    }
   }
  },
  {
   "cell_type": "code",
   "execution_count": 84,
   "outputs": [],
   "source": [
    "merged_df['평점'] = merged_df['평점'].astype(float)"
   ],
   "metadata": {
    "collapsed": false,
    "pycharm": {
     "name": "#%%\n"
    }
   }
  },
  {
   "cell_type": "code",
   "execution_count": 85,
   "outputs": [
    {
     "name": "stdout",
     "output_type": "stream",
     "text": [
      "<class 'pandas.core.frame.DataFrame'>\n",
      "Int64Index: 3896 entries, 0 to 4498\n",
      "Data columns (total 8 columns):\n",
      " #   Column        Non-Null Count  Dtype  \n",
      "---  ------        --------------  -----  \n",
      " 0   순위            3896 non-null   object \n",
      " 1   상품명           3896 non-null   object \n",
      " 2   브랜드명          3896 non-null   object \n",
      " 3   좋아요           3896 non-null   float64\n",
      " 4   평점            3896 non-null   float64\n",
      " 5   조회수_수정        3896 non-null   float64\n",
      " 6   누적판매량(1년)_수정  3896 non-null   float64\n",
      " 7   구매후기 개수_수정    3896 non-null   int64  \n",
      "dtypes: float64(4), int64(1), object(3)\n",
      "memory usage: 273.9+ KB\n"
     ]
    }
   ],
   "source": [
    "merged_df.info()"
   ],
   "metadata": {
    "collapsed": false,
    "pycharm": {
     "name": "#%%\n"
    }
   }
  },
  {
   "cell_type": "code",
   "execution_count": 86,
   "outputs": [
    {
     "data": {
      "text/plain": "array(['스파오', '라퍼지스토어', '무신사 스탠다드', '폴로 랄프 로렌', '유니온블루', '건지 울른스', '페플',\n       '필루미네이트', '소버먼트', '예일', '세인트제임스', '메종 마르지엘라', '스컬프터', '인템포무드',\n       '트래블', '토피', '트릴리온', '아메스 월드와이드', '드로우핏', '1993스튜디오', '키뮤어',\n       '나이스고스트클럽', '토마스모어', '굿라이프웍스', '수아레', '팔렛', '푸마 셀렉트', '마르디 메크르디',\n       '코드그라피', '듀테로', '디스이즈네버댓', '본하이커', '어나더 오피스', '그로브', '커버낫',\n       '프린트스타', '발란사', '노앙', '포터리', '마인드브릿지', '테이크이지', '뉴에라', '세터',\n       '이벳필드', '슬로우애시드', '마리떼', '배드블러드', '제멋', '시티브리즈', '어반드레스', '브라운브레스',\n       '비바스튜디오', '크림소다랩', '마뗑킴', '선데이오프클럽', '호텔세리토스', '에이프릴에잇', '엘무드',\n       '리', '유니폼브릿지', '꼼파뇨', '피브비', '피지컬 에듀케이션 디파트먼트', '아조바이아조', '로맨틱크라운',\n       '어반스터프', '파르티멘토', '마틴플랜', '코드', '예스아이씨', '플레이스 스튜디오', '지오다노',\n       '엔오르', '슈퍼서브', '쿠어', '펀치드렁크파티즈', '니틀리', '오프 화이트', '디프리크', '인더스트',\n       '시야쥬', '와릿이즌', '리트리버클럽', '아크메드라비', '아웃스탠딩', '르마드', '프렌다', '지프',\n       '어반디타입', '티떠블유엔', '일꼬르소', '이자벨마랑', '캘빈클라인 진', '더블알엘', '시눈',\n       '발렌시아가', '비전스트릿웨어', '줄리아페페', '라코스테', '엄브로', '크리틱', '마하그리드', '엔에프엘',\n       '퍼스텝', '로라로라', '파브레가', '르바', '본챔스', '더블유브이프로젝트', '더바이닐하우스',\n       '내셔널지오그래픽', '에스피오나지', '레이브', '브룩스 브라더스', '파르티멘토 우먼', '엠엠엘지',\n       '패블러스아카이브', '카멜워크', '베스띠또', '노매뉴얼', '낫포너드', '노이아고', '프리즘웍스', '애습',\n       '틸 아이 다이', '비디알', '이스트쿤스트', '아티스트웨어', '어반에이지', '2000아카이브스',\n       '레테르코모', '론론', '그란투리스모', '멜란지 마스터', '닉앤니콜', '더스트그레이', '비터셀즈',\n       '브라바도', '로맨틱 파이어리츠', '이에스엔', '리우아', '아디다스', '브아빗', '엑서사이즈', '솔티',\n       '벤힛', '토우토우 아카이브', '디스커버리 익스페디션', '피스메이커', '로얄라이프', '니티드', '메러베인',\n       '캉골', '에즈카톤', '클렛', '페스토', '포스333', '라이프워크', '밀리언코르', '세인트페인',\n       '해바이해킴', '페인오어플레져', '에노우', '문선', '어누즈', '오아이오아이', '파코', '더콜디스트모먼트',\n       '에즈이프 캘리', '카비시', '타미힐피거', '밈더워드로브', '크럼프', '벤 데이비스', '에이이에이이',\n       '리복', '게인스보로', '프랑켄모노', '랭5', '러브이즈트루', '블론드나인', '그루브라임', '와이케이',\n       '인사일런스', '트레셔', '미나브', '오드스튜디오', '익스프레스 홀리데이', '알브이디', '마크엠',\n       '아노블리어', '엑스컨테이너', '어나더 아카이브', '샤카웨어', '랑가주망', '더센토르', '노티카',\n       '메종미네드', '코케트 스튜디오', '시그니처', '골스튜디오', '와이낫어스', '네이비팀', '썸플레이스',\n       '베이직하우스', '어커버', '에스에스와이', '스포티앤리치', '오앤에이', '딜레탕티즘', '다이애그널',\n       '블랭크룸', '배디', '제이엘브', '오션퍼시픽', '세컨모놀로그', '모더먼트', '델리센트', '원더비지터',\n       '브렌슨', '우알롱', '뉴발란스', '도프제이슨', '에리즈 얼라이즈', '모즈모즈', '에프씨엠엠', '케즈',\n       '엠오오', '그레이버', '디파이클럽로버스', '커스텀어클락', '플러키티', '얼킨', '키르시', '엠블러',\n       '몬스터리퍼블릭', '네스티팬시클럽', '웨이브유니온', '트립션', '이슈넘버', '고스트리퍼블릭', '후크',\n       '피버타임', '페이퍼보이', '에트오소메', '엠엘비', '1989스탠다드', '맥우드건', '어썸스튜디오',\n       '논로컬', '팀코믹스', '세릭', '아웃도어 프로덕츠', '래리클락', '지미코 브리코', '엘엠씨', '랭글러',\n       '미니멀코드', '밀로', '콜릿', '피아네르', '제너럴아이디어', '유라고', '앨빈클로', '가터갤러리',\n       '레스트앤레크레이션', '미드나잇 무브', '유앤엘씨', '노드 아카이브', '아미', '밀레 클래식',\n       '디미트리블랙', '레씨토', '오웨너', '비슬로우', '르아르', '다이아몬드 레이라', '프로드셔츠', '후아유',\n       '코닥', '뮤지엄 오브 피스 앤 콰이엇', '리바이스', '레이버러스', '게스', '라퍼지 포 우먼',\n       '오버듀플레어', '리파인드902', '레이디 볼륨', '노스 프로젝트', '어텐션로우', '비헤비어',\n       '라운드트리코', '에스릿 스튜디오', '하이투', '클로브', '롤링스튜디오', '제네럴웍스', '영월정션',\n       '티아즈', '키크', '덕다이브', '라티젠', '말렌', '에씨드슬라이드', '에잇세컨즈', '아카이브 볼드',\n       '휠라', '인사일런스 우먼', '나파피리', '크레이지 카 워시 크루', '엑스톤즈', '배드인배드',\n       '네이머클로딩', '트립르센스', '플래니트', '디앤에스알', '몽플리쎄', '로커드', '비디오자키', '집시',\n       '디뮤즈', '제로플래닛', '굿하비클럽', '넌블랭크', '와일드띵스', '하이드아웃', '노이커먼', '예일 골프',\n       '네스티킥', '테네르', '패슬', '파나컬트', '미니멀프로젝트', '큐리티', '에이본', '에이카화이트',\n       '세븐셀라', '뎃츠잇', '디키즈', '루루', '곤니치와봉쥬르', '디폴트벨류', '아이코노그라피', '오닐',\n       '바이바이섭', '피그먼트', '콤팩트 레코드 바', '엠엔지유', '팔랩', '로씨로씨', '볼컴', '고저',\n       '피파 1904', '더셔츠스튜디오', '브릭', '젠사이', '제로스트릿', '어피스오브케이크', '기프트오리지널',\n       '엑스트라오디너리', '타미진스', '더블유엠씨', '마르디 메크르디 악티프', '데이', '클럽액티비티',\n       '위캔더스', '오드펄', '퓨처랩', '닉앤니콜 포 맨', '콘트로바날레', '더마일', '써드위브', '드마크',\n       '아비렉스', '이피디벨롭', '왕관', '칸코', '오엑스 스튜디오', '바버', '클로티', '타게토',\n       '타입서비스', '챔피온', '커스텀멜로우', '코넬', '해비즘', '반스', '디그낙12', '행텐',\n       '반원 아틀리에', '언리미트', '골라', '아임낫어휴먼비잉', '로열클럽홀리데이', '참스', '엘리오티',\n       '밴웍스', '메인부스', '락사이코', '아코스튜디오스페이스', '논앤논', '리올그', '베테제', '체이스컬트',\n       '제로', '플랙', '라미네즈', '페얼스 델리 앤 그로서리', '브이투', '플라스틱보틀보트', '엽페',\n       '커렌트', '푸마', '장 미쉘 바스키아', '코우코우', '모뉴먼트', '더 아이덴티티 프로젝트', '널디',\n       '디스커스 애슬레틱', '언더베이스', '크랭크', '데이라이프', '유니어패럴', '빈트릴', '아파트먼트',\n       '률앤와이', '엠엠지엘', '블랙맘바', '테일러 스튜디오', '글리머', '플루크', '데비어퍼', '데꼬로소',\n       '스페이드클럽서울', '메리제임스', '래비티 스포츠', '벌스데이수트', '아이러니포르노 화이트라인', '뱅어스',\n       '런디에스', '어몽', '카파', '베리드얼라이브', '에스티코', '틀영', '로제프란츠',\n       '낫유어엑스엑스엑스 바이 낫유어로즈', '원더월에디션', '콜미베이비', '마르베테', '이에이', '그레일즈',\n       '아차', '노스페이스', '에이징씨씨씨', '유씨 버클리', '로코로코', '스코타', '베이버스', '드리프트아웃',\n       '스턴트', '티엔지티', '38컴온커먼', '23.65', '앤커버', '레터프롬문', '바스틱', '애쉬아워',\n       '인스턴트펑크', '낫 유어 로즈', '써네이', '알렉산더 맥퀸', '꼼데가르송 플레이', '더니트컴퍼니',\n       '스테이지 네임', '버버리', '에스 막스 마라', '사운즈라이프', '쏘이르', '스톤아일랜드', '마롭',\n       '비비안 웨스트우드', '나체', '카사블랑카', '아크네 스튜디오', '질 샌더', '플레어업', '오와이',\n       '생로랑', '디써티원', '라퍼', '디젤', '앤더슨벨', '언아웃핏', '던스트 포 우먼', '51퍼센트',\n       '매스노운', '에이디오', '척', '루에브르', '카고브로스', '오프닝프로젝트', '오키아', '톤즈',\n       '보테가베네타', '애프터프레이', '매드마르스', '리프클로딩', '주앙옴므', '도미넌트', '티리버럴',\n       '아이돈워너셀', '33뮤즈먼트', '에뜨르 세실', '아페쎄', '하드코어 해피니스', '던스트',\n       '아이홀릭 캐시미어', '객', '이지노이지', '247시리즈', '오브이디와이', '탑텐', '이퓨원트',\n       '시디스콤마', '글랙', '쎄무아듀', '신스레터스', '디퍼런트이즈.오케이', '210에디트', '빠니깔레',\n       '테르오', '노클레임', '언더톤즈', '실른', '후브스', '텐블레이드', '펜필드', '하이스쿨디스코',\n       '아워스코프', '샌드 사운드', '지플리시', '씨엔엔 어패럴', '러디칙스', '앤더슨벨 포 우먼', '골든베어',\n       '오호스', '알리스', '빈폴 멘', '아모멘토', '비욘드클로젯', '올리버코튼즈', '제이미웨스트'],\n      dtype=object)"
     },
     "execution_count": 86,
     "metadata": {},
     "output_type": "execute_result"
    }
   ],
   "source": [
    "merged_df['브랜드명'].unique()"
   ],
   "metadata": {
    "collapsed": false,
    "pycharm": {
     "name": "#%%\n"
    }
   }
  },
  {
   "cell_type": "code",
   "execution_count": 87,
   "outputs": [
    {
     "data": {
      "text/plain": "           count\n브랜드명            \n1989스탠다드      13\n1993스튜디오      44\n2000아카이브스      9\n210에디트         3\n23.65          1\n...          ...\n호텔세리토스        10\n후브스            1\n후아유            2\n후크             2\n휠라             6\n\n[553 rows x 1 columns]",
      "text/html": "<div>\n<style scoped>\n    .dataframe tbody tr th:only-of-type {\n        vertical-align: middle;\n    }\n\n    .dataframe tbody tr th {\n        vertical-align: top;\n    }\n\n    .dataframe thead th {\n        text-align: right;\n    }\n</style>\n<table border=\"1\" class=\"dataframe\">\n  <thead>\n    <tr style=\"text-align: right;\">\n      <th></th>\n      <th>count</th>\n    </tr>\n    <tr>\n      <th>브랜드명</th>\n      <th></th>\n    </tr>\n  </thead>\n  <tbody>\n    <tr>\n      <th>1989스탠다드</th>\n      <td>13</td>\n    </tr>\n    <tr>\n      <th>1993스튜디오</th>\n      <td>44</td>\n    </tr>\n    <tr>\n      <th>2000아카이브스</th>\n      <td>9</td>\n    </tr>\n    <tr>\n      <th>210에디트</th>\n      <td>3</td>\n    </tr>\n    <tr>\n      <th>23.65</th>\n      <td>1</td>\n    </tr>\n    <tr>\n      <th>...</th>\n      <td>...</td>\n    </tr>\n    <tr>\n      <th>호텔세리토스</th>\n      <td>10</td>\n    </tr>\n    <tr>\n      <th>후브스</th>\n      <td>1</td>\n    </tr>\n    <tr>\n      <th>후아유</th>\n      <td>2</td>\n    </tr>\n    <tr>\n      <th>후크</th>\n      <td>2</td>\n    </tr>\n    <tr>\n      <th>휠라</th>\n      <td>6</td>\n    </tr>\n  </tbody>\n</table>\n<p>553 rows × 1 columns</p>\n</div>"
     },
     "execution_count": 87,
     "metadata": {},
     "output_type": "execute_result"
    }
   ],
   "source": [
    "pivot_table = pd.pivot_table(merged_df, values='상품명', index='브랜드명', aggfunc='count')\n",
    "pivot_table.columns = ['count']\n",
    "pivot_table"
   ],
   "metadata": {
    "collapsed": false,
    "pycharm": {
     "name": "#%%\n"
    }
   }
  },
  {
   "cell_type": "code",
   "execution_count": 88,
   "outputs": [
    {
     "data": {
      "text/plain": "         브랜드명  count\n0    무신사 스탠다드    269\n1    폴로 랄프 로렌    125\n2          예일    111\n3     디스이즈네버댓     76\n4       어반드레스     65\n..        ...    ...\n548        널디      1\n549       이에이      1\n550  브룩스 브라더스      1\n551     이지노이지      1\n552     디앤에스알      1\n\n[553 rows x 2 columns]",
      "text/html": "<div>\n<style scoped>\n    .dataframe tbody tr th:only-of-type {\n        vertical-align: middle;\n    }\n\n    .dataframe tbody tr th {\n        vertical-align: top;\n    }\n\n    .dataframe thead th {\n        text-align: right;\n    }\n</style>\n<table border=\"1\" class=\"dataframe\">\n  <thead>\n    <tr style=\"text-align: right;\">\n      <th></th>\n      <th>브랜드명</th>\n      <th>count</th>\n    </tr>\n  </thead>\n  <tbody>\n    <tr>\n      <th>0</th>\n      <td>무신사 스탠다드</td>\n      <td>269</td>\n    </tr>\n    <tr>\n      <th>1</th>\n      <td>폴로 랄프 로렌</td>\n      <td>125</td>\n    </tr>\n    <tr>\n      <th>2</th>\n      <td>예일</td>\n      <td>111</td>\n    </tr>\n    <tr>\n      <th>3</th>\n      <td>디스이즈네버댓</td>\n      <td>76</td>\n    </tr>\n    <tr>\n      <th>4</th>\n      <td>어반드레스</td>\n      <td>65</td>\n    </tr>\n    <tr>\n      <th>...</th>\n      <td>...</td>\n      <td>...</td>\n    </tr>\n    <tr>\n      <th>548</th>\n      <td>널디</td>\n      <td>1</td>\n    </tr>\n    <tr>\n      <th>549</th>\n      <td>이에이</td>\n      <td>1</td>\n    </tr>\n    <tr>\n      <th>550</th>\n      <td>브룩스 브라더스</td>\n      <td>1</td>\n    </tr>\n    <tr>\n      <th>551</th>\n      <td>이지노이지</td>\n      <td>1</td>\n    </tr>\n    <tr>\n      <th>552</th>\n      <td>디앤에스알</td>\n      <td>1</td>\n    </tr>\n  </tbody>\n</table>\n<p>553 rows × 2 columns</p>\n</div>"
     },
     "execution_count": 88,
     "metadata": {},
     "output_type": "execute_result"
    }
   ],
   "source": [
    "sorted_pivot_table=pivot_table.sort_values(by='count', ascending=False)\n",
    "sorted_pivot_table.reset_index(inplace=True)\n",
    "sorted_pivot_table"
   ],
   "metadata": {
    "collapsed": false,
    "pycharm": {
     "name": "#%%\n"
    }
   }
  },
  {
   "cell_type": "code",
   "execution_count": 89,
   "outputs": [],
   "source": [
    "import matplotlib.pyplot as plt\n",
    "import seaborn as sns"
   ],
   "metadata": {
    "collapsed": false,
    "pycharm": {
     "name": "#%%\n"
    }
   }
  },
  {
   "cell_type": "code",
   "execution_count": 90,
   "outputs": [
    {
     "name": "stderr",
     "output_type": "stream",
     "text": [
      "c:\\users\\jpc10\\ideaprojects\\untitled\\venv\\lib\\site-packages\\IPython\\core\\pylabtools.py:151: UserWarning: Glyph 47924 (\\N{HANGUL SYLLABLE MU}) missing from current font.\n",
      "  fig.canvas.print_figure(bytes_io, **kw)\n",
      "c:\\users\\jpc10\\ideaprojects\\untitled\\venv\\lib\\site-packages\\IPython\\core\\pylabtools.py:151: UserWarning: Glyph 49888 (\\N{HANGUL SYLLABLE SIN}) missing from current font.\n",
      "  fig.canvas.print_figure(bytes_io, **kw)\n",
      "c:\\users\\jpc10\\ideaprojects\\untitled\\venv\\lib\\site-packages\\IPython\\core\\pylabtools.py:151: UserWarning: Glyph 49324 (\\N{HANGUL SYLLABLE SA}) missing from current font.\n",
      "  fig.canvas.print_figure(bytes_io, **kw)\n",
      "c:\\users\\jpc10\\ideaprojects\\untitled\\venv\\lib\\site-packages\\IPython\\core\\pylabtools.py:151: UserWarning: Glyph 49828 (\\N{HANGUL SYLLABLE SEU}) missing from current font.\n",
      "  fig.canvas.print_figure(bytes_io, **kw)\n",
      "c:\\users\\jpc10\\ideaprojects\\untitled\\venv\\lib\\site-packages\\IPython\\core\\pylabtools.py:151: UserWarning: Glyph 53472 (\\N{HANGUL SYLLABLE TAEN}) missing from current font.\n",
      "  fig.canvas.print_figure(bytes_io, **kw)\n",
      "c:\\users\\jpc10\\ideaprojects\\untitled\\venv\\lib\\site-packages\\IPython\\core\\pylabtools.py:151: UserWarning: Glyph 45796 (\\N{HANGUL SYLLABLE DA}) missing from current font.\n",
      "  fig.canvas.print_figure(bytes_io, **kw)\n",
      "c:\\users\\jpc10\\ideaprojects\\untitled\\venv\\lib\\site-packages\\IPython\\core\\pylabtools.py:151: UserWarning: Glyph 46300 (\\N{HANGUL SYLLABLE DEU}) missing from current font.\n",
      "  fig.canvas.print_figure(bytes_io, **kw)\n",
      "c:\\users\\jpc10\\ideaprojects\\untitled\\venv\\lib\\site-packages\\IPython\\core\\pylabtools.py:151: UserWarning: Glyph 54260 (\\N{HANGUL SYLLABLE POL}) missing from current font.\n",
      "  fig.canvas.print_figure(bytes_io, **kw)\n",
      "c:\\users\\jpc10\\ideaprojects\\untitled\\venv\\lib\\site-packages\\IPython\\core\\pylabtools.py:151: UserWarning: Glyph 47196 (\\N{HANGUL SYLLABLE RO}) missing from current font.\n",
      "  fig.canvas.print_figure(bytes_io, **kw)\n",
      "c:\\users\\jpc10\\ideaprojects\\untitled\\venv\\lib\\site-packages\\IPython\\core\\pylabtools.py:151: UserWarning: Glyph 46980 (\\N{HANGUL SYLLABLE RAL}) missing from current font.\n",
      "  fig.canvas.print_figure(bytes_io, **kw)\n",
      "c:\\users\\jpc10\\ideaprojects\\untitled\\venv\\lib\\site-packages\\IPython\\core\\pylabtools.py:151: UserWarning: Glyph 54532 (\\N{HANGUL SYLLABLE PEU}) missing from current font.\n",
      "  fig.canvas.print_figure(bytes_io, **kw)\n",
      "c:\\users\\jpc10\\ideaprojects\\untitled\\venv\\lib\\site-packages\\IPython\\core\\pylabtools.py:151: UserWarning: Glyph 47116 (\\N{HANGUL SYLLABLE REN}) missing from current font.\n",
      "  fig.canvas.print_figure(bytes_io, **kw)\n",
      "c:\\users\\jpc10\\ideaprojects\\untitled\\venv\\lib\\site-packages\\IPython\\core\\pylabtools.py:151: UserWarning: Glyph 50696 (\\N{HANGUL SYLLABLE YE}) missing from current font.\n",
      "  fig.canvas.print_figure(bytes_io, **kw)\n",
      "c:\\users\\jpc10\\ideaprojects\\untitled\\venv\\lib\\site-packages\\IPython\\core\\pylabtools.py:151: UserWarning: Glyph 51068 (\\N{HANGUL SYLLABLE IL}) missing from current font.\n",
      "  fig.canvas.print_figure(bytes_io, **kw)\n",
      "c:\\users\\jpc10\\ideaprojects\\untitled\\venv\\lib\\site-packages\\IPython\\core\\pylabtools.py:151: UserWarning: Glyph 46356 (\\N{HANGUL SYLLABLE DI}) missing from current font.\n",
      "  fig.canvas.print_figure(bytes_io, **kw)\n",
      "c:\\users\\jpc10\\ideaprojects\\untitled\\venv\\lib\\site-packages\\IPython\\core\\pylabtools.py:151: UserWarning: Glyph 51060 (\\N{HANGUL SYLLABLE I}) missing from current font.\n",
      "  fig.canvas.print_figure(bytes_io, **kw)\n",
      "c:\\users\\jpc10\\ideaprojects\\untitled\\venv\\lib\\site-packages\\IPython\\core\\pylabtools.py:151: UserWarning: Glyph 51592 (\\N{HANGUL SYLLABLE JEU}) missing from current font.\n",
      "  fig.canvas.print_figure(bytes_io, **kw)\n",
      "c:\\users\\jpc10\\ideaprojects\\untitled\\venv\\lib\\site-packages\\IPython\\core\\pylabtools.py:151: UserWarning: Glyph 45348 (\\N{HANGUL SYLLABLE NE}) missing from current font.\n",
      "  fig.canvas.print_figure(bytes_io, **kw)\n",
      "c:\\users\\jpc10\\ideaprojects\\untitled\\venv\\lib\\site-packages\\IPython\\core\\pylabtools.py:151: UserWarning: Glyph 48260 (\\N{HANGUL SYLLABLE BEO}) missing from current font.\n",
      "  fig.canvas.print_figure(bytes_io, **kw)\n",
      "c:\\users\\jpc10\\ideaprojects\\untitled\\venv\\lib\\site-packages\\IPython\\core\\pylabtools.py:151: UserWarning: Glyph 45843 (\\N{HANGUL SYLLABLE DAES}) missing from current font.\n",
      "  fig.canvas.print_figure(bytes_io, **kw)\n",
      "c:\\users\\jpc10\\ideaprojects\\untitled\\venv\\lib\\site-packages\\IPython\\core\\pylabtools.py:151: UserWarning: Glyph 50612 (\\N{HANGUL SYLLABLE EO}) missing from current font.\n",
      "  fig.canvas.print_figure(bytes_io, **kw)\n",
      "c:\\users\\jpc10\\ideaprojects\\untitled\\venv\\lib\\site-packages\\IPython\\core\\pylabtools.py:151: UserWarning: Glyph 48152 (\\N{HANGUL SYLLABLE BAN}) missing from current font.\n",
      "  fig.canvas.print_figure(bytes_io, **kw)\n",
      "c:\\users\\jpc10\\ideaprojects\\untitled\\venv\\lib\\site-packages\\IPython\\core\\pylabtools.py:151: UserWarning: Glyph 47112 (\\N{HANGUL SYLLABLE RE}) missing from current font.\n",
      "  fig.canvas.print_figure(bytes_io, **kw)\n",
      "c:\\users\\jpc10\\ideaprojects\\untitled\\venv\\lib\\site-packages\\IPython\\core\\pylabtools.py:151: UserWarning: Glyph 54596 (\\N{HANGUL SYLLABLE PIL}) missing from current font.\n",
      "  fig.canvas.print_figure(bytes_io, **kw)\n",
      "c:\\users\\jpc10\\ideaprojects\\untitled\\venv\\lib\\site-packages\\IPython\\core\\pylabtools.py:151: UserWarning: Glyph 47336 (\\N{HANGUL SYLLABLE RU}) missing from current font.\n",
      "  fig.canvas.print_figure(bytes_io, **kw)\n",
      "c:\\users\\jpc10\\ideaprojects\\untitled\\venv\\lib\\site-packages\\IPython\\core\\pylabtools.py:151: UserWarning: Glyph 48120 (\\N{HANGUL SYLLABLE MI}) missing from current font.\n",
      "  fig.canvas.print_figure(bytes_io, **kw)\n",
      "c:\\users\\jpc10\\ideaprojects\\untitled\\venv\\lib\\site-packages\\IPython\\core\\pylabtools.py:151: UserWarning: Glyph 53944 (\\N{HANGUL SYLLABLE TEU}) missing from current font.\n",
      "  fig.canvas.print_figure(bytes_io, **kw)\n",
      "c:\\users\\jpc10\\ideaprojects\\untitled\\venv\\lib\\site-packages\\IPython\\core\\pylabtools.py:151: UserWarning: Glyph 53076 (\\N{HANGUL SYLLABLE KO}) missing from current font.\n",
      "  fig.canvas.print_figure(bytes_io, **kw)\n",
      "c:\\users\\jpc10\\ideaprojects\\untitled\\venv\\lib\\site-packages\\IPython\\core\\pylabtools.py:151: UserWarning: Glyph 44536 (\\N{HANGUL SYLLABLE GEU}) missing from current font.\n",
      "  fig.canvas.print_figure(bytes_io, **kw)\n",
      "c:\\users\\jpc10\\ideaprojects\\untitled\\venv\\lib\\site-packages\\IPython\\core\\pylabtools.py:151: UserWarning: Glyph 46972 (\\N{HANGUL SYLLABLE RA}) missing from current font.\n",
      "  fig.canvas.print_figure(bytes_io, **kw)\n",
      "c:\\users\\jpc10\\ideaprojects\\untitled\\venv\\lib\\site-packages\\IPython\\core\\pylabtools.py:151: UserWarning: Glyph 54588 (\\N{HANGUL SYLLABLE PI}) missing from current font.\n",
      "  fig.canvas.print_figure(bytes_io, **kw)\n",
      "c:\\users\\jpc10\\ideaprojects\\untitled\\venv\\lib\\site-packages\\IPython\\core\\pylabtools.py:151: UserWarning: Glyph 47560 (\\N{HANGUL SYLLABLE MA}) missing from current font.\n",
      "  fig.canvas.print_figure(bytes_io, **kw)\n",
      "c:\\users\\jpc10\\ideaprojects\\untitled\\venv\\lib\\site-packages\\IPython\\core\\pylabtools.py:151: UserWarning: Glyph 47476 (\\N{HANGUL SYLLABLE REU}) missing from current font.\n",
      "  fig.canvas.print_figure(bytes_io, **kw)\n",
      "c:\\users\\jpc10\\ideaprojects\\untitled\\venv\\lib\\site-packages\\IPython\\core\\pylabtools.py:151: UserWarning: Glyph 47700 (\\N{HANGUL SYLLABLE ME}) missing from current font.\n",
      "  fig.canvas.print_figure(bytes_io, **kw)\n",
      "c:\\users\\jpc10\\ideaprojects\\untitled\\venv\\lib\\site-packages\\IPython\\core\\pylabtools.py:151: UserWarning: Glyph 53356 (\\N{HANGUL SYLLABLE KEU}) missing from current font.\n",
      "  fig.canvas.print_figure(bytes_io, **kw)\n",
      "c:\\users\\jpc10\\ideaprojects\\untitled\\venv\\lib\\site-packages\\IPython\\core\\pylabtools.py:151: UserWarning: Glyph 50752 (\\N{HANGUL SYLLABLE WA}) missing from current font.\n",
      "  fig.canvas.print_figure(bytes_io, **kw)\n",
      "c:\\users\\jpc10\\ideaprojects\\untitled\\venv\\lib\\site-packages\\IPython\\core\\pylabtools.py:151: UserWarning: Glyph 47551 (\\N{HANGUL SYLLABLE RIS}) missing from current font.\n",
      "  fig.canvas.print_figure(bytes_io, **kw)\n",
      "c:\\users\\jpc10\\ideaprojects\\untitled\\venv\\lib\\site-packages\\IPython\\core\\pylabtools.py:151: UserWarning: Glyph 51596 (\\N{HANGUL SYLLABLE JEUN}) missing from current font.\n",
      "  fig.canvas.print_figure(bytes_io, **kw)\n",
      "c:\\users\\jpc10\\ideaprojects\\untitled\\venv\\lib\\site-packages\\IPython\\core\\pylabtools.py:151: UserWarning: Glyph 50500 (\\N{HANGUL SYLLABLE A}) missing from current font.\n",
      "  fig.canvas.print_figure(bytes_io, **kw)\n",
      "c:\\users\\jpc10\\ideaprojects\\untitled\\venv\\lib\\site-packages\\IPython\\core\\pylabtools.py:151: UserWarning: Glyph 50883 (\\N{HANGUL SYLLABLE US}) missing from current font.\n",
      "  fig.canvas.print_figure(bytes_io, **kw)\n",
      "c:\\users\\jpc10\\ideaprojects\\untitled\\venv\\lib\\site-packages\\IPython\\core\\pylabtools.py:151: UserWarning: Glyph 46377 (\\N{HANGUL SYLLABLE DING}) missing from current font.\n",
      "  fig.canvas.print_figure(bytes_io, **kw)\n",
      "c:\\users\\jpc10\\ideaprojects\\untitled\\venv\\lib\\site-packages\\IPython\\core\\pylabtools.py:151: UserWarning: Glyph 47532 (\\N{HANGUL SYLLABLE RI}) missing from current font.\n",
      "  fig.canvas.print_figure(bytes_io, **kw)\n",
      "c:\\users\\jpc10\\ideaprojects\\untitled\\venv\\lib\\site-packages\\IPython\\core\\pylabtools.py:151: UserWarning: Glyph 52964 (\\N{HANGUL SYLLABLE KEO}) missing from current font.\n",
      "  fig.canvas.print_figure(bytes_io, **kw)\n",
      "c:\\users\\jpc10\\ideaprojects\\untitled\\venv\\lib\\site-packages\\IPython\\core\\pylabtools.py:151: UserWarning: Glyph 45227 (\\N{HANGUL SYLLABLE NAS}) missing from current font.\n",
      "  fig.canvas.print_figure(bytes_io, **kw)\n",
      "c:\\users\\jpc10\\ideaprojects\\untitled\\venv\\lib\\site-packages\\IPython\\core\\pylabtools.py:151: UserWarning: Glyph 54140 (\\N{HANGUL SYLLABLE PEO}) missing from current font.\n",
      "  fig.canvas.print_figure(bytes_io, **kw)\n",
      "c:\\users\\jpc10\\ideaprojects\\untitled\\venv\\lib\\site-packages\\IPython\\core\\pylabtools.py:151: UserWarning: Glyph 51648 (\\N{HANGUL SYLLABLE JI}) missing from current font.\n",
      "  fig.canvas.print_figure(bytes_io, **kw)\n",
      "c:\\users\\jpc10\\ideaprojects\\untitled\\venv\\lib\\site-packages\\IPython\\core\\pylabtools.py:151: UserWarning: Glyph 53664 (\\N{HANGUL SYLLABLE TO}) missing from current font.\n",
      "  fig.canvas.print_figure(bytes_io, **kw)\n",
      "c:\\users\\jpc10\\ideaprojects\\untitled\\venv\\lib\\site-packages\\IPython\\core\\pylabtools.py:151: UserWarning: Glyph 53916 (\\N{HANGUL SYLLABLE TYU}) missing from current font.\n",
      "  fig.canvas.print_figure(bytes_io, **kw)\n",
      "c:\\users\\jpc10\\ideaprojects\\untitled\\venv\\lib\\site-packages\\IPython\\core\\pylabtools.py:151: UserWarning: Glyph 50724 (\\N{HANGUL SYLLABLE O}) missing from current font.\n",
      "  fig.canvas.print_figure(bytes_io, **kw)\n",
      "c:\\users\\jpc10\\ideaprojects\\untitled\\venv\\lib\\site-packages\\IPython\\core\\pylabtools.py:151: UserWarning: Glyph 52972 (\\N{HANGUL SYLLABLE KEOL}) missing from current font.\n",
      "  fig.canvas.print_figure(bytes_io, **kw)\n",
      "c:\\users\\jpc10\\ideaprojects\\untitled\\venv\\lib\\site-packages\\IPython\\core\\pylabtools.py:151: UserWarning: Glyph 50640 (\\N{HANGUL SYLLABLE E}) missing from current font.\n",
      "  fig.canvas.print_figure(bytes_io, **kw)\n",
      "c:\\users\\jpc10\\ideaprojects\\untitled\\venv\\lib\\site-packages\\IPython\\core\\pylabtools.py:151: UserWarning: Glyph 46272 (\\N{HANGUL SYLLABLE DYU}) missing from current font.\n",
      "  fig.canvas.print_figure(bytes_io, **kw)\n",
      "c:\\users\\jpc10\\ideaprojects\\untitled\\venv\\lib\\site-packages\\IPython\\core\\pylabtools.py:151: UserWarning: Glyph 52992 (\\N{HANGUL SYLLABLE KE}) missing from current font.\n",
      "  fig.canvas.print_figure(bytes_io, **kw)\n",
      "c:\\users\\jpc10\\ideaprojects\\untitled\\venv\\lib\\site-packages\\IPython\\core\\pylabtools.py:151: UserWarning: Glyph 49496 (\\N{HANGUL SYLLABLE SYEON}) missing from current font.\n",
      "  fig.canvas.print_figure(bytes_io, **kw)\n",
      "c:\\users\\jpc10\\ideaprojects\\untitled\\venv\\lib\\site-packages\\IPython\\core\\pylabtools.py:151: UserWarning: Glyph 54028 (\\N{HANGUL SYLLABLE PA}) missing from current font.\n",
      "  fig.canvas.print_figure(bytes_io, **kw)\n",
      "c:\\users\\jpc10\\ideaprojects\\untitled\\venv\\lib\\site-packages\\IPython\\core\\pylabtools.py:151: UserWarning: Glyph 47676 (\\N{HANGUL SYLLABLE MEON}) missing from current font.\n",
      "  fig.canvas.print_figure(bytes_io, **kw)\n",
      "c:\\users\\jpc10\\ideaprojects\\untitled\\venv\\lib\\site-packages\\IPython\\core\\pylabtools.py:151: UserWarning: Glyph 53580 (\\N{HANGUL SYLLABLE TE}) missing from current font.\n",
      "  fig.canvas.print_figure(bytes_io, **kw)\n",
      "c:\\users\\jpc10\\ideaprojects\\untitled\\venv\\lib\\site-packages\\IPython\\core\\pylabtools.py:151: UserWarning: Glyph 47540 (\\N{HANGUL SYLLABLE RIL}) missing from current font.\n",
      "  fig.canvas.print_figure(bytes_io, **kw)\n",
      "c:\\users\\jpc10\\ideaprojects\\untitled\\venv\\lib\\site-packages\\IPython\\core\\pylabtools.py:151: UserWarning: Glyph 50728 (\\N{HANGUL SYLLABLE ON}) missing from current font.\n",
      "  fig.canvas.print_figure(bytes_io, **kw)\n",
      "c:\\users\\jpc10\\ideaprojects\\untitled\\venv\\lib\\site-packages\\IPython\\core\\pylabtools.py:151: UserWarning: Glyph 51228 (\\N{HANGUL SYLLABLE JE}) missing from current font.\n",
      "  fig.canvas.print_figure(bytes_io, **kw)\n",
      "c:\\users\\jpc10\\ideaprojects\\untitled\\venv\\lib\\site-packages\\IPython\\core\\pylabtools.py:151: UserWarning: Glyph 47691 (\\N{HANGUL SYLLABLE MEOS}) missing from current font.\n",
      "  fig.canvas.print_figure(bytes_io, **kw)\n",
      "c:\\users\\jpc10\\ideaprojects\\untitled\\venv\\lib\\site-packages\\IPython\\core\\pylabtools.py:151: UserWarning: Glyph 53216 (\\N{HANGUL SYLLABLE KU}) missing from current font.\n",
      "  fig.canvas.print_figure(bytes_io, **kw)\n",
      "c:\\users\\jpc10\\ideaprojects\\untitled\\venv\\lib\\site-packages\\IPython\\core\\pylabtools.py:151: UserWarning: Glyph 47084 (\\N{HANGUL SYLLABLE REO}) missing from current font.\n",
      "  fig.canvas.print_figure(bytes_io, **kw)\n",
      "c:\\users\\jpc10\\ideaprojects\\untitled\\venv\\lib\\site-packages\\IPython\\core\\pylabtools.py:151: UserWarning: Glyph 48652 (\\N{HANGUL SYLLABLE BEU}) missing from current font.\n",
      "  fig.canvas.print_figure(bytes_io, **kw)\n",
      "c:\\users\\jpc10\\ideaprojects\\untitled\\venv\\lib\\site-packages\\IPython\\core\\pylabtools.py:151: UserWarning: Glyph 47592 (\\N{HANGUL SYLLABLE MAEN}) missing from current font.\n",
      "  fig.canvas.print_figure(bytes_io, **kw)\n",
      "c:\\users\\jpc10\\ideaprojects\\untitled\\venv\\lib\\site-packages\\IPython\\core\\pylabtools.py:151: UserWarning: Glyph 54001 (\\N{HANGUL SYLLABLE TIG}) missing from current font.\n",
      "  fig.canvas.print_figure(bytes_io, **kw)\n",
      "c:\\users\\jpc10\\ideaprojects\\untitled\\venv\\lib\\site-packages\\IPython\\core\\pylabtools.py:151: UserWarning: Glyph 50868 (\\N{HANGUL SYLLABLE UN}) missing from current font.\n",
      "  fig.canvas.print_figure(bytes_io, **kw)\n",
      "c:\\users\\jpc10\\ideaprojects\\untitled\\venv\\lib\\site-packages\\IPython\\core\\pylabtools.py:151: UserWarning: Glyph 47000 (\\N{HANGUL SYLLABLE RAE}) missing from current font.\n",
      "  fig.canvas.print_figure(bytes_io, **kw)\n",
      "c:\\users\\jpc10\\ideaprojects\\untitled\\venv\\lib\\site-packages\\IPython\\core\\pylabtools.py:151: UserWarning: Glyph 48660 (\\N{HANGUL SYLLABLE BEUL}) missing from current font.\n",
      "  fig.canvas.print_figure(bytes_io, **kw)\n",
      "c:\\users\\jpc10\\ideaprojects\\untitled\\venv\\lib\\site-packages\\IPython\\core\\pylabtools.py:151: UserWarning: Glyph 50864 (\\N{HANGUL SYLLABLE U}) missing from current font.\n",
      "  fig.canvas.print_figure(bytes_io, **kw)\n",
      "c:\\users\\jpc10\\ideaprojects\\untitled\\venv\\lib\\site-packages\\IPython\\core\\pylabtools.py:151: UserWarning: Glyph 54607 (\\N{HANGUL SYLLABLE PIS}) missing from current font.\n",
      "  fig.canvas.print_figure(bytes_io, **kw)\n",
      "c:\\users\\jpc10\\ideaprojects\\untitled\\venv\\lib\\site-packages\\IPython\\core\\pylabtools.py:151: UserWarning: Glyph 45208 (\\N{HANGUL SYLLABLE NA}) missing from current font.\n",
      "  fig.canvas.print_figure(bytes_io, **kw)\n",
      "c:\\users\\jpc10\\ideaprojects\\untitled\\venv\\lib\\site-packages\\IPython\\core\\pylabtools.py:151: UserWarning: Glyph 44256 (\\N{HANGUL SYLLABLE GO}) missing from current font.\n",
      "  fig.canvas.print_figure(bytes_io, **kw)\n",
      "c:\\users\\jpc10\\ideaprojects\\untitled\\venv\\lib\\site-packages\\IPython\\core\\pylabtools.py:151: UserWarning: Glyph 53364 (\\N{HANGUL SYLLABLE KEUL}) missing from current font.\n",
      "  fig.canvas.print_figure(bytes_io, **kw)\n",
      "c:\\users\\jpc10\\ideaprojects\\untitled\\venv\\lib\\site-packages\\IPython\\core\\pylabtools.py:151: UserWarning: Glyph 47101 (\\N{HANGUL SYLLABLE REOB}) missing from current font.\n",
      "  fig.canvas.print_figure(bytes_io, **kw)\n",
      "c:\\users\\jpc10\\ideaprojects\\untitled\\venv\\lib\\site-packages\\IPython\\core\\pylabtools.py:151: UserWarning: Glyph 49688 (\\N{HANGUL SYLLABLE SU}) missing from current font.\n",
      "  fig.canvas.print_figure(bytes_io, **kw)\n",
      "c:\\users\\jpc10\\ideaprojects\\untitled\\venv\\lib\\site-packages\\IPython\\core\\pylabtools.py:151: UserWarning: Glyph 49548 (\\N{HANGUL SYLLABLE SO}) missing from current font.\n",
      "  fig.canvas.print_figure(bytes_io, **kw)\n",
      "c:\\users\\jpc10\\ideaprojects\\untitled\\venv\\lib\\site-packages\\IPython\\core\\pylabtools.py:151: UserWarning: Glyph 44860 (\\N{HANGUL SYLLABLE GGOM}) missing from current font.\n",
      "  fig.canvas.print_figure(bytes_io, **kw)\n",
      "c:\\users\\jpc10\\ideaprojects\\untitled\\venv\\lib\\site-packages\\IPython\\core\\pylabtools.py:151: UserWarning: Glyph 45544 (\\N{HANGUL SYLLABLE NYO}) missing from current font.\n",
      "  fig.canvas.print_figure(bytes_io, **kw)\n",
      "c:\\users\\jpc10\\ideaprojects\\untitled\\venv\\lib\\site-packages\\IPython\\core\\pylabtools.py:151: UserWarning: Glyph 44415 (\\N{HANGUL SYLLABLE GUS}) missing from current font.\n",
      "  fig.canvas.print_figure(bytes_io, **kw)\n",
      "c:\\users\\jpc10\\ideaprojects\\untitled\\venv\\lib\\site-packages\\IPython\\core\\pylabtools.py:151: UserWarning: Glyph 50893 (\\N{HANGUL SYLLABLE WEOG}) missing from current font.\n",
      "  fig.canvas.print_figure(bytes_io, **kw)\n",
      "c:\\users\\jpc10\\ideaprojects\\untitled\\venv\\lib\\site-packages\\IPython\\core\\pylabtools.py:151: UserWarning: Glyph 48307 (\\N{HANGUL SYLLABLE BES}) missing from current font.\n",
      "  fig.canvas.print_figure(bytes_io, **kw)\n",
      "c:\\users\\jpc10\\ideaprojects\\untitled\\venv\\lib\\site-packages\\IPython\\core\\pylabtools.py:151: UserWarning: Glyph 45236 (\\N{HANGUL SYLLABLE NAE}) missing from current font.\n",
      "  fig.canvas.print_figure(bytes_io, **kw)\n",
      "c:\\users\\jpc10\\ideaprojects\\untitled\\venv\\lib\\site-packages\\IPython\\core\\pylabtools.py:151: UserWarning: Glyph 49492 (\\N{HANGUL SYLLABLE SYEO}) missing from current font.\n",
      "  fig.canvas.print_figure(bytes_io, **kw)\n",
      "c:\\users\\jpc10\\ideaprojects\\untitled\\venv\\lib\\site-packages\\IPython\\core\\pylabtools.py:151: UserWarning: Glyph 45328 (\\N{HANGUL SYLLABLE NEOL}) missing from current font.\n",
      "  fig.canvas.print_figure(bytes_io, **kw)\n",
      "c:\\users\\jpc10\\ideaprojects\\untitled\\venv\\lib\\site-packages\\IPython\\core\\pylabtools.py:151: UserWarning: Glyph 54589 (\\N{HANGUL SYLLABLE PIG}) missing from current font.\n",
      "  fig.canvas.print_figure(bytes_io, **kw)\n",
      "c:\\users\\jpc10\\ideaprojects\\untitled\\venv\\lib\\site-packages\\IPython\\core\\pylabtools.py:151: UserWarning: Glyph 53412 (\\N{HANGUL SYLLABLE KI}) missing from current font.\n",
      "  fig.canvas.print_figure(bytes_io, **kw)\n",
      "c:\\users\\jpc10\\ideaprojects\\untitled\\venv\\lib\\site-packages\\IPython\\core\\pylabtools.py:151: UserWarning: Glyph 48036 (\\N{HANGUL SYLLABLE MYU}) missing from current font.\n",
      "  fig.canvas.print_figure(bytes_io, **kw)\n",
      "c:\\users\\jpc10\\ideaprojects\\untitled\\venv\\lib\\site-packages\\IPython\\core\\pylabtools.py:151: UserWarning: Glyph 49464 (\\N{HANGUL SYLLABLE SE}) missing from current font.\n",
      "  fig.canvas.print_figure(bytes_io, **kw)\n",
      "c:\\users\\jpc10\\ideaprojects\\untitled\\venv\\lib\\site-packages\\IPython\\core\\pylabtools.py:151: UserWarning: Glyph 53552 (\\N{HANGUL SYLLABLE TEO}) missing from current font.\n",
      "  fig.canvas.print_figure(bytes_io, **kw)\n",
      "c:\\users\\jpc10\\ideaprojects\\untitled\\venv\\lib\\site-packages\\IPython\\core\\pylabtools.py:151: UserWarning: Glyph 53597 (\\N{HANGUL SYLLABLE TEB}) missing from current font.\n",
      "  fig.canvas.print_figure(bytes_io, **kw)\n",
      "c:\\users\\jpc10\\ideaprojects\\untitled\\venv\\lib\\site-packages\\IPython\\core\\pylabtools.py:151: UserWarning: Glyph 50656 (\\N{HANGUL SYLLABLE EM}) missing from current font.\n",
      "  fig.canvas.print_figure(bytes_io, **kw)\n",
      "c:\\users\\jpc10\\ideaprojects\\untitled\\venv\\lib\\site-packages\\IPython\\core\\pylabtools.py:151: UserWarning: Glyph 50648 (\\N{HANGUL SYLLABLE EL}) missing from current font.\n",
      "  fig.canvas.print_figure(bytes_io, **kw)\n",
      "c:\\users\\jpc10\\ideaprojects\\untitled\\venv\\lib\\site-packages\\IPython\\core\\pylabtools.py:151: UserWarning: Glyph 50472 (\\N{HANGUL SYLLABLE SSI}) missing from current font.\n",
      "  fig.canvas.print_figure(bytes_io, **kw)\n",
      "c:\\users\\jpc10\\ideaprojects\\untitled\\venv\\lib\\site-packages\\IPython\\core\\pylabtools.py:151: UserWarning: Glyph 48176 (\\N{HANGUL SYLLABLE BAE}) missing from current font.\n",
      "  fig.canvas.print_figure(bytes_io, **kw)\n",
      "c:\\users\\jpc10\\ideaprojects\\untitled\\venv\\lib\\site-packages\\IPython\\core\\pylabtools.py:151: UserWarning: Glyph 46524 (\\N{HANGUL SYLLABLE DDE}) missing from current font.\n",
      "  fig.canvas.print_figure(bytes_io, **kw)\n",
      "c:\\users\\jpc10\\ideaprojects\\untitled\\venv\\lib\\site-packages\\IPython\\core\\pylabtools.py:151: UserWarning: Glyph 47784 (\\N{HANGUL SYLLABLE MO}) missing from current font.\n",
      "  fig.canvas.print_figure(bytes_io, **kw)\n",
      "c:\\users\\jpc10\\ideaprojects\\untitled\\venv\\lib\\site-packages\\IPython\\core\\pylabtools.py:151: UserWarning: Glyph 48708 (\\N{HANGUL SYLLABLE BI}) missing from current font.\n",
      "  fig.canvas.print_figure(bytes_io, **kw)\n",
      "c:\\users\\jpc10\\ideaprojects\\untitled\\venv\\lib\\site-packages\\IPython\\core\\pylabtools.py:151: UserWarning: Glyph 48148 (\\N{HANGUL SYLLABLE BA}) missing from current font.\n",
      "  fig.canvas.print_figure(bytes_io, **kw)\n",
      "c:\\users\\jpc10\\ideaprojects\\untitled\\venv\\lib\\site-packages\\IPython\\core\\pylabtools.py:151: UserWarning: Glyph 44844 (\\N{HANGUL SYLLABLE GGO}) missing from current font.\n",
      "  fig.canvas.print_figure(bytes_io, **kw)\n",
      "c:\\users\\jpc10\\ideaprojects\\untitled\\venv\\lib\\site-packages\\IPython\\core\\pylabtools.py:151: UserWarning: Glyph 51064 (\\N{HANGUL SYLLABLE IN}) missing from current font.\n",
      "  fig.canvas.print_figure(bytes_io, **kw)\n",
      "c:\\users\\jpc10\\ideaprojects\\untitled\\venv\\lib\\site-packages\\IPython\\core\\pylabtools.py:151: UserWarning: Glyph 53596 (\\N{HANGUL SYLLABLE TEM}) missing from current font.\n",
      "  fig.canvas.print_figure(bytes_io, **kw)\n",
      "c:\\users\\jpc10\\ideaprojects\\untitled\\venv\\lib\\site-packages\\IPython\\core\\pylabtools.py:151: UserWarning: Glyph 54252 (\\N{HANGUL SYLLABLE PO}) missing from current font.\n",
      "  fig.canvas.print_figure(bytes_io, **kw)\n",
      "c:\\users\\jpc10\\ideaprojects\\untitled\\venv\\lib\\site-packages\\IPython\\core\\pylabtools.py:151: UserWarning: Glyph 54000 (\\N{HANGUL SYLLABLE TI}) missing from current font.\n",
      "  fig.canvas.print_figure(bytes_io, **kw)\n",
      "c:\\users\\jpc10\\ideaprojects\\untitled\\venv\\lib\\site-packages\\IPython\\core\\pylabtools.py:151: UserWarning: Glyph 46496 (\\N{HANGUL SYLLABLE DDEO}) missing from current font.\n",
      "  fig.canvas.print_figure(bytes_io, **kw)\n",
      "c:\\users\\jpc10\\ideaprojects\\untitled\\venv\\lib\\site-packages\\IPython\\core\\pylabtools.py:151: UserWarning: Glyph 50976 (\\N{HANGUL SYLLABLE YU}) missing from current font.\n",
      "  fig.canvas.print_figure(bytes_io, **kw)\n",
      "c:\\users\\jpc10\\ideaprojects\\untitled\\venv\\lib\\site-packages\\IPython\\core\\pylabtools.py:151: UserWarning: Glyph 50644 (\\N{HANGUL SYLLABLE EN}) missing from current font.\n",
      "  fig.canvas.print_figure(bytes_io, **kw)\n",
      "c:\\users\\jpc10\\ideaprojects\\untitled\\venv\\lib\\site-packages\\IPython\\core\\pylabtools.py:151: UserWarning: Glyph 51608 (\\N{HANGUL SYLLABLE JEUM}) missing from current font.\n",
      "  fig.canvas.print_figure(bytes_io, **kw)\n",
      "c:\\users\\jpc10\\ideaprojects\\untitled\\venv\\lib\\site-packages\\IPython\\core\\pylabtools.py:151: UserWarning: Glyph 45768 (\\N{HANGUL SYLLABLE NI}) missing from current font.\n",
      "  fig.canvas.print_figure(bytes_io, **kw)\n",
      "c:\\users\\jpc10\\ideaprojects\\untitled\\venv\\lib\\site-packages\\IPython\\core\\pylabtools.py:151: UserWarning: Glyph 54268 (\\N{HANGUL SYLLABLE POM}) missing from current font.\n",
      "  fig.canvas.print_figure(bytes_io, **kw)\n",
      "c:\\users\\jpc10\\ideaprojects\\untitled\\venv\\lib\\site-packages\\IPython\\core\\pylabtools.py:151: UserWarning: Glyph 54616 (\\N{HANGUL SYLLABLE HA}) missing from current font.\n",
      "  fig.canvas.print_figure(bytes_io, **kw)\n",
      "c:\\users\\jpc10\\ideaprojects\\untitled\\venv\\lib\\site-packages\\IPython\\core\\pylabtools.py:151: UserWarning: Glyph 45769 (\\N{HANGUL SYLLABLE NIG}) missing from current font.\n",
      "  fig.canvas.print_figure(bytes_io, **kw)\n",
      "c:\\users\\jpc10\\ideaprojects\\untitled\\venv\\lib\\site-packages\\IPython\\core\\pylabtools.py:151: UserWarning: Glyph 50532 (\\N{HANGUL SYLLABLE AEN}) missing from current font.\n",
      "  fig.canvas.print_figure(bytes_io, **kw)\n",
      "c:\\users\\jpc10\\ideaprojects\\untitled\\venv\\lib\\site-packages\\IPython\\core\\pylabtools.py:151: UserWarning: Glyph 53084 (\\N{HANGUL SYLLABLE KOL}) missing from current font.\n",
      "  fig.canvas.print_figure(bytes_io, **kw)\n",
      "c:\\users\\jpc10\\ideaprojects\\untitled\\venv\\lib\\site-packages\\IPython\\core\\pylabtools.py:151: UserWarning: Glyph 53440 (\\N{HANGUL SYLLABLE TA}) missing from current font.\n",
      "  fig.canvas.print_figure(bytes_io, **kw)\n",
      "c:\\users\\jpc10\\ideaprojects\\untitled\\venv\\lib\\site-packages\\IPython\\core\\pylabtools.py:151: UserWarning: Glyph 51077 (\\N{HANGUL SYLLABLE IB}) missing from current font.\n",
      "  fig.canvas.print_figure(bytes_io, **kw)\n",
      "c:\\users\\jpc10\\ideaprojects\\untitled\\venv\\lib\\site-packages\\IPython\\core\\pylabtools.py:151: UserWarning: Glyph 49832 (\\N{HANGUL SYLLABLE SEUN}) missing from current font.\n",
      "  fig.canvas.print_figure(bytes_io, **kw)\n",
      "c:\\users\\jpc10\\ideaprojects\\untitled\\venv\\lib\\site-packages\\IPython\\core\\pylabtools.py:151: UserWarning: Glyph 45432 (\\N{HANGUL SYLLABLE NO}) missing from current font.\n",
      "  fig.canvas.print_figure(bytes_io, **kw)\n",
      "c:\\users\\jpc10\\ideaprojects\\untitled\\venv\\lib\\site-packages\\IPython\\core\\pylabtools.py:151: UserWarning: Glyph 47588 (\\N{HANGUL SYLLABLE MAE}) missing from current font.\n",
      "  fig.canvas.print_figure(bytes_io, **kw)\n",
      "c:\\users\\jpc10\\ideaprojects\\untitled\\venv\\lib\\site-packages\\IPython\\core\\pylabtools.py:151: UserWarning: Glyph 45684 (\\N{HANGUL SYLLABLE NYU}) missing from current font.\n",
      "  fig.canvas.print_figure(bytes_io, **kw)\n",
      "c:\\users\\jpc10\\ideaprojects\\untitled\\venv\\lib\\site-packages\\IPython\\core\\pylabtools.py:151: UserWarning: Glyph 50620 (\\N{HANGUL SYLLABLE EOL}) missing from current font.\n",
      "  fig.canvas.print_figure(bytes_io, **kw)\n",
      "c:\\users\\jpc10\\ideaprojects\\untitled\\venv\\lib\\site-packages\\IPython\\core\\pylabtools.py:151: UserWarning: Glyph 54056 (\\N{HANGUL SYLLABLE PAE}) missing from current font.\n",
      "  fig.canvas.print_figure(bytes_io, **kw)\n",
      "c:\\users\\jpc10\\ideaprojects\\untitled\\venv\\lib\\site-packages\\IPython\\core\\pylabtools.py:151: UserWarning: Glyph 52852 (\\N{HANGUL SYLLABLE KA}) missing from current font.\n",
      "  fig.canvas.print_figure(bytes_io, **kw)\n",
      "c:\\users\\jpc10\\ideaprojects\\untitled\\venv\\lib\\site-packages\\IPython\\core\\pylabtools.py:151: UserWarning: Glyph 51312 (\\N{HANGUL SYLLABLE JO}) missing from current font.\n",
      "  fig.canvas.print_figure(bytes_io, **kw)\n",
      "c:\\users\\jpc10\\ideaprojects\\untitled\\venv\\lib\\site-packages\\IPython\\core\\pylabtools.py:151: UserWarning: Glyph 45908 (\\N{HANGUL SYLLABLE DEO}) missing from current font.\n",
      "  fig.canvas.print_figure(bytes_io, **kw)\n",
      "c:\\users\\jpc10\\ideaprojects\\untitled\\venv\\lib\\site-packages\\IPython\\core\\pylabtools.py:151: UserWarning: Glyph 51229 (\\N{HANGUL SYLLABLE JEG}) missing from current font.\n",
      "  fig.canvas.print_figure(bytes_io, **kw)\n",
      "c:\\users\\jpc10\\ideaprojects\\untitled\\venv\\lib\\site-packages\\IPython\\core\\pylabtools.py:151: UserWarning: Glyph 54168 (\\N{HANGUL SYLLABLE PE}) missing from current font.\n",
      "  fig.canvas.print_figure(bytes_io, **kw)\n",
      "c:\\users\\jpc10\\ideaprojects\\untitled\\venv\\lib\\site-packages\\IPython\\core\\pylabtools.py:151: UserWarning: Glyph 54540 (\\N{HANGUL SYLLABLE PEUL}) missing from current font.\n",
      "  fig.canvas.print_figure(bytes_io, **kw)\n",
      "c:\\users\\jpc10\\ideaprojects\\untitled\\venv\\lib\\site-packages\\IPython\\core\\pylabtools.py:151: UserWarning: Glyph 53220 (\\N{HANGUL SYLLABLE KUN}) missing from current font.\n",
      "  fig.canvas.print_figure(bytes_io, **kw)\n",
      "c:\\users\\jpc10\\ideaprojects\\untitled\\venv\\lib\\site-packages\\IPython\\core\\pylabtools.py:151: UserWarning: Glyph 49884 (\\N{HANGUL SYLLABLE SI}) missing from current font.\n",
      "  fig.canvas.print_figure(bytes_io, **kw)\n",
      "c:\\users\\jpc10\\ideaprojects\\untitled\\venv\\lib\\site-packages\\IPython\\core\\pylabtools.py:151: UserWarning: Glyph 49836 (\\N{HANGUL SYLLABLE SEUL}) missing from current font.\n",
      "  fig.canvas.print_figure(bytes_io, **kw)\n",
      "c:\\users\\jpc10\\ideaprojects\\untitled\\venv\\lib\\site-packages\\IPython\\core\\pylabtools.py:151: UserWarning: Glyph 50528 (\\N{HANGUL SYLLABLE AE}) missing from current font.\n",
      "  fig.canvas.print_figure(bytes_io, **kw)\n",
      "c:\\users\\jpc10\\ideaprojects\\untitled\\venv\\lib\\site-packages\\IPython\\core\\pylabtools.py:151: UserWarning: Glyph 51333 (\\N{HANGUL SYLLABLE JONG}) missing from current font.\n",
      "  fig.canvas.print_figure(bytes_io, **kw)\n",
      "c:\\users\\jpc10\\ideaprojects\\untitled\\venv\\lib\\site-packages\\IPython\\core\\pylabtools.py:151: UserWarning: Glyph 54036 (\\N{HANGUL SYLLABLE PAL}) missing from current font.\n",
      "  fig.canvas.print_figure(bytes_io, **kw)\n",
      "c:\\users\\jpc10\\ideaprojects\\untitled\\venv\\lib\\site-packages\\IPython\\core\\pylabtools.py:151: UserWarning: Glyph 47131 (\\N{HANGUL SYLLABLE RES}) missing from current font.\n",
      "  fig.canvas.print_figure(bytes_io, **kw)\n",
      "c:\\users\\jpc10\\ideaprojects\\untitled\\venv\\lib\\site-packages\\IPython\\core\\pylabtools.py:151: UserWarning: Glyph 49380 (\\N{HANGUL SYLLABLE SYA}) missing from current font.\n",
      "  fig.canvas.print_figure(bytes_io, **kw)\n",
      "c:\\users\\jpc10\\ideaprojects\\untitled\\venv\\lib\\site-packages\\IPython\\core\\pylabtools.py:151: UserWarning: Glyph 50920 (\\N{HANGUL SYLLABLE WE}) missing from current font.\n",
      "  fig.canvas.print_figure(bytes_io, **kw)\n",
      "c:\\users\\jpc10\\ideaprojects\\untitled\\venv\\lib\\site-packages\\IPython\\core\\pylabtools.py:151: UserWarning: Glyph 47704 (\\N{HANGUL SYLLABLE MEN}) missing from current font.\n",
      "  fig.canvas.print_figure(bytes_io, **kw)\n",
      "c:\\users\\jpc10\\ideaprojects\\untitled\\venv\\lib\\site-packages\\IPython\\core\\pylabtools.py:151: UserWarning: Glyph 52888 (\\N{HANGUL SYLLABLE KAEL}) missing from current font.\n",
      "  fig.canvas.print_figure(bytes_io, **kw)\n",
      "c:\\users\\jpc10\\ideaprojects\\untitled\\venv\\lib\\site-packages\\IPython\\core\\pylabtools.py:151: UserWarning: Glyph 48712 (\\N{HANGUL SYLLABLE BIN}) missing from current font.\n",
      "  fig.canvas.print_figure(bytes_io, **kw)\n",
      "c:\\users\\jpc10\\ideaprojects\\untitled\\venv\\lib\\site-packages\\IPython\\core\\pylabtools.py:151: UserWarning: Glyph 51652 (\\N{HANGUL SYLLABLE JIN}) missing from current font.\n",
      "  fig.canvas.print_figure(bytes_io, **kw)\n",
      "c:\\users\\jpc10\\ideaprojects\\untitled\\venv\\lib\\site-packages\\IPython\\core\\pylabtools.py:151: UserWarning: Glyph 44172 (\\N{HANGUL SYLLABLE GE}) missing from current font.\n",
      "  fig.canvas.print_figure(bytes_io, **kw)\n",
      "c:\\users\\jpc10\\ideaprojects\\untitled\\venv\\lib\\site-packages\\IPython\\core\\pylabtools.py:151: UserWarning: Glyph 48372 (\\N{HANGUL SYLLABLE BO}) missing from current font.\n",
      "  fig.canvas.print_figure(bytes_io, **kw)\n",
      "c:\\users\\jpc10\\ideaprojects\\untitled\\venv\\lib\\site-packages\\IPython\\core\\pylabtools.py:151: UserWarning: Glyph 52768 (\\N{HANGUL SYLLABLE CEU}) missing from current font.\n",
      "  fig.canvas.print_figure(bytes_io, **kw)\n",
      "c:\\users\\jpc10\\ideaprojects\\untitled\\venv\\lib\\site-packages\\IPython\\core\\pylabtools.py:151: UserWarning: Glyph 50628 (\\N{HANGUL SYLLABLE EOM}) missing from current font.\n",
      "  fig.canvas.print_figure(bytes_io, **kw)\n",
      "c:\\users\\jpc10\\ideaprojects\\untitled\\venv\\lib\\site-packages\\IPython\\core\\pylabtools.py:151: UserWarning: Glyph 50508 (\\N{HANGUL SYLLABLE AL}) missing from current font.\n",
      "  fig.canvas.print_figure(bytes_io, **kw)\n",
      "c:\\users\\jpc10\\ideaprojects\\untitled\\venv\\lib\\site-packages\\IPython\\core\\pylabtools.py:151: UserWarning: Glyph 47217 (\\N{HANGUL SYLLABLE RONG}) missing from current font.\n",
      "  fig.canvas.print_figure(bytes_io, **kw)\n",
      "c:\\users\\jpc10\\ideaprojects\\untitled\\venv\\lib\\site-packages\\IPython\\core\\pylabtools.py:151: UserWarning: Glyph 48292 (\\N{HANGUL SYLLABLE BEN}) missing from current font.\n",
      "  fig.canvas.print_figure(bytes_io, **kw)\n",
      "c:\\users\\jpc10\\ideaprojects\\untitled\\venv\\lib\\site-packages\\IPython\\core\\pylabtools.py:151: UserWarning: Glyph 55195 (\\N{HANGUL SYLLABLE HIS}) missing from current font.\n",
      "  fig.canvas.print_figure(bytes_io, **kw)\n",
      "c:\\users\\jpc10\\ideaprojects\\untitled\\venv\\lib\\site-packages\\IPython\\core\\pylabtools.py:151: UserWarning: Glyph 46545 (\\N{HANGUL SYLLABLE DDENG}) missing from current font.\n",
      "  fig.canvas.print_figure(bytes_io, **kw)\n",
      "c:\\users\\jpc10\\ideaprojects\\untitled\\venv\\lib\\site-packages\\IPython\\core\\pylabtools.py:151: UserWarning: Glyph 53428 (\\N{HANGUL SYLLABLE KIM}) missing from current font.\n",
      "  fig.canvas.print_figure(bytes_io, **kw)\n",
      "c:\\users\\jpc10\\ideaprojects\\untitled\\venv\\lib\\site-packages\\IPython\\core\\pylabtools.py:151: UserWarning: Glyph 49800 (\\N{HANGUL SYLLABLE SYU}) missing from current font.\n",
      "  fig.canvas.print_figure(bytes_io, **kw)\n",
      "c:\\users\\jpc10\\ideaprojects\\untitled\\venv\\lib\\site-packages\\IPython\\core\\pylabtools.py:151: UserWarning: Glyph 49436 (\\N{HANGUL SYLLABLE SEO}) missing from current font.\n",
      "  fig.canvas.print_figure(bytes_io, **kw)\n",
      "c:\\users\\jpc10\\ideaprojects\\untitled\\venv\\lib\\site-packages\\IPython\\core\\pylabtools.py:151: UserWarning: Glyph 53668 (\\N{HANGUL SYLLABLE TON}) missing from current font.\n",
      "  fig.canvas.print_figure(bytes_io, **kw)\n",
      "c:\\users\\jpc10\\ideaprojects\\untitled\\venv\\lib\\site-packages\\IPython\\core\\pylabtools.py:151: UserWarning: Glyph 54840 (\\N{HANGUL SYLLABLE HO}) missing from current font.\n",
      "  fig.canvas.print_figure(bytes_io, **kw)\n",
      "c:\\users\\jpc10\\ideaprojects\\untitled\\venv\\lib\\site-packages\\IPython\\core\\pylabtools.py:151: UserWarning: Glyph 53588 (\\N{HANGUL SYLLABLE TEL}) missing from current font.\n",
      "  fig.canvas.print_figure(bytes_io, **kw)\n",
      "c:\\users\\jpc10\\ideaprojects\\untitled\\venv\\lib\\site-packages\\IPython\\core\\pylabtools.py:151: UserWarning: Glyph 50900 (\\N{HANGUL SYLLABLE WEOL}) missing from current font.\n",
      "  fig.canvas.print_figure(bytes_io, **kw)\n",
      "c:\\users\\jpc10\\ideaprojects\\untitled\\venv\\lib\\site-packages\\IPython\\core\\pylabtools.py:151: UserWarning: Glyph 47708 (\\N{HANGUL SYLLABLE MEL}) missing from current font.\n",
      "  fig.canvas.print_figure(bytes_io, **kw)\n",
      "c:\\users\\jpc10\\ideaprojects\\untitled\\venv\\lib\\site-packages\\IPython\\core\\pylabtools.py:151: UserWarning: Glyph 46976 (\\N{HANGUL SYLLABLE RAN}) missing from current font.\n",
      "  fig.canvas.print_figure(bytes_io, **kw)\n",
      "c:\\users\\jpc10\\ideaprojects\\untitled\\venv\\lib\\site-packages\\IPython\\core\\pylabtools.py:151: UserWarning: Glyph 47200 (\\N{HANGUL SYLLABLE RON}) missing from current font.\n",
      "  fig.canvas.print_figure(bytes_io, **kw)\n",
      "c:\\users\\jpc10\\ideaprojects\\untitled\\venv\\lib\\site-packages\\IPython\\core\\pylabtools.py:151: UserWarning: Glyph 47088 (\\N{HANGUL SYLLABLE REON}) missing from current font.\n",
      "  fig.canvas.print_figure(bytes_io, **kw)\n",
      "c:\\users\\jpc10\\ideaprojects\\untitled\\venv\\lib\\site-packages\\IPython\\core\\pylabtools.py:151: UserWarning: Glyph 48376 (\\N{HANGUL SYLLABLE BON}) missing from current font.\n",
      "  fig.canvas.print_figure(bytes_io, **kw)\n",
      "c:\\users\\jpc10\\ideaprojects\\untitled\\venv\\lib\\site-packages\\IPython\\core\\pylabtools.py:151: UserWarning: Glyph 52308 (\\N{HANGUL SYLLABLE CAEM}) missing from current font.\n",
      "  fig.canvas.print_figure(bytes_io, **kw)\n",
      "c:\\users\\jpc10\\ideaprojects\\untitled\\venv\\lib\\site-packages\\IPython\\core\\pylabtools.py:151: UserWarning: Glyph 51076 (\\N{HANGUL SYLLABLE IM}) missing from current font.\n",
      "  fig.canvas.print_figure(bytes_io, **kw)\n",
      "c:\\users\\jpc10\\ideaprojects\\untitled\\venv\\lib\\site-packages\\IPython\\core\\pylabtools.py:151: UserWarning: Glyph 46993 (\\N{HANGUL SYLLABLE RANG}) missing from current font.\n",
      "  fig.canvas.print_figure(bytes_io, **kw)\n",
      "c:\\users\\jpc10\\ideaprojects\\untitled\\venv\\lib\\site-packages\\IPython\\core\\pylabtools.py:151: UserWarning: Glyph 44032 (\\N{HANGUL SYLLABLE GA}) missing from current font.\n",
      "  fig.canvas.print_figure(bytes_io, **kw)\n",
      "c:\\users\\jpc10\\ideaprojects\\untitled\\venv\\lib\\site-packages\\IPython\\core\\pylabtools.py:151: UserWarning: Glyph 51452 (\\N{HANGUL SYLLABLE JU}) missing from current font.\n",
      "  fig.canvas.print_figure(bytes_io, **kw)\n",
      "c:\\users\\jpc10\\ideaprojects\\untitled\\venv\\lib\\site-packages\\IPython\\core\\pylabtools.py:151: UserWarning: Glyph 47581 (\\N{HANGUL SYLLABLE MANG}) missing from current font.\n",
      "  fig.canvas.print_figure(bytes_io, **kw)\n",
      "c:\\users\\jpc10\\ideaprojects\\untitled\\venv\\lib\\site-packages\\IPython\\core\\pylabtools.py:151: UserWarning: Glyph 54392 (\\N{HANGUL SYLLABLE PU}) missing from current font.\n",
      "  fig.canvas.print_figure(bytes_io, **kw)\n",
      "c:\\users\\jpc10\\ideaprojects\\untitled\\venv\\lib\\site-packages\\IPython\\core\\pylabtools.py:151: UserWarning: Glyph 49472 (\\N{HANGUL SYLLABLE SEL}) missing from current font.\n",
      "  fig.canvas.print_figure(bytes_io, **kw)\n",
      "c:\\users\\jpc10\\ideaprojects\\untitled\\venv\\lib\\site-packages\\IPython\\core\\pylabtools.py:151: UserWarning: Glyph 47113 (\\N{HANGUL SYLLABLE REG}) missing from current font.\n",
      "  fig.canvas.print_figure(bytes_io, **kw)\n",
      "c:\\users\\jpc10\\ideaprojects\\untitled\\venv\\lib\\site-packages\\IPython\\core\\pylabtools.py:151: UserWarning: Glyph 48380 (\\N{HANGUL SYLLABLE BOL}) missing from current font.\n",
      "  fig.canvas.print_figure(bytes_io, **kw)\n",
      "c:\\users\\jpc10\\ideaprojects\\untitled\\venv\\lib\\site-packages\\IPython\\core\\pylabtools.py:151: UserWarning: Glyph 51204 (\\N{HANGUL SYLLABLE JEON}) missing from current font.\n",
      "  fig.canvas.print_figure(bytes_io, **kw)\n",
      "c:\\users\\jpc10\\ideaprojects\\untitled\\venv\\lib\\site-packages\\IPython\\core\\pylabtools.py:151: UserWarning: Glyph 47001 (\\N{HANGUL SYLLABLE RAEG}) missing from current font.\n",
      "  fig.canvas.print_figure(bytes_io, **kw)\n",
      "c:\\users\\jpc10\\ideaprojects\\untitled\\venv\\lib\\site-packages\\IPython\\core\\pylabtools.py:151: UserWarning: Glyph 48288 (\\N{HANGUL SYLLABLE BE}) missing from current font.\n",
      "  fig.canvas.print_figure(bytes_io, **kw)\n",
      "c:\\users\\jpc10\\ideaprojects\\untitled\\venv\\lib\\site-packages\\IPython\\core\\pylabtools.py:151: UserWarning: Glyph 51649 (\\N{HANGUL SYLLABLE JIG}) missing from current font.\n",
      "  fig.canvas.print_figure(bytes_io, **kw)\n",
      "c:\\users\\jpc10\\ideaprojects\\untitled\\venv\\lib\\site-packages\\IPython\\core\\pylabtools.py:151: UserWarning: Glyph 52968 (\\N{HANGUL SYLLABLE KEON}) missing from current font.\n",
      "  fig.canvas.print_figure(bytes_io, **kw)\n",
      "c:\\users\\jpc10\\ideaprojects\\untitled\\venv\\lib\\site-packages\\IPython\\core\\pylabtools.py:151: UserWarning: Glyph 45440 (\\N{HANGUL SYLLABLE NOL}) missing from current font.\n",
      "  fig.canvas.print_figure(bytes_io, **kw)\n",
      "c:\\users\\jpc10\\ideaprojects\\untitled\\venv\\lib\\site-packages\\IPython\\core\\pylabtools.py:151: UserWarning: Glyph 47021 (\\N{HANGUL SYLLABLE RAENG}) missing from current font.\n",
      "  fig.canvas.print_figure(bytes_io, **kw)\n",
      "c:\\users\\jpc10\\ideaprojects\\untitled\\venv\\lib\\site-packages\\IPython\\core\\pylabtools.py:151: UserWarning: Glyph 47352 (\\N{HANGUL SYLLABLE RUM}) missing from current font.\n",
      "  fig.canvas.print_figure(bytes_io, **kw)\n",
      "c:\\users\\jpc10\\ideaprojects\\untitled\\venv\\lib\\site-packages\\IPython\\core\\pylabtools.py:151: UserWarning: Glyph 47536 (\\N{HANGUL SYLLABLE RIN}) missing from current font.\n",
      "  fig.canvas.print_figure(bytes_io, **kw)\n",
      "c:\\users\\jpc10\\ideaprojects\\untitled\\venv\\lib\\site-packages\\IPython\\core\\pylabtools.py:151: UserWarning: Glyph 47672 (\\N{HANGUL SYLLABLE MEO}) missing from current font.\n",
      "  fig.canvas.print_figure(bytes_io, **kw)\n",
      "c:\\users\\jpc10\\ideaprojects\\untitled\\venv\\lib\\site-packages\\IPython\\core\\pylabtools.py:151: UserWarning: Glyph 50521 (\\N{HANGUL SYLLABLE ANG}) missing from current font.\n",
      "  fig.canvas.print_figure(bytes_io, **kw)\n",
      "c:\\users\\jpc10\\ideaprojects\\untitled\\venv\\lib\\site-packages\\IPython\\core\\pylabtools.py:151: UserWarning: Glyph 50040 (\\N{HANGUL SYLLABLE SSEOM}) missing from current font.\n",
      "  fig.canvas.print_figure(bytes_io, **kw)\n",
      "c:\\users\\jpc10\\ideaprojects\\untitled\\venv\\lib\\site-packages\\IPython\\core\\pylabtools.py:151: UserWarning: Glyph 47004 (\\N{HANGUL SYLLABLE RAEN}) missing from current font.\n",
      "  fig.canvas.print_figure(bytes_io, **kw)\n",
      "c:\\users\\jpc10\\ideaprojects\\untitled\\venv\\lib\\site-packages\\IPython\\core\\pylabtools.py:151: UserWarning: Glyph 50892 (\\N{HANGUL SYLLABLE WEO}) missing from current font.\n",
      "  fig.canvas.print_figure(bytes_io, **kw)\n",
      "c:\\users\\jpc10\\ideaprojects\\untitled\\venv\\lib\\site-packages\\IPython\\core\\pylabtools.py:151: UserWarning: Glyph 46020 (\\N{HANGUL SYLLABLE DO}) missing from current font.\n",
      "  fig.canvas.print_figure(bytes_io, **kw)\n",
      "c:\\users\\jpc10\\ideaprojects\\untitled\\venv\\lib\\site-packages\\IPython\\core\\pylabtools.py:151: UserWarning: Glyph 47928 (\\N{HANGUL SYLLABLE MUN}) missing from current font.\n",
      "  fig.canvas.print_figure(bytes_io, **kw)\n",
      "c:\\users\\jpc10\\ideaprojects\\untitled\\venv\\lib\\site-packages\\IPython\\core\\pylabtools.py:151: UserWarning: Glyph 49440 (\\N{HANGUL SYLLABLE SEON}) missing from current font.\n",
      "  fig.canvas.print_figure(bytes_io, **kw)\n",
      "c:\\users\\jpc10\\ideaprojects\\untitled\\venv\\lib\\site-packages\\IPython\\core\\pylabtools.py:151: UserWarning: Glyph 47680 (\\N{HANGUL SYLLABLE MEOL}) missing from current font.\n",
      "  fig.canvas.print_figure(bytes_io, **kw)\n",
      "c:\\users\\jpc10\\ideaprojects\\untitled\\venv\\lib\\site-packages\\IPython\\core\\pylabtools.py:151: UserWarning: Glyph 48512 (\\N{HANGUL SYLLABLE BU}) missing from current font.\n",
      "  fig.canvas.print_figure(bytes_io, **kw)\n",
      "c:\\users\\jpc10\\ideaprojects\\untitled\\venv\\lib\\site-packages\\IPython\\core\\pylabtools.py:151: UserWarning: Glyph 47548 (\\N{HANGUL SYLLABLE RIM}) missing from current font.\n",
      "  fig.canvas.print_figure(bytes_io, **kw)\n",
      "c:\\users\\jpc10\\ideaprojects\\untitled\\venv\\lib\\site-packages\\IPython\\core\\pylabtools.py:151: UserWarning: Glyph 47017 (\\N{HANGUL SYLLABLE RAEB}) missing from current font.\n",
      "  fig.canvas.print_figure(bytes_io, **kw)\n",
      "c:\\users\\jpc10\\ideaprojects\\untitled\\venv\\lib\\site-packages\\IPython\\core\\pylabtools.py:151: UserWarning: Glyph 55072 (\\N{HANGUL SYLLABLE HWIL}) missing from current font.\n",
      "  fig.canvas.print_figure(bytes_io, **kw)\n",
      "c:\\users\\jpc10\\ideaprojects\\untitled\\venv\\lib\\site-packages\\IPython\\core\\pylabtools.py:151: UserWarning: Glyph 50641 (\\N{HANGUL SYLLABLE EG}) missing from current font.\n",
      "  fig.canvas.print_figure(bytes_io, **kw)\n",
      "c:\\users\\jpc10\\ideaprojects\\untitled\\venv\\lib\\site-packages\\IPython\\core\\pylabtools.py:151: UserWarning: Glyph 54060 (\\N{HANGUL SYLLABLE PAEN}) missing from current font.\n",
      "  fig.canvas.print_figure(bytes_io, **kw)\n",
      "c:\\users\\jpc10\\ideaprojects\\untitled\\venv\\lib\\site-packages\\IPython\\core\\pylabtools.py:151: UserWarning: Glyph 51079 (\\N{HANGUL SYLLABLE IS}) missing from current font.\n",
      "  fig.canvas.print_figure(bytes_io, **kw)\n",
      "c:\\users\\jpc10\\ideaprojects\\untitled\\venv\\lib\\site-packages\\IPython\\core\\pylabtools.py:151: UserWarning: Glyph 49845 (\\N{HANGUL SYLLABLE SEUB}) missing from current font.\n",
      "  fig.canvas.print_figure(bytes_io, **kw)\n",
      "c:\\users\\jpc10\\ideaprojects\\untitled\\venv\\lib\\site-packages\\IPython\\core\\pylabtools.py:151: UserWarning: Glyph 45572 (\\N{HANGUL SYLLABLE NU}) missing from current font.\n",
      "  fig.canvas.print_figure(bytes_io, **kw)\n",
      "c:\\users\\jpc10\\ideaprojects\\untitled\\venv\\lib\\site-packages\\IPython\\core\\pylabtools.py:151: UserWarning: Glyph 53584 (\\N{HANGUL SYLLABLE TEN}) missing from current font.\n",
      "  fig.canvas.print_figure(bytes_io, **kw)\n",
      "c:\\users\\jpc10\\ideaprojects\\untitled\\venv\\lib\\site-packages\\IPython\\core\\pylabtools.py:151: UserWarning: Glyph 47788 (\\N{HANGUL SYLLABLE MON}) missing from current font.\n",
      "  fig.canvas.print_figure(bytes_io, **kw)\n",
      "c:\\users\\jpc10\\ideaprojects\\untitled\\venv\\lib\\site-packages\\IPython\\core\\pylabtools.py:151: UserWarning: Glyph 45909 (\\N{HANGUL SYLLABLE DEOG}) missing from current font.\n",
      "  fig.canvas.print_figure(bytes_io, **kw)\n",
      "c:\\users\\jpc10\\ideaprojects\\untitled\\venv\\lib\\site-packages\\IPython\\core\\pylabtools.py:151: UserWarning: Glyph 44592 (\\N{HANGUL SYLLABLE GI}) missing from current font.\n",
      "  fig.canvas.print_figure(bytes_io, **kw)\n",
      "c:\\users\\jpc10\\ideaprojects\\untitled\\venv\\lib\\site-packages\\IPython\\core\\pylabtools.py:151: UserWarning: Glyph 50556 (\\N{HANGUL SYLLABLE YA}) missing from current font.\n",
      "  fig.canvas.print_figure(bytes_io, **kw)\n",
      "c:\\users\\jpc10\\ideaprojects\\untitled\\venv\\lib\\site-packages\\IPython\\core\\pylabtools.py:151: UserWarning: Glyph 51564 (\\N{HANGUL SYLLABLE JYU}) missing from current font.\n",
      "  fig.canvas.print_figure(bytes_io, **kw)\n",
      "c:\\users\\jpc10\\ideaprojects\\untitled\\venv\\lib\\site-packages\\IPython\\core\\pylabtools.py:151: UserWarning: Glyph 48156 (\\N{HANGUL SYLLABLE BAL}) missing from current font.\n",
      "  fig.canvas.print_figure(bytes_io, **kw)\n",
      "c:\\users\\jpc10\\ideaprojects\\untitled\\venv\\lib\\site-packages\\IPython\\core\\pylabtools.py:151: UserWarning: Glyph 45776 (\\N{HANGUL SYLLABLE NIL}) missing from current font.\n",
      "  fig.canvas.print_figure(bytes_io, **kw)\n",
      "c:\\users\\jpc10\\ideaprojects\\untitled\\venv\\lib\\site-packages\\IPython\\core\\pylabtools.py:151: UserWarning: Glyph 52404 (\\N{HANGUL SYLLABLE CE}) missing from current font.\n",
      "  fig.canvas.print_figure(bytes_io, **kw)\n",
      "c:\\users\\jpc10\\ideaprojects\\untitled\\venv\\lib\\site-packages\\IPython\\core\\pylabtools.py:151: UserWarning: Glyph 44264 (\\N{HANGUL SYLLABLE GOL}) missing from current font.\n",
      "  fig.canvas.print_figure(bytes_io, **kw)\n",
      "c:\\users\\jpc10\\ideaprojects\\untitled\\venv\\lib\\site-packages\\IPython\\core\\pylabtools.py:151: UserWarning: Glyph 45936 (\\N{HANGUL SYLLABLE DE}) missing from current font.\n",
      "  fig.canvas.print_figure(bytes_io, **kw)\n",
      "c:\\users\\jpc10\\ideaprojects\\untitled\\venv\\lib\\site-packages\\IPython\\core\\pylabtools.py:151: UserWarning: Glyph 45320 (\\N{HANGUL SYLLABLE NEO}) missing from current font.\n",
      "  fig.canvas.print_figure(bytes_io, **kw)\n",
      "c:\\users\\jpc10\\ideaprojects\\untitled\\venv\\lib\\site-packages\\IPython\\core\\pylabtools.py:151: UserWarning: Glyph 47092 (\\N{HANGUL SYLLABLE REOL}) missing from current font.\n",
      "  fig.canvas.print_figure(bytes_io, **kw)\n",
      "c:\\users\\jpc10\\ideaprojects\\untitled\\venv\\lib\\site-packages\\IPython\\core\\pylabtools.py:151: UserWarning: Glyph 50536 (\\N{HANGUL SYLLABLE AEL}) missing from current font.\n",
      "  fig.canvas.print_figure(bytes_io, **kw)\n",
      "c:\\users\\jpc10\\ideaprojects\\untitled\\venv\\lib\\site-packages\\IPython\\core\\pylabtools.py:151: UserWarning: Glyph 46973 (\\N{HANGUL SYLLABLE RAG}) missing from current font.\n",
      "  fig.canvas.print_figure(bytes_io, **kw)\n",
      "c:\\users\\jpc10\\ideaprojects\\untitled\\venv\\lib\\site-packages\\IPython\\core\\pylabtools.py:151: UserWarning: Glyph 51232 (\\N{HANGUL SYLLABLE JEN}) missing from current font.\n",
      "  fig.canvas.print_figure(bytes_io, **kw)\n",
      "c:\\users\\jpc10\\ideaprojects\\untitled\\venv\\lib\\site-packages\\IPython\\core\\pylabtools.py:151: UserWarning: Glyph 44148 (\\N{HANGUL SYLLABLE GEON}) missing from current font.\n",
      "  fig.canvas.print_figure(bytes_io, **kw)\n",
      "c:\\users\\jpc10\\ideaprojects\\untitled\\venv\\lib\\site-packages\\IPython\\core\\pylabtools.py:151: UserWarning: Glyph 50872 (\\N{HANGUL SYLLABLE UL}) missing from current font.\n",
      "  fig.canvas.print_figure(bytes_io, **kw)\n",
      "c:\\users\\jpc10\\ideaprojects\\untitled\\venv\\lib\\site-packages\\IPython\\core\\pylabtools.py:151: UserWarning: Glyph 47480 (\\N{HANGUL SYLLABLE REUN}) missing from current font.\n",
      "  fig.canvas.print_figure(bytes_io, **kw)\n",
      "c:\\users\\jpc10\\ideaprojects\\untitled\\venv\\lib\\site-packages\\IPython\\core\\pylabtools.py:151: UserWarning: Glyph 51256 (\\N{HANGUL SYLLABLE JYEO}) missing from current font.\n",
      "  fig.canvas.print_figure(bytes_io, **kw)\n",
      "c:\\users\\jpc10\\ideaprojects\\untitled\\venv\\lib\\site-packages\\IPython\\core\\pylabtools.py:151: UserWarning: Glyph 52376 (\\N{HANGUL SYLLABLE CEO}) missing from current font.\n",
      "  fig.canvas.print_figure(bytes_io, **kw)\n",
      "c:\\users\\jpc10\\ideaprojects\\untitled\\venv\\lib\\site-packages\\IPython\\core\\pylabtools.py:151: UserWarning: Glyph 54868 (\\N{HANGUL SYLLABLE HWA}) missing from current font.\n",
      "  fig.canvas.print_figure(bytes_io, **kw)\n",
      "c:\\users\\jpc10\\ideaprojects\\untitled\\venv\\lib\\site-packages\\IPython\\core\\pylabtools.py:151: UserWarning: Glyph 50564 (\\N{HANGUL SYLLABLE YAL}) missing from current font.\n",
      "  fig.canvas.print_figure(bytes_io, **kw)\n",
      "c:\\users\\jpc10\\ideaprojects\\untitled\\venv\\lib\\site-packages\\IPython\\core\\pylabtools.py:151: UserWarning: Glyph 48128 (\\N{HANGUL SYLLABLE MIL}) missing from current font.\n",
      "  fig.canvas.print_figure(bytes_io, **kw)\n",
      "c:\\users\\jpc10\\ideaprojects\\untitled\\venv\\lib\\site-packages\\IPython\\core\\pylabtools.py:151: UserWarning: Glyph 50616 (\\N{HANGUL SYLLABLE EON}) missing from current font.\n",
      "  fig.canvas.print_figure(bytes_io, **kw)\n",
      "c:\\users\\jpc10\\ideaprojects\\untitled\\venv\\lib\\site-packages\\IPython\\core\\pylabtools.py:151: UserWarning: Glyph 50948 (\\N{HANGUL SYLLABLE WI}) missing from current font.\n",
      "  fig.canvas.print_figure(bytes_io, **kw)\n",
      "c:\\users\\jpc10\\ideaprojects\\untitled\\venv\\lib\\site-packages\\IPython\\core\\pylabtools.py:151: UserWarning: Glyph 52884 (\\N{HANGUL SYLLABLE KAEN}) missing from current font.\n",
      "  fig.canvas.print_figure(bytes_io, **kw)\n",
      "c:\\users\\jpc10\\ideaprojects\\untitled\\venv\\lib\\site-packages\\IPython\\core\\pylabtools.py:151: UserWarning: Glyph 49373 (\\N{HANGUL SYLLABLE SAENG}) missing from current font.\n",
      "  fig.canvas.print_figure(bytes_io, **kw)\n",
      "c:\\users\\jpc10\\ideaprojects\\untitled\\venv\\lib\\site-packages\\IPython\\core\\pylabtools.py:151: UserWarning: Glyph 50024 (\\N{HANGUL SYLLABLE SSEO}) missing from current font.\n",
      "  fig.canvas.print_figure(bytes_io, **kw)\n",
      "c:\\users\\jpc10\\ideaprojects\\untitled\\venv\\lib\\site-packages\\IPython\\core\\pylabtools.py:151: UserWarning: Glyph 47549 (\\N{HANGUL SYLLABLE RIB}) missing from current font.\n",
      "  fig.canvas.print_figure(bytes_io, **kw)\n",
      "c:\\users\\jpc10\\ideaprojects\\untitled\\venv\\lib\\site-packages\\IPython\\core\\pylabtools.py:151: UserWarning: Glyph 49468 (\\N{HANGUL SYLLABLE SEN}) missing from current font.\n",
      "  fig.canvas.print_figure(bytes_io, **kw)\n",
      "c:\\users\\jpc10\\ideaprojects\\untitled\\venv\\lib\\site-packages\\IPython\\core\\pylabtools.py:151: UserWarning: Glyph 47100 (\\N{HANGUL SYLLABLE REOM}) missing from current font.\n",
      "  fig.canvas.print_figure(bytes_io, **kw)\n",
      "c:\\users\\jpc10\\ideaprojects\\untitled\\venv\\lib\\site-packages\\IPython\\core\\pylabtools.py:151: UserWarning: Glyph 53568 (\\N{HANGUL SYLLABLE TEOM}) missing from current font.\n",
      "  fig.canvas.print_figure(bytes_io, **kw)\n",
      "c:\\users\\jpc10\\ideaprojects\\untitled\\venv\\lib\\site-packages\\IPython\\core\\pylabtools.py:151: UserWarning: Glyph 45912 (\\N{HANGUL SYLLABLE DEON}) missing from current font.\n",
      "  fig.canvas.print_figure(bytes_io, **kw)\n",
      "c:\\users\\jpc10\\ideaprojects\\untitled\\venv\\lib\\site-packages\\IPython\\core\\pylabtools.py:151: UserWarning: Glyph 51061 (\\N{HANGUL SYLLABLE IG}) missing from current font.\n",
      "  fig.canvas.print_figure(bytes_io, **kw)\n",
      "c:\\users\\jpc10\\ideaprojects\\untitled\\venv\\lib\\site-packages\\IPython\\core\\pylabtools.py:151: UserWarning: Glyph 48136 (\\N{HANGUL SYLLABLE MIM}) missing from current font.\n",
      "  fig.canvas.print_figure(bytes_io, **kw)\n",
      "c:\\users\\jpc10\\ideaprojects\\untitled\\venv\\lib\\site-packages\\IPython\\core\\pylabtools.py:151: UserWarning: Glyph 54004 (\\N{HANGUL SYLLABLE TIN}) missing from current font.\n",
      "  fig.canvas.print_figure(bytes_io, **kw)\n",
      "c:\\users\\jpc10\\ideaprojects\\untitled\\venv\\lib\\site-packages\\IPython\\core\\pylabtools.py:151: UserWarning: Glyph 48296 (\\N{HANGUL SYLLABLE BEL}) missing from current font.\n",
      "  fig.canvas.print_figure(bytes_io, **kw)\n",
      "c:\\users\\jpc10\\ideaprojects\\untitled\\venv\\lib\\site-packages\\IPython\\core\\pylabtools.py:151: UserWarning: Glyph 45576 (\\N{HANGUL SYLLABLE NUN}) missing from current font.\n",
      "  fig.canvas.print_figure(bytes_io, **kw)\n",
      "c:\\users\\jpc10\\ideaprojects\\untitled\\venv\\lib\\site-packages\\IPython\\core\\pylabtools.py:151: UserWarning: Glyph 44544 (\\N{HANGUL SYLLABLE GEUL}) missing from current font.\n",
      "  fig.canvas.print_figure(bytes_io, **kw)\n",
      "c:\\users\\jpc10\\ideaprojects\\untitled\\venv\\lib\\site-packages\\IPython\\core\\pylabtools.py:151: UserWarning: Glyph 54144 (\\N{HANGUL SYLLABLE PEON}) missing from current font.\n",
      "  fig.canvas.print_figure(bytes_io, **kw)\n",
      "c:\\users\\jpc10\\ideaprojects\\untitled\\venv\\lib\\site-packages\\IPython\\core\\pylabtools.py:151: UserWarning: Glyph 52824 (\\N{HANGUL SYLLABLE CI}) missing from current font.\n",
      "  fig.canvas.print_figure(bytes_io, **kw)\n",
      "c:\\users\\jpc10\\ideaprojects\\untitled\\venv\\lib\\site-packages\\IPython\\core\\pylabtools.py:151: UserWarning: Glyph 47105 (\\N{HANGUL SYLLABLE REONG}) missing from current font.\n",
      "  fig.canvas.print_figure(bytes_io, **kw)\n",
      "c:\\users\\jpc10\\ideaprojects\\untitled\\venv\\lib\\site-packages\\IPython\\core\\pylabtools.py:151: UserWarning: Glyph 52856 (\\N{HANGUL SYLLABLE KAN}) missing from current font.\n",
      "  fig.canvas.print_figure(bytes_io, **kw)\n",
      "c:\\users\\jpc10\\ideaprojects\\untitled\\venv\\lib\\site-packages\\IPython\\core\\pylabtools.py:151: UserWarning: Glyph 45436 (\\N{HANGUL SYLLABLE NON}) missing from current font.\n",
      "  fig.canvas.print_figure(bytes_io, **kw)\n",
      "c:\\users\\jpc10\\ideaprojects\\untitled\\venv\\lib\\site-packages\\IPython\\core\\pylabtools.py:151: UserWarning: Glyph 49885 (\\N{HANGUL SYLLABLE SIG}) missing from current font.\n",
      "  fig.canvas.print_figure(bytes_io, **kw)\n",
      "c:\\users\\jpc10\\ideaprojects\\untitled\\venv\\lib\\site-packages\\IPython\\core\\pylabtools.py:151: UserWarning: Glyph 52264 (\\N{HANGUL SYLLABLE CA}) missing from current font.\n",
      "  fig.canvas.print_figure(bytes_io, **kw)\n",
      "c:\\users\\jpc10\\ideaprojects\\untitled\\venv\\lib\\site-packages\\IPython\\core\\pylabtools.py:151: UserWarning: Glyph 48268 (\\N{HANGUL SYLLABLE BEOL}) missing from current font.\n",
      "  fig.canvas.print_figure(bytes_io, **kw)\n",
      "c:\\users\\jpc10\\ideaprojects\\untitled\\venv\\lib\\site-packages\\IPython\\core\\pylabtools.py:151: UserWarning: Glyph 54016 (\\N{HANGUL SYLLABLE TIM}) missing from current font.\n",
      "  fig.canvas.print_figure(bytes_io, **kw)\n",
      "c:\\users\\jpc10\\ideaprojects\\untitled\\venv\\lib\\site-packages\\IPython\\core\\pylabtools.py:151: UserWarning: Glyph 48121 (\\N{HANGUL SYLLABLE MIG}) missing from current font.\n",
      "  fig.canvas.print_figure(bytes_io, **kw)\n",
      "c:\\users\\jpc10\\ideaprojects\\untitled\\venv\\lib\\site-packages\\IPython\\core\\pylabtools.py:151: UserWarning: Glyph 51665 (\\N{HANGUL SYLLABLE JIB}) missing from current font.\n",
      "  fig.canvas.print_figure(bytes_io, **kw)\n",
      "c:\\users\\jpc10\\ideaprojects\\untitled\\venv\\lib\\site-packages\\IPython\\core\\pylabtools.py:151: UserWarning: Glyph 47533 (\\N{HANGUL SYLLABLE RIG}) missing from current font.\n",
      "  fig.canvas.print_figure(bytes_io, **kw)\n",
      "c:\\users\\jpc10\\ideaprojects\\untitled\\venv\\lib\\site-packages\\IPython\\core\\pylabtools.py:151: UserWarning: Glyph 51088 (\\N{HANGUL SYLLABLE JA}) missing from current font.\n",
      "  fig.canvas.print_figure(bytes_io, **kw)\n",
      "c:\\users\\jpc10\\ideaprojects\\untitled\\venv\\lib\\site-packages\\IPython\\core\\pylabtools.py:151: UserWarning: Glyph 46364 (\\N{HANGUL SYLLABLE DIL}) missing from current font.\n",
      "  fig.canvas.print_figure(bytes_io, **kw)\n",
      "c:\\users\\jpc10\\ideaprojects\\untitled\\venv\\lib\\site-packages\\IPython\\core\\pylabtools.py:151: UserWarning: Glyph 53461 (\\N{HANGUL SYLLABLE TANG}) missing from current font.\n",
      "  fig.canvas.print_figure(bytes_io, **kw)\n",
      "c:\\users\\jpc10\\ideaprojects\\untitled\\venv\\lib\\site-packages\\IPython\\core\\pylabtools.py:151: UserWarning: Glyph 54644 (\\N{HANGUL SYLLABLE HAE}) missing from current font.\n",
      "  fig.canvas.print_figure(bytes_io, **kw)\n",
      "c:\\users\\jpc10\\ideaprojects\\untitled\\venv\\lib\\site-packages\\IPython\\core\\pylabtools.py:151: UserWarning: Glyph 54665 (\\N{HANGUL SYLLABLE HAENG}) missing from current font.\n",
      "  fig.canvas.print_figure(bytes_io, **kw)\n",
      "c:\\users\\jpc10\\ideaprojects\\untitled\\venv\\lib\\site-packages\\IPython\\core\\pylabtools.py:151: UserWarning: Glyph 51236 (\\N{HANGUL SYLLABLE JEL}) missing from current font.\n",
      "  fig.canvas.print_figure(bytes_io, **kw)\n",
      "c:\\users\\jpc10\\ideaprojects\\untitled\\venv\\lib\\site-packages\\IPython\\core\\pylabtools.py:151: UserWarning: Glyph 53224 (\\N{HANGUL SYLLABLE KUL}) missing from current font.\n",
      "  fig.canvas.print_figure(bytes_io, **kw)\n",
      "c:\\users\\jpc10\\ideaprojects\\untitled\\venv\\lib\\site-packages\\IPython\\core\\pylabtools.py:151: UserWarning: Glyph 54980 (\\N{HANGUL SYLLABLE HU}) missing from current font.\n",
      "  fig.canvas.print_figure(bytes_io, **kw)\n",
      "c:\\users\\jpc10\\ideaprojects\\untitled\\venv\\lib\\site-packages\\IPython\\core\\pylabtools.py:151: UserWarning: Glyph 44260 (\\N{HANGUL SYLLABLE GON}) missing from current font.\n",
      "  fig.canvas.print_figure(bytes_io, **kw)\n",
      "c:\\users\\jpc10\\ideaprojects\\untitled\\venv\\lib\\site-packages\\IPython\\core\\pylabtools.py:151: UserWarning: Glyph 48393 (\\N{HANGUL SYLLABLE BONG}) missing from current font.\n",
      "  fig.canvas.print_figure(bytes_io, **kw)\n",
      "c:\\users\\jpc10\\ideaprojects\\untitled\\venv\\lib\\site-packages\\IPython\\core\\pylabtools.py:151: UserWarning: Glyph 54008 (\\N{HANGUL SYLLABLE TIL}) missing from current font.\n",
      "  fig.canvas.print_figure(bytes_io, **kw)\n",
      "c:\\users\\jpc10\\ideaprojects\\untitled\\venv\\lib\\site-packages\\IPython\\core\\pylabtools.py:151: UserWarning: Glyph 53952 (\\N{HANGUL SYLLABLE TEUL}) missing from current font.\n",
      "  fig.canvas.print_figure(bytes_io, **kw)\n",
      "c:\\users\\jpc10\\ideaprojects\\untitled\\venv\\lib\\site-packages\\IPython\\core\\pylabtools.py:151: UserWarning: Glyph 50689 (\\N{HANGUL SYLLABLE YEONG}) missing from current font.\n",
      "  fig.canvas.print_figure(bytes_io, **kw)\n",
      "c:\\users\\jpc10\\ideaprojects\\untitled\\venv\\lib\\site-packages\\IPython\\core\\pylabtools.py:151: UserWarning: Glyph 52873 (\\N{HANGUL SYLLABLE KANG}) missing from current font.\n",
      "  fig.canvas.print_figure(bytes_io, **kw)\n",
      "c:\\users\\jpc10\\ideaprojects\\untitled\\venv\\lib\\site-packages\\IPython\\core\\pylabtools.py:151: UserWarning: Glyph 45797 (\\N{HANGUL SYLLABLE DAG}) missing from current font.\n",
      "  fig.canvas.print_figure(bytes_io, **kw)\n",
      "c:\\users\\jpc10\\ideaprojects\\untitled\\venv\\lib\\site-packages\\IPython\\core\\pylabtools.py:151: UserWarning: Glyph 53804 (\\N{HANGUL SYLLABLE TU}) missing from current font.\n",
      "  fig.canvas.print_figure(bytes_io, **kw)\n",
      "c:\\users\\jpc10\\ideaprojects\\untitled\\venv\\lib\\site-packages\\IPython\\core\\pylabtools.py:151: UserWarning: Glyph 50529 (\\N{HANGUL SYLLABLE AEG}) missing from current font.\n",
      "  fig.canvas.print_figure(bytes_io, **kw)\n",
      "c:\\users\\jpc10\\ideaprojects\\untitled\\venv\\lib\\site-packages\\IPython\\core\\pylabtools.py:151: UserWarning: Glyph 53457 (\\N{HANGUL SYLLABLE TAB}) missing from current font.\n",
      "  fig.canvas.print_figure(bytes_io, **kw)\n",
      "c:\\users\\jpc10\\ideaprojects\\untitled\\venv\\lib\\site-packages\\IPython\\core\\pylabtools.py:151: UserWarning: Glyph 50740 (\\N{HANGUL SYLLABLE OM}) missing from current font.\n",
      "  fig.canvas.print_figure(bytes_io, **kw)\n",
      "c:\\users\\jpc10\\ideaprojects\\untitled\\venv\\lib\\site-packages\\IPython\\core\\pylabtools.py:151: UserWarning: Glyph 48064 (\\N{HANGUL SYLLABLE MEU}) missing from current font.\n",
      "  fig.canvas.print_figure(bytes_io, **kw)\n",
      "c:\\users\\jpc10\\ideaprojects\\untitled\\venv\\lib\\site-packages\\IPython\\core\\pylabtools.py:151: UserWarning: Glyph 45789 (\\N{HANGUL SYLLABLE NING}) missing from current font.\n",
      "  fig.canvas.print_figure(bytes_io, **kw)\n",
      "c:\\users\\jpc10\\ideaprojects\\untitled\\venv\\lib\\site-packages\\IPython\\core\\pylabtools.py:151: UserWarning: Glyph 53556 (\\N{HANGUL SYLLABLE TEON}) missing from current font.\n",
      "  fig.canvas.print_figure(bytes_io, **kw)\n",
      "c:\\users\\jpc10\\ideaprojects\\untitled\\venv\\lib\\site-packages\\IPython\\core\\pylabtools.py:151: UserWarning: Glyph 54161 (\\N{HANGUL SYLLABLE PEONG}) missing from current font.\n",
      "  fig.canvas.print_figure(bytes_io, **kw)\n",
      "c:\\users\\jpc10\\ideaprojects\\untitled\\venv\\lib\\site-packages\\IPython\\core\\pylabtools.py:151: UserWarning: Glyph 46965 (\\N{HANGUL SYLLABLE DDING}) missing from current font.\n",
      "  fig.canvas.print_figure(bytes_io, **kw)\n",
      "c:\\users\\jpc10\\ideaprojects\\untitled\\venv\\lib\\site-packages\\IPython\\core\\pylabtools.py:151: UserWarning: Glyph 44068 (\\N{HANGUL SYLLABLE GAEL}) missing from current font.\n",
      "  fig.canvas.print_figure(bytes_io, **kw)\n",
      "c:\\users\\jpc10\\ideaprojects\\untitled\\venv\\lib\\site-packages\\IPython\\core\\pylabtools.py:151: UserWarning: Glyph 53413 (\\N{HANGUL SYLLABLE KIG}) missing from current font.\n",
      "  fig.canvas.print_figure(bytes_io, **kw)\n",
      "c:\\users\\jpc10\\ideaprojects\\untitled\\venv\\lib\\site-packages\\IPython\\core\\pylabtools.py:151: UserWarning: Glyph 45324 (\\N{HANGUL SYLLABLE NEON}) missing from current font.\n",
      "  fig.canvas.print_figure(bytes_io, **kw)\n",
      "c:\\users\\jpc10\\ideaprojects\\untitled\\venv\\lib\\site-packages\\IPython\\core\\pylabtools.py:151: UserWarning: Glyph 47213 (\\N{HANGUL SYLLABLE ROB}) missing from current font.\n",
      "  fig.canvas.print_figure(bytes_io, **kw)\n",
      "c:\\users\\jpc10\\ideaprojects\\untitled\\venv\\lib\\site-packages\\IPython\\core\\pylabtools.py:151: UserWarning: Glyph 54848 (\\N{HANGUL SYLLABLE HOL}) missing from current font.\n",
      "  fig.canvas.print_figure(bytes_io, **kw)\n",
      "c:\\users\\jpc10\\ideaprojects\\untitled\\venv\\lib\\site-packages\\IPython\\core\\pylabtools.py:151: UserWarning: Glyph 50896 (\\N{HANGUL SYLLABLE WEON}) missing from current font.\n",
      "  fig.canvas.print_figure(bytes_io, **kw)\n",
      "c:\\users\\jpc10\\ideaprojects\\untitled\\venv\\lib\\site-packages\\IPython\\core\\pylabtools.py:151: UserWarning: Glyph 47212 (\\N{HANGUL SYLLABLE ROM}) missing from current font.\n",
      "  fig.canvas.print_figure(bytes_io, **kw)\n",
      "c:\\users\\jpc10\\ideaprojects\\untitled\\venv\\lib\\site-packages\\IPython\\core\\pylabtools.py:151: UserWarning: Glyph 49356 (\\N{HANGUL SYLLABLE SAEN}) missing from current font.\n",
      "  fig.canvas.print_figure(bytes_io, **kw)\n",
      "c:\\users\\jpc10\\ideaprojects\\untitled\\venv\\lib\\site-packages\\IPython\\core\\pylabtools.py:151: UserWarning: Glyph 50732 (\\N{HANGUL SYLLABLE OL}) missing from current font.\n",
      "  fig.canvas.print_figure(bytes_io, **kw)\n",
      "c:\\users\\jpc10\\ideaprojects\\untitled\\venv\\lib\\site-packages\\IPython\\core\\pylabtools.py:151: UserWarning: Glyph 45209 (\\N{HANGUL SYLLABLE NAG}) missing from current font.\n",
      "  fig.canvas.print_figure(bytes_io, **kw)\n",
      "c:\\users\\jpc10\\ideaprojects\\untitled\\venv\\lib\\site-packages\\IPython\\core\\pylabtools.py:151: UserWarning: Glyph 52980 (\\N{HANGUL SYLLABLE KEOM}) missing from current font.\n",
      "  fig.canvas.print_figure(bytes_io, **kw)\n",
      "c:\\users\\jpc10\\ideaprojects\\untitled\\venv\\lib\\site-packages\\IPython\\core\\pylabtools.py:151: UserWarning: Glyph 45955 (\\N{HANGUL SYLLABLE DES}) missing from current font.\n",
      "  fig.canvas.print_figure(bytes_io, **kw)\n",
      "c:\\users\\jpc10\\ideaprojects\\untitled\\venv\\lib\\site-packages\\IPython\\core\\pylabtools.py:151: UserWarning: Glyph 46944 (\\N{HANGUL SYLLABLE DDI}) missing from current font.\n",
      "  fig.canvas.print_figure(bytes_io, **kw)\n",
      "c:\\users\\jpc10\\ideaprojects\\untitled\\venv\\lib\\site-packages\\IPython\\core\\pylabtools.py:151: UserWarning: Glyph 46608 (\\N{HANGUL SYLLABLE DDO}) missing from current font.\n",
      "  fig.canvas.print_figure(bytes_io, **kw)\n",
      "c:\\users\\jpc10\\ideaprojects\\untitled\\venv\\lib\\site-packages\\IPython\\core\\pylabtools.py:151: UserWarning: Glyph 48180 (\\N{HANGUL SYLLABLE BAEN}) missing from current font.\n",
      "  fig.canvas.print_figure(bytes_io, **kw)\n",
      "c:\\users\\jpc10\\ideaprojects\\untitled\\venv\\lib\\site-packages\\IPython\\core\\pylabtools.py:151: UserWarning: Glyph 47464 (\\N{HANGUL SYLLABLE RYUM}) missing from current font.\n",
      "  fig.canvas.print_figure(bytes_io, **kw)\n",
      "c:\\users\\jpc10\\ideaprojects\\untitled\\venv\\lib\\site-packages\\IPython\\core\\pylabtools.py:151: UserWarning: Glyph 49328 (\\N{HANGUL SYLLABLE SAN}) missing from current font.\n",
      "  fig.canvas.print_figure(bytes_io, **kw)\n",
      "c:\\users\\jpc10\\ideaprojects\\untitled\\venv\\lib\\site-packages\\IPython\\core\\pylabtools.py:151: UserWarning: Glyph 47589 (\\N{HANGUL SYLLABLE MAEG}) missing from current font.\n",
      "  fig.canvas.print_figure(bytes_io, **kw)\n",
      "c:\\users\\jpc10\\ideaprojects\\untitled\\venv\\lib\\site-packages\\IPython\\core\\pylabtools.py:151: UserWarning: Glyph 53304 (\\N{HANGUL SYLLABLE KWIN}) missing from current font.\n",
      "  fig.canvas.print_figure(bytes_io, **kw)\n",
      "c:\\users\\jpc10\\ideaprojects\\untitled\\venv\\lib\\site-packages\\IPython\\core\\pylabtools.py:151: UserWarning: Glyph 45940 (\\N{HANGUL SYLLABLE DEN}) missing from current font.\n",
      "  fig.canvas.print_figure(bytes_io, **kw)\n",
      "c:\\users\\jpc10\\ideaprojects\\untitled\\venv\\lib\\site-packages\\IPython\\core\\pylabtools.py:151: UserWarning: Glyph 52825 (\\N{HANGUL SYLLABLE CIG}) missing from current font.\n",
      "  fig.canvas.print_figure(bytes_io, **kw)\n",
      "c:\\users\\jpc10\\ideaprojects\\untitled\\venv\\lib\\site-packages\\IPython\\core\\pylabtools.py:151: UserWarning: Glyph 55184 (\\N{HANGUL SYLLABLE HIL}) missing from current font.\n",
      "  fig.canvas.print_figure(bytes_io, **kw)\n",
      "c:\\users\\jpc10\\ideaprojects\\untitled\\venv\\lib\\site-packages\\IPython\\core\\pylabtools.py:151: UserWarning: Glyph 44144 (\\N{HANGUL SYLLABLE GEO}) missing from current font.\n",
      "  fig.canvas.print_figure(bytes_io, **kw)\n",
      "c:\\users\\jpc10\\ideaprojects\\untitled\\venv\\lib\\site-packages\\IPython\\core\\pylabtools.py:151: UserWarning: Glyph 47568 (\\N{HANGUL SYLLABLE MAL}) missing from current font.\n",
      "  fig.canvas.print_figure(bytes_io, **kw)\n",
      "c:\\users\\jpc10\\ideaprojects\\untitled\\venv\\lib\\site-packages\\IPython\\core\\pylabtools.py:151: UserWarning: Glyph 47448 (\\N{HANGUL SYLLABLE RYU}) missing from current font.\n",
      "  fig.canvas.print_figure(bytes_io, **kw)\n",
      "c:\\users\\jpc10\\ideaprojects\\untitled\\venv\\lib\\site-packages\\IPython\\core\\pylabtools.py:151: UserWarning: Glyph 45356 (\\N{HANGUL SYLLABLE NEL}) missing from current font.\n",
      "  fig.canvas.print_figure(bytes_io, **kw)\n",
      "c:\\users\\jpc10\\ideaprojects\\untitled\\venv\\lib\\site-packages\\IPython\\core\\pylabtools.py:151: UserWarning: Glyph 53104 (\\N{HANGUL SYLLABLE KWA}) missing from current font.\n",
      "  fig.canvas.print_figure(bytes_io, **kw)\n",
      "c:\\users\\jpc10\\ideaprojects\\untitled\\venv\\lib\\site-packages\\IPython\\core\\pylabtools.py:151: UserWarning: Glyph 50631 (\\N{HANGUL SYLLABLE EOS}) missing from current font.\n",
      "  fig.canvas.print_figure(bytes_io, **kw)\n",
      "c:\\users\\jpc10\\ideaprojects\\untitled\\venv\\lib\\site-packages\\IPython\\core\\pylabtools.py:151: UserWarning: Glyph 45944 (\\N{HANGUL SYLLABLE DEL}) missing from current font.\n",
      "  fig.canvas.print_figure(bytes_io, **kw)\n",
      "c:\\users\\jpc10\\ideaprojects\\untitled\\venv\\lib\\site-packages\\IPython\\core\\pylabtools.py:151: UserWarning: Glyph 47805 (\\N{HANGUL SYLLABLE MONG}) missing from current font.\n",
      "  fig.canvas.print_figure(bytes_io, **kw)\n",
      "c:\\users\\jpc10\\ideaprojects\\untitled\\venv\\lib\\site-packages\\IPython\\core\\pylabtools.py:151: UserWarning: Glyph 50052 (\\N{HANGUL SYLLABLE SSE}) missing from current font.\n",
      "  fig.canvas.print_figure(bytes_io, **kw)\n",
      "c:\\users\\jpc10\\ideaprojects\\untitled\\venv\\lib\\site-packages\\IPython\\core\\pylabtools.py:151: UserWarning: Glyph 53080 (\\N{HANGUL SYLLABLE KON}) missing from current font.\n",
      "  fig.canvas.print_figure(bytes_io, **kw)\n",
      "c:\\users\\jpc10\\ideaprojects\\untitled\\venv\\lib\\site-packages\\IPython\\core\\pylabtools.py:151: UserWarning: Glyph 45216 (\\N{HANGUL SYLLABLE NAL}) missing from current font.\n",
      "  fig.canvas.print_figure(bytes_io, **kw)\n",
      "c:\\users\\jpc10\\ideaprojects\\untitled\\venv\\lib\\site-packages\\IPython\\core\\pylabtools.py:151: UserWarning: Glyph 53092 (\\N{HANGUL SYLLABLE KOM}) missing from current font.\n",
      "  fig.canvas.print_figure(bytes_io, **kw)\n",
      "c:\\users\\jpc10\\ideaprojects\\untitled\\venv\\lib\\site-packages\\IPython\\core\\pylabtools.py:151: UserWarning: Glyph 54057 (\\N{HANGUL SYLLABLE PAEG}) missing from current font.\n",
      "  fig.canvas.print_figure(bytes_io, **kw)\n",
      "c:\\users\\jpc10\\ideaprojects\\untitled\\venv\\lib\\site-packages\\IPython\\core\\pylabtools.py:151: UserWarning: Glyph 53328 (\\N{HANGUL SYLLABLE KYU}) missing from current font.\n",
      "  fig.canvas.print_figure(bytes_io, **kw)\n",
      "c:\\users\\jpc10\\ideaprojects\\untitled\\venv\\lib\\site-packages\\IPython\\core\\pylabtools.py:151: UserWarning: Glyph 50501 (\\N{HANGUL SYLLABLE AG}) missing from current font.\n",
      "  fig.canvas.print_figure(bytes_io, **kw)\n",
      "c:\\users\\jpc10\\ideaprojects\\untitled\\venv\\lib\\site-packages\\IPython\\core\\pylabtools.py:151: UserWarning: Glyph 44061 (\\N{HANGUL SYLLABLE GAEG}) missing from current font.\n",
      "  fig.canvas.print_figure(bytes_io, **kw)\n",
      "c:\\users\\jpc10\\ideaprojects\\untitled\\venv\\lib\\site-packages\\IPython\\core\\pylabtools.py:151: UserWarning: Glyph 50676 (\\N{HANGUL SYLLABLE YEOL}) missing from current font.\n",
      "  fig.canvas.print_figure(bytes_io, **kw)\n",
      "c:\\users\\jpc10\\ideaprojects\\untitled\\venv\\lib\\site-packages\\IPython\\core\\pylabtools.py:151: UserWarning: Glyph 54172 (\\N{HANGUL SYLLABLE PEN}) missing from current font.\n",
      "  fig.canvas.print_figure(bytes_io, **kw)\n",
      "c:\\users\\jpc10\\ideaprojects\\untitled\\venv\\lib\\site-packages\\IPython\\core\\pylabtools.py:151: UserWarning: Glyph 54504 (\\N{HANGUL SYLLABLE PYU}) missing from current font.\n",
      "  fig.canvas.print_figure(bytes_io, **kw)\n",
      "c:\\users\\jpc10\\ideaprojects\\untitled\\venv\\lib\\site-packages\\IPython\\core\\pylabtools.py:151: UserWarning: Glyph 52996 (\\N{HANGUL SYLLABLE KEN}) missing from current font.\n",
      "  fig.canvas.print_figure(bytes_io, **kw)\n",
      "c:\\users\\jpc10\\ideaprojects\\untitled\\venv\\lib\\site-packages\\IPython\\core\\pylabtools.py:151: UserWarning: Glyph 47204 (\\N{HANGUL SYLLABLE ROL}) missing from current font.\n",
      "  fig.canvas.print_figure(bytes_io, **kw)\n",
      "c:\\users\\jpc10\\ideaprojects\\untitled\\venv\\lib\\site-packages\\IPython\\core\\pylabtools.py:151: UserWarning: Glyph 47553 (\\N{HANGUL SYLLABLE RING}) missing from current font.\n",
      "  fig.canvas.print_figure(bytes_io, **kw)\n",
      "c:\\users\\jpc10\\ideaprojects\\untitled\\venv\\lib\\site-packages\\IPython\\core\\pylabtools.py:151: UserWarning: Glyph 50629 (\\N{HANGUL SYLLABLE EOB}) missing from current font.\n",
      "  fig.canvas.print_figure(bytes_io, **kw)\n",
      "c:\\users\\jpc10\\ideaprojects\\untitled\\venv\\lib\\site-packages\\IPython\\core\\pylabtools.py:151: UserWarning: Glyph 46304 (\\N{HANGUL SYLLABLE DEUN}) missing from current font.\n",
      "  fig.canvas.print_figure(bytes_io, **kw)\n",
      "c:\\users\\jpc10\\ideaprojects\\untitled\\venv\\lib\\site-packages\\IPython\\core\\pylabtools.py:151: UserWarning: Glyph 51200 (\\N{HANGUL SYLLABLE JEO}) missing from current font.\n",
      "  fig.canvas.print_figure(bytes_io, **kw)\n",
      "c:\\users\\jpc10\\ideaprojects\\untitled\\venv\\lib\\site-packages\\IPython\\core\\pylabtools.py:151: UserWarning: Glyph 48373 (\\N{HANGUL SYLLABLE BOG}) missing from current font.\n",
      "  fig.canvas.print_figure(bytes_io, **kw)\n",
      "c:\\users\\jpc10\\ideaprojects\\untitled\\venv\\lib\\site-packages\\IPython\\core\\pylabtools.py:151: UserWarning: Glyph 47456 (\\N{HANGUL SYLLABLE RYUL}) missing from current font.\n",
      "  fig.canvas.print_figure(bytes_io, **kw)\n",
      "c:\\users\\jpc10\\ideaprojects\\untitled\\venv\\lib\\site-packages\\IPython\\core\\pylabtools.py:151: UserWarning: Glyph 49569 (\\N{HANGUL SYLLABLE SONG}) missing from current font.\n",
      "  fig.canvas.print_figure(bytes_io, **kw)\n",
      "c:\\users\\jpc10\\ideaprojects\\untitled\\venv\\lib\\site-packages\\IPython\\core\\pylabtools.py:151: UserWarning: Glyph 51656 (\\N{HANGUL SYLLABLE JIL}) missing from current font.\n",
      "  fig.canvas.print_figure(bytes_io, **kw)\n",
      "c:\\users\\jpc10\\ideaprojects\\untitled\\venv\\lib\\site-packages\\IPython\\core\\pylabtools.py:151: UserWarning: Glyph 49453 (\\N{HANGUL SYLLABLE SEOB}) missing from current font.\n",
      "  fig.canvas.print_figure(bytes_io, **kw)\n",
      "c:\\users\\jpc10\\ideaprojects\\untitled\\venv\\lib\\site-packages\\IPython\\core\\pylabtools.py:151: UserWarning: Glyph 50136 (\\N{HANGUL SYLLABLE SSO}) missing from current font.\n",
      "  fig.canvas.print_figure(bytes_io, **kw)\n",
      "c:\\users\\jpc10\\ideaprojects\\untitled\\venv\\lib\\site-packages\\IPython\\core\\pylabtools.py:151: UserWarning: Glyph 49892 (\\N{HANGUL SYLLABLE SIL}) missing from current font.\n",
      "  fig.canvas.print_figure(bytes_io, **kw)\n",
      "c:\\users\\jpc10\\ideaprojects\\untitled\\venv\\lib\\site-packages\\IPython\\core\\pylabtools.py:151: UserWarning: Glyph 51669 (\\N{HANGUL SYLLABLE JING}) missing from current font.\n",
      "  fig.canvas.print_figure(bytes_io, **kw)\n",
      "c:\\users\\jpc10\\ideaprojects\\untitled\\venv\\lib\\site-packages\\IPython\\core\\pylabtools.py:151: UserWarning: Glyph 50685 (\\N{HANGUL SYLLABLE YEOB}) missing from current font.\n",
      "  fig.canvas.print_figure(bytes_io, **kw)\n",
      "c:\\users\\jpc10\\ideaprojects\\untitled\\venv\\lib\\site-packages\\IPython\\core\\pylabtools.py:151: UserWarning: Glyph 51221 (\\N{HANGUL SYLLABLE JEONG}) missing from current font.\n",
      "  fig.canvas.print_figure(bytes_io, **kw)\n",
      "c:\\users\\jpc10\\ideaprojects\\untitled\\venv\\lib\\site-packages\\IPython\\core\\pylabtools.py:151: UserWarning: Glyph 54148 (\\N{HANGUL SYLLABLE PEOL}) missing from current font.\n",
      "  fig.canvas.print_figure(bytes_io, **kw)\n",
      "c:\\users\\jpc10\\ideaprojects\\untitled\\venv\\lib\\site-packages\\IPython\\core\\pylabtools.py:151: UserWarning: Glyph 49556 (\\N{HANGUL SYLLABLE SOL}) missing from current font.\n",
      "  fig.canvas.print_figure(bytes_io, **kw)\n",
      "c:\\users\\jpc10\\ideaprojects\\untitled\\venv\\lib\\site-packages\\IPython\\core\\pylabtools.py:151: UserWarning: Glyph 49772 (\\N{HANGUL SYLLABLE SWI}) missing from current font.\n",
      "  fig.canvas.print_figure(bytes_io, **kw)\n",
      "c:\\users\\jpc10\\ideaprojects\\untitled\\venv\\lib\\site-packages\\IPython\\core\\pylabtools.py:151: UserWarning: Glyph 53416 (\\N{HANGUL SYLLABLE KIN}) missing from current font.\n",
      "  fig.canvas.print_figure(bytes_io, **kw)\n",
      "c:\\users\\jpc10\\ideaprojects\\untitled\\venv\\lib\\site-packages\\IPython\\core\\pylabtools.py:151: UserWarning: Glyph 55092 (\\N{HANGUL SYLLABLE HYU}) missing from current font.\n",
      "  fig.canvas.print_figure(bytes_io, **kw)\n",
      "c:\\users\\jpc10\\ideaprojects\\untitled\\venv\\lib\\site-packages\\IPython\\core\\pylabtools.py:151: UserWarning: Glyph 51081 (\\N{HANGUL SYLLABLE ING}) missing from current font.\n",
      "  fig.canvas.print_figure(bytes_io, **kw)\n",
      "c:\\users\\jpc10\\ideaprojects\\untitled\\venv\\lib\\site-packages\\IPython\\core\\pylabtools.py:151: UserWarning: Glyph 46888 (\\N{HANGUL SYLLABLE DDEU}) missing from current font.\n",
      "  fig.canvas.print_figure(bytes_io, **kw)\n",
      "c:\\users\\jpc10\\ideaprojects\\untitled\\venv\\lib\\site-packages\\IPython\\core\\pylabtools.py:151: UserWarning: Glyph 52880 (\\N{HANGUL SYLLABLE KAE}) missing from current font.\n",
      "  fig.canvas.print_figure(bytes_io, **kw)\n",
      "c:\\users\\jpc10\\ideaprojects\\untitled\\venv\\lib\\site-packages\\IPython\\core\\pylabtools.py:151: UserWarning: Glyph 47561 (\\N{HANGUL SYLLABLE MAG}) missing from current font.\n",
      "  fig.canvas.print_figure(bytes_io, **kw)\n",
      "c:\\users\\jpc10\\ideaprojects\\untitled\\venv\\lib\\site-packages\\IPython\\core\\pylabtools.py:151: UserWarning: Glyph 46024 (\\N{HANGUL SYLLABLE DON}) missing from current font.\n",
      "  fig.canvas.print_figure(bytes_io, **kw)\n",
      "c:\\users\\jpc10\\ideaprojects\\untitled\\venv\\lib\\site-packages\\IPython\\core\\pylabtools.py:151: UserWarning: Glyph 51460 (\\N{HANGUL SYLLABLE JUL}) missing from current font.\n",
      "  fig.canvas.print_figure(bytes_io, **kw)\n",
      "c:\\users\\jpc10\\ideaprojects\\untitled\\venv\\lib\\site-packages\\IPython\\core\\pylabtools.py:151: UserWarning: Glyph 51109 (\\N{HANGUL SYLLABLE JANG}) missing from current font.\n",
      "  fig.canvas.print_figure(bytes_io, **kw)\n",
      "c:\\users\\jpc10\\ideaprojects\\untitled\\venv\\lib\\site-packages\\IPython\\core\\pylabtools.py:151: UserWarning: Glyph 49752 (\\N{HANGUL SYLLABLE SWEL}) missing from current font.\n",
      "  fig.canvas.print_figure(bytes_io, **kw)\n",
      "c:\\users\\jpc10\\ideaprojects\\untitled\\venv\\lib\\site-packages\\IPython\\core\\pylabtools.py:151: UserWarning: Glyph 45787 (\\N{HANGUL SYLLABLE NIS}) missing from current font.\n",
      "  fig.canvas.print_figure(bytes_io, **kw)\n",
      "c:\\users\\jpc10\\ideaprojects\\untitled\\venv\\lib\\site-packages\\IPython\\core\\pylabtools.py:151: UserWarning: Glyph 48197 (\\N{HANGUL SYLLABLE BAENG}) missing from current font.\n",
      "  fig.canvas.print_figure(bytes_io, **kw)\n",
      "c:\\users\\jpc10\\ideaprojects\\untitled\\venv\\lib\\site-packages\\IPython\\core\\pylabtools.py:151: UserWarning: Glyph 52280 (\\N{HANGUL SYLLABLE CAM}) missing from current font.\n",
      "  fig.canvas.print_figure(bytes_io, **kw)\n",
      "c:\\users\\jpc10\\ideaprojects\\untitled\\venv\\lib\\site-packages\\IPython\\core\\pylabtools.py:151: UserWarning: Glyph 52377 (\\N{HANGUL SYLLABLE CEOG}) missing from current font.\n",
      "  fig.canvas.print_figure(bytes_io, **kw)\n",
      "c:\\users\\jpc10\\ideaprojects\\untitled\\venv\\lib\\site-packages\\IPython\\core\\pylabtools.py:151: UserWarning: Glyph 48656 (\\N{HANGUL SYLLABLE BEUN}) missing from current font.\n",
      "  fig.canvas.print_figure(bytes_io, **kw)\n",
      "c:\\users\\jpc10\\ideaprojects\\untitled\\venv\\lib\\site-packages\\IPython\\core\\pylabtools.py:151: UserWarning: Glyph 54756 (\\N{HANGUL SYLLABLE HE}) missing from current font.\n",
      "  fig.canvas.print_figure(bytes_io, **kw)\n",
      "c:\\users\\jpc10\\ideaprojects\\untitled\\venv\\lib\\site-packages\\IPython\\core\\pylabtools.py:151: UserWarning: Glyph 53948 (\\N{HANGUL SYLLABLE TEUN}) missing from current font.\n",
      "  fig.canvas.print_figure(bytes_io, **kw)\n",
      "c:\\users\\jpc10\\ideaprojects\\untitled\\venv\\lib\\site-packages\\IPython\\core\\pylabtools.py:151: UserWarning: Glyph 48736 (\\N{HANGUL SYLLABLE BBA}) missing from current font.\n",
      "  fig.canvas.print_figure(bytes_io, **kw)\n",
      "c:\\users\\jpc10\\ideaprojects\\untitled\\venv\\lib\\site-packages\\IPython\\core\\pylabtools.py:151: UserWarning: Glyph 44628 (\\N{HANGUL SYLLABLE GGAL}) missing from current font.\n",
      "  fig.canvas.print_figure(bytes_io, **kw)\n",
      "c:\\users\\jpc10\\ideaprojects\\untitled\\venv\\lib\\site-packages\\IPython\\core\\pylabtools.py:151: UserWarning: Glyph 50773 (\\N{HANGUL SYLLABLE WANG}) missing from current font.\n",
      "  fig.canvas.print_figure(bytes_io, **kw)\n",
      "c:\\users\\jpc10\\ideaprojects\\untitled\\venv\\lib\\site-packages\\IPython\\core\\pylabtools.py:151: UserWarning: Glyph 44288 (\\N{HANGUL SYLLABLE GWAN}) missing from current font.\n",
      "  fig.canvas.print_figure(bytes_io, **kw)\n",
      "c:\\users\\jpc10\\ideaprojects\\untitled\\venv\\lib\\site-packages\\IPython\\core\\pylabtools.py:151: UserWarning: Glyph 50840 (\\N{HANGUL SYLLABLE YON}) missing from current font.\n",
      "  fig.canvas.print_figure(bytes_io, **kw)\n",
      "c:\\users\\jpc10\\ideaprojects\\untitled\\venv\\lib\\site-packages\\IPython\\core\\pylabtools.py:151: UserWarning: Glyph 51247 (\\N{HANGUL SYLLABLE JES}) missing from current font.\n",
      "  fig.canvas.print_figure(bytes_io, **kw)\n",
      "c:\\users\\jpc10\\ideaprojects\\untitled\\venv\\lib\\site-packages\\IPython\\core\\pylabtools.py:151: UserWarning: Glyph 50504 (\\N{HANGUL SYLLABLE AN}) missing from current font.\n",
      "  fig.canvas.print_figure(bytes_io, **kw)\n",
      "c:\\users\\jpc10\\ideaprojects\\untitled\\venv\\lib\\site-packages\\IPython\\core\\pylabtools.py:151: UserWarning: Glyph 47576 (\\N{HANGUL SYLLABLE MAM}) missing from current font.\n",
      "  fig.canvas.print_figure(bytes_io, **kw)\n",
      "c:\\users\\jpc10\\ideaprojects\\untitled\\venv\\lib\\site-packages\\IPython\\core\\pylabtools.py:151: UserWarning: Glyph 48727 (\\N{HANGUL SYLLABLE BIS}) missing from current font.\n",
      "  fig.canvas.print_figure(bytes_io, **kw)\n",
      "c:\\users\\jpc10\\ideaprojects\\untitled\\venv\\lib\\site-packages\\IPython\\core\\pylabtools.py:151: UserWarning: Glyph 45336 (\\N{HANGUL SYLLABLE NEOM}) missing from current font.\n",
      "  fig.canvas.print_figure(bytes_io, **kw)\n",
      "c:\\users\\jpc10\\ideaprojects\\untitled\\venv\\lib\\site-packages\\IPython\\core\\pylabtools.py:151: UserWarning: Glyph 47337 (\\N{HANGUL SYLLABLE RUG}) missing from current font.\n",
      "  fig.canvas.print_figure(bytes_io, **kw)\n"
     ]
    },
    {
     "data": {
      "text/plain": "<Figure size 432x288 with 1 Axes>",
      "image/png": "[encoded data removed]"
     },
     "metadata": {
      "needs_background": "light"
     },
     "output_type": "display_data"
    }
   ],
   "source": [
    "plt.bar(sorted_pivot_table['브랜드명'], sorted_pivot_table['count'])\n",
    "plt.title('Brand Counts')\n",
    "plt.xlabel('Brand')\n",
    "plt.ylabel('Count')\n",
    "plt.show()"
   ],
   "metadata": {
    "collapsed": false,
    "pycharm": {
     "name": "#%%\n"
    }
   }
  },
  {
   "cell_type": "code",
   "execution_count": null,
   "outputs": [],
   "source": [
    "# 회귀분석-선형회귀분석\n"
   ],
   "metadata": {
    "collapsed": false,
    "pycharm": {
     "name": "#%%\n"
    }
   }
  },
  {
   "cell_type": "code",
   "execution_count": 91,
   "outputs": [],
   "source": [
    "X=merged_df[['상품명', '브랜드명', '평점', '조회수_수정', '누적판매량(1년)_수정', '구매후기 개수_수정']]\n",
    "y=merged_df['좋아요']"
   ],
   "metadata": {
    "collapsed": false,
    "pycharm": {
     "name": "#%%\n"
    }
   }
  },
  {
   "cell_type": "code",
   "execution_count": null,
   "outputs": [],
   "source": [
    "# 원 핫 인코딩 사용준비"
   ],
   "metadata": {
    "collapsed": false,
    "pycharm": {
     "name": "#%%\n"
    }
   }
  },
  {
   "cell_type": "code",
   "execution_count": 92,
   "outputs": [],
   "source": [
    "X=pd.get_dummies(X, columns=['상품명', '브랜드명'])"
   ],
   "metadata": {
    "collapsed": false,
    "pycharm": {
     "name": "#%%\n"
    }
   }
  },
  {
   "cell_type": "code",
   "execution_count": 93,
   "outputs": [
    {
     "data": {
      "text/plain": "LinearRegression()",
      "text/html": "<style>#sk-container-id-1 {color: black;background-color: white;}#sk-container-id-1 pre{padding: 0;}#sk-container-id-1 div.sk-toggleable {background-color: white;}#sk-container-id-1 label.sk-toggleable__label {cursor: pointer;display: block;width: 100%;margin-bottom: 0;padding: 0.3em;box-sizing: border-box;text-align: center;}#sk-container-id-1 label.sk-toggleable__label-arrow:before {content: \"▸\";float: left;margin-right: 0.25em;color: #696969;}#sk-container-id-1 label.sk-toggleable__label-arrow:hover:before {color: black;}#sk-container-id-1 div.sk-estimator:hover label.sk-toggleable__label-arrow:before {color: black;}#sk-container-id-1 div.sk-toggleable__content {max-height: 0;max-width: 0;overflow: hidden;text-align: left;background-color: #f0f8ff;}#sk-container-id-1 div.sk-toggleable__content pre {margin: 0.2em;color: black;border-radius: 0.25em;background-color: #f0f8ff;}#sk-container-id-1 input.sk-toggleable__control:checked~div.sk-toggleable__content {max-height: 200px;max-width: 100%;overflow: auto;}#sk-container-id-1 input.sk-toggleable__control:checked~label.sk-toggleable__label-arrow:before {content: \"▾\";}#sk-container-id-1 div.sk-estimator input.sk-toggleable__control:checked~label.sk-toggleable__label {background-color: #d4ebff;}#sk-container-id-1 div.sk-label input.sk-toggleable__control:checked~label.sk-toggleable__label {background-color: #d4ebff;}#sk-container-id-1 input.sk-hidden--visually {border: 0;clip: rect(1px 1px 1px 1px);clip: rect(1px, 1px, 1px, 1px);height: 1px;margin: -1px;overflow: hidden;padding: 0;position: absolute;width: 1px;}#sk-container-id-1 div.sk-estimator {font-family: monospace;background-color: #f0f8ff;border: 1px dotted black;border-radius: 0.25em;box-sizing: border-box;margin-bottom: 0.5em;}#sk-container-id-1 div.sk-estimator:hover {background-color: #d4ebff;}#sk-container-id-1 div.sk-parallel-item::after {content: \"\";width: 100%;border-bottom: 1px solid gray;flex-grow: 1;}#sk-container-id-1 div.sk-label:hover label.sk-toggleable__label {background-color: #d4ebff;}#sk-container-id-1 div.sk-serial::before {content: \"\";position: absolute;border-left: 1px solid gray;box-sizing: border-box;top: 0;bottom: 0;left: 50%;z-index: 0;}#sk-container-id-1 div.sk-serial {display: flex;flex-direction: column;align-items: center;background-color: white;padding-right: 0.2em;padding-left: 0.2em;position: relative;}#sk-container-id-1 div.sk-item {position: relative;z-index: 1;}#sk-container-id-1 div.sk-parallel {display: flex;align-items: stretch;justify-content: center;background-color: white;position: relative;}#sk-container-id-1 div.sk-item::before, #sk-container-id-1 div.sk-parallel-item::before {content: \"\";position: absolute;border-left: 1px solid gray;box-sizing: border-box;top: 0;bottom: 0;left: 50%;z-index: -1;}#sk-container-id-1 div.sk-parallel-item {display: flex;flex-direction: column;z-index: 1;position: relative;background-color: white;}#sk-container-id-1 div.sk-parallel-item:first-child::after {align-self: flex-end;width: 50%;}#sk-container-id-1 div.sk-parallel-item:last-child::after {align-self: flex-start;width: 50%;}#sk-container-id-1 div.sk-parallel-item:only-child::after {width: 0;}#sk-container-id-1 div.sk-dashed-wrapped {border: 1px dashed gray;margin: 0 0.4em 0.5em 0.4em;box-sizing: border-box;padding-bottom: 0.4em;background-color: white;}#sk-container-id-1 div.sk-label label {font-family: monospace;font-weight: bold;display: inline-block;line-height: 1.2em;}#sk-container-id-1 div.sk-label-container {text-align: center;}#sk-container-id-1 div.sk-container {/* jupyter's `normalize.less` sets `[hidden] { display: none; }` but bootstrap.min.css set `[hidden] { display: none !important; }` so we also need the `!important` here to be able to override the default hidden behavior on the sphinx rendered scikit-learn.org. See: https://github.com/scikit-learn/scikit-learn/issues/21755 */display: inline-block !important;position: relative;}#sk-container-id-1 div.sk-text-repr-fallback {display: none;}</style><div id=\"sk-container-id-1\" class=\"sk-top-container\"><div class=\"sk-text-repr-fallback\"><pre>LinearRegression()</pre><b>In a Jupyter environment, please rerun this cell to show the HTML representation or trust the notebook. <br />On GitHub, the HTML representation is unable to render, please try loading this page with nbviewer.org.</b></div><div class=\"sk-container\" hidden><div class=\"sk-item\"><div class=\"sk-estimator sk-toggleable\"><input class=\"sk-toggleable__control sk-hidden--visually\" id=\"sk-estimator-id-1\" type=\"checkbox\" checked><label for=\"sk-estimator-id-1\" class=\"sk-toggleable__label sk-toggleable__label-arrow\">LinearRegression</label><div class=\"sk-toggleable__content\"><pre>LinearRegression()</pre></div></div></div></div></div>"
     },
     "execution_count": 93,
     "metadata": {},
     "output_type": "execute_result"
    }
   ],
   "source": [
    "from sklearn.model_selection import train_test_split\n",
    "from sklearn.linear_model import LinearRegression\n",
    "\n",
    "X_train, X_test, y_train, y_test=train_test_split(X,y, test_size=0.2, random_state=42)\n",
    "\n",
    "lr=LinearRegression()\n",
    "lr.fit(X_train, y_train)"
   ],
   "metadata": {
    "collapsed": false,
    "pycharm": {
     "name": "#%%\n"
    }
   }
  },
  {
   "cell_type": "code",
   "execution_count": 94,
   "outputs": [
    {
     "name": "stdout",
     "output_type": "stream",
     "text": [
      "MSE 55142869.940784484\n",
      "R-squared 0.5566033532619395\n"
     ]
    }
   ],
   "source": [
    "from sklearn.metrics import mean_squared_error, r2_score\n",
    "\n",
    "y_pred=lr.predict(X_test)\n",
    "mse=mean_squared_error(y_test, y_pred)\n",
    "r2=r2_score(y_test, y_pred)\n",
    "\n",
    "print('MSE',mse)\n",
    "print('R-squared', r2)"
   ],
   "metadata": {
    "collapsed": false,
    "pycharm": {
     "name": "#%%\n"
    }
   }
  },
  {
   "cell_type": "code",
   "execution_count": null,
   "outputs": [],
   "source": [],
   "metadata": {
    "collapsed": false,
    "pycharm": {
     "name": "#%%\n"
    }
   }
  },
  {
   "cell_type": "markdown",
   "source": [],
   "metadata": {
    "collapsed": false
   }
  }
 ],
 "metadata": {
  "kernelspec": {
   "display_name": "Python 3",
   "language": "python",
   "name": "python3"
  },
  "language_info": {
   "codemirror_mode": {
    "name": "ipython",
    "version": 2
   },
   "file_extension": ".py",
   "mimetype": "text/x-python",
   "name": "python",
   "nbconvert_exporter": "python",
   "pygments_lexer": "ipython2",
   "version": "2.7.6"
  }
 },
 "nbformat": 4,
 "nbformat_minor": 0
}
