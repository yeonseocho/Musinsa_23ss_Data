{
 "cells": [
  {
   "cell_type": "code",
   "execution_count": 1,
   "metadata": {
    "collapsed": true
   },
   "outputs": [],
   "source": [
    "import pandas as pd"
   ]
  },
  {
   "cell_type": "code",
   "execution_count": 7,
   "outputs": [],
   "source": [
    "p1=pd.read_csv('./pre_final_data/0319 musinsa_ranking_category1_page1.csv')\n",
    "p2=pd.read_csv('./pre_final_data/0319 musinsa_ranking_category1_page2.csv')\n",
    "p3=pd.read_csv('./pre_final_data/0319 musinsa_ranking_category1_page3.csv')\n",
    "p4=pd.read_csv('./pre_final_data/0319 musinsa_ranking_category1_page4.csv')\n",
    "p5=pd.read_csv('./pre_final_data/0319 musinsa_ranking_category1_page5.csv')\n",
    "p6=pd.read_csv('./pre_final_data/0319 musinsa_ranking_category1_page6.csv')\n",
    "p7=pd.read_csv('./pre_final_data/0319 musinsa_ranking_category1_page7.csv')\n",
    "p8=pd.read_csv('./pre_final_data/0319 musinsa_ranking_category1_page8.csv')\n",
    "p9=pd.read_csv('./pre_final_data/0319 musinsa_ranking_category1_page9.csv')\n",
    "p10=pd.read_csv('./pre_final_data/0319 musinsa_ranking_category1_page10.csv')\n",
    "p11=pd.read_csv('./pre_final_data/0319 musinsa_ranking_category1_page11.csv')\n",
    "p12=pd.read_csv('./pre_final_data/0319 musinsa_ranking_category1_page12.csv')\n",
    "p13=pd.read_csv('./pre_final_data/0319 musinsa_ranking_category1_page13.csv')\n",
    "p14=pd.read_csv('./pre_final_data/0319 musinsa_ranking_category1_page14.csv')\n",
    "p15=pd.read_csv('./pre_final_data/0319 musinsa_ranking_category1_page15.csv')\n",
    "p16=pd.read_csv('./pre_final_data/0319 musinsa_ranking_category1_page16.csv')\n",
    "p17=pd.read_csv('./pre_final_data/0319 musinsa_ranking_category1_page17.csv')\n",
    "p18=pd.read_csv('./pre_final_data/0319 musinsa_ranking_category1_page18.csv')\n",
    "p19=pd.read_csv('./pre_final_data/0319 musinsa_ranking_category1_page19.csv')\n",
    "p20=pd.read_csv('./pre_final_data/0319 musinsa_ranking_category1_page20.csv')\n",
    "p21=pd.read_csv('./pre_final_data/0319 musinsa_ranking_category1_page21.csv')\n",
    "p22=pd.read_csv('./pre_final_data/0319 musinsa_ranking_category1_page22.csv')\n",
    "p23=pd.read_csv('./pre_final_data/0319 musinsa_ranking_category1_page23.csv')\n",
    "p24=pd.read_csv('./pre_final_data/0319 musinsa_ranking_category1_page24.csv')\n",
    "p25=pd.read_csv('./pre_final_data/0319 musinsa_ranking_category1_page25.csv')\n",
    "p26=pd.read_csv('./pre_final_data/0319 musinsa_ranking_category1_page26.csv')\n",
    "p27=pd.read_csv('./pre_final_data/0319 musinsa_ranking_category1_page27.csv')\n",
    "p28=pd.read_csv('./pre_final_data/0319 musinsa_ranking_category1_page28.csv')\n",
    "p29=pd.read_csv('./pre_final_data/0319 musinsa_ranking_category1_page29.csv')\n",
    "p30=pd.read_csv('./pre_final_data/0319 musinsa_ranking_category1_page30.csv')\n",
    "p31=pd.read_csv('./pre_final_data/0319 musinsa_ranking_category1_page31.csv')\n",
    "p32=pd.read_csv('./pre_final_data/0319 musinsa_ranking_category1_page32.csv')\n",
    "p33=pd.read_csv('./pre_final_data/0319 musinsa_ranking_category1_page33.csv')\n",
    "p34=pd.read_csv('./pre_final_data/0319 musinsa_ranking_category1_page34.csv')\n",
    "p35=pd.read_csv('./pre_final_data/0319 musinsa_ranking_category1_page35.csv')\n",
    "p36=pd.read_csv('./pre_final_data/0319 musinsa_ranking_category1_page36.csv')\n",
    "p37=pd.read_csv('./pre_final_data/0319 musinsa_ranking_category1_page37.csv')\n",
    "p38=pd.read_csv('./pre_final_data/0319 musinsa_ranking_category1_page38.csv')\n",
    "p39=pd.read_csv('./pre_final_data/0319 musinsa_ranking_category1_page39.csv')\n",
    "p40=pd.read_csv('./pre_final_data/0319 musinsa_ranking_category1_page40.csv')\n",
    "p41=pd.read_csv('./pre_final_data/0319 musinsa_ranking_category1_page41.csv')\n",
    "p42=pd.read_csv('./pre_final_data/0319 musinsa_ranking_category1_page42.csv')\n",
    "p43=pd.read_csv('./pre_final_data/0319 musinsa_ranking_category1_page43.csv')\n",
    "p44=pd.read_csv('./pre_final_data/0319 musinsa_ranking_category1_page44.csv')\n",
    "p45=pd.read_csv('./pre_final_data/0319 musinsa_ranking_category1_page45.csv')\n",
    "p46=pd.read_csv('./pre_final_data/0319 musinsa_ranking_category1_page46.csv')\n",
    "p47=pd.read_csv('./pre_final_data/0319 musinsa_ranking_category1_page47.csv')\n",
    "p48=pd.read_csv('./pre_final_data/0319 musinsa_ranking_category1_page48.csv')\n",
    "p49=pd.read_csv('./pre_final_data/0319 musinsa_ranking_category1_page49.csv')\n",
    "p50=pd.read_csv('./pre_final_data/0319 musinsa_ranking_category1_page50.csv')"
   ],
   "metadata": {
    "collapsed": false,
    "pycharm": {
     "name": "#%%\n"
    }
   }
  },
  {
   "cell_type": "code",
   "execution_count": 10,
   "outputs": [
    {
     "data": {
      "text/plain": "       순위                                             상품명             브랜드명  \\\n0      1위                   (시티보이) 오버핏 옥스포드 셔츠_SPYWD23C01              스파오   \n1      2위  [23SS Ver.][PACKAGE] 시티보이 빅오버 워싱 데님 셔츠_4 Color           라퍼지스토어   \n2      3위      [MUSINSA EXCLUSIVE] 뉴욕 복싱 클럽 코튼 치노 셔츠 - 블랙         폴로 랄프 로렌   \n3      4위                                   베이식 긴팔 티셔츠 2팩         무신사 스탠다드   \n4      5위                       레이어드 크루 넥 반팔 티셔츠_일반 기장 2팩         무신사 스탠다드   \n..    ...                                             ...              ...   \n85  4496위                                벌룬핏 크루넥 니트 BLACK            인사일런스   \n86  4497위                    Narbe Half Shirt - Blue Grey          오프닝프로젝트   \n87  4498위  PHYPS® MONDAY ROUTINE STITCH HOODIE BERRY PINK  피지컬 에듀케이션 디파트먼트   \n88  4499위            차콜그레이 벌룬핏 피그먼트 다잉 후드 티셔츠 IETS3E201CG             일꼬르소   \n89  4500위                                캡 슬리브 워머 셔츠 / 블랙              오호스   \n\n                                                  url         조회수     좋아요  \\\n0   https://www.musinsa.com/app/goods/2272830?loc=...  22.4만 회 이상  46,073   \n1   https://www.musinsa.com/app/goods/3150516?loc=...   1.5만 회 이상     884   \n2   https://www.musinsa.com/app/goods/3072191?loc=...   1.5만 회 이상     314   \n3   https://www.musinsa.com/app/goods/2149254?loc=...  14.1만 회 이상  57,235   \n4   https://www.musinsa.com/app/goods/2122566?loc=...   8.7만 회 이상  18,637   \n..                                                ...         ...     ...   \n85  https://www.musinsa.com/app/goods/2780269?loc=...   2.2천 회 이상     351   \n86  https://www.musinsa.com/app/goods/3051777?loc=...   1.4천 회 이상     173   \n87  https://www.musinsa.com/app/goods/3073854?loc=...   6.2천 회 이상     924   \n88  https://www.musinsa.com/app/goods/2873711?loc=...   4.4천 회 이상     802   \n89  https://www.musinsa.com/app/goods/3133209?loc=...     200회 이상      74   \n\n          구매후기 개수     평점 누적판매량(1년)  \n0   후기 17,548개 보기    4.9   5만 개 이상  \n1        후기 3개 보기    4.7   100개 이상  \n2           후기 0개  평점 0점   100개 이상  \n3   후기 31,434개 보기    4.9  12만 개 이상  \n4   후기 14,555개 보기    4.9   5만 개 이상  \n..            ...    ...       ...  \n85      후기 46개 보기    4.9   100개 이상  \n86          후기 0개  평점 0점       NaN  \n87      후기 24개 보기    4.5   100개 이상  \n88      후기 61개 보기      5   200개 이상  \n89          후기 0개  평점 0점       NaN  \n\n[4500 rows x 9 columns]",
      "text/html": "<div>\n<style scoped>\n    .dataframe tbody tr th:only-of-type {\n        vertical-align: middle;\n    }\n\n    .dataframe tbody tr th {\n        vertical-align: top;\n    }\n\n    .dataframe thead th {\n        text-align: right;\n    }\n</style>\n<table border=\"1\" class=\"dataframe\">\n  <thead>\n    <tr style=\"text-align: right;\">\n      <th></th>\n      <th>순위</th>\n      <th>상품명</th>\n      <th>브랜드명</th>\n      <th>url</th>\n      <th>조회수</th>\n      <th>좋아요</th>\n      <th>구매후기 개수</th>\n      <th>평점</th>\n      <th>누적판매량(1년)</th>\n    </tr>\n  </thead>\n  <tbody>\n    <tr>\n      <th>0</th>\n      <td>1위</td>\n      <td>(시티보이) 오버핏 옥스포드 셔츠_SPYWD23C01</td>\n      <td>스파오</td>\n      <td>https://www.musinsa.com/app/goods/2272830?loc=...</td>\n      <td>22.4만 회 이상</td>\n      <td>46,073</td>\n      <td>후기 17,548개 보기</td>\n      <td>4.9</td>\n      <td>5만 개 이상</td>\n    </tr>\n    <tr>\n      <th>1</th>\n      <td>2위</td>\n      <td>[23SS Ver.][PACKAGE] 시티보이 빅오버 워싱 데님 셔츠_4 Color</td>\n      <td>라퍼지스토어</td>\n      <td>https://www.musinsa.com/app/goods/3150516?loc=...</td>\n      <td>1.5만 회 이상</td>\n      <td>884</td>\n      <td>후기 3개 보기</td>\n      <td>4.7</td>\n      <td>100개 이상</td>\n    </tr>\n    <tr>\n      <th>2</th>\n      <td>3위</td>\n      <td>[MUSINSA EXCLUSIVE] 뉴욕 복싱 클럽 코튼 치노 셔츠 - 블랙</td>\n      <td>폴로 랄프 로렌</td>\n      <td>https://www.musinsa.com/app/goods/3072191?loc=...</td>\n      <td>1.5만 회 이상</td>\n      <td>314</td>\n      <td>후기 0개</td>\n      <td>평점 0점</td>\n      <td>100개 이상</td>\n    </tr>\n    <tr>\n      <th>3</th>\n      <td>4위</td>\n      <td>베이식 긴팔 티셔츠 2팩</td>\n      <td>무신사 스탠다드</td>\n      <td>https://www.musinsa.com/app/goods/2149254?loc=...</td>\n      <td>14.1만 회 이상</td>\n      <td>57,235</td>\n      <td>후기 31,434개 보기</td>\n      <td>4.9</td>\n      <td>12만 개 이상</td>\n    </tr>\n    <tr>\n      <th>4</th>\n      <td>5위</td>\n      <td>레이어드 크루 넥 반팔 티셔츠_일반 기장 2팩</td>\n      <td>무신사 스탠다드</td>\n      <td>https://www.musinsa.com/app/goods/2122566?loc=...</td>\n      <td>8.7만 회 이상</td>\n      <td>18,637</td>\n      <td>후기 14,555개 보기</td>\n      <td>4.9</td>\n      <td>5만 개 이상</td>\n    </tr>\n    <tr>\n      <th>...</th>\n      <td>...</td>\n      <td>...</td>\n      <td>...</td>\n      <td>...</td>\n      <td>...</td>\n      <td>...</td>\n      <td>...</td>\n      <td>...</td>\n      <td>...</td>\n    </tr>\n    <tr>\n      <th>85</th>\n      <td>4496위</td>\n      <td>벌룬핏 크루넥 니트 BLACK</td>\n      <td>인사일런스</td>\n      <td>https://www.musinsa.com/app/goods/2780269?loc=...</td>\n      <td>2.2천 회 이상</td>\n      <td>351</td>\n      <td>후기 46개 보기</td>\n      <td>4.9</td>\n      <td>100개 이상</td>\n    </tr>\n    <tr>\n      <th>86</th>\n      <td>4497위</td>\n      <td>Narbe Half Shirt - Blue Grey</td>\n      <td>오프닝프로젝트</td>\n      <td>https://www.musinsa.com/app/goods/3051777?loc=...</td>\n      <td>1.4천 회 이상</td>\n      <td>173</td>\n      <td>후기 0개</td>\n      <td>평점 0점</td>\n      <td>NaN</td>\n    </tr>\n    <tr>\n      <th>87</th>\n      <td>4498위</td>\n      <td>PHYPS® MONDAY ROUTINE STITCH HOODIE BERRY PINK</td>\n      <td>피지컬 에듀케이션 디파트먼트</td>\n      <td>https://www.musinsa.com/app/goods/3073854?loc=...</td>\n      <td>6.2천 회 이상</td>\n      <td>924</td>\n      <td>후기 24개 보기</td>\n      <td>4.5</td>\n      <td>100개 이상</td>\n    </tr>\n    <tr>\n      <th>88</th>\n      <td>4499위</td>\n      <td>차콜그레이 벌룬핏 피그먼트 다잉 후드 티셔츠 IETS3E201CG</td>\n      <td>일꼬르소</td>\n      <td>https://www.musinsa.com/app/goods/2873711?loc=...</td>\n      <td>4.4천 회 이상</td>\n      <td>802</td>\n      <td>후기 61개 보기</td>\n      <td>5</td>\n      <td>200개 이상</td>\n    </tr>\n    <tr>\n      <th>89</th>\n      <td>4500위</td>\n      <td>캡 슬리브 워머 셔츠 / 블랙</td>\n      <td>오호스</td>\n      <td>https://www.musinsa.com/app/goods/3133209?loc=...</td>\n      <td>200회 이상</td>\n      <td>74</td>\n      <td>후기 0개</td>\n      <td>평점 0점</td>\n      <td>NaN</td>\n    </tr>\n  </tbody>\n</table>\n<p>4500 rows × 9 columns</p>\n</div>"
     },
     "execution_count": 10,
     "metadata": {},
     "output_type": "execute_result"
    }
   ],
   "source": [
    "merged_df = pd.concat([p1, p2, p3,p4,p5,p6,p7,p8,p9,p10,p11,p12,p13,p14,p15,p16,p17,p18,p19,p20,p21,p22,p23,p24,p25,p26,p27,p28,p29,p30,p31,p32,p33,p34,p35,p36,p37,p38,p39,p40,p41,p42,p43,p44,p45,p46,p47,p48,p49,p50], axis=0)\n",
    "merged_df"
   ],
   "metadata": {
    "collapsed": false,
    "pycharm": {
     "name": "#%%\n"
    }
   }
  },
  {
   "cell_type": "code",
   "execution_count": 12,
   "outputs": [
    {
     "data": {
      "text/plain": "         순위                                             상품명             브랜드명  \\\n0        1위                   (시티보이) 오버핏 옥스포드 셔츠_SPYWD23C01              스파오   \n1        2위  [23SS Ver.][PACKAGE] 시티보이 빅오버 워싱 데님 셔츠_4 Color           라퍼지스토어   \n2        3위      [MUSINSA EXCLUSIVE] 뉴욕 복싱 클럽 코튼 치노 셔츠 - 블랙         폴로 랄프 로렌   \n3        4위                                   베이식 긴팔 티셔츠 2팩         무신사 스탠다드   \n4        5위                       레이어드 크루 넥 반팔 티셔츠_일반 기장 2팩         무신사 스탠다드   \n...     ...                                             ...              ...   \n4495  4496위                                벌룬핏 크루넥 니트 BLACK            인사일런스   \n4496  4497위                    Narbe Half Shirt - Blue Grey          오프닝프로젝트   \n4497  4498위  PHYPS® MONDAY ROUTINE STITCH HOODIE BERRY PINK  피지컬 에듀케이션 디파트먼트   \n4498  4499위            차콜그레이 벌룬핏 피그먼트 다잉 후드 티셔츠 IETS3E201CG             일꼬르소   \n4499  4500위                                캡 슬리브 워머 셔츠 / 블랙              오호스   \n\n                                                    url         조회수     좋아요  \\\n0     https://www.musinsa.com/app/goods/2272830?loc=...  22.4만 회 이상  46,073   \n1     https://www.musinsa.com/app/goods/3150516?loc=...   1.5만 회 이상     884   \n2     https://www.musinsa.com/app/goods/3072191?loc=...   1.5만 회 이상     314   \n3     https://www.musinsa.com/app/goods/2149254?loc=...  14.1만 회 이상  57,235   \n4     https://www.musinsa.com/app/goods/2122566?loc=...   8.7만 회 이상  18,637   \n...                                                 ...         ...     ...   \n4495  https://www.musinsa.com/app/goods/2780269?loc=...   2.2천 회 이상     351   \n4496  https://www.musinsa.com/app/goods/3051777?loc=...   1.4천 회 이상     173   \n4497  https://www.musinsa.com/app/goods/3073854?loc=...   6.2천 회 이상     924   \n4498  https://www.musinsa.com/app/goods/2873711?loc=...   4.4천 회 이상     802   \n4499  https://www.musinsa.com/app/goods/3133209?loc=...     200회 이상      74   \n\n            구매후기 개수     평점 누적판매량(1년)  \n0     후기 17,548개 보기    4.9   5만 개 이상  \n1          후기 3개 보기    4.7   100개 이상  \n2             후기 0개  평점 0점   100개 이상  \n3     후기 31,434개 보기    4.9  12만 개 이상  \n4     후기 14,555개 보기    4.9   5만 개 이상  \n...             ...    ...       ...  \n4495      후기 46개 보기    4.9   100개 이상  \n4496          후기 0개  평점 0점       NaN  \n4497      후기 24개 보기    4.5   100개 이상  \n4498      후기 61개 보기      5   200개 이상  \n4499          후기 0개  평점 0점       NaN  \n\n[4500 rows x 9 columns]",
      "text/html": "<div>\n<style scoped>\n    .dataframe tbody tr th:only-of-type {\n        vertical-align: middle;\n    }\n\n    .dataframe tbody tr th {\n        vertical-align: top;\n    }\n\n    .dataframe thead th {\n        text-align: right;\n    }\n</style>\n<table border=\"1\" class=\"dataframe\">\n  <thead>\n    <tr style=\"text-align: right;\">\n      <th></th>\n      <th>순위</th>\n      <th>상품명</th>\n      <th>브랜드명</th>\n      <th>url</th>\n      <th>조회수</th>\n      <th>좋아요</th>\n      <th>구매후기 개수</th>\n      <th>평점</th>\n      <th>누적판매량(1년)</th>\n    </tr>\n  </thead>\n  <tbody>\n    <tr>\n      <th>0</th>\n      <td>1위</td>\n      <td>(시티보이) 오버핏 옥스포드 셔츠_SPYWD23C01</td>\n      <td>스파오</td>\n      <td>https://www.musinsa.com/app/goods/2272830?loc=...</td>\n      <td>22.4만 회 이상</td>\n      <td>46,073</td>\n      <td>후기 17,548개 보기</td>\n      <td>4.9</td>\n      <td>5만 개 이상</td>\n    </tr>\n    <tr>\n      <th>1</th>\n      <td>2위</td>\n      <td>[23SS Ver.][PACKAGE] 시티보이 빅오버 워싱 데님 셔츠_4 Color</td>\n      <td>라퍼지스토어</td>\n      <td>https://www.musinsa.com/app/goods/3150516?loc=...</td>\n      <td>1.5만 회 이상</td>\n      <td>884</td>\n      <td>후기 3개 보기</td>\n      <td>4.7</td>\n      <td>100개 이상</td>\n    </tr>\n    <tr>\n      <th>2</th>\n      <td>3위</td>\n      <td>[MUSINSA EXCLUSIVE] 뉴욕 복싱 클럽 코튼 치노 셔츠 - 블랙</td>\n      <td>폴로 랄프 로렌</td>\n      <td>https://www.musinsa.com/app/goods/3072191?loc=...</td>\n      <td>1.5만 회 이상</td>\n      <td>314</td>\n      <td>후기 0개</td>\n      <td>평점 0점</td>\n      <td>100개 이상</td>\n    </tr>\n    <tr>\n      <th>3</th>\n      <td>4위</td>\n      <td>베이식 긴팔 티셔츠 2팩</td>\n      <td>무신사 스탠다드</td>\n      <td>https://www.musinsa.com/app/goods/2149254?loc=...</td>\n      <td>14.1만 회 이상</td>\n      <td>57,235</td>\n      <td>후기 31,434개 보기</td>\n      <td>4.9</td>\n      <td>12만 개 이상</td>\n    </tr>\n    <tr>\n      <th>4</th>\n      <td>5위</td>\n      <td>레이어드 크루 넥 반팔 티셔츠_일반 기장 2팩</td>\n      <td>무신사 스탠다드</td>\n      <td>https://www.musinsa.com/app/goods/2122566?loc=...</td>\n      <td>8.7만 회 이상</td>\n      <td>18,637</td>\n      <td>후기 14,555개 보기</td>\n      <td>4.9</td>\n      <td>5만 개 이상</td>\n    </tr>\n    <tr>\n      <th>...</th>\n      <td>...</td>\n      <td>...</td>\n      <td>...</td>\n      <td>...</td>\n      <td>...</td>\n      <td>...</td>\n      <td>...</td>\n      <td>...</td>\n      <td>...</td>\n    </tr>\n    <tr>\n      <th>4495</th>\n      <td>4496위</td>\n      <td>벌룬핏 크루넥 니트 BLACK</td>\n      <td>인사일런스</td>\n      <td>https://www.musinsa.com/app/goods/2780269?loc=...</td>\n      <td>2.2천 회 이상</td>\n      <td>351</td>\n      <td>후기 46개 보기</td>\n      <td>4.9</td>\n      <td>100개 이상</td>\n    </tr>\n    <tr>\n      <th>4496</th>\n      <td>4497위</td>\n      <td>Narbe Half Shirt - Blue Grey</td>\n      <td>오프닝프로젝트</td>\n      <td>https://www.musinsa.com/app/goods/3051777?loc=...</td>\n      <td>1.4천 회 이상</td>\n      <td>173</td>\n      <td>후기 0개</td>\n      <td>평점 0점</td>\n      <td>NaN</td>\n    </tr>\n    <tr>\n      <th>4497</th>\n      <td>4498위</td>\n      <td>PHYPS® MONDAY ROUTINE STITCH HOODIE BERRY PINK</td>\n      <td>피지컬 에듀케이션 디파트먼트</td>\n      <td>https://www.musinsa.com/app/goods/3073854?loc=...</td>\n      <td>6.2천 회 이상</td>\n      <td>924</td>\n      <td>후기 24개 보기</td>\n      <td>4.5</td>\n      <td>100개 이상</td>\n    </tr>\n    <tr>\n      <th>4498</th>\n      <td>4499위</td>\n      <td>차콜그레이 벌룬핏 피그먼트 다잉 후드 티셔츠 IETS3E201CG</td>\n      <td>일꼬르소</td>\n      <td>https://www.musinsa.com/app/goods/2873711?loc=...</td>\n      <td>4.4천 회 이상</td>\n      <td>802</td>\n      <td>후기 61개 보기</td>\n      <td>5</td>\n      <td>200개 이상</td>\n    </tr>\n    <tr>\n      <th>4499</th>\n      <td>4500위</td>\n      <td>캡 슬리브 워머 셔츠 / 블랙</td>\n      <td>오호스</td>\n      <td>https://www.musinsa.com/app/goods/3133209?loc=...</td>\n      <td>200회 이상</td>\n      <td>74</td>\n      <td>후기 0개</td>\n      <td>평점 0점</td>\n      <td>NaN</td>\n    </tr>\n  </tbody>\n</table>\n<p>4500 rows × 9 columns</p>\n</div>"
     },
     "execution_count": 12,
     "metadata": {},
     "output_type": "execute_result"
    }
   ],
   "source": [
    "merged_df = merged_df.reset_index(drop=True)\n",
    "merged_df"
   ],
   "metadata": {
    "collapsed": false,
    "pycharm": {
     "name": "#%%\n"
    }
   }
  },
  {
   "cell_type": "code",
   "execution_count": 13,
   "outputs": [],
   "source": [
    "merged_df.to_csv('Musinsa data_merged_file_final.csv', index=False)"
   ],
   "metadata": {
    "collapsed": false,
    "pycharm": {
     "name": "#%%\n"
    }
   }
  }
 ],
 "metadata": {
  "kernelspec": {
   "display_name": "Python 3",
   "language": "python",
   "name": "python3"
  },
  "language_info": {
   "codemirror_mode": {
    "name": "ipython",
    "version": 2
   },
   "file_extension": ".py",
   "mimetype": "text/x-python",
   "name": "python",
   "nbconvert_exporter": "python",
   "pygments_lexer": "ipython2",
   "version": "2.7.6"
  }
 },
 "nbformat": 4,
 "nbformat_minor": 0
}