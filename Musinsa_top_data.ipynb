{
 "cells": [
  {
   "cell_type": "code",
   "execution_count": 72,
   "metadata": {
    "collapsed": true
   },
   "outputs": [],
   "source": [
    "import pandas as pd\n",
    "import re"
   ]
  },
  {
   "cell_type": "code",
   "execution_count": 73,
   "outputs": [],
   "source": [
    "p1=pd.read_csv('./pre_final_data/0319 musinsa_ranking_category1_page1.csv')\n",
    "p2=pd.read_csv('./pre_final_data/0319 musinsa_ranking_category1_page2.csv')\n",
    "p3=pd.read_csv('./pre_final_data/0319 musinsa_ranking_category1_page3.csv')\n",
    "p4=pd.read_csv('./pre_final_data/0319 musinsa_ranking_category1_page4.csv')\n",
    "p5=pd.read_csv('./pre_final_data/0319 musinsa_ranking_category1_page5.csv')\n",
    "p6=pd.read_csv('./pre_final_data/0319 musinsa_ranking_category1_page6.csv')\n",
    "p7=pd.read_csv('./pre_final_data/0319 musinsa_ranking_category1_page7.csv')\n",
    "p8=pd.read_csv('./pre_final_data/0319 musinsa_ranking_category1_page8.csv')\n",
    "p9=pd.read_csv('./pre_final_data/0319 musinsa_ranking_category1_page9.csv')\n",
    "p10=pd.read_csv('./pre_final_data/0319 musinsa_ranking_category1_page10.csv')\n",
    "p11=pd.read_csv('./pre_final_data/0319 musinsa_ranking_category1_page11.csv')\n",
    "p12=pd.read_csv('./pre_final_data/0319 musinsa_ranking_category1_page12.csv')\n",
    "p13=pd.read_csv('./pre_final_data/0319 musinsa_ranking_category1_page13.csv')\n",
    "p14=pd.read_csv('./pre_final_data/0319 musinsa_ranking_category1_page14.csv')\n",
    "p15=pd.read_csv('./pre_final_data/0319 musinsa_ranking_category1_page15.csv')\n",
    "p16=pd.read_csv('./pre_final_data/0319 musinsa_ranking_category1_page16.csv')\n",
    "p17=pd.read_csv('./pre_final_data/0319 musinsa_ranking_category1_page17.csv')\n",
    "p18=pd.read_csv('./pre_final_data/0319 musinsa_ranking_category1_page18.csv')\n",
    "p19=pd.read_csv('./pre_final_data/0319 musinsa_ranking_category1_page19.csv')\n",
    "p20=pd.read_csv('./pre_final_data/0319 musinsa_ranking_category1_page20.csv')\n",
    "p21=pd.read_csv('./pre_final_data/0319 musinsa_ranking_category1_page21.csv')\n",
    "p22=pd.read_csv('./pre_final_data/0319 musinsa_ranking_category1_page22.csv')\n",
    "p23=pd.read_csv('./pre_final_data/0319 musinsa_ranking_category1_page23.csv')\n",
    "p24=pd.read_csv('./pre_final_data/0319 musinsa_ranking_category1_page24.csv')\n",
    "p25=pd.read_csv('./pre_final_data/0319 musinsa_ranking_category1_page25.csv')\n",
    "p26=pd.read_csv('./pre_final_data/0319 musinsa_ranking_category1_page26.csv')\n",
    "p27=pd.read_csv('./pre_final_data/0319 musinsa_ranking_category1_page27.csv')\n",
    "p28=pd.read_csv('./pre_final_data/0319 musinsa_ranking_category1_page28.csv')\n",
    "p29=pd.read_csv('./pre_final_data/0319 musinsa_ranking_category1_page29.csv')\n",
    "p30=pd.read_csv('./pre_final_data/0319 musinsa_ranking_category1_page30.csv')\n",
    "p31=pd.read_csv('./pre_final_data/0319 musinsa_ranking_category1_page31.csv')\n",
    "p32=pd.read_csv('./pre_final_data/0319 musinsa_ranking_category1_page32.csv')\n",
    "p33=pd.read_csv('./pre_final_data/0319 musinsa_ranking_category1_page33.csv')\n",
    "p34=pd.read_csv('./pre_final_data/0319 musinsa_ranking_category1_page34.csv')\n",
    "p35=pd.read_csv('./pre_final_data/0319 musinsa_ranking_category1_page35.csv')\n",
    "p36=pd.read_csv('./pre_final_data/0319 musinsa_ranking_category1_page36.csv')\n",
    "p37=pd.read_csv('./pre_final_data/0319 musinsa_ranking_category1_page37.csv')\n",
    "p38=pd.read_csv('./pre_final_data/0319 musinsa_ranking_category1_page38.csv')\n",
    "p39=pd.read_csv('./pre_final_data/0319 musinsa_ranking_category1_page39.csv')\n",
    "p40=pd.read_csv('./pre_final_data/0319 musinsa_ranking_category1_page40.csv')\n",
    "p41=pd.read_csv('./pre_final_data/0319 musinsa_ranking_category1_page41.csv')\n",
    "p42=pd.read_csv('./pre_final_data/0319 musinsa_ranking_category1_page42.csv')\n",
    "p43=pd.read_csv('./pre_final_data/0319 musinsa_ranking_category1_page43.csv')\n",
    "p44=pd.read_csv('./pre_final_data/0319 musinsa_ranking_category1_page44.csv')\n",
    "p45=pd.read_csv('./pre_final_data/0319 musinsa_ranking_category1_page45.csv')\n",
    "p46=pd.read_csv('./pre_final_data/0319 musinsa_ranking_category1_page46.csv')\n",
    "p47=pd.read_csv('./pre_final_data/0319 musinsa_ranking_category1_page47.csv')\n",
    "p48=pd.read_csv('./pre_final_data/0319 musinsa_ranking_category1_page48.csv')\n",
    "p49=pd.read_csv('./pre_final_data/0319 musinsa_ranking_category1_page49.csv')\n",
    "p50=pd.read_csv('./pre_final_data/0319 musinsa_ranking_category1_page50.csv')"
   ],
   "metadata": {
    "collapsed": false,
    "pycharm": {
     "name": "#%%\n"
    }
   }
  },
  {
   "cell_type": "code",
   "execution_count": 74,
   "outputs": [
    {
     "data": {
      "text/plain": "       순위                                             상품명             브랜드명  \\\n0      1위                   (시티보이) 오버핏 옥스포드 셔츠_SPYWD23C01              스파오   \n1      2위  [23SS Ver.][PACKAGE] 시티보이 빅오버 워싱 데님 셔츠_4 Color           라퍼지스토어   \n2      3위      [MUSINSA EXCLUSIVE] 뉴욕 복싱 클럽 코튼 치노 셔츠 - 블랙         폴로 랄프 로렌   \n3      4위                                   베이식 긴팔 티셔츠 2팩         무신사 스탠다드   \n4      5위                       레이어드 크루 넥 반팔 티셔츠_일반 기장 2팩         무신사 스탠다드   \n..    ...                                             ...              ...   \n85  4496위                                벌룬핏 크루넥 니트 BLACK            인사일런스   \n86  4497위                    Narbe Half Shirt - Blue Grey          오프닝프로젝트   \n87  4498위  PHYPS® MONDAY ROUTINE STITCH HOODIE BERRY PINK  피지컬 에듀케이션 디파트먼트   \n88  4499위            차콜그레이 벌룬핏 피그먼트 다잉 후드 티셔츠 IETS3E201CG             일꼬르소   \n89  4500위                                캡 슬리브 워머 셔츠 / 블랙              오호스   \n\n                                                  url         조회수     좋아요  \\\n0   https://www.musinsa.com/app/goods/2272830?loc=...  22.4만 회 이상  46,073   \n1   https://www.musinsa.com/app/goods/3150516?loc=...   1.5만 회 이상     884   \n2   https://www.musinsa.com/app/goods/3072191?loc=...   1.5만 회 이상     314   \n3   https://www.musinsa.com/app/goods/2149254?loc=...  14.1만 회 이상  57,235   \n4   https://www.musinsa.com/app/goods/2122566?loc=...   8.7만 회 이상  18,637   \n..                                                ...         ...     ...   \n85  https://www.musinsa.com/app/goods/2780269?loc=...   2.2천 회 이상     351   \n86  https://www.musinsa.com/app/goods/3051777?loc=...   1.4천 회 이상     173   \n87  https://www.musinsa.com/app/goods/3073854?loc=...   6.2천 회 이상     924   \n88  https://www.musinsa.com/app/goods/2873711?loc=...   4.4천 회 이상     802   \n89  https://www.musinsa.com/app/goods/3133209?loc=...     200회 이상      74   \n\n          구매후기 개수     평점 누적판매량(1년)  \n0   후기 17,548개 보기    4.9   5만 개 이상  \n1        후기 3개 보기    4.7   100개 이상  \n2           후기 0개  평점 0점   100개 이상  \n3   후기 31,434개 보기    4.9  12만 개 이상  \n4   후기 14,555개 보기    4.9   5만 개 이상  \n..            ...    ...       ...  \n85      후기 46개 보기    4.9   100개 이상  \n86          후기 0개  평점 0점       NaN  \n87      후기 24개 보기    4.5   100개 이상  \n88      후기 61개 보기      5   200개 이상  \n89          후기 0개  평점 0점       NaN  \n\n[4500 rows x 9 columns]",
      "text/html": "<div>\n<style scoped>\n    .dataframe tbody tr th:only-of-type {\n        vertical-align: middle;\n    }\n\n    .dataframe tbody tr th {\n        vertical-align: top;\n    }\n\n    .dataframe thead th {\n        text-align: right;\n    }\n</style>\n<table border=\"1\" class=\"dataframe\">\n  <thead>\n    <tr style=\"text-align: right;\">\n      <th></th>\n      <th>순위</th>\n      <th>상품명</th>\n      <th>브랜드명</th>\n      <th>url</th>\n      <th>조회수</th>\n      <th>좋아요</th>\n      <th>구매후기 개수</th>\n      <th>평점</th>\n      <th>누적판매량(1년)</th>\n    </tr>\n  </thead>\n  <tbody>\n    <tr>\n      <th>0</th>\n      <td>1위</td>\n      <td>(시티보이) 오버핏 옥스포드 셔츠_SPYWD23C01</td>\n      <td>스파오</td>\n      <td>https://www.musinsa.com/app/goods/2272830?loc=...</td>\n      <td>22.4만 회 이상</td>\n      <td>46,073</td>\n      <td>후기 17,548개 보기</td>\n      <td>4.9</td>\n      <td>5만 개 이상</td>\n    </tr>\n    <tr>\n      <th>1</th>\n      <td>2위</td>\n      <td>[23SS Ver.][PACKAGE] 시티보이 빅오버 워싱 데님 셔츠_4 Color</td>\n      <td>라퍼지스토어</td>\n      <td>https://www.musinsa.com/app/goods/3150516?loc=...</td>\n      <td>1.5만 회 이상</td>\n      <td>884</td>\n      <td>후기 3개 보기</td>\n      <td>4.7</td>\n      <td>100개 이상</td>\n    </tr>\n    <tr>\n      <th>2</th>\n      <td>3위</td>\n      <td>[MUSINSA EXCLUSIVE] 뉴욕 복싱 클럽 코튼 치노 셔츠 - 블랙</td>\n      <td>폴로 랄프 로렌</td>\n      <td>https://www.musinsa.com/app/goods/3072191?loc=...</td>\n      <td>1.5만 회 이상</td>\n      <td>314</td>\n      <td>후기 0개</td>\n      <td>평점 0점</td>\n      <td>100개 이상</td>\n    </tr>\n    <tr>\n      <th>3</th>\n      <td>4위</td>\n      <td>베이식 긴팔 티셔츠 2팩</td>\n      <td>무신사 스탠다드</td>\n      <td>https://www.musinsa.com/app/goods/2149254?loc=...</td>\n      <td>14.1만 회 이상</td>\n      <td>57,235</td>\n      <td>후기 31,434개 보기</td>\n      <td>4.9</td>\n      <td>12만 개 이상</td>\n    </tr>\n    <tr>\n      <th>4</th>\n      <td>5위</td>\n      <td>레이어드 크루 넥 반팔 티셔츠_일반 기장 2팩</td>\n      <td>무신사 스탠다드</td>\n      <td>https://www.musinsa.com/app/goods/2122566?loc=...</td>\n      <td>8.7만 회 이상</td>\n      <td>18,637</td>\n      <td>후기 14,555개 보기</td>\n      <td>4.9</td>\n      <td>5만 개 이상</td>\n    </tr>\n    <tr>\n      <th>...</th>\n      <td>...</td>\n      <td>...</td>\n      <td>...</td>\n      <td>...</td>\n      <td>...</td>\n      <td>...</td>\n      <td>...</td>\n      <td>...</td>\n      <td>...</td>\n    </tr>\n    <tr>\n      <th>85</th>\n      <td>4496위</td>\n      <td>벌룬핏 크루넥 니트 BLACK</td>\n      <td>인사일런스</td>\n      <td>https://www.musinsa.com/app/goods/2780269?loc=...</td>\n      <td>2.2천 회 이상</td>\n      <td>351</td>\n      <td>후기 46개 보기</td>\n      <td>4.9</td>\n      <td>100개 이상</td>\n    </tr>\n    <tr>\n      <th>86</th>\n      <td>4497위</td>\n      <td>Narbe Half Shirt - Blue Grey</td>\n      <td>오프닝프로젝트</td>\n      <td>https://www.musinsa.com/app/goods/3051777?loc=...</td>\n      <td>1.4천 회 이상</td>\n      <td>173</td>\n      <td>후기 0개</td>\n      <td>평점 0점</td>\n      <td>NaN</td>\n    </tr>\n    <tr>\n      <th>87</th>\n      <td>4498위</td>\n      <td>PHYPS® MONDAY ROUTINE STITCH HOODIE BERRY PINK</td>\n      <td>피지컬 에듀케이션 디파트먼트</td>\n      <td>https://www.musinsa.com/app/goods/3073854?loc=...</td>\n      <td>6.2천 회 이상</td>\n      <td>924</td>\n      <td>후기 24개 보기</td>\n      <td>4.5</td>\n      <td>100개 이상</td>\n    </tr>\n    <tr>\n      <th>88</th>\n      <td>4499위</td>\n      <td>차콜그레이 벌룬핏 피그먼트 다잉 후드 티셔츠 IETS3E201CG</td>\n      <td>일꼬르소</td>\n      <td>https://www.musinsa.com/app/goods/2873711?loc=...</td>\n      <td>4.4천 회 이상</td>\n      <td>802</td>\n      <td>후기 61개 보기</td>\n      <td>5</td>\n      <td>200개 이상</td>\n    </tr>\n    <tr>\n      <th>89</th>\n      <td>4500위</td>\n      <td>캡 슬리브 워머 셔츠 / 블랙</td>\n      <td>오호스</td>\n      <td>https://www.musinsa.com/app/goods/3133209?loc=...</td>\n      <td>200회 이상</td>\n      <td>74</td>\n      <td>후기 0개</td>\n      <td>평점 0점</td>\n      <td>NaN</td>\n    </tr>\n  </tbody>\n</table>\n<p>4500 rows × 9 columns</p>\n</div>"
     },
     "execution_count": 74,
     "metadata": {},
     "output_type": "execute_result"
    }
   ],
   "source": [
    "merged_df = pd.concat([p1, p2, p3,p4,p5,p6,p7,p8,p9,p10,p11,p12,p13,p14,p15,p16,p17,p18,p19,p20,p21,p22,p23,p24,p25,p26,p27,p28,p29,p30,p31,p32,p33,p34,p35,p36,p37,p38,p39,p40,p41,p42,p43,p44,p45,p46,p47,p48,p49,p50], axis=0)\n",
    "\n",
    "merged_df"
   ],
   "metadata": {
    "collapsed": false,
    "pycharm": {
     "name": "#%%\n"
    }
   }
  },
  {
   "cell_type": "code",
   "execution_count": 75,
   "outputs": [
    {
     "data": {
      "text/plain": "         순위                                             상품명             브랜드명  \\\n0        1위                   (시티보이) 오버핏 옥스포드 셔츠_SPYWD23C01              스파오   \n1        2위  [23SS Ver.][PACKAGE] 시티보이 빅오버 워싱 데님 셔츠_4 Color           라퍼지스토어   \n2        3위      [MUSINSA EXCLUSIVE] 뉴욕 복싱 클럽 코튼 치노 셔츠 - 블랙         폴로 랄프 로렌   \n3        4위                                   베이식 긴팔 티셔츠 2팩         무신사 스탠다드   \n4        5위                       레이어드 크루 넥 반팔 티셔츠_일반 기장 2팩         무신사 스탠다드   \n...     ...                                             ...              ...   \n4495  4496위                                벌룬핏 크루넥 니트 BLACK            인사일런스   \n4496  4497위                    Narbe Half Shirt - Blue Grey          오프닝프로젝트   \n4497  4498위  PHYPS® MONDAY ROUTINE STITCH HOODIE BERRY PINK  피지컬 에듀케이션 디파트먼트   \n4498  4499위            차콜그레이 벌룬핏 피그먼트 다잉 후드 티셔츠 IETS3E201CG             일꼬르소   \n4499  4500위                                캡 슬리브 워머 셔츠 / 블랙              오호스   \n\n                                                    url         조회수     좋아요  \\\n0     https://www.musinsa.com/app/goods/2272830?loc=...  22.4만 회 이상  46,073   \n1     https://www.musinsa.com/app/goods/3150516?loc=...   1.5만 회 이상     884   \n2     https://www.musinsa.com/app/goods/3072191?loc=...   1.5만 회 이상     314   \n3     https://www.musinsa.com/app/goods/2149254?loc=...  14.1만 회 이상  57,235   \n4     https://www.musinsa.com/app/goods/2122566?loc=...   8.7만 회 이상  18,637   \n...                                                 ...         ...     ...   \n4495  https://www.musinsa.com/app/goods/2780269?loc=...   2.2천 회 이상     351   \n4496  https://www.musinsa.com/app/goods/3051777?loc=...   1.4천 회 이상     173   \n4497  https://www.musinsa.com/app/goods/3073854?loc=...   6.2천 회 이상     924   \n4498  https://www.musinsa.com/app/goods/2873711?loc=...   4.4천 회 이상     802   \n4499  https://www.musinsa.com/app/goods/3133209?loc=...     200회 이상      74   \n\n            구매후기 개수     평점 누적판매량(1년)  \n0     후기 17,548개 보기    4.9   5만 개 이상  \n1          후기 3개 보기    4.7   100개 이상  \n2             후기 0개  평점 0점   100개 이상  \n3     후기 31,434개 보기    4.9  12만 개 이상  \n4     후기 14,555개 보기    4.9   5만 개 이상  \n...             ...    ...       ...  \n4495      후기 46개 보기    4.9   100개 이상  \n4496          후기 0개  평점 0점       NaN  \n4497      후기 24개 보기    4.5   100개 이상  \n4498      후기 61개 보기      5   200개 이상  \n4499          후기 0개  평점 0점       NaN  \n\n[4500 rows x 9 columns]",
      "text/html": "<div>\n<style scoped>\n    .dataframe tbody tr th:only-of-type {\n        vertical-align: middle;\n    }\n\n    .dataframe tbody tr th {\n        vertical-align: top;\n    }\n\n    .dataframe thead th {\n        text-align: right;\n    }\n</style>\n<table border=\"1\" class=\"dataframe\">\n  <thead>\n    <tr style=\"text-align: right;\">\n      <th></th>\n      <th>순위</th>\n      <th>상품명</th>\n      <th>브랜드명</th>\n      <th>url</th>\n      <th>조회수</th>\n      <th>좋아요</th>\n      <th>구매후기 개수</th>\n      <th>평점</th>\n      <th>누적판매량(1년)</th>\n    </tr>\n  </thead>\n  <tbody>\n    <tr>\n      <th>0</th>\n      <td>1위</td>\n      <td>(시티보이) 오버핏 옥스포드 셔츠_SPYWD23C01</td>\n      <td>스파오</td>\n      <td>https://www.musinsa.com/app/goods/2272830?loc=...</td>\n      <td>22.4만 회 이상</td>\n      <td>46,073</td>\n      <td>후기 17,548개 보기</td>\n      <td>4.9</td>\n      <td>5만 개 이상</td>\n    </tr>\n    <tr>\n      <th>1</th>\n      <td>2위</td>\n      <td>[23SS Ver.][PACKAGE] 시티보이 빅오버 워싱 데님 셔츠_4 Color</td>\n      <td>라퍼지스토어</td>\n      <td>https://www.musinsa.com/app/goods/3150516?loc=...</td>\n      <td>1.5만 회 이상</td>\n      <td>884</td>\n      <td>후기 3개 보기</td>\n      <td>4.7</td>\n      <td>100개 이상</td>\n    </tr>\n    <tr>\n      <th>2</th>\n      <td>3위</td>\n      <td>[MUSINSA EXCLUSIVE] 뉴욕 복싱 클럽 코튼 치노 셔츠 - 블랙</td>\n      <td>폴로 랄프 로렌</td>\n      <td>https://www.musinsa.com/app/goods/3072191?loc=...</td>\n      <td>1.5만 회 이상</td>\n      <td>314</td>\n      <td>후기 0개</td>\n      <td>평점 0점</td>\n      <td>100개 이상</td>\n    </tr>\n    <tr>\n      <th>3</th>\n      <td>4위</td>\n      <td>베이식 긴팔 티셔츠 2팩</td>\n      <td>무신사 스탠다드</td>\n      <td>https://www.musinsa.com/app/goods/2149254?loc=...</td>\n      <td>14.1만 회 이상</td>\n      <td>57,235</td>\n      <td>후기 31,434개 보기</td>\n      <td>4.9</td>\n      <td>12만 개 이상</td>\n    </tr>\n    <tr>\n      <th>4</th>\n      <td>5위</td>\n      <td>레이어드 크루 넥 반팔 티셔츠_일반 기장 2팩</td>\n      <td>무신사 스탠다드</td>\n      <td>https://www.musinsa.com/app/goods/2122566?loc=...</td>\n      <td>8.7만 회 이상</td>\n      <td>18,637</td>\n      <td>후기 14,555개 보기</td>\n      <td>4.9</td>\n      <td>5만 개 이상</td>\n    </tr>\n    <tr>\n      <th>...</th>\n      <td>...</td>\n      <td>...</td>\n      <td>...</td>\n      <td>...</td>\n      <td>...</td>\n      <td>...</td>\n      <td>...</td>\n      <td>...</td>\n      <td>...</td>\n    </tr>\n    <tr>\n      <th>4495</th>\n      <td>4496위</td>\n      <td>벌룬핏 크루넥 니트 BLACK</td>\n      <td>인사일런스</td>\n      <td>https://www.musinsa.com/app/goods/2780269?loc=...</td>\n      <td>2.2천 회 이상</td>\n      <td>351</td>\n      <td>후기 46개 보기</td>\n      <td>4.9</td>\n      <td>100개 이상</td>\n    </tr>\n    <tr>\n      <th>4496</th>\n      <td>4497위</td>\n      <td>Narbe Half Shirt - Blue Grey</td>\n      <td>오프닝프로젝트</td>\n      <td>https://www.musinsa.com/app/goods/3051777?loc=...</td>\n      <td>1.4천 회 이상</td>\n      <td>173</td>\n      <td>후기 0개</td>\n      <td>평점 0점</td>\n      <td>NaN</td>\n    </tr>\n    <tr>\n      <th>4497</th>\n      <td>4498위</td>\n      <td>PHYPS® MONDAY ROUTINE STITCH HOODIE BERRY PINK</td>\n      <td>피지컬 에듀케이션 디파트먼트</td>\n      <td>https://www.musinsa.com/app/goods/3073854?loc=...</td>\n      <td>6.2천 회 이상</td>\n      <td>924</td>\n      <td>후기 24개 보기</td>\n      <td>4.5</td>\n      <td>100개 이상</td>\n    </tr>\n    <tr>\n      <th>4498</th>\n      <td>4499위</td>\n      <td>차콜그레이 벌룬핏 피그먼트 다잉 후드 티셔츠 IETS3E201CG</td>\n      <td>일꼬르소</td>\n      <td>https://www.musinsa.com/app/goods/2873711?loc=...</td>\n      <td>4.4천 회 이상</td>\n      <td>802</td>\n      <td>후기 61개 보기</td>\n      <td>5</td>\n      <td>200개 이상</td>\n    </tr>\n    <tr>\n      <th>4499</th>\n      <td>4500위</td>\n      <td>캡 슬리브 워머 셔츠 / 블랙</td>\n      <td>오호스</td>\n      <td>https://www.musinsa.com/app/goods/3133209?loc=...</td>\n      <td>200회 이상</td>\n      <td>74</td>\n      <td>후기 0개</td>\n      <td>평점 0점</td>\n      <td>NaN</td>\n    </tr>\n  </tbody>\n</table>\n<p>4500 rows × 9 columns</p>\n</div>"
     },
     "execution_count": 75,
     "metadata": {},
     "output_type": "execute_result"
    }
   ],
   "source": [
    "merged_df = merged_df.reset_index(drop=True)\n",
    "merged_df"
   ],
   "metadata": {
    "collapsed": false,
    "pycharm": {
     "name": "#%%\n"
    }
   }
  },
  {
   "cell_type": "code",
   "execution_count": 76,
   "outputs": [
    {
     "data": {
      "text/plain": "         순위                                             상품명             브랜드명  \\\n0        1위                   (시티보이) 오버핏 옥스포드 셔츠_SPYWD23C01              스파오   \n1        2위  [23SS Ver.][PACKAGE] 시티보이 빅오버 워싱 데님 셔츠_4 Color           라퍼지스토어   \n2        3위      [MUSINSA EXCLUSIVE] 뉴욕 복싱 클럽 코튼 치노 셔츠 - 블랙         폴로 랄프 로렌   \n3        4위                                   베이식 긴팔 티셔츠 2팩         무신사 스탠다드   \n4        5위                       레이어드 크루 넥 반팔 티셔츠_일반 기장 2팩         무신사 스탠다드   \n...     ...                                             ...              ...   \n4495  4496위                                벌룬핏 크루넥 니트 BLACK            인사일런스   \n4496  4497위                    Narbe Half Shirt - Blue Grey          오프닝프로젝트   \n4497  4498위  PHYPS® MONDAY ROUTINE STITCH HOODIE BERRY PINK  피지컬 에듀케이션 디파트먼트   \n4498  4499위            차콜그레이 벌룬핏 피그먼트 다잉 후드 티셔츠 IETS3E201CG             일꼬르소   \n4499  4500위                                캡 슬리브 워머 셔츠 / 블랙              오호스   \n\n                                                    url         조회수     좋아요  \\\n0     https://www.musinsa.com/app/goods/2272830?loc=...  22.4만 회 이상  46,073   \n1     https://www.musinsa.com/app/goods/3150516?loc=...   1.5만 회 이상     884   \n2     https://www.musinsa.com/app/goods/3072191?loc=...   1.5만 회 이상     314   \n3     https://www.musinsa.com/app/goods/2149254?loc=...  14.1만 회 이상  57,235   \n4     https://www.musinsa.com/app/goods/2122566?loc=...   8.7만 회 이상  18,637   \n...                                                 ...         ...     ...   \n4495  https://www.musinsa.com/app/goods/2780269?loc=...   2.2천 회 이상     351   \n4496  https://www.musinsa.com/app/goods/3051777?loc=...   1.4천 회 이상     173   \n4497  https://www.musinsa.com/app/goods/3073854?loc=...   6.2천 회 이상     924   \n4498  https://www.musinsa.com/app/goods/2873711?loc=...   4.4천 회 이상     802   \n4499  https://www.musinsa.com/app/goods/3133209?loc=...     200회 이상      74   \n\n            구매후기 개수     평점 누적판매량(1년)  \n0     후기 17,548개 보기    4.9   5만 개 이상  \n1          후기 3개 보기    4.7   100개 이상  \n2             후기 0개  평점 0점   100개 이상  \n3     후기 31,434개 보기    4.9  12만 개 이상  \n4     후기 14,555개 보기    4.9   5만 개 이상  \n...             ...    ...       ...  \n4495      후기 46개 보기    4.9   100개 이상  \n4496          후기 0개  평점 0점       NaN  \n4497      후기 24개 보기    4.5   100개 이상  \n4498      후기 61개 보기      5   200개 이상  \n4499          후기 0개  평점 0점       NaN  \n\n[4500 rows x 9 columns]",
      "text/html": "<div>\n<style scoped>\n    .dataframe tbody tr th:only-of-type {\n        vertical-align: middle;\n    }\n\n    .dataframe tbody tr th {\n        vertical-align: top;\n    }\n\n    .dataframe thead th {\n        text-align: right;\n    }\n</style>\n<table border=\"1\" class=\"dataframe\">\n  <thead>\n    <tr style=\"text-align: right;\">\n      <th></th>\n      <th>순위</th>\n      <th>상품명</th>\n      <th>브랜드명</th>\n      <th>url</th>\n      <th>조회수</th>\n      <th>좋아요</th>\n      <th>구매후기 개수</th>\n      <th>평점</th>\n      <th>누적판매량(1년)</th>\n    </tr>\n  </thead>\n  <tbody>\n    <tr>\n      <th>0</th>\n      <td>1위</td>\n      <td>(시티보이) 오버핏 옥스포드 셔츠_SPYWD23C01</td>\n      <td>스파오</td>\n      <td>https://www.musinsa.com/app/goods/2272830?loc=...</td>\n      <td>22.4만 회 이상</td>\n      <td>46,073</td>\n      <td>후기 17,548개 보기</td>\n      <td>4.9</td>\n      <td>5만 개 이상</td>\n    </tr>\n    <tr>\n      <th>1</th>\n      <td>2위</td>\n      <td>[23SS Ver.][PACKAGE] 시티보이 빅오버 워싱 데님 셔츠_4 Color</td>\n      <td>라퍼지스토어</td>\n      <td>https://www.musinsa.com/app/goods/3150516?loc=...</td>\n      <td>1.5만 회 이상</td>\n      <td>884</td>\n      <td>후기 3개 보기</td>\n      <td>4.7</td>\n      <td>100개 이상</td>\n    </tr>\n    <tr>\n      <th>2</th>\n      <td>3위</td>\n      <td>[MUSINSA EXCLUSIVE] 뉴욕 복싱 클럽 코튼 치노 셔츠 - 블랙</td>\n      <td>폴로 랄프 로렌</td>\n      <td>https://www.musinsa.com/app/goods/3072191?loc=...</td>\n      <td>1.5만 회 이상</td>\n      <td>314</td>\n      <td>후기 0개</td>\n      <td>평점 0점</td>\n      <td>100개 이상</td>\n    </tr>\n    <tr>\n      <th>3</th>\n      <td>4위</td>\n      <td>베이식 긴팔 티셔츠 2팩</td>\n      <td>무신사 스탠다드</td>\n      <td>https://www.musinsa.com/app/goods/2149254?loc=...</td>\n      <td>14.1만 회 이상</td>\n      <td>57,235</td>\n      <td>후기 31,434개 보기</td>\n      <td>4.9</td>\n      <td>12만 개 이상</td>\n    </tr>\n    <tr>\n      <th>4</th>\n      <td>5위</td>\n      <td>레이어드 크루 넥 반팔 티셔츠_일반 기장 2팩</td>\n      <td>무신사 스탠다드</td>\n      <td>https://www.musinsa.com/app/goods/2122566?loc=...</td>\n      <td>8.7만 회 이상</td>\n      <td>18,637</td>\n      <td>후기 14,555개 보기</td>\n      <td>4.9</td>\n      <td>5만 개 이상</td>\n    </tr>\n    <tr>\n      <th>...</th>\n      <td>...</td>\n      <td>...</td>\n      <td>...</td>\n      <td>...</td>\n      <td>...</td>\n      <td>...</td>\n      <td>...</td>\n      <td>...</td>\n      <td>...</td>\n    </tr>\n    <tr>\n      <th>4495</th>\n      <td>4496위</td>\n      <td>벌룬핏 크루넥 니트 BLACK</td>\n      <td>인사일런스</td>\n      <td>https://www.musinsa.com/app/goods/2780269?loc=...</td>\n      <td>2.2천 회 이상</td>\n      <td>351</td>\n      <td>후기 46개 보기</td>\n      <td>4.9</td>\n      <td>100개 이상</td>\n    </tr>\n    <tr>\n      <th>4496</th>\n      <td>4497위</td>\n      <td>Narbe Half Shirt - Blue Grey</td>\n      <td>오프닝프로젝트</td>\n      <td>https://www.musinsa.com/app/goods/3051777?loc=...</td>\n      <td>1.4천 회 이상</td>\n      <td>173</td>\n      <td>후기 0개</td>\n      <td>평점 0점</td>\n      <td>NaN</td>\n    </tr>\n    <tr>\n      <th>4497</th>\n      <td>4498위</td>\n      <td>PHYPS® MONDAY ROUTINE STITCH HOODIE BERRY PINK</td>\n      <td>피지컬 에듀케이션 디파트먼트</td>\n      <td>https://www.musinsa.com/app/goods/3073854?loc=...</td>\n      <td>6.2천 회 이상</td>\n      <td>924</td>\n      <td>후기 24개 보기</td>\n      <td>4.5</td>\n      <td>100개 이상</td>\n    </tr>\n    <tr>\n      <th>4498</th>\n      <td>4499위</td>\n      <td>차콜그레이 벌룬핏 피그먼트 다잉 후드 티셔츠 IETS3E201CG</td>\n      <td>일꼬르소</td>\n      <td>https://www.musinsa.com/app/goods/2873711?loc=...</td>\n      <td>4.4천 회 이상</td>\n      <td>802</td>\n      <td>후기 61개 보기</td>\n      <td>5</td>\n      <td>200개 이상</td>\n    </tr>\n    <tr>\n      <th>4499</th>\n      <td>4500위</td>\n      <td>캡 슬리브 워머 셔츠 / 블랙</td>\n      <td>오호스</td>\n      <td>https://www.musinsa.com/app/goods/3133209?loc=...</td>\n      <td>200회 이상</td>\n      <td>74</td>\n      <td>후기 0개</td>\n      <td>평점 0점</td>\n      <td>NaN</td>\n    </tr>\n  </tbody>\n</table>\n<p>4500 rows × 9 columns</p>\n</div>"
     },
     "execution_count": 76,
     "metadata": {},
     "output_type": "execute_result"
    }
   ],
   "source": [
    "merged_df.to_csv('Musinsa data_merged_file_final.csv', index=False)\n",
    "merged_df"
   ],
   "metadata": {
    "collapsed": false,
    "pycharm": {
     "name": "#%%\n"
    }
   }
  },
  {
   "cell_type": "code",
   "execution_count": 77,
   "outputs": [
    {
     "data": {
      "text/plain": "         순위                                             상품명             브랜드명  \\\n0        1위                   (시티보이) 오버핏 옥스포드 셔츠_SPYWD23C01              스파오   \n1        2위  [23SS Ver.][PACKAGE] 시티보이 빅오버 워싱 데님 셔츠_4 Color           라퍼지스토어   \n2        3위      [MUSINSA EXCLUSIVE] 뉴욕 복싱 클럽 코튼 치노 셔츠 - 블랙         폴로 랄프 로렌   \n3        4위                                   베이식 긴팔 티셔츠 2팩         무신사 스탠다드   \n4        5위                       레이어드 크루 넥 반팔 티셔츠_일반 기장 2팩         무신사 스탠다드   \n...     ...                                             ...              ...   \n4495  4496위                                벌룬핏 크루넥 니트 BLACK            인사일런스   \n4496  4497위                    Narbe Half Shirt - Blue Grey          오프닝프로젝트   \n4497  4498위  PHYPS® MONDAY ROUTINE STITCH HOODIE BERRY PINK  피지컬 에듀케이션 디파트먼트   \n4498  4499위            차콜그레이 벌룬핏 피그먼트 다잉 후드 티셔츠 IETS3E201CG             일꼬르소   \n4499  4500위                                캡 슬리브 워머 셔츠 / 블랙              오호스   \n\n                                                    url         조회수     좋아요  \\\n0     https://www.musinsa.com/app/goods/2272830?loc=...  22.4만 회 이상  46,073   \n1     https://www.musinsa.com/app/goods/3150516?loc=...   1.5만 회 이상     884   \n2     https://www.musinsa.com/app/goods/3072191?loc=...   1.5만 회 이상     314   \n3     https://www.musinsa.com/app/goods/2149254?loc=...  14.1만 회 이상  57,235   \n4     https://www.musinsa.com/app/goods/2122566?loc=...   8.7만 회 이상  18,637   \n...                                                 ...         ...     ...   \n4495  https://www.musinsa.com/app/goods/2780269?loc=...   2.2천 회 이상     351   \n4496  https://www.musinsa.com/app/goods/3051777?loc=...   1.4천 회 이상     173   \n4497  https://www.musinsa.com/app/goods/3073854?loc=...   6.2천 회 이상     924   \n4498  https://www.musinsa.com/app/goods/2873711?loc=...   4.4천 회 이상     802   \n4499  https://www.musinsa.com/app/goods/3133209?loc=...     200회 이상      74   \n\n            구매후기 개수     평점 누적판매량(1년)    조회수_수정  누적판매량(1년)_수정  \n0     후기 17,548개 보기    4.9   5만 개 이상  224000.0       50000.0  \n1          후기 3개 보기    4.7   100개 이상   15000.0         100.0  \n2             후기 0개  평점 0점   100개 이상   15000.0         100.0  \n3     후기 31,434개 보기    4.9  12만 개 이상  141000.0      120000.0  \n4     후기 14,555개 보기    4.9   5만 개 이상   87000.0       50000.0  \n...             ...    ...       ...       ...           ...  \n4495      후기 46개 보기    4.9   100개 이상    2200.0         100.0  \n4496          후기 0개  평점 0점       NaN    1400.0           NaN  \n4497      후기 24개 보기    4.5   100개 이상    6200.0         100.0  \n4498      후기 61개 보기      5   200개 이상    4400.0         200.0  \n4499          후기 0개  평점 0점       NaN     200.0           NaN  \n\n[4500 rows x 11 columns]",
      "text/html": "<div>\n<style scoped>\n    .dataframe tbody tr th:only-of-type {\n        vertical-align: middle;\n    }\n\n    .dataframe tbody tr th {\n        vertical-align: top;\n    }\n\n    .dataframe thead th {\n        text-align: right;\n    }\n</style>\n<table border=\"1\" class=\"dataframe\">\n  <thead>\n    <tr style=\"text-align: right;\">\n      <th></th>\n      <th>순위</th>\n      <th>상품명</th>\n      <th>브랜드명</th>\n      <th>url</th>\n      <th>조회수</th>\n      <th>좋아요</th>\n      <th>구매후기 개수</th>\n      <th>평점</th>\n      <th>누적판매량(1년)</th>\n      <th>조회수_수정</th>\n      <th>누적판매량(1년)_수정</th>\n    </tr>\n  </thead>\n  <tbody>\n    <tr>\n      <th>0</th>\n      <td>1위</td>\n      <td>(시티보이) 오버핏 옥스포드 셔츠_SPYWD23C01</td>\n      <td>스파오</td>\n      <td>https://www.musinsa.com/app/goods/2272830?loc=...</td>\n      <td>22.4만 회 이상</td>\n      <td>46,073</td>\n      <td>후기 17,548개 보기</td>\n      <td>4.9</td>\n      <td>5만 개 이상</td>\n      <td>224000.0</td>\n      <td>50000.0</td>\n    </tr>\n    <tr>\n      <th>1</th>\n      <td>2위</td>\n      <td>[23SS Ver.][PACKAGE] 시티보이 빅오버 워싱 데님 셔츠_4 Color</td>\n      <td>라퍼지스토어</td>\n      <td>https://www.musinsa.com/app/goods/3150516?loc=...</td>\n      <td>1.5만 회 이상</td>\n      <td>884</td>\n      <td>후기 3개 보기</td>\n      <td>4.7</td>\n      <td>100개 이상</td>\n      <td>15000.0</td>\n      <td>100.0</td>\n    </tr>\n    <tr>\n      <th>2</th>\n      <td>3위</td>\n      <td>[MUSINSA EXCLUSIVE] 뉴욕 복싱 클럽 코튼 치노 셔츠 - 블랙</td>\n      <td>폴로 랄프 로렌</td>\n      <td>https://www.musinsa.com/app/goods/3072191?loc=...</td>\n      <td>1.5만 회 이상</td>\n      <td>314</td>\n      <td>후기 0개</td>\n      <td>평점 0점</td>\n      <td>100개 이상</td>\n      <td>15000.0</td>\n      <td>100.0</td>\n    </tr>\n    <tr>\n      <th>3</th>\n      <td>4위</td>\n      <td>베이식 긴팔 티셔츠 2팩</td>\n      <td>무신사 스탠다드</td>\n      <td>https://www.musinsa.com/app/goods/2149254?loc=...</td>\n      <td>14.1만 회 이상</td>\n      <td>57,235</td>\n      <td>후기 31,434개 보기</td>\n      <td>4.9</td>\n      <td>12만 개 이상</td>\n      <td>141000.0</td>\n      <td>120000.0</td>\n    </tr>\n    <tr>\n      <th>4</th>\n      <td>5위</td>\n      <td>레이어드 크루 넥 반팔 티셔츠_일반 기장 2팩</td>\n      <td>무신사 스탠다드</td>\n      <td>https://www.musinsa.com/app/goods/2122566?loc=...</td>\n      <td>8.7만 회 이상</td>\n      <td>18,637</td>\n      <td>후기 14,555개 보기</td>\n      <td>4.9</td>\n      <td>5만 개 이상</td>\n      <td>87000.0</td>\n      <td>50000.0</td>\n    </tr>\n    <tr>\n      <th>...</th>\n      <td>...</td>\n      <td>...</td>\n      <td>...</td>\n      <td>...</td>\n      <td>...</td>\n      <td>...</td>\n      <td>...</td>\n      <td>...</td>\n      <td>...</td>\n      <td>...</td>\n      <td>...</td>\n    </tr>\n    <tr>\n      <th>4495</th>\n      <td>4496위</td>\n      <td>벌룬핏 크루넥 니트 BLACK</td>\n      <td>인사일런스</td>\n      <td>https://www.musinsa.com/app/goods/2780269?loc=...</td>\n      <td>2.2천 회 이상</td>\n      <td>351</td>\n      <td>후기 46개 보기</td>\n      <td>4.9</td>\n      <td>100개 이상</td>\n      <td>2200.0</td>\n      <td>100.0</td>\n    </tr>\n    <tr>\n      <th>4496</th>\n      <td>4497위</td>\n      <td>Narbe Half Shirt - Blue Grey</td>\n      <td>오프닝프로젝트</td>\n      <td>https://www.musinsa.com/app/goods/3051777?loc=...</td>\n      <td>1.4천 회 이상</td>\n      <td>173</td>\n      <td>후기 0개</td>\n      <td>평점 0점</td>\n      <td>NaN</td>\n      <td>1400.0</td>\n      <td>NaN</td>\n    </tr>\n    <tr>\n      <th>4497</th>\n      <td>4498위</td>\n      <td>PHYPS® MONDAY ROUTINE STITCH HOODIE BERRY PINK</td>\n      <td>피지컬 에듀케이션 디파트먼트</td>\n      <td>https://www.musinsa.com/app/goods/3073854?loc=...</td>\n      <td>6.2천 회 이상</td>\n      <td>924</td>\n      <td>후기 24개 보기</td>\n      <td>4.5</td>\n      <td>100개 이상</td>\n      <td>6200.0</td>\n      <td>100.0</td>\n    </tr>\n    <tr>\n      <th>4498</th>\n      <td>4499위</td>\n      <td>차콜그레이 벌룬핏 피그먼트 다잉 후드 티셔츠 IETS3E201CG</td>\n      <td>일꼬르소</td>\n      <td>https://www.musinsa.com/app/goods/2873711?loc=...</td>\n      <td>4.4천 회 이상</td>\n      <td>802</td>\n      <td>후기 61개 보기</td>\n      <td>5</td>\n      <td>200개 이상</td>\n      <td>4400.0</td>\n      <td>200.0</td>\n    </tr>\n    <tr>\n      <th>4499</th>\n      <td>4500위</td>\n      <td>캡 슬리브 워머 셔츠 / 블랙</td>\n      <td>오호스</td>\n      <td>https://www.musinsa.com/app/goods/3133209?loc=...</td>\n      <td>200회 이상</td>\n      <td>74</td>\n      <td>후기 0개</td>\n      <td>평점 0점</td>\n      <td>NaN</td>\n      <td>200.0</td>\n      <td>NaN</td>\n    </tr>\n  </tbody>\n</table>\n<p>4500 rows × 11 columns</p>\n</div>"
     },
     "execution_count": 77,
     "metadata": {},
     "output_type": "execute_result"
    }
   ],
   "source": [
    "def convert_view_count(count_str):\n",
    "    if isinstance(count_str, float):\n",
    "        return count_str\n",
    "    count_str = count_str.replace(',', '')  # 쉼표 제거\n",
    "    if '만' in count_str:\n",
    "        count = count_str.split('만')[0]\n",
    "        count = float(count) * 10000\n",
    "    elif '천' in count_str:\n",
    "        count = count_str.split('천')[0]\n",
    "        count = float(count) * 1000\n",
    "    else:\n",
    "        count = float(re.sub(r'[^0-9]','',count_str))\n",
    "    return int(count)\n",
    "\n",
    "def convert_sale_count(count_str):\n",
    "    if isinstance(count_str, float):\n",
    "        return count_str\n",
    "    count_str = count_str.replace(',', '')  # 쉼표 제거\n",
    "    if '만 개 이상' in count_str:\n",
    "        count = count_str.split('만')[0]\n",
    "        count = float(count) * 10000\n",
    "    elif '천 개 이상' in count_str:\n",
    "        count = count_str.split('천')[0]\n",
    "        count = float(count) * 1000\n",
    "    else:\n",
    "        count = float(re.sub(r'[^0-9]','',count_str))\n",
    "    return int(count)\n",
    "\n",
    "merged_df['조회수_수정'] = merged_df['조회수'].apply(convert_view_count)\n",
    "merged_df['누적판매량(1년)_수정']=merged_df['누적판매량(1년)'].apply(convert_sale_count)\n",
    "merged_df"
   ],
   "metadata": {
    "collapsed": false,
    "pycharm": {
     "name": "#%%\n"
    }
   }
  },
  {
   "cell_type": "code",
   "execution_count": 78,
   "outputs": [
    {
     "data": {
      "text/plain": "         순위                                             상품명             브랜드명  \\\n0        1위                   (시티보이) 오버핏 옥스포드 셔츠_SPYWD23C01              스파오   \n1        2위  [23SS Ver.][PACKAGE] 시티보이 빅오버 워싱 데님 셔츠_4 Color           라퍼지스토어   \n2        3위      [MUSINSA EXCLUSIVE] 뉴욕 복싱 클럽 코튼 치노 셔츠 - 블랙         폴로 랄프 로렌   \n3        4위                                   베이식 긴팔 티셔츠 2팩         무신사 스탠다드   \n4        5위                       레이어드 크루 넥 반팔 티셔츠_일반 기장 2팩         무신사 스탠다드   \n...     ...                                             ...              ...   \n4495  4496위                                벌룬핏 크루넥 니트 BLACK            인사일런스   \n4496  4497위                    Narbe Half Shirt - Blue Grey          오프닝프로젝트   \n4497  4498위  PHYPS® MONDAY ROUTINE STITCH HOODIE BERRY PINK  피지컬 에듀케이션 디파트먼트   \n4498  4499위            차콜그레이 벌룬핏 피그먼트 다잉 후드 티셔츠 IETS3E201CG             일꼬르소   \n4499  4500위                                캡 슬리브 워머 셔츠 / 블랙              오호스   \n\n                                                    url     좋아요  \\\n0     https://www.musinsa.com/app/goods/2272830?loc=...  46,073   \n1     https://www.musinsa.com/app/goods/3150516?loc=...     884   \n2     https://www.musinsa.com/app/goods/3072191?loc=...     314   \n3     https://www.musinsa.com/app/goods/2149254?loc=...  57,235   \n4     https://www.musinsa.com/app/goods/2122566?loc=...  18,637   \n...                                                 ...     ...   \n4495  https://www.musinsa.com/app/goods/2780269?loc=...     351   \n4496  https://www.musinsa.com/app/goods/3051777?loc=...     173   \n4497  https://www.musinsa.com/app/goods/3073854?loc=...     924   \n4498  https://www.musinsa.com/app/goods/2873711?loc=...     802   \n4499  https://www.musinsa.com/app/goods/3133209?loc=...      74   \n\n            구매후기 개수     평점    조회수_수정  누적판매량(1년)_수정  \n0     후기 17,548개 보기    4.9  224000.0       50000.0  \n1          후기 3개 보기    4.7   15000.0         100.0  \n2             후기 0개  평점 0점   15000.0         100.0  \n3     후기 31,434개 보기    4.9  141000.0      120000.0  \n4     후기 14,555개 보기    4.9   87000.0       50000.0  \n...             ...    ...       ...           ...  \n4495      후기 46개 보기    4.9    2200.0         100.0  \n4496          후기 0개  평점 0점    1400.0           NaN  \n4497      후기 24개 보기    4.5    6200.0         100.0  \n4498      후기 61개 보기      5    4400.0         200.0  \n4499          후기 0개  평점 0점     200.0           NaN  \n\n[4500 rows x 9 columns]",
      "text/html": "<div>\n<style scoped>\n    .dataframe tbody tr th:only-of-type {\n        vertical-align: middle;\n    }\n\n    .dataframe tbody tr th {\n        vertical-align: top;\n    }\n\n    .dataframe thead th {\n        text-align: right;\n    }\n</style>\n<table border=\"1\" class=\"dataframe\">\n  <thead>\n    <tr style=\"text-align: right;\">\n      <th></th>\n      <th>순위</th>\n      <th>상품명</th>\n      <th>브랜드명</th>\n      <th>url</th>\n      <th>좋아요</th>\n      <th>구매후기 개수</th>\n      <th>평점</th>\n      <th>조회수_수정</th>\n      <th>누적판매량(1년)_수정</th>\n    </tr>\n  </thead>\n  <tbody>\n    <tr>\n      <th>0</th>\n      <td>1위</td>\n      <td>(시티보이) 오버핏 옥스포드 셔츠_SPYWD23C01</td>\n      <td>스파오</td>\n      <td>https://www.musinsa.com/app/goods/2272830?loc=...</td>\n      <td>46,073</td>\n      <td>후기 17,548개 보기</td>\n      <td>4.9</td>\n      <td>224000.0</td>\n      <td>50000.0</td>\n    </tr>\n    <tr>\n      <th>1</th>\n      <td>2위</td>\n      <td>[23SS Ver.][PACKAGE] 시티보이 빅오버 워싱 데님 셔츠_4 Color</td>\n      <td>라퍼지스토어</td>\n      <td>https://www.musinsa.com/app/goods/3150516?loc=...</td>\n      <td>884</td>\n      <td>후기 3개 보기</td>\n      <td>4.7</td>\n      <td>15000.0</td>\n      <td>100.0</td>\n    </tr>\n    <tr>\n      <th>2</th>\n      <td>3위</td>\n      <td>[MUSINSA EXCLUSIVE] 뉴욕 복싱 클럽 코튼 치노 셔츠 - 블랙</td>\n      <td>폴로 랄프 로렌</td>\n      <td>https://www.musinsa.com/app/goods/3072191?loc=...</td>\n      <td>314</td>\n      <td>후기 0개</td>\n      <td>평점 0점</td>\n      <td>15000.0</td>\n      <td>100.0</td>\n    </tr>\n    <tr>\n      <th>3</th>\n      <td>4위</td>\n      <td>베이식 긴팔 티셔츠 2팩</td>\n      <td>무신사 스탠다드</td>\n      <td>https://www.musinsa.com/app/goods/2149254?loc=...</td>\n      <td>57,235</td>\n      <td>후기 31,434개 보기</td>\n      <td>4.9</td>\n      <td>141000.0</td>\n      <td>120000.0</td>\n    </tr>\n    <tr>\n      <th>4</th>\n      <td>5위</td>\n      <td>레이어드 크루 넥 반팔 티셔츠_일반 기장 2팩</td>\n      <td>무신사 스탠다드</td>\n      <td>https://www.musinsa.com/app/goods/2122566?loc=...</td>\n      <td>18,637</td>\n      <td>후기 14,555개 보기</td>\n      <td>4.9</td>\n      <td>87000.0</td>\n      <td>50000.0</td>\n    </tr>\n    <tr>\n      <th>...</th>\n      <td>...</td>\n      <td>...</td>\n      <td>...</td>\n      <td>...</td>\n      <td>...</td>\n      <td>...</td>\n      <td>...</td>\n      <td>...</td>\n      <td>...</td>\n    </tr>\n    <tr>\n      <th>4495</th>\n      <td>4496위</td>\n      <td>벌룬핏 크루넥 니트 BLACK</td>\n      <td>인사일런스</td>\n      <td>https://www.musinsa.com/app/goods/2780269?loc=...</td>\n      <td>351</td>\n      <td>후기 46개 보기</td>\n      <td>4.9</td>\n      <td>2200.0</td>\n      <td>100.0</td>\n    </tr>\n    <tr>\n      <th>4496</th>\n      <td>4497위</td>\n      <td>Narbe Half Shirt - Blue Grey</td>\n      <td>오프닝프로젝트</td>\n      <td>https://www.musinsa.com/app/goods/3051777?loc=...</td>\n      <td>173</td>\n      <td>후기 0개</td>\n      <td>평점 0점</td>\n      <td>1400.0</td>\n      <td>NaN</td>\n    </tr>\n    <tr>\n      <th>4497</th>\n      <td>4498위</td>\n      <td>PHYPS® MONDAY ROUTINE STITCH HOODIE BERRY PINK</td>\n      <td>피지컬 에듀케이션 디파트먼트</td>\n      <td>https://www.musinsa.com/app/goods/3073854?loc=...</td>\n      <td>924</td>\n      <td>후기 24개 보기</td>\n      <td>4.5</td>\n      <td>6200.0</td>\n      <td>100.0</td>\n    </tr>\n    <tr>\n      <th>4498</th>\n      <td>4499위</td>\n      <td>차콜그레이 벌룬핏 피그먼트 다잉 후드 티셔츠 IETS3E201CG</td>\n      <td>일꼬르소</td>\n      <td>https://www.musinsa.com/app/goods/2873711?loc=...</td>\n      <td>802</td>\n      <td>후기 61개 보기</td>\n      <td>5</td>\n      <td>4400.0</td>\n      <td>200.0</td>\n    </tr>\n    <tr>\n      <th>4499</th>\n      <td>4500위</td>\n      <td>캡 슬리브 워머 셔츠 / 블랙</td>\n      <td>오호스</td>\n      <td>https://www.musinsa.com/app/goods/3133209?loc=...</td>\n      <td>74</td>\n      <td>후기 0개</td>\n      <td>평점 0점</td>\n      <td>200.0</td>\n      <td>NaN</td>\n    </tr>\n  </tbody>\n</table>\n<p>4500 rows × 9 columns</p>\n</div>"
     },
     "execution_count": 78,
     "metadata": {},
     "output_type": "execute_result"
    }
   ],
   "source": [
    "merged_df=merged_df.drop('조회수', axis=1)\n",
    "merged_df=merged_df.drop('누적판매량(1년)', axis=1)\n",
    "merged_df"
   ],
   "metadata": {
    "collapsed": false,
    "pycharm": {
     "name": "#%%\n"
    }
   }
  },
  {
   "cell_type": "code",
   "execution_count": 80,
   "outputs": [
    {
     "data": {
      "text/plain": "         순위                                             상품명             브랜드명  \\\n0        1위                   (시티보이) 오버핏 옥스포드 셔츠_SPYWD23C01              스파오   \n1        2위  [23SS Ver.][PACKAGE] 시티보이 빅오버 워싱 데님 셔츠_4 Color           라퍼지스토어   \n2         0                                               0                0   \n3        4위                                   베이식 긴팔 티셔츠 2팩         무신사 스탠다드   \n4        5위                       레이어드 크루 넥 반팔 티셔츠_일반 기장 2팩         무신사 스탠다드   \n...     ...                                             ...              ...   \n4495  4496위                                벌룬핏 크루넥 니트 BLACK            인사일런스   \n4496      0                                               0                0   \n4497  4498위  PHYPS® MONDAY ROUTINE STITCH HOODIE BERRY PINK  피지컬 에듀케이션 디파트먼트   \n4498  4499위            차콜그레이 벌룬핏 피그먼트 다잉 후드 티셔츠 IETS3E201CG             일꼬르소   \n4499      0                                               0                0   \n\n                                                    url     좋아요  \\\n0     https://www.musinsa.com/app/goods/2272830?loc=...  46,073   \n1     https://www.musinsa.com/app/goods/3150516?loc=...     884   \n2                                                     0       0   \n3     https://www.musinsa.com/app/goods/2149254?loc=...  57,235   \n4     https://www.musinsa.com/app/goods/2122566?loc=...  18,637   \n...                                                 ...     ...   \n4495  https://www.musinsa.com/app/goods/2780269?loc=...     351   \n4496                                                  0       0   \n4497  https://www.musinsa.com/app/goods/3073854?loc=...     924   \n4498  https://www.musinsa.com/app/goods/2873711?loc=...     802   \n4499                                                  0       0   \n\n            구매후기 개수   평점    조회수_수정 누적판매량(1년)_수정  구매후기 개수_수정  \n0     후기 17,548개 보기  4.9  224000.0      50000.0       17548  \n1          후기 3개 보기  4.7   15000.0        100.0           3  \n2                 0    0         0            0           0  \n3     후기 31,434개 보기  4.9  141000.0     120000.0       31434  \n4     후기 14,555개 보기  4.9   87000.0      50000.0       14555  \n...             ...  ...       ...          ...         ...  \n4495      후기 46개 보기  4.9    2200.0        100.0          46  \n4496              0    0         0            0           0  \n4497      후기 24개 보기  4.5    6200.0        100.0          24  \n4498      후기 61개 보기    5    4400.0        200.0          61  \n4499              0    0         0            0           0  \n\n[4500 rows x 10 columns]",
      "text/html": "<div>\n<style scoped>\n    .dataframe tbody tr th:only-of-type {\n        vertical-align: middle;\n    }\n\n    .dataframe tbody tr th {\n        vertical-align: top;\n    }\n\n    .dataframe thead th {\n        text-align: right;\n    }\n</style>\n<table border=\"1\" class=\"dataframe\">\n  <thead>\n    <tr style=\"text-align: right;\">\n      <th></th>\n      <th>순위</th>\n      <th>상품명</th>\n      <th>브랜드명</th>\n      <th>url</th>\n      <th>좋아요</th>\n      <th>구매후기 개수</th>\n      <th>평점</th>\n      <th>조회수_수정</th>\n      <th>누적판매량(1년)_수정</th>\n      <th>구매후기 개수_수정</th>\n    </tr>\n  </thead>\n  <tbody>\n    <tr>\n      <th>0</th>\n      <td>1위</td>\n      <td>(시티보이) 오버핏 옥스포드 셔츠_SPYWD23C01</td>\n      <td>스파오</td>\n      <td>https://www.musinsa.com/app/goods/2272830?loc=...</td>\n      <td>46,073</td>\n      <td>후기 17,548개 보기</td>\n      <td>4.9</td>\n      <td>224000.0</td>\n      <td>50000.0</td>\n      <td>17548</td>\n    </tr>\n    <tr>\n      <th>1</th>\n      <td>2위</td>\n      <td>[23SS Ver.][PACKAGE] 시티보이 빅오버 워싱 데님 셔츠_4 Color</td>\n      <td>라퍼지스토어</td>\n      <td>https://www.musinsa.com/app/goods/3150516?loc=...</td>\n      <td>884</td>\n      <td>후기 3개 보기</td>\n      <td>4.7</td>\n      <td>15000.0</td>\n      <td>100.0</td>\n      <td>3</td>\n    </tr>\n    <tr>\n      <th>2</th>\n      <td>0</td>\n      <td>0</td>\n      <td>0</td>\n      <td>0</td>\n      <td>0</td>\n      <td>0</td>\n      <td>0</td>\n      <td>0</td>\n      <td>0</td>\n      <td>0</td>\n    </tr>\n    <tr>\n      <th>3</th>\n      <td>4위</td>\n      <td>베이식 긴팔 티셔츠 2팩</td>\n      <td>무신사 스탠다드</td>\n      <td>https://www.musinsa.com/app/goods/2149254?loc=...</td>\n      <td>57,235</td>\n      <td>후기 31,434개 보기</td>\n      <td>4.9</td>\n      <td>141000.0</td>\n      <td>120000.0</td>\n      <td>31434</td>\n    </tr>\n    <tr>\n      <th>4</th>\n      <td>5위</td>\n      <td>레이어드 크루 넥 반팔 티셔츠_일반 기장 2팩</td>\n      <td>무신사 스탠다드</td>\n      <td>https://www.musinsa.com/app/goods/2122566?loc=...</td>\n      <td>18,637</td>\n      <td>후기 14,555개 보기</td>\n      <td>4.9</td>\n      <td>87000.0</td>\n      <td>50000.0</td>\n      <td>14555</td>\n    </tr>\n    <tr>\n      <th>...</th>\n      <td>...</td>\n      <td>...</td>\n      <td>...</td>\n      <td>...</td>\n      <td>...</td>\n      <td>...</td>\n      <td>...</td>\n      <td>...</td>\n      <td>...</td>\n      <td>...</td>\n    </tr>\n    <tr>\n      <th>4495</th>\n      <td>4496위</td>\n      <td>벌룬핏 크루넥 니트 BLACK</td>\n      <td>인사일런스</td>\n      <td>https://www.musinsa.com/app/goods/2780269?loc=...</td>\n      <td>351</td>\n      <td>후기 46개 보기</td>\n      <td>4.9</td>\n      <td>2200.0</td>\n      <td>100.0</td>\n      <td>46</td>\n    </tr>\n    <tr>\n      <th>4496</th>\n      <td>0</td>\n      <td>0</td>\n      <td>0</td>\n      <td>0</td>\n      <td>0</td>\n      <td>0</td>\n      <td>0</td>\n      <td>0</td>\n      <td>0</td>\n      <td>0</td>\n    </tr>\n    <tr>\n      <th>4497</th>\n      <td>4498위</td>\n      <td>PHYPS® MONDAY ROUTINE STITCH HOODIE BERRY PINK</td>\n      <td>피지컬 에듀케이션 디파트먼트</td>\n      <td>https://www.musinsa.com/app/goods/3073854?loc=...</td>\n      <td>924</td>\n      <td>후기 24개 보기</td>\n      <td>4.5</td>\n      <td>6200.0</td>\n      <td>100.0</td>\n      <td>24</td>\n    </tr>\n    <tr>\n      <th>4498</th>\n      <td>4499위</td>\n      <td>차콜그레이 벌룬핏 피그먼트 다잉 후드 티셔츠 IETS3E201CG</td>\n      <td>일꼬르소</td>\n      <td>https://www.musinsa.com/app/goods/2873711?loc=...</td>\n      <td>802</td>\n      <td>후기 61개 보기</td>\n      <td>5</td>\n      <td>4400.0</td>\n      <td>200.0</td>\n      <td>61</td>\n    </tr>\n    <tr>\n      <th>4499</th>\n      <td>0</td>\n      <td>0</td>\n      <td>0</td>\n      <td>0</td>\n      <td>0</td>\n      <td>0</td>\n      <td>0</td>\n      <td>0</td>\n      <td>0</td>\n      <td>0</td>\n    </tr>\n  </tbody>\n</table>\n<p>4500 rows × 10 columns</p>\n</div>"
     },
     "execution_count": 80,
     "metadata": {},
     "output_type": "execute_result"
    }
   ],
   "source": [
    "def convert_count(count_str):\n",
    "    count_str = float(re.sub(r'[^0-9]','',count_str))\n",
    "    return int(count_str)\n",
    "merged_df['구매후기 개수_수정'] = merged_df['구매후기 개수'].apply(convert_view_count)\n",
    "merged_df"
   ],
   "metadata": {
    "collapsed": false,
    "pycharm": {
     "name": "#%%\n"
    }
   }
  },
  {
   "cell_type": "code",
   "execution_count": 82,
   "outputs": [
    {
     "data": {
      "text/plain": "         순위                                             상품명             브랜드명  \\\n0        1위                   (시티보이) 오버핏 옥스포드 셔츠_SPYWD23C01              스파오   \n1        2위  [23SS Ver.][PACKAGE] 시티보이 빅오버 워싱 데님 셔츠_4 Color           라퍼지스토어   \n3        4위                                   베이식 긴팔 티셔츠 2팩         무신사 스탠다드   \n4        5위                       레이어드 크루 넥 반팔 티셔츠_일반 기장 2팩         무신사 스탠다드   \n5        6위                              커스텀핏 옥스포드 셔츠 - 화이트         폴로 랄프 로렌   \n...     ...                                             ...              ...   \n4492  4493위                  Button-down Shirt Big Fit Grey           사운즈라이프   \n4494  4495위   N231USW930 베어 와펜 세미 오버핏 맨투맨 티셔츠 CRYSTAL BEIGE         내셔널지오그래픽   \n4495  4496위                                벌룬핏 크루넥 니트 BLACK            인사일런스   \n4497  4498위  PHYPS® MONDAY ROUTINE STITCH HOODIE BERRY PINK  피지컬 에듀케이션 디파트먼트   \n4498  4499위            차콜그레이 벌룬핏 피그먼트 다잉 후드 티셔츠 IETS3E201CG             일꼬르소   \n\n                                                    url     좋아요  \\\n0     https://www.musinsa.com/app/goods/2272830?loc=...  46,073   \n1     https://www.musinsa.com/app/goods/3150516?loc=...     884   \n3     https://www.musinsa.com/app/goods/2149254?loc=...  57,235   \n4     https://www.musinsa.com/app/goods/2122566?loc=...  18,637   \n5     https://www.musinsa.com/app/goods/1706633?loc=...  11,720   \n...                                                 ...     ...   \n4492  https://www.musinsa.com/app/goods/2090726?loc=...      95   \n4494  https://www.musinsa.com/app/goods/2992641?loc=...      49   \n4495  https://www.musinsa.com/app/goods/2780269?loc=...     351   \n4497  https://www.musinsa.com/app/goods/3073854?loc=...     924   \n4498  https://www.musinsa.com/app/goods/2873711?loc=...     802   \n\n            구매후기 개수   평점    조회수_수정 누적판매량(1년)_수정  구매후기 개수_수정  \n0     후기 17,548개 보기  4.9  224000.0      50000.0       17548  \n1          후기 3개 보기  4.7   15000.0        100.0           3  \n3     후기 31,434개 보기  4.9  141000.0     120000.0       31434  \n4     후기 14,555개 보기  4.9   87000.0      50000.0       14555  \n5      후기 2,335개 보기  4.9   23000.0       4300.0        2335  \n...             ...  ...       ...          ...         ...  \n4492      후기 13개 보기  4.9     700.0         50.0          13  \n4494       후기 2개 보기    5    1100.0         50.0           2  \n4495      후기 46개 보기  4.9    2200.0        100.0          46  \n4497      후기 24개 보기  4.5    6200.0        100.0          24  \n4498      후기 61개 보기    5    4400.0        200.0          61  \n\n[3896 rows x 10 columns]",
      "text/html": "<div>\n<style scoped>\n    .dataframe tbody tr th:only-of-type {\n        vertical-align: middle;\n    }\n\n    .dataframe tbody tr th {\n        vertical-align: top;\n    }\n\n    .dataframe thead th {\n        text-align: right;\n    }\n</style>\n<table border=\"1\" class=\"dataframe\">\n  <thead>\n    <tr style=\"text-align: right;\">\n      <th></th>\n      <th>순위</th>\n      <th>상품명</th>\n      <th>브랜드명</th>\n      <th>url</th>\n      <th>좋아요</th>\n      <th>구매후기 개수</th>\n      <th>평점</th>\n      <th>조회수_수정</th>\n      <th>누적판매량(1년)_수정</th>\n      <th>구매후기 개수_수정</th>\n    </tr>\n  </thead>\n  <tbody>\n    <tr>\n      <th>0</th>\n      <td>1위</td>\n      <td>(시티보이) 오버핏 옥스포드 셔츠_SPYWD23C01</td>\n      <td>스파오</td>\n      <td>https://www.musinsa.com/app/goods/2272830?loc=...</td>\n      <td>46,073</td>\n      <td>후기 17,548개 보기</td>\n      <td>4.9</td>\n      <td>224000.0</td>\n      <td>50000.0</td>\n      <td>17548</td>\n    </tr>\n    <tr>\n      <th>1</th>\n      <td>2위</td>\n      <td>[23SS Ver.][PACKAGE] 시티보이 빅오버 워싱 데님 셔츠_4 Color</td>\n      <td>라퍼지스토어</td>\n      <td>https://www.musinsa.com/app/goods/3150516?loc=...</td>\n      <td>884</td>\n      <td>후기 3개 보기</td>\n      <td>4.7</td>\n      <td>15000.0</td>\n      <td>100.0</td>\n      <td>3</td>\n    </tr>\n    <tr>\n      <th>3</th>\n      <td>4위</td>\n      <td>베이식 긴팔 티셔츠 2팩</td>\n      <td>무신사 스탠다드</td>\n      <td>https://www.musinsa.com/app/goods/2149254?loc=...</td>\n      <td>57,235</td>\n      <td>후기 31,434개 보기</td>\n      <td>4.9</td>\n      <td>141000.0</td>\n      <td>120000.0</td>\n      <td>31434</td>\n    </tr>\n    <tr>\n      <th>4</th>\n      <td>5위</td>\n      <td>레이어드 크루 넥 반팔 티셔츠_일반 기장 2팩</td>\n      <td>무신사 스탠다드</td>\n      <td>https://www.musinsa.com/app/goods/2122566?loc=...</td>\n      <td>18,637</td>\n      <td>후기 14,555개 보기</td>\n      <td>4.9</td>\n      <td>87000.0</td>\n      <td>50000.0</td>\n      <td>14555</td>\n    </tr>\n    <tr>\n      <th>5</th>\n      <td>6위</td>\n      <td>커스텀핏 옥스포드 셔츠 - 화이트</td>\n      <td>폴로 랄프 로렌</td>\n      <td>https://www.musinsa.com/app/goods/1706633?loc=...</td>\n      <td>11,720</td>\n      <td>후기 2,335개 보기</td>\n      <td>4.9</td>\n      <td>23000.0</td>\n      <td>4300.0</td>\n      <td>2335</td>\n    </tr>\n    <tr>\n      <th>...</th>\n      <td>...</td>\n      <td>...</td>\n      <td>...</td>\n      <td>...</td>\n      <td>...</td>\n      <td>...</td>\n      <td>...</td>\n      <td>...</td>\n      <td>...</td>\n      <td>...</td>\n    </tr>\n    <tr>\n      <th>4492</th>\n      <td>4493위</td>\n      <td>Button-down Shirt Big Fit Grey</td>\n      <td>사운즈라이프</td>\n      <td>https://www.musinsa.com/app/goods/2090726?loc=...</td>\n      <td>95</td>\n      <td>후기 13개 보기</td>\n      <td>4.9</td>\n      <td>700.0</td>\n      <td>50.0</td>\n      <td>13</td>\n    </tr>\n    <tr>\n      <th>4494</th>\n      <td>4495위</td>\n      <td>N231USW930 베어 와펜 세미 오버핏 맨투맨 티셔츠 CRYSTAL BEIGE</td>\n      <td>내셔널지오그래픽</td>\n      <td>https://www.musinsa.com/app/goods/2992641?loc=...</td>\n      <td>49</td>\n      <td>후기 2개 보기</td>\n      <td>5</td>\n      <td>1100.0</td>\n      <td>50.0</td>\n      <td>2</td>\n    </tr>\n    <tr>\n      <th>4495</th>\n      <td>4496위</td>\n      <td>벌룬핏 크루넥 니트 BLACK</td>\n      <td>인사일런스</td>\n      <td>https://www.musinsa.com/app/goods/2780269?loc=...</td>\n      <td>351</td>\n      <td>후기 46개 보기</td>\n      <td>4.9</td>\n      <td>2200.0</td>\n      <td>100.0</td>\n      <td>46</td>\n    </tr>\n    <tr>\n      <th>4497</th>\n      <td>4498위</td>\n      <td>PHYPS® MONDAY ROUTINE STITCH HOODIE BERRY PINK</td>\n      <td>피지컬 에듀케이션 디파트먼트</td>\n      <td>https://www.musinsa.com/app/goods/3073854?loc=...</td>\n      <td>924</td>\n      <td>후기 24개 보기</td>\n      <td>4.5</td>\n      <td>6200.0</td>\n      <td>100.0</td>\n      <td>24</td>\n    </tr>\n    <tr>\n      <th>4498</th>\n      <td>4499위</td>\n      <td>차콜그레이 벌룬핏 피그먼트 다잉 후드 티셔츠 IETS3E201CG</td>\n      <td>일꼬르소</td>\n      <td>https://www.musinsa.com/app/goods/2873711?loc=...</td>\n      <td>802</td>\n      <td>후기 61개 보기</td>\n      <td>5</td>\n      <td>4400.0</td>\n      <td>200.0</td>\n      <td>61</td>\n    </tr>\n  </tbody>\n</table>\n<p>3896 rows × 10 columns</p>\n</div>"
     },
     "execution_count": 82,
     "metadata": {},
     "output_type": "execute_result"
    }
   ],
   "source": [
    "merged_df = merged_df.loc[merged_df['상품명'] != '0']\n",
    "merged_df"
   ],
   "metadata": {
    "collapsed": false,
    "pycharm": {
     "name": "#%%\n"
    }
   }
  },
  {
   "cell_type": "code",
   "execution_count": 83,
   "outputs": [
    {
     "data": {
      "text/plain": "         순위                                             상품명             브랜드명  \\\n0        1위                   (시티보이) 오버핏 옥스포드 셔츠_SPYWD23C01              스파오   \n1        2위  [23SS Ver.][PACKAGE] 시티보이 빅오버 워싱 데님 셔츠_4 Color           라퍼지스토어   \n3        4위                                   베이식 긴팔 티셔츠 2팩         무신사 스탠다드   \n4        5위                       레이어드 크루 넥 반팔 티셔츠_일반 기장 2팩         무신사 스탠다드   \n5        6위                              커스텀핏 옥스포드 셔츠 - 화이트         폴로 랄프 로렌   \n...     ...                                             ...              ...   \n4492  4493위                  Button-down Shirt Big Fit Grey           사운즈라이프   \n4494  4495위   N231USW930 베어 와펜 세미 오버핏 맨투맨 티셔츠 CRYSTAL BEIGE         내셔널지오그래픽   \n4495  4496위                                벌룬핏 크루넥 니트 BLACK            인사일런스   \n4497  4498위  PHYPS® MONDAY ROUTINE STITCH HOODIE BERRY PINK  피지컬 에듀케이션 디파트먼트   \n4498  4499위            차콜그레이 벌룬핏 피그먼트 다잉 후드 티셔츠 IETS3E201CG             일꼬르소   \n\n                                                    url     좋아요  \\\n0     https://www.musinsa.com/app/goods/2272830?loc=...  46,073   \n1     https://www.musinsa.com/app/goods/3150516?loc=...     884   \n3     https://www.musinsa.com/app/goods/2149254?loc=...  57,235   \n4     https://www.musinsa.com/app/goods/2122566?loc=...  18,637   \n5     https://www.musinsa.com/app/goods/1706633?loc=...  11,720   \n...                                                 ...     ...   \n4492  https://www.musinsa.com/app/goods/2090726?loc=...      95   \n4494  https://www.musinsa.com/app/goods/2992641?loc=...      49   \n4495  https://www.musinsa.com/app/goods/2780269?loc=...     351   \n4497  https://www.musinsa.com/app/goods/3073854?loc=...     924   \n4498  https://www.musinsa.com/app/goods/2873711?loc=...     802   \n\n            구매후기 개수   평점    조회수_수정  누적판매량(1년)_수정  구매후기 개수_수정  \n0     후기 17,548개 보기  4.9  224000.0       50000.0       17548  \n1          후기 3개 보기  4.7   15000.0         100.0           3  \n3     후기 31,434개 보기  4.9  141000.0      120000.0       31434  \n4     후기 14,555개 보기  4.9   87000.0       50000.0       14555  \n5      후기 2,335개 보기  4.9   23000.0        4300.0        2335  \n...             ...  ...       ...           ...         ...  \n4492      후기 13개 보기  4.9     700.0          50.0          13  \n4494       후기 2개 보기    5    1100.0          50.0           2  \n4495      후기 46개 보기  4.9    2200.0         100.0          46  \n4497      후기 24개 보기  4.5    6200.0         100.0          24  \n4498      후기 61개 보기    5    4400.0         200.0          61  \n\n[3896 rows x 10 columns]",
      "text/html": "<div>\n<style scoped>\n    .dataframe tbody tr th:only-of-type {\n        vertical-align: middle;\n    }\n\n    .dataframe tbody tr th {\n        vertical-align: top;\n    }\n\n    .dataframe thead th {\n        text-align: right;\n    }\n</style>\n<table border=\"1\" class=\"dataframe\">\n  <thead>\n    <tr style=\"text-align: right;\">\n      <th></th>\n      <th>순위</th>\n      <th>상품명</th>\n      <th>브랜드명</th>\n      <th>url</th>\n      <th>좋아요</th>\n      <th>구매후기 개수</th>\n      <th>평점</th>\n      <th>조회수_수정</th>\n      <th>누적판매량(1년)_수정</th>\n      <th>구매후기 개수_수정</th>\n    </tr>\n  </thead>\n  <tbody>\n    <tr>\n      <th>0</th>\n      <td>1위</td>\n      <td>(시티보이) 오버핏 옥스포드 셔츠_SPYWD23C01</td>\n      <td>스파오</td>\n      <td>https://www.musinsa.com/app/goods/2272830?loc=...</td>\n      <td>46,073</td>\n      <td>후기 17,548개 보기</td>\n      <td>4.9</td>\n      <td>224000.0</td>\n      <td>50000.0</td>\n      <td>17548</td>\n    </tr>\n    <tr>\n      <th>1</th>\n      <td>2위</td>\n      <td>[23SS Ver.][PACKAGE] 시티보이 빅오버 워싱 데님 셔츠_4 Color</td>\n      <td>라퍼지스토어</td>\n      <td>https://www.musinsa.com/app/goods/3150516?loc=...</td>\n      <td>884</td>\n      <td>후기 3개 보기</td>\n      <td>4.7</td>\n      <td>15000.0</td>\n      <td>100.0</td>\n      <td>3</td>\n    </tr>\n    <tr>\n      <th>3</th>\n      <td>4위</td>\n      <td>베이식 긴팔 티셔츠 2팩</td>\n      <td>무신사 스탠다드</td>\n      <td>https://www.musinsa.com/app/goods/2149254?loc=...</td>\n      <td>57,235</td>\n      <td>후기 31,434개 보기</td>\n      <td>4.9</td>\n      <td>141000.0</td>\n      <td>120000.0</td>\n      <td>31434</td>\n    </tr>\n    <tr>\n      <th>4</th>\n      <td>5위</td>\n      <td>레이어드 크루 넥 반팔 티셔츠_일반 기장 2팩</td>\n      <td>무신사 스탠다드</td>\n      <td>https://www.musinsa.com/app/goods/2122566?loc=...</td>\n      <td>18,637</td>\n      <td>후기 14,555개 보기</td>\n      <td>4.9</td>\n      <td>87000.0</td>\n      <td>50000.0</td>\n      <td>14555</td>\n    </tr>\n    <tr>\n      <th>5</th>\n      <td>6위</td>\n      <td>커스텀핏 옥스포드 셔츠 - 화이트</td>\n      <td>폴로 랄프 로렌</td>\n      <td>https://www.musinsa.com/app/goods/1706633?loc=...</td>\n      <td>11,720</td>\n      <td>후기 2,335개 보기</td>\n      <td>4.9</td>\n      <td>23000.0</td>\n      <td>4300.0</td>\n      <td>2335</td>\n    </tr>\n    <tr>\n      <th>...</th>\n      <td>...</td>\n      <td>...</td>\n      <td>...</td>\n      <td>...</td>\n      <td>...</td>\n      <td>...</td>\n      <td>...</td>\n      <td>...</td>\n      <td>...</td>\n      <td>...</td>\n    </tr>\n    <tr>\n      <th>4492</th>\n      <td>4493위</td>\n      <td>Button-down Shirt Big Fit Grey</td>\n      <td>사운즈라이프</td>\n      <td>https://www.musinsa.com/app/goods/2090726?loc=...</td>\n      <td>95</td>\n      <td>후기 13개 보기</td>\n      <td>4.9</td>\n      <td>700.0</td>\n      <td>50.0</td>\n      <td>13</td>\n    </tr>\n    <tr>\n      <th>4494</th>\n      <td>4495위</td>\n      <td>N231USW930 베어 와펜 세미 오버핏 맨투맨 티셔츠 CRYSTAL BEIGE</td>\n      <td>내셔널지오그래픽</td>\n      <td>https://www.musinsa.com/app/goods/2992641?loc=...</td>\n      <td>49</td>\n      <td>후기 2개 보기</td>\n      <td>5</td>\n      <td>1100.0</td>\n      <td>50.0</td>\n      <td>2</td>\n    </tr>\n    <tr>\n      <th>4495</th>\n      <td>4496위</td>\n      <td>벌룬핏 크루넥 니트 BLACK</td>\n      <td>인사일런스</td>\n      <td>https://www.musinsa.com/app/goods/2780269?loc=...</td>\n      <td>351</td>\n      <td>후기 46개 보기</td>\n      <td>4.9</td>\n      <td>2200.0</td>\n      <td>100.0</td>\n      <td>46</td>\n    </tr>\n    <tr>\n      <th>4497</th>\n      <td>4498위</td>\n      <td>PHYPS® MONDAY ROUTINE STITCH HOODIE BERRY PINK</td>\n      <td>피지컬 에듀케이션 디파트먼트</td>\n      <td>https://www.musinsa.com/app/goods/3073854?loc=...</td>\n      <td>924</td>\n      <td>후기 24개 보기</td>\n      <td>4.5</td>\n      <td>6200.0</td>\n      <td>100.0</td>\n      <td>24</td>\n    </tr>\n    <tr>\n      <th>4498</th>\n      <td>4499위</td>\n      <td>차콜그레이 벌룬핏 피그먼트 다잉 후드 티셔츠 IETS3E201CG</td>\n      <td>일꼬르소</td>\n      <td>https://www.musinsa.com/app/goods/2873711?loc=...</td>\n      <td>802</td>\n      <td>후기 61개 보기</td>\n      <td>5</td>\n      <td>4400.0</td>\n      <td>200.0</td>\n      <td>61</td>\n    </tr>\n  </tbody>\n</table>\n<p>3896 rows × 10 columns</p>\n</div>"
     },
     "execution_count": 83,
     "metadata": {},
     "output_type": "execute_result"
    }
   ],
   "source": [
    "merged_df=merged_df.fillna(0)\n",
    "merged_df"
   ],
   "metadata": {
    "collapsed": false,
    "pycharm": {
     "name": "#%%\n"
    }
   }
  },
  {
   "cell_type": "code",
   "execution_count": 84,
   "outputs": [
    {
     "data": {
      "text/plain": "array(['스파오', '라퍼지스토어', '무신사 스탠다드', '폴로 랄프 로렌', '유니온블루', '건지 울른스', '페플',\n       '필루미네이트', '소버먼트', '예일', '세인트제임스', '메종 마르지엘라', '스컬프터', '인템포무드',\n       '트래블', '토피', '트릴리온', '아메스 월드와이드', '드로우핏', '1993스튜디오', '키뮤어',\n       '나이스고스트클럽', '토마스모어', '굿라이프웍스', '수아레', '팔렛', '푸마 셀렉트', '마르디 메크르디',\n       '코드그라피', '듀테로', '디스이즈네버댓', '본하이커', '어나더 오피스', '그로브', '커버낫',\n       '프린트스타', '발란사', '노앙', '포터리', '마인드브릿지', '테이크이지', '뉴에라', '세터',\n       '이벳필드', '슬로우애시드', '마리떼', '배드블러드', '제멋', '시티브리즈', '어반드레스', '브라운브레스',\n       '비바스튜디오', '크림소다랩', '마뗑킴', '선데이오프클럽', '호텔세리토스', '에이프릴에잇', '엘무드',\n       '리', '유니폼브릿지', '꼼파뇨', '피브비', '피지컬 에듀케이션 디파트먼트', '아조바이아조', '로맨틱크라운',\n       '어반스터프', '파르티멘토', '마틴플랜', '코드', '예스아이씨', '플레이스 스튜디오', '지오다노',\n       '엔오르', '슈퍼서브', '쿠어', '펀치드렁크파티즈', '니틀리', '오프 화이트', '디프리크', '인더스트',\n       '시야쥬', '와릿이즌', '리트리버클럽', '아크메드라비', '아웃스탠딩', '르마드', '프렌다', '지프',\n       '어반디타입', '티떠블유엔', '일꼬르소', '이자벨마랑', '캘빈클라인 진', '더블알엘', '시눈',\n       '발렌시아가', '비전스트릿웨어', '줄리아페페', '라코스테', '엄브로', '크리틱', '마하그리드', '엔에프엘',\n       '퍼스텝', '로라로라', '파브레가', '르바', '본챔스', '더블유브이프로젝트', '더바이닐하우스',\n       '내셔널지오그래픽', '에스피오나지', '레이브', '브룩스 브라더스', '파르티멘토 우먼', '엠엠엘지',\n       '패블러스아카이브', '카멜워크', '베스띠또', '노매뉴얼', '낫포너드', '노이아고', '프리즘웍스', '애습',\n       '틸 아이 다이', '비디알', '이스트쿤스트', '아티스트웨어', '어반에이지', '2000아카이브스',\n       '레테르코모', '론론', '그란투리스모', '멜란지 마스터', '닉앤니콜', '더스트그레이', '비터셀즈',\n       '브라바도', '로맨틱 파이어리츠', '이에스엔', '리우아', '아디다스', '브아빗', '엑서사이즈', '솔티',\n       '벤힛', '토우토우 아카이브', '디스커버리 익스페디션', '피스메이커', '로얄라이프', '니티드', '메러베인',\n       '캉골', '에즈카톤', '클렛', '페스토', '포스333', '라이프워크', '밀리언코르', '세인트페인',\n       '해바이해킴', '페인오어플레져', '에노우', '문선', '어누즈', '오아이오아이', '파코', '더콜디스트모먼트',\n       '에즈이프 캘리', '카비시', '타미힐피거', '밈더워드로브', '크럼프', '벤 데이비스', '에이이에이이',\n       '리복', '게인스보로', '프랑켄모노', '랭5', '러브이즈트루', '블론드나인', '그루브라임', '와이케이',\n       '인사일런스', '트레셔', '미나브', '오드스튜디오', '익스프레스 홀리데이', '알브이디', '마크엠',\n       '아노블리어', '엑스컨테이너', '어나더 아카이브', '샤카웨어', '랑가주망', '더센토르', '노티카',\n       '메종미네드', '코케트 스튜디오', '시그니처', '골스튜디오', '와이낫어스', '네이비팀', '썸플레이스',\n       '베이직하우스', '어커버', '에스에스와이', '스포티앤리치', '오앤에이', '딜레탕티즘', '다이애그널',\n       '블랭크룸', '배디', '제이엘브', '오션퍼시픽', '세컨모놀로그', '모더먼트', '델리센트', '원더비지터',\n       '브렌슨', '우알롱', '뉴발란스', '도프제이슨', '에리즈 얼라이즈', '모즈모즈', '에프씨엠엠', '케즈',\n       '엠오오', '그레이버', '디파이클럽로버스', '커스텀어클락', '플러키티', '얼킨', '키르시', '엠블러',\n       '몬스터리퍼블릭', '네스티팬시클럽', '웨이브유니온', '트립션', '이슈넘버', '고스트리퍼블릭', '후크',\n       '피버타임', '페이퍼보이', '에트오소메', '엠엘비', '1989스탠다드', '맥우드건', '어썸스튜디오',\n       '논로컬', '팀코믹스', '세릭', '아웃도어 프로덕츠', '래리클락', '지미코 브리코', '엘엠씨', '랭글러',\n       '미니멀코드', '밀로', '콜릿', '피아네르', '제너럴아이디어', '유라고', '앨빈클로', '가터갤러리',\n       '레스트앤레크레이션', '미드나잇 무브', '유앤엘씨', '노드 아카이브', '아미', '밀레 클래식',\n       '디미트리블랙', '레씨토', '오웨너', '비슬로우', '르아르', '다이아몬드 레이라', '프로드셔츠', '후아유',\n       '코닥', '뮤지엄 오브 피스 앤 콰이엇', '리바이스', '레이버러스', '게스', '라퍼지 포 우먼',\n       '오버듀플레어', '리파인드902', '레이디 볼륨', '노스 프로젝트', '어텐션로우', '비헤비어',\n       '라운드트리코', '에스릿 스튜디오', '하이투', '클로브', '롤링스튜디오', '제네럴웍스', '영월정션',\n       '티아즈', '키크', '덕다이브', '라티젠', '말렌', '에씨드슬라이드', '에잇세컨즈', '아카이브 볼드',\n       '휠라', '인사일런스 우먼', '나파피리', '크레이지 카 워시 크루', '엑스톤즈', '배드인배드',\n       '네이머클로딩', '트립르센스', '플래니트', '디앤에스알', '몽플리쎄', '로커드', '비디오자키', '집시',\n       '디뮤즈', '제로플래닛', '굿하비클럽', '넌블랭크', '와일드띵스', '하이드아웃', '노이커먼', '예일 골프',\n       '네스티킥', '테네르', '패슬', '파나컬트', '미니멀프로젝트', '큐리티', '에이본', '에이카화이트',\n       '세븐셀라', '뎃츠잇', '디키즈', '루루', '곤니치와봉쥬르', '디폴트벨류', '아이코노그라피', '오닐',\n       '바이바이섭', '피그먼트', '콤팩트 레코드 바', '엠엔지유', '팔랩', '로씨로씨', '볼컴', '고저',\n       '피파 1904', '더셔츠스튜디오', '브릭', '젠사이', '제로스트릿', '어피스오브케이크', '기프트오리지널',\n       '엑스트라오디너리', '타미진스', '더블유엠씨', '마르디 메크르디 악티프', '데이', '클럽액티비티',\n       '위캔더스', '오드펄', '퓨처랩', '닉앤니콜 포 맨', '콘트로바날레', '더마일', '써드위브', '드마크',\n       '아비렉스', '이피디벨롭', '왕관', '칸코', '오엑스 스튜디오', '바버', '클로티', '타게토',\n       '타입서비스', '챔피온', '커스텀멜로우', '코넬', '해비즘', '반스', '디그낙12', '행텐',\n       '반원 아틀리에', '언리미트', '골라', '아임낫어휴먼비잉', '로열클럽홀리데이', '참스', '엘리오티',\n       '밴웍스', '메인부스', '락사이코', '아코스튜디오스페이스', '논앤논', '리올그', '베테제', '체이스컬트',\n       '제로', '플랙', '라미네즈', '페얼스 델리 앤 그로서리', '브이투', '플라스틱보틀보트', '엽페',\n       '커렌트', '푸마', '장 미쉘 바스키아', '코우코우', '모뉴먼트', '더 아이덴티티 프로젝트', '널디',\n       '디스커스 애슬레틱', '언더베이스', '크랭크', '데이라이프', '유니어패럴', '빈트릴', '아파트먼트',\n       '률앤와이', '엠엠지엘', '블랙맘바', '테일러 스튜디오', '글리머', '플루크', '데비어퍼', '데꼬로소',\n       '스페이드클럽서울', '메리제임스', '래비티 스포츠', '벌스데이수트', '아이러니포르노 화이트라인', '뱅어스',\n       '런디에스', '어몽', '카파', '베리드얼라이브', '에스티코', '틀영', '로제프란츠',\n       '낫유어엑스엑스엑스 바이 낫유어로즈', '원더월에디션', '콜미베이비', '마르베테', '이에이', '그레일즈',\n       '아차', '노스페이스', '에이징씨씨씨', '유씨 버클리', '로코로코', '스코타', '베이버스', '드리프트아웃',\n       '스턴트', '티엔지티', '38컴온커먼', '23.65', '앤커버', '레터프롬문', '바스틱', '애쉬아워',\n       '인스턴트펑크', '낫 유어 로즈', '써네이', '알렉산더 맥퀸', '꼼데가르송 플레이', '더니트컴퍼니',\n       '스테이지 네임', '버버리', '에스 막스 마라', '사운즈라이프', '쏘이르', '스톤아일랜드', '마롭',\n       '비비안 웨스트우드', '나체', '카사블랑카', '아크네 스튜디오', '질 샌더', '플레어업', '오와이',\n       '생로랑', '디써티원', '라퍼', '디젤', '앤더슨벨', '언아웃핏', '던스트 포 우먼', '51퍼센트',\n       '매스노운', '에이디오', '척', '루에브르', '카고브로스', '오프닝프로젝트', '오키아', '톤즈',\n       '보테가베네타', '애프터프레이', '매드마르스', '리프클로딩', '주앙옴므', '도미넌트', '티리버럴',\n       '아이돈워너셀', '33뮤즈먼트', '에뜨르 세실', '아페쎄', '하드코어 해피니스', '던스트',\n       '아이홀릭 캐시미어', '객', '이지노이지', '247시리즈', '오브이디와이', '탑텐', '이퓨원트',\n       '시디스콤마', '글랙', '쎄무아듀', '신스레터스', '디퍼런트이즈.오케이', '210에디트', '빠니깔레',\n       '테르오', '노클레임', '언더톤즈', '실른', '후브스', '텐블레이드', '펜필드', '하이스쿨디스코',\n       '아워스코프', '샌드 사운드', '지플리시', '씨엔엔 어패럴', '러디칙스', '앤더슨벨 포 우먼', '골든베어',\n       '오호스', '알리스', '빈폴 멘', '아모멘토', '비욘드클로젯', '올리버코튼즈', '제이미웨스트'],\n      dtype=object)"
     },
     "execution_count": 84,
     "metadata": {},
     "output_type": "execute_result"
    }
   ],
   "source": [
    "merged_df['브랜드명'].unique()"
   ],
   "metadata": {
    "collapsed": false,
    "pycharm": {
     "name": "#%%\n"
    }
   }
  },
  {
   "cell_type": "code",
   "execution_count": 118,
   "outputs": [
    {
     "data": {
      "text/plain": "           count\n브랜드명            \n1989스탠다드      13\n1993스튜디오      44\n2000아카이브스      9\n210에디트         3\n23.65          1\n...          ...\n호텔세리토스        10\n후브스            1\n후아유            2\n후크             2\n휠라             6\n\n[553 rows x 1 columns]",
      "text/html": "<div>\n<style scoped>\n    .dataframe tbody tr th:only-of-type {\n        vertical-align: middle;\n    }\n\n    .dataframe tbody tr th {\n        vertical-align: top;\n    }\n\n    .dataframe thead th {\n        text-align: right;\n    }\n</style>\n<table border=\"1\" class=\"dataframe\">\n  <thead>\n    <tr style=\"text-align: right;\">\n      <th></th>\n      <th>count</th>\n    </tr>\n    <tr>\n      <th>브랜드명</th>\n      <th></th>\n    </tr>\n  </thead>\n  <tbody>\n    <tr>\n      <th>1989스탠다드</th>\n      <td>13</td>\n    </tr>\n    <tr>\n      <th>1993스튜디오</th>\n      <td>44</td>\n    </tr>\n    <tr>\n      <th>2000아카이브스</th>\n      <td>9</td>\n    </tr>\n    <tr>\n      <th>210에디트</th>\n      <td>3</td>\n    </tr>\n    <tr>\n      <th>23.65</th>\n      <td>1</td>\n    </tr>\n    <tr>\n      <th>...</th>\n      <td>...</td>\n    </tr>\n    <tr>\n      <th>호텔세리토스</th>\n      <td>10</td>\n    </tr>\n    <tr>\n      <th>후브스</th>\n      <td>1</td>\n    </tr>\n    <tr>\n      <th>후아유</th>\n      <td>2</td>\n    </tr>\n    <tr>\n      <th>후크</th>\n      <td>2</td>\n    </tr>\n    <tr>\n      <th>휠라</th>\n      <td>6</td>\n    </tr>\n  </tbody>\n</table>\n<p>553 rows × 1 columns</p>\n</div>"
     },
     "execution_count": 118,
     "metadata": {},
     "output_type": "execute_result"
    }
   ],
   "source": [
    "pivot_table = pd.pivot_table(merged_df, values='상품명', index='브랜드명', aggfunc='count')\n",
    "pivot_table.columns = ['count']\n",
    "pivot_table"
   ],
   "metadata": {
    "collapsed": false,
    "pycharm": {
     "name": "#%%\n"
    }
   }
  },
  {
   "cell_type": "code",
   "execution_count": 119,
   "outputs": [
    {
     "data": {
      "text/plain": "          count\n브랜드명           \n무신사 스탠다드    269\n폴로 랄프 로렌    125\n예일          111\n디스이즈네버댓      76\n어반드레스        65\n...         ...\n널디            1\n이에이           1\n브룩스 브라더스      1\n이지노이지         1\n디앤에스알         1\n\n[553 rows x 1 columns]",
      "text/html": "<div>\n<style scoped>\n    .dataframe tbody tr th:only-of-type {\n        vertical-align: middle;\n    }\n\n    .dataframe tbody tr th {\n        vertical-align: top;\n    }\n\n    .dataframe thead th {\n        text-align: right;\n    }\n</style>\n<table border=\"1\" class=\"dataframe\">\n  <thead>\n    <tr style=\"text-align: right;\">\n      <th></th>\n      <th>count</th>\n    </tr>\n    <tr>\n      <th>브랜드명</th>\n      <th></th>\n    </tr>\n  </thead>\n  <tbody>\n    <tr>\n      <th>무신사 스탠다드</th>\n      <td>269</td>\n    </tr>\n    <tr>\n      <th>폴로 랄프 로렌</th>\n      <td>125</td>\n    </tr>\n    <tr>\n      <th>예일</th>\n      <td>111</td>\n    </tr>\n    <tr>\n      <th>디스이즈네버댓</th>\n      <td>76</td>\n    </tr>\n    <tr>\n      <th>어반드레스</th>\n      <td>65</td>\n    </tr>\n    <tr>\n      <th>...</th>\n      <td>...</td>\n    </tr>\n    <tr>\n      <th>널디</th>\n      <td>1</td>\n    </tr>\n    <tr>\n      <th>이에이</th>\n      <td>1</td>\n    </tr>\n    <tr>\n      <th>브룩스 브라더스</th>\n      <td>1</td>\n    </tr>\n    <tr>\n      <th>이지노이지</th>\n      <td>1</td>\n    </tr>\n    <tr>\n      <th>디앤에스알</th>\n      <td>1</td>\n    </tr>\n  </tbody>\n</table>\n<p>553 rows × 1 columns</p>\n</div>"
     },
     "execution_count": 119,
     "metadata": {},
     "output_type": "execute_result"
    }
   ],
   "source": [
    "sorted_pivot_table=pivot_table.sort_values(by='count', ascending=False)\n",
    "sorted_pivot_table"
   ],
   "metadata": {
    "collapsed": false,
    "pycharm": {
     "name": "#%%\n"
    }
   }
  },
  {
   "cell_type": "code",
   "execution_count": 120,
   "outputs": [],
   "source": [
    "import matplotlib.pyplot as plt\n",
    "import seaborn as sns"
   ],
   "metadata": {
    "collapsed": false,
    "pycharm": {
     "name": "#%%\n"
    }
   }
  },
  {
   "cell_type": "code",
   "execution_count": 125,
   "outputs": [
    {
     "ename": "KeyError",
     "evalue": "'브랜드명'",
     "output_type": "error",
     "traceback": [
      "\u001B[1;31m---------------------------------------------------------------------------\u001B[0m",
      "\u001B[1;31mKeyError\u001B[0m                                  Traceback (most recent call last)",
      "File \u001B[1;32mc:\\users\\jpc10\\ideaprojects\\untitled\\venv\\lib\\site-packages\\pandas\\core\\indexes\\base.py:3621\u001B[0m, in \u001B[0;36mIndex.get_loc\u001B[1;34m(self, key, method, tolerance)\u001B[0m\n\u001B[0;32m   3620\u001B[0m \u001B[38;5;28;01mtry\u001B[39;00m:\n\u001B[1;32m-> 3621\u001B[0m     \u001B[38;5;28;01mreturn\u001B[39;00m \u001B[38;5;28;43mself\u001B[39;49m\u001B[38;5;241;43m.\u001B[39;49m\u001B[43m_engine\u001B[49m\u001B[38;5;241;43m.\u001B[39;49m\u001B[43mget_loc\u001B[49m\u001B[43m(\u001B[49m\u001B[43mcasted_key\u001B[49m\u001B[43m)\u001B[49m\n\u001B[0;32m   3622\u001B[0m \u001B[38;5;28;01mexcept\u001B[39;00m \u001B[38;5;167;01mKeyError\u001B[39;00m \u001B[38;5;28;01mas\u001B[39;00m err:\n",
      "File \u001B[1;32mc:\\users\\jpc10\\ideaprojects\\untitled\\venv\\lib\\site-packages\\pandas\\_libs\\index.pyx:136\u001B[0m, in \u001B[0;36mpandas._libs.index.IndexEngine.get_loc\u001B[1;34m()\u001B[0m\n",
      "File \u001B[1;32mc:\\users\\jpc10\\ideaprojects\\untitled\\venv\\lib\\site-packages\\pandas\\_libs\\index.pyx:163\u001B[0m, in \u001B[0;36mpandas._libs.index.IndexEngine.get_loc\u001B[1;34m()\u001B[0m\n",
      "File \u001B[1;32mpandas\\_libs\\hashtable_class_helper.pxi:5198\u001B[0m, in \u001B[0;36mpandas._libs.hashtable.PyObjectHashTable.get_item\u001B[1;34m()\u001B[0m\n",
      "File \u001B[1;32mpandas\\_libs\\hashtable_class_helper.pxi:5206\u001B[0m, in \u001B[0;36mpandas._libs.hashtable.PyObjectHashTable.get_item\u001B[1;34m()\u001B[0m\n",
      "\u001B[1;31mKeyError\u001B[0m: '브랜드명'",
      "\nThe above exception was the direct cause of the following exception:\n",
      "\u001B[1;31mKeyError\u001B[0m                                  Traceback (most recent call last)",
      "Input \u001B[1;32mIn [125]\u001B[0m, in \u001B[0;36m<cell line: 1>\u001B[1;34m()\u001B[0m\n\u001B[1;32m----> 1\u001B[0m plt\u001B[38;5;241m.\u001B[39mbar(\u001B[43msorted_pivot_table\u001B[49m\u001B[43m[\u001B[49m\u001B[38;5;124;43m'\u001B[39;49m\u001B[38;5;124;43m브랜드명\u001B[39;49m\u001B[38;5;124;43m'\u001B[39;49m\u001B[43m]\u001B[49m, sorted_pivot_table[\u001B[38;5;124m'\u001B[39m\u001B[38;5;124mcount\u001B[39m\u001B[38;5;124m'\u001B[39m])\n\u001B[0;32m      2\u001B[0m plt\u001B[38;5;241m.\u001B[39mshow()\n",
      "File \u001B[1;32mc:\\users\\jpc10\\ideaprojects\\untitled\\venv\\lib\\site-packages\\pandas\\core\\frame.py:3505\u001B[0m, in \u001B[0;36mDataFrame.__getitem__\u001B[1;34m(self, key)\u001B[0m\n\u001B[0;32m   3503\u001B[0m \u001B[38;5;28;01mif\u001B[39;00m \u001B[38;5;28mself\u001B[39m\u001B[38;5;241m.\u001B[39mcolumns\u001B[38;5;241m.\u001B[39mnlevels \u001B[38;5;241m>\u001B[39m \u001B[38;5;241m1\u001B[39m:\n\u001B[0;32m   3504\u001B[0m     \u001B[38;5;28;01mreturn\u001B[39;00m \u001B[38;5;28mself\u001B[39m\u001B[38;5;241m.\u001B[39m_getitem_multilevel(key)\n\u001B[1;32m-> 3505\u001B[0m indexer \u001B[38;5;241m=\u001B[39m \u001B[38;5;28;43mself\u001B[39;49m\u001B[38;5;241;43m.\u001B[39;49m\u001B[43mcolumns\u001B[49m\u001B[38;5;241;43m.\u001B[39;49m\u001B[43mget_loc\u001B[49m\u001B[43m(\u001B[49m\u001B[43mkey\u001B[49m\u001B[43m)\u001B[49m\n\u001B[0;32m   3506\u001B[0m \u001B[38;5;28;01mif\u001B[39;00m is_integer(indexer):\n\u001B[0;32m   3507\u001B[0m     indexer \u001B[38;5;241m=\u001B[39m [indexer]\n",
      "File \u001B[1;32mc:\\users\\jpc10\\ideaprojects\\untitled\\venv\\lib\\site-packages\\pandas\\core\\indexes\\base.py:3623\u001B[0m, in \u001B[0;36mIndex.get_loc\u001B[1;34m(self, key, method, tolerance)\u001B[0m\n\u001B[0;32m   3621\u001B[0m     \u001B[38;5;28;01mreturn\u001B[39;00m \u001B[38;5;28mself\u001B[39m\u001B[38;5;241m.\u001B[39m_engine\u001B[38;5;241m.\u001B[39mget_loc(casted_key)\n\u001B[0;32m   3622\u001B[0m \u001B[38;5;28;01mexcept\u001B[39;00m \u001B[38;5;167;01mKeyError\u001B[39;00m \u001B[38;5;28;01mas\u001B[39;00m err:\n\u001B[1;32m-> 3623\u001B[0m     \u001B[38;5;28;01mraise\u001B[39;00m \u001B[38;5;167;01mKeyError\u001B[39;00m(key) \u001B[38;5;28;01mfrom\u001B[39;00m \u001B[38;5;21;01merr\u001B[39;00m\n\u001B[0;32m   3624\u001B[0m \u001B[38;5;28;01mexcept\u001B[39;00m \u001B[38;5;167;01mTypeError\u001B[39;00m:\n\u001B[0;32m   3625\u001B[0m     \u001B[38;5;66;03m# If we have a listlike key, _check_indexing_error will raise\u001B[39;00m\n\u001B[0;32m   3626\u001B[0m     \u001B[38;5;66;03m#  InvalidIndexError. Otherwise we fall through and re-raise\u001B[39;00m\n\u001B[0;32m   3627\u001B[0m     \u001B[38;5;66;03m#  the TypeError.\u001B[39;00m\n\u001B[0;32m   3628\u001B[0m     \u001B[38;5;28mself\u001B[39m\u001B[38;5;241m.\u001B[39m_check_indexing_error(key)\n",
      "\u001B[1;31mKeyError\u001B[0m: '브랜드명'"
     ]
    }
   ],
   "source": [
    "plt.bar(sorted_pivot_table['브랜드명'], sorted_pivot_table['count'])\n",
    "plt.show()"
   ],
   "metadata": {
    "collapsed": false,
    "pycharm": {
     "name": "#%%\n"
    }
   }
  },
  {
   "cell_type": "code",
   "execution_count": 87,
   "outputs": [],
   "source": [],
   "metadata": {
    "collapsed": false,
    "pycharm": {
     "name": "#%%\n"
    }
   }
  },
  {
   "cell_type": "code",
   "execution_count": null,
   "outputs": [],
   "source": [],
   "metadata": {
    "collapsed": false,
    "pycharm": {
     "name": "#%%\n"
    }
   }
  }
 ],
 "metadata": {
  "kernelspec": {
   "display_name": "Python 3",
   "language": "python",
   "name": "python3"
  },
  "language_info": {
   "codemirror_mode": {
    "name": "ipython",
    "version": 2
   },
   "file_extension": ".py",
   "mimetype": "text/x-python",
   "name": "python",
   "nbconvert_exporter": "python",
   "pygments_lexer": "ipython2",
   "version": "2.7.6"
  }
 },
 "nbformat": 4,
 "nbformat_minor": 0
}