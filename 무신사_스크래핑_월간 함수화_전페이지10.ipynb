{
 "cells": [
  {
   "cell_type": "code",
   "execution_count": 1,
   "metadata": {
    "collapsed": true
   },
   "outputs": [],
   "source": [
    "import pandas as pd\n",
    "import requests\n",
    "from bs4 import BeautifulSoup as bs\n",
    "import time\n",
    "from tqdm import tqdm"
   ]
  },
  {
   "cell_type": "code",
   "execution_count": 2,
   "outputs": [],
   "source": [
    "from selenium import webdriver"
   ],
   "metadata": {
    "collapsed": false,
    "pycharm": {
     "name": "#%%\n"
    }
   }
  },
  {
   "cell_type": "code",
   "execution_count": 9,
   "outputs": [],
   "source": [
    "def musinsa_rank():\n",
    "    url = f\"https://www.musinsa.com/ranking/best?period=month&age=ALL&mainCategory=001&subCategory=&leafCategory=&price=&golf=false&kids=false&newProduct=false&exclusive=false&discount=false&soldOut=false&page=1&viewType=small&priceMin=&priceMax=\"\n",
    "    response = requests.get(url)\n",
    "    html = bs(response.text, 'lxml')\n",
    "    musinsa_rank_df = rbnl(html)\n",
    "\n",
    "    return musinsa_rank_df"
   ],
   "metadata": {
    "collapsed": false,
    "pycharm": {
     "name": "#%%\n"
    }
   }
  },
  {
   "cell_type": "code",
   "execution_count": 10,
   "outputs": [],
   "source": [
    "def rbnl(html):\n",
    "    musinsa_rank_df = pd.DataFrame()\n",
    "\n",
    "    #순위 뽑기\n",
    "    rank_html = html.select('#goodsRankList > li > p')\n",
    "    rank_no_list = []\n",
    "\n",
    "    for i in rank_html:\n",
    "        rank_no_list.append(i.string.strip())\n",
    "\n",
    "    musinsa_rank_df['순위'] = rank_no_list\n",
    "\n",
    "    #브랜드 이름 뽑기\n",
    "    brand_html = html.select('#goodsRankList > li > div.li_inner > div.article_info > p.item_title > a')\n",
    "    brand_list = []\n",
    "\n",
    "    for i in brand_html:\n",
    "        brand_list.append(i.string)\n",
    "\n",
    "    musinsa_rank_df['브랜드명']=brand_list\n",
    "\n",
    "    #링크와 의류명 뽑기\n",
    "    link_name_html = html.select('#goodsRankList > li > div.li_inner > div.article_info > p.list_info > a')\n",
    "    link_list = []\n",
    "    name_list = []\n",
    "\n",
    "    for i in link_name_html:\n",
    "        link_list.append(i['href'])\n",
    "        name_list.append(i['title'])\n",
    "\n",
    "    musinsa_rank_df['의류명']=name_list\n",
    "    musinsa_rank_df['링크']=link_list\n",
    "\n",
    "    #상세 페이지 크롤링\n",
    "    musinsa_rank_df2 = specific_info(link_list)\n",
    "\n",
    "    #데이터 프레임 옆으로 합치기\n",
    "    musinsa_rank_df = pd.concat([musinsa_rank_df, musinsa_rank_df2], axis=1)\n",
    "\n",
    "    return musinsa_rank_df"
   ],
   "metadata": {
    "collapsed": false,
    "pycharm": {
     "name": "#%%\n"
    }
   }
  },
  {
   "cell_type": "code",
   "execution_count": 11,
   "outputs": [],
   "source": [
    "from pyasn1.compat.octets import null\n",
    "\n",
    "\n",
    "def specific_info(link_list):\n",
    "    headers={'User-Agent':'Mozilla/5.0 (Windows NT 10.0; Win64; x64) AppleWebKit/537.36 (KHTML, like Gecko) Chrome/101.0.4951.67 Safari/537.36'}\n",
    "\n",
    "    musinsa_rank_df = pd.DataFrame()\n",
    "    part_num_list=[]\n",
    "    sex_list=[]\n",
    "    view_list=[]\n",
    "    sales_list=[]\n",
    "    like_list=[]\n",
    "    review_list=[]\n",
    "\n",
    "\n",
    "    for link in tqdm(link_list):\n",
    "        #         print(link)\n",
    "        response_1=requests.get(link,headers=headers)\n",
    "        html_1=bs(response_1.text, 'lxml')\n",
    "\n",
    "        #품번 리스트 생성\n",
    "        part_num_html=html_1.select('#product_order_info > div.explan_product.product_info_section > ul > li:nth-child(1) > p.product_article_contents > strong')\n",
    "        part_num=part_num_html[0].get_text().split('/')[-1].strip()\n",
    "        part_num_list.append(part_num)\n",
    "\n",
    "        #성별 리스트 생성\n",
    "        sex_html=html_1.select(\"#product_order_info > div.explan_product.product_info_section > ul > li > p.product_article_contents > span.txt_gender\")\n",
    "        sex=sex_html[0].get_text().replace('\\n',' ').strip()\n",
    "        sex_list.append(sex)\n",
    "\n",
    "        #셀레니움으로 원하는 데이터 가져오기\n",
    "        driver = webdriver.Chrome('chromedriver.exe')\n",
    "        driver.get(link)\n",
    "        sel_html=driver.page_source\n",
    "        html_2=bs(sel_html)\n",
    "\n",
    "        #조회수 가져오기\n",
    "        view_html=html_2.find_all(\"strong\", {\"id\":\"pageview_1m\"})\n",
    "        view=view_html[0].get_text()\n",
    "        view_list.append(view)\n",
    "\n",
    "        #누적 판매 가져오기\n",
    "        sales_html=html_2.find_all(\"strong\", {\"id\":\"sales_1y_qty\"})\n",
    "        sales=sales_html[0].get_text()\n",
    "        sales_list.append(sales)\n",
    "\n",
    "        #좋아요 수 가져오기\n",
    "        like_html=html_2.find_all(\"span\", {\"class\": \"prd_like_cnt\"})\n",
    "        like=like_html[0].get_text()\n",
    "        like_list.append(like)\n",
    "\n",
    "        #구매 후기 개수 가져오기\n",
    "        review_html=html_2.find_all(\"span\", {\"class\": \"prd-score__review-count\"})\n",
    "        if len(review_html) == 0:\n",
    "            review = \"후기 0개\"\n",
    "        else:\n",
    "            review=review_html[0].get_text()\n",
    "        review_list.append(review)\n",
    "\n",
    "\n",
    "        #드라이버 닫아주기\n",
    "        driver.close()\n",
    "\n",
    "        #시간 추가\n",
    "        time.sleep(0.01)\n",
    "\n",
    "    musinsa_rank_df['품번']=part_num_list\n",
    "    musinsa_rank_df['성별']=sex_list\n",
    "    musinsa_rank_df['조회수']=view_list\n",
    "    musinsa_rank_df['누적판매량(1년)']=sales_list\n",
    "    musinsa_rank_df['좋아요']=like_list\n",
    "    musinsa_rank_df['구매후기 개수']=review_list\n",
    "\n",
    "    return musinsa_rank_df"
   ],
   "metadata": {
    "collapsed": false,
    "pycharm": {
     "name": "#%%\n"
    }
   }
  },
  {
   "cell_type": "code",
   "execution_count": 12,
   "outputs": [
    {
     "name": "stderr",
     "output_type": "stream",
     "text": [
      "  0%|          | 0/90 [00:00<?, ?it/s]C:\\Users\\jpc10\\AppData\\Local\\Temp\\ipykernel_30204\\3982278999.py:32: DeprecationWarning: executable_path has been deprecated, please pass in a Service object\n",
      "  driver = webdriver.Chrome('chromedriver.exe')\n",
      "  0%|          | 0/90 [00:12<?, ?it/s]\n"
     ]
    },
    {
     "ename": "NoSuchWindowException",
     "evalue": "Message: no such window: target window already closed\nfrom unknown error: web view not found\n  (Session info: chrome=111.0.5563.65)\nStacktrace:\nBacktrace:\n\t(No symbol) [0x0093DCE3]\n\t(No symbol) [0x008D39D1]\n\t(No symbol) [0x007E4DA8]\n\t(No symbol) [0x007CD0D3]\n\t(No symbol) [0x0082EA8B]\n\t(No symbol) [0x0083D093]\n\t(No symbol) [0x0082ACC6]\n\t(No symbol) [0x00806F68]\n\t(No symbol) [0x008080CD]\n\tGetHandleVerifier [0x00BB3832+2506274]\n\tGetHandleVerifier [0x00BE9794+2727300]\n\tGetHandleVerifier [0x00BEE36C+2746716]\n\tGetHandleVerifier [0x009E6690+617600]\n\t(No symbol) [0x008DC712]\n\t(No symbol) [0x008E1FF8]\n\t(No symbol) [0x008E20DB]\n\t(No symbol) [0x008EC63B]\n\tBaseThreadInitThunk [0x775F7D69+25]\n\tRtlInitializeExceptionChain [0x77A4B74B+107]\n\tRtlClearBits [0x77A4B6CF+191]\n",
     "output_type": "error",
     "traceback": [
      "\u001B[1;31m---------------------------------------------------------------------------\u001B[0m",
      "\u001B[1;31mNoSuchWindowException\u001B[0m                     Traceback (most recent call last)",
      "Input \u001B[1;32mIn [12]\u001B[0m, in \u001B[0;36m<cell line: 1>\u001B[1;34m()\u001B[0m\n\u001B[1;32m----> 1\u001B[0m final_df\u001B[38;5;241m=\u001B[39m\u001B[43mmusinsa_rank\u001B[49m\u001B[43m(\u001B[49m\u001B[43m)\u001B[49m\n",
      "Input \u001B[1;32mIn [9]\u001B[0m, in \u001B[0;36mmusinsa_rank\u001B[1;34m()\u001B[0m\n\u001B[0;32m      3\u001B[0m response \u001B[38;5;241m=\u001B[39m requests\u001B[38;5;241m.\u001B[39mget(url)\n\u001B[0;32m      4\u001B[0m html \u001B[38;5;241m=\u001B[39m bs(response\u001B[38;5;241m.\u001B[39mtext, \u001B[38;5;124m'\u001B[39m\u001B[38;5;124mlxml\u001B[39m\u001B[38;5;124m'\u001B[39m)\n\u001B[1;32m----> 5\u001B[0m musinsa_rank_df \u001B[38;5;241m=\u001B[39m \u001B[43mrbnl\u001B[49m\u001B[43m(\u001B[49m\u001B[43mhtml\u001B[49m\u001B[43m)\u001B[49m\n\u001B[0;32m      7\u001B[0m \u001B[38;5;28;01mreturn\u001B[39;00m musinsa_rank_df\n",
      "Input \u001B[1;32mIn [10]\u001B[0m, in \u001B[0;36mrbnl\u001B[1;34m(html)\u001B[0m\n\u001B[0;32m     32\u001B[0m musinsa_rank_df[\u001B[38;5;124m'\u001B[39m\u001B[38;5;124m링크\u001B[39m\u001B[38;5;124m'\u001B[39m]\u001B[38;5;241m=\u001B[39mlink_list\n\u001B[0;32m     34\u001B[0m \u001B[38;5;66;03m#상세 페이지 크롤링\u001B[39;00m\n\u001B[1;32m---> 35\u001B[0m musinsa_rank_df2 \u001B[38;5;241m=\u001B[39m \u001B[43mspecific_info\u001B[49m\u001B[43m(\u001B[49m\u001B[43mlink_list\u001B[49m\u001B[43m)\u001B[49m\n\u001B[0;32m     37\u001B[0m \u001B[38;5;66;03m#데이터 프레임 옆으로 합치기\u001B[39;00m\n\u001B[0;32m     38\u001B[0m musinsa_rank_df \u001B[38;5;241m=\u001B[39m pd\u001B[38;5;241m.\u001B[39mconcat([musinsa_rank_df, musinsa_rank_df2], axis\u001B[38;5;241m=\u001B[39m\u001B[38;5;241m1\u001B[39m)\n",
      "Input \u001B[1;32mIn [11]\u001B[0m, in \u001B[0;36mspecific_info\u001B[1;34m(link_list)\u001B[0m\n\u001B[0;32m     32\u001B[0m driver \u001B[38;5;241m=\u001B[39m webdriver\u001B[38;5;241m.\u001B[39mChrome(\u001B[38;5;124m'\u001B[39m\u001B[38;5;124mchromedriver.exe\u001B[39m\u001B[38;5;124m'\u001B[39m)\n\u001B[0;32m     33\u001B[0m driver\u001B[38;5;241m.\u001B[39mget(link)\n\u001B[1;32m---> 34\u001B[0m sel_html\u001B[38;5;241m=\u001B[39m\u001B[43mdriver\u001B[49m\u001B[38;5;241;43m.\u001B[39;49m\u001B[43mpage_source\u001B[49m\n\u001B[0;32m     35\u001B[0m html_2\u001B[38;5;241m=\u001B[39mbs(sel_html)\n\u001B[0;32m     37\u001B[0m \u001B[38;5;66;03m#조회수 가져오기\u001B[39;00m\n",
      "File \u001B[1;32mc:\\users\\jpc10\\ideaprojects\\untitled\\venv\\lib\\site-packages\\selenium\\webdriver\\remote\\webdriver.py:541\u001B[0m, in \u001B[0;36mWebDriver.page_source\u001B[1;34m(self)\u001B[0m\n\u001B[0;32m    532\u001B[0m \u001B[38;5;129m@property\u001B[39m\n\u001B[0;32m    533\u001B[0m \u001B[38;5;28;01mdef\u001B[39;00m \u001B[38;5;21mpage_source\u001B[39m(\u001B[38;5;28mself\u001B[39m) \u001B[38;5;241m-\u001B[39m\u001B[38;5;241m>\u001B[39m \u001B[38;5;28mstr\u001B[39m:\n\u001B[0;32m    534\u001B[0m     \u001B[38;5;124;03m\"\"\"Gets the source of the current page.\u001B[39;00m\n\u001B[0;32m    535\u001B[0m \n\u001B[0;32m    536\u001B[0m \u001B[38;5;124;03m    :Usage:\u001B[39;00m\n\u001B[1;32m   (...)\u001B[0m\n\u001B[0;32m    539\u001B[0m \u001B[38;5;124;03m            driver.page_source\u001B[39;00m\n\u001B[0;32m    540\u001B[0m \u001B[38;5;124;03m    \"\"\"\u001B[39;00m\n\u001B[1;32m--> 541\u001B[0m     \u001B[38;5;28;01mreturn\u001B[39;00m \u001B[38;5;28;43mself\u001B[39;49m\u001B[38;5;241;43m.\u001B[39;49m\u001B[43mexecute\u001B[49m\u001B[43m(\u001B[49m\u001B[43mCommand\u001B[49m\u001B[38;5;241;43m.\u001B[39;49m\u001B[43mGET_PAGE_SOURCE\u001B[49m\u001B[43m)\u001B[49m[\u001B[38;5;124m\"\u001B[39m\u001B[38;5;124mvalue\u001B[39m\u001B[38;5;124m\"\u001B[39m]\n",
      "File \u001B[1;32mc:\\users\\jpc10\\ideaprojects\\untitled\\venv\\lib\\site-packages\\selenium\\webdriver\\remote\\webdriver.py:440\u001B[0m, in \u001B[0;36mWebDriver.execute\u001B[1;34m(self, driver_command, params)\u001B[0m\n\u001B[0;32m    438\u001B[0m response \u001B[38;5;241m=\u001B[39m \u001B[38;5;28mself\u001B[39m\u001B[38;5;241m.\u001B[39mcommand_executor\u001B[38;5;241m.\u001B[39mexecute(driver_command, params)\n\u001B[0;32m    439\u001B[0m \u001B[38;5;28;01mif\u001B[39;00m response:\n\u001B[1;32m--> 440\u001B[0m     \u001B[38;5;28;43mself\u001B[39;49m\u001B[38;5;241;43m.\u001B[39;49m\u001B[43merror_handler\u001B[49m\u001B[38;5;241;43m.\u001B[39;49m\u001B[43mcheck_response\u001B[49m\u001B[43m(\u001B[49m\u001B[43mresponse\u001B[49m\u001B[43m)\u001B[49m\n\u001B[0;32m    441\u001B[0m     response[\u001B[38;5;124m\"\u001B[39m\u001B[38;5;124mvalue\u001B[39m\u001B[38;5;124m\"\u001B[39m] \u001B[38;5;241m=\u001B[39m \u001B[38;5;28mself\u001B[39m\u001B[38;5;241m.\u001B[39m_unwrap_value(response\u001B[38;5;241m.\u001B[39mget(\u001B[38;5;124m\"\u001B[39m\u001B[38;5;124mvalue\u001B[39m\u001B[38;5;124m\"\u001B[39m, \u001B[38;5;28;01mNone\u001B[39;00m))\n\u001B[0;32m    442\u001B[0m     \u001B[38;5;28;01mreturn\u001B[39;00m response\n",
      "File \u001B[1;32mc:\\users\\jpc10\\ideaprojects\\untitled\\venv\\lib\\site-packages\\selenium\\webdriver\\remote\\errorhandler.py:245\u001B[0m, in \u001B[0;36mErrorHandler.check_response\u001B[1;34m(self, response)\u001B[0m\n\u001B[0;32m    243\u001B[0m         alert_text \u001B[38;5;241m=\u001B[39m value[\u001B[38;5;124m\"\u001B[39m\u001B[38;5;124malert\u001B[39m\u001B[38;5;124m\"\u001B[39m]\u001B[38;5;241m.\u001B[39mget(\u001B[38;5;124m\"\u001B[39m\u001B[38;5;124mtext\u001B[39m\u001B[38;5;124m\"\u001B[39m)\n\u001B[0;32m    244\u001B[0m     \u001B[38;5;28;01mraise\u001B[39;00m exception_class(message, screen, stacktrace, alert_text)  \u001B[38;5;66;03m# type: ignore[call-arg]  # mypy is not smart enough here\u001B[39;00m\n\u001B[1;32m--> 245\u001B[0m \u001B[38;5;28;01mraise\u001B[39;00m exception_class(message, screen, stacktrace)\n",
      "\u001B[1;31mNoSuchWindowException\u001B[0m: Message: no such window: target window already closed\nfrom unknown error: web view not found\n  (Session info: chrome=111.0.5563.65)\nStacktrace:\nBacktrace:\n\t(No symbol) [0x0093DCE3]\n\t(No symbol) [0x008D39D1]\n\t(No symbol) [0x007E4DA8]\n\t(No symbol) [0x007CD0D3]\n\t(No symbol) [0x0082EA8B]\n\t(No symbol) [0x0083D093]\n\t(No symbol) [0x0082ACC6]\n\t(No symbol) [0x00806F68]\n\t(No symbol) [0x008080CD]\n\tGetHandleVerifier [0x00BB3832+2506274]\n\tGetHandleVerifier [0x00BE9794+2727300]\n\tGetHandleVerifier [0x00BEE36C+2746716]\n\tGetHandleVerifier [0x009E6690+617600]\n\t(No symbol) [0x008DC712]\n\t(No symbol) [0x008E1FF8]\n\t(No symbol) [0x008E20DB]\n\t(No symbol) [0x008EC63B]\n\tBaseThreadInitThunk [0x775F7D69+25]\n\tRtlInitializeExceptionChain [0x77A4B74B+107]\n\tRtlClearBits [0x77A4B6CF+191]\n"
     ]
    }
   ],
   "source": [
    "\n",
    "final_df=musinsa_rank()"
   ],
   "metadata": {
    "collapsed": false,
    "pycharm": {
     "name": "#%%\n"
    }
   }
  },
  {
   "cell_type": "code",
   "execution_count": 8,
   "outputs": [
    {
     "data": {
      "text/plain": "     순위      브랜드명                             의류명  \\\n0    1위       수아레            워셔블 하찌 니트 - 11 COLOR   \n1    2위  무신사 스탠다드    레이어드 크루 넥 반팔 티셔츠_일반 기장 [화이트]   \n2    3위       스파오   (시티보이) 오버핏 옥스포드 셔츠_SPYWD23C01   \n3    4위        예일  (23SS) 2 TONE ARCH HOODIE GRAY   \n4    5위        토피     에센셜 후드 스웻 셔츠 (MELANGE GREY)   \n..  ...       ...                             ...   \n85  86위  무신사 스탠다드                베이식 긴팔 티셔츠 [화이트]   \n86  87위    브라운브레스           TAG HOODIE - BURGUNDY   \n87  88위       수아레              [리뉴얼] 하프 터틀넥 니트 세트   \n88  89위     인템포무드           해비 코튼 썸홀 후디 : 15color   \n89  90위  폴로 랄프 로렌              클래식핏 스트레치 셔츠 - 화이트   \n\n                                                   링크                   품번  \\\n0   https://www.musinsa.com/app/goods/2396645?loc=...              1709399   \n1   https://www.musinsa.com/app/goods/2086653?loc=...          MMATS701-WH   \n2   https://www.musinsa.com/app/goods/2272830?loc=...           SPYWD23C01   \n3   https://www.musinsa.com/app/goods/2326935?loc=...         YD01HD1007GR   \n4   https://www.musinsa.com/app/goods/2314616?loc=...             TAS-EHSS   \n..                                                ...                  ...   \n85  https://www.musinsa.com/app/goods/1144989?loc=...          MITS0009-WH   \n86  https://www.musinsa.com/app/goods/2722805?loc=...          BISMHDB01BD   \n87  https://www.musinsa.com/app/goods/1558847?loc=...               670743   \n88  https://www.musinsa.com/app/goods/2319988?loc=...               487389   \n89  https://www.musinsa.com/app/goods/1793989?loc=...  WMPOSHTN6820181-100   \n\n     성별         조회수   누적판매량(1년)     좋아요        구매후기 개수  \n0     남  17.4만 회 이상   9.2만 개 이상  82,193  후기 22,446개 보기  \n1     남  19.2만 회 이상  21.6만 개 이상  74,286  후기 37,692개 보기  \n2     남  22.5만 회 이상     5만 개 이상  45,533  후기 17,512개 보기  \n3   남 여  14.2만 회 이상   6.7만 개 이상  83,194  후기 12,586개 보기  \n4     남  12.7만 회 이상   4.1만 개 이상  42,672   후기 7,724개 보기  \n..  ...         ...         ...     ...            ...  \n85    남   4.1만 회 이상   4.8만 개 이상  58,709  후기 66,737개 보기  \n86  남 여   2.9만 회 이상   3.8천 개 이상  12,870     후기 839개 보기  \n87    남   2.9만 회 이상   4.8만 개 이상  49,898  후기 27,205개 보기  \n88    남   3.1만 회 이상   9.1천 개 이상  17,900   후기 5,286개 보기  \n89    여   2.2만 회 이상   1.9천 개 이상  17,091     후기 879개 보기  \n\n[90 rows x 10 columns]",
      "text/html": "<div>\n<style scoped>\n    .dataframe tbody tr th:only-of-type {\n        vertical-align: middle;\n    }\n\n    .dataframe tbody tr th {\n        vertical-align: top;\n    }\n\n    .dataframe thead th {\n        text-align: right;\n    }\n</style>\n<table border=\"1\" class=\"dataframe\">\n  <thead>\n    <tr style=\"text-align: right;\">\n      <th></th>\n      <th>순위</th>\n      <th>브랜드명</th>\n      <th>의류명</th>\n      <th>링크</th>\n      <th>품번</th>\n      <th>성별</th>\n      <th>조회수</th>\n      <th>누적판매량(1년)</th>\n      <th>좋아요</th>\n      <th>구매후기 개수</th>\n    </tr>\n  </thead>\n  <tbody>\n    <tr>\n      <th>0</th>\n      <td>1위</td>\n      <td>수아레</td>\n      <td>워셔블 하찌 니트 - 11 COLOR</td>\n      <td>https://www.musinsa.com/app/goods/2396645?loc=...</td>\n      <td>1709399</td>\n      <td>남</td>\n      <td>17.4만 회 이상</td>\n      <td>9.2만 개 이상</td>\n      <td>82,193</td>\n      <td>후기 22,446개 보기</td>\n    </tr>\n    <tr>\n      <th>1</th>\n      <td>2위</td>\n      <td>무신사 스탠다드</td>\n      <td>레이어드 크루 넥 반팔 티셔츠_일반 기장 [화이트]</td>\n      <td>https://www.musinsa.com/app/goods/2086653?loc=...</td>\n      <td>MMATS701-WH</td>\n      <td>남</td>\n      <td>19.2만 회 이상</td>\n      <td>21.6만 개 이상</td>\n      <td>74,286</td>\n      <td>후기 37,692개 보기</td>\n    </tr>\n    <tr>\n      <th>2</th>\n      <td>3위</td>\n      <td>스파오</td>\n      <td>(시티보이) 오버핏 옥스포드 셔츠_SPYWD23C01</td>\n      <td>https://www.musinsa.com/app/goods/2272830?loc=...</td>\n      <td>SPYWD23C01</td>\n      <td>남</td>\n      <td>22.5만 회 이상</td>\n      <td>5만 개 이상</td>\n      <td>45,533</td>\n      <td>후기 17,512개 보기</td>\n    </tr>\n    <tr>\n      <th>3</th>\n      <td>4위</td>\n      <td>예일</td>\n      <td>(23SS) 2 TONE ARCH HOODIE GRAY</td>\n      <td>https://www.musinsa.com/app/goods/2326935?loc=...</td>\n      <td>YD01HD1007GR</td>\n      <td>남 여</td>\n      <td>14.2만 회 이상</td>\n      <td>6.7만 개 이상</td>\n      <td>83,194</td>\n      <td>후기 12,586개 보기</td>\n    </tr>\n    <tr>\n      <th>4</th>\n      <td>5위</td>\n      <td>토피</td>\n      <td>에센셜 후드 스웻 셔츠 (MELANGE GREY)</td>\n      <td>https://www.musinsa.com/app/goods/2314616?loc=...</td>\n      <td>TAS-EHSS</td>\n      <td>남</td>\n      <td>12.7만 회 이상</td>\n      <td>4.1만 개 이상</td>\n      <td>42,672</td>\n      <td>후기 7,724개 보기</td>\n    </tr>\n    <tr>\n      <th>...</th>\n      <td>...</td>\n      <td>...</td>\n      <td>...</td>\n      <td>...</td>\n      <td>...</td>\n      <td>...</td>\n      <td>...</td>\n      <td>...</td>\n      <td>...</td>\n      <td>...</td>\n    </tr>\n    <tr>\n      <th>85</th>\n      <td>86위</td>\n      <td>무신사 스탠다드</td>\n      <td>베이식 긴팔 티셔츠 [화이트]</td>\n      <td>https://www.musinsa.com/app/goods/1144989?loc=...</td>\n      <td>MITS0009-WH</td>\n      <td>남</td>\n      <td>4.1만 회 이상</td>\n      <td>4.8만 개 이상</td>\n      <td>58,709</td>\n      <td>후기 66,737개 보기</td>\n    </tr>\n    <tr>\n      <th>86</th>\n      <td>87위</td>\n      <td>브라운브레스</td>\n      <td>TAG HOODIE - BURGUNDY</td>\n      <td>https://www.musinsa.com/app/goods/2722805?loc=...</td>\n      <td>BISMHDB01BD</td>\n      <td>남 여</td>\n      <td>2.9만 회 이상</td>\n      <td>3.8천 개 이상</td>\n      <td>12,870</td>\n      <td>후기 839개 보기</td>\n    </tr>\n    <tr>\n      <th>87</th>\n      <td>88위</td>\n      <td>수아레</td>\n      <td>[리뉴얼] 하프 터틀넥 니트 세트</td>\n      <td>https://www.musinsa.com/app/goods/1558847?loc=...</td>\n      <td>670743</td>\n      <td>남</td>\n      <td>2.9만 회 이상</td>\n      <td>4.8만 개 이상</td>\n      <td>49,898</td>\n      <td>후기 27,205개 보기</td>\n    </tr>\n    <tr>\n      <th>88</th>\n      <td>89위</td>\n      <td>인템포무드</td>\n      <td>해비 코튼 썸홀 후디 : 15color</td>\n      <td>https://www.musinsa.com/app/goods/2319988?loc=...</td>\n      <td>487389</td>\n      <td>남</td>\n      <td>3.1만 회 이상</td>\n      <td>9.1천 개 이상</td>\n      <td>17,900</td>\n      <td>후기 5,286개 보기</td>\n    </tr>\n    <tr>\n      <th>89</th>\n      <td>90위</td>\n      <td>폴로 랄프 로렌</td>\n      <td>클래식핏 스트레치 셔츠 - 화이트</td>\n      <td>https://www.musinsa.com/app/goods/1793989?loc=...</td>\n      <td>WMPOSHTN6820181-100</td>\n      <td>여</td>\n      <td>2.2만 회 이상</td>\n      <td>1.9천 개 이상</td>\n      <td>17,091</td>\n      <td>후기 879개 보기</td>\n    </tr>\n  </tbody>\n</table>\n<p>90 rows × 10 columns</p>\n</div>"
     },
     "execution_count": 8,
     "metadata": {},
     "output_type": "execute_result"
    }
   ],
   "source": [
    "file_name = f\"musinsa_ranking_category_page.csv\"\n",
    "final_df.to_csv(file_name, index=False)\n",
    "pd.read_csv(file_name)"
   ],
   "metadata": {
    "collapsed": false,
    "pycharm": {
     "name": "#%%\n"
    }
   }
  },
  {
   "cell_type": "code",
   "execution_count": null,
   "outputs": [],
   "source": [],
   "metadata": {
    "collapsed": false,
    "pycharm": {
     "name": "#%%\n"
    }
   }
  }
 ],
 "metadata": {
  "kernelspec": {
   "display_name": "Python 3",
   "language": "python",
   "name": "python3"
  },
  "language_info": {
   "codemirror_mode": {
    "name": "ipython",
    "version": 2
   },
   "file_extension": ".py",
   "mimetype": "text/x-python",
   "name": "python",
   "nbconvert_exporter": "python",
   "pygments_lexer": "ipython2",
   "version": "2.7.6"
  }
 },
 "nbformat": 4,
 "nbformat_minor": 0
}