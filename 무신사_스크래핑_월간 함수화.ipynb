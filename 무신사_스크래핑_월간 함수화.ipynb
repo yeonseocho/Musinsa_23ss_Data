{
 "cells": [
  {
   "cell_type": "code",
   "execution_count": 1,
   "metadata": {
    "collapsed": true
   },
   "outputs": [],
   "source": [
    "import pandas as pd\n",
    "import requests\n",
    "from bs4 import BeautifulSoup as bs\n",
    "import time\n",
    "from tqdm import tqdm"
   ]
  },
  {
   "cell_type": "code",
   "execution_count": 2,
   "outputs": [],
   "source": [
    "from selenium import webdriver"
   ],
   "metadata": {
    "collapsed": false,
    "pycharm": {
     "name": "#%%\n"
    }
   }
  },
  {
   "cell_type": "code",
   "execution_count": 3,
   "outputs": [],
   "source": [
    "def musinsa_rank(category_num,page_num):\n",
    "    url =  f\"https://www.musinsa.com/ranking/best?period=now&age=ALL&mainCategory=00{category_num}&subCategory=&leafCategory=&price=&golf=false&kids=false&newProduct=false&exclusive=false&discount=false&soldOut=false&page={page_num}&viewType=small&priceMin=&priceMax=\"\n",
    "    response = requests.get(url)\n",
    "    html = bs(response.text, 'lxml')\n",
    "    musinsa_rank_df = rbnl(html)\n",
    "\n",
    "    return musinsa_rank_df"
   ],
   "metadata": {
    "collapsed": false,
    "pycharm": {
     "name": "#%%\n"
    }
   }
  },
  {
   "cell_type": "code",
   "execution_count": 4,
   "outputs": [],
   "source": [
    "def rbnl(html):\n",
    "    musinsa_rank_df = pd.DataFrame()\n",
    "\n",
    "    #순위 뽑기\n",
    "    rank_html = html.select('#goodsRankList > li > p')\n",
    "    rank_no_list = []\n",
    "\n",
    "    for i in rank_html:\n",
    "        rank_no_list.append(i.string.strip())\n",
    "\n",
    "    musinsa_rank_df['순위'] = rank_no_list\n",
    "\n",
    "    #브랜드 이름 뽑기\n",
    "    brand_html = html.select('#goodsRankList > li > div.li_inner > div.article_info > p.item_title > a')\n",
    "    brand_list = []\n",
    "\n",
    "    for i in brand_html:\n",
    "        brand_list.append(i.string)\n",
    "\n",
    "\n",
    "\n",
    "    #링크와 의류명 뽑기\n",
    "    link_name_html = html.select('#goodsRankList > li > div.li_inner > div.article_info > p.list_info > a')\n",
    "    link_list = []\n",
    "    name_list = []\n",
    "\n",
    "    for i in link_name_html:\n",
    "        link_list.append(i['href'])\n",
    "        name_list.append(i['title'])\n",
    "\n",
    "    musinsa_rank_df['상품명']=name_list\n",
    "    musinsa_rank_df['브랜드명']=brand_list\n",
    "    musinsa_rank_df['url']=link_list\n",
    "\n",
    "    #상세 페이지 크롤링\n",
    "    musinsa_rank_df2 = specific_info(link_list)\n",
    "\n",
    "    #데이터 프레임 옆으로 합치기\n",
    "    musinsa_rank_df = pd.concat([musinsa_rank_df, musinsa_rank_df2], axis=1)\n",
    "\n",
    "    return musinsa_rank_df"
   ],
   "metadata": {
    "collapsed": false,
    "pycharm": {
     "name": "#%%\n"
    }
   }
  },
  {
   "cell_type": "code",
   "execution_count": 7,
   "outputs": [],
   "source": [
    "from pyasn1.compat.octets import null\n",
    "\n",
    "\n",
    "def specific_info(link_list):\n",
    "    headers={'User-Agent':'Mozilla/5.0 (Windows NT 10.0; Win64; x64) AppleWebKit/537.36 (KHTML, like Gecko) Chrome/101.0.4951.67 Safari/537.36'}\n",
    "\n",
    "    musinsa_rank_df = pd.DataFrame()\n",
    "    part_num_list=[]\n",
    "    sex_list=[]\n",
    "    view_list=[]\n",
    "    sales_list=[]\n",
    "    like_list=[]\n",
    "    review_list=[]\n",
    "    star_list=[]\n",
    "\n",
    "\n",
    "    for link in tqdm(link_list):\n",
    "        #         print(link)\n",
    "        response_1=requests.get(link,headers=headers)\n",
    "        html_1=bs(response_1.text, 'lxml')\n",
    "\n",
    "        #품번 리스트 생성\n",
    "        part_num_html=html_1.select('#product_order_info > div.explan_product.product_info_section > ul > li:nth-child(1) > p.product_article_contents > strong')\n",
    "        part_num=part_num_html[0].get_text().split('/')[-1].strip()\n",
    "        part_num_list.append(part_num)\n",
    "\n",
    "        #성별 리스트 생성\n",
    "        sex_html=html_1.select(\"#product_order_info > div.explan_product.product_info_section > ul > li > p.product_article_contents > span.txt_gender\")\n",
    "        sex=sex_html[0].get_text().replace('\\n',' ').strip()\n",
    "        sex_list.append(sex)\n",
    "\n",
    "        #셀레니움으로 원하는 데이터 가져오기\n",
    "        driver = webdriver.Chrome('chromedriver.exe')\n",
    "        driver.get(link)\n",
    "        sel_html=driver.page_source\n",
    "        html_2=bs(sel_html)\n",
    "\n",
    "        #조회수 가져오기\n",
    "        view_html=html_2.find_all(\"strong\", {\"id\":\"pageview_1m\"})\n",
    "        view=view_html[0].get_text()\n",
    "        view_list.append(view)\n",
    "\n",
    "        #누적 판매 가져오기\n",
    "        sales_html=html_2.find_all(\"strong\", {\"id\":\"sales_1y_qty\"})\n",
    "        sales=sales_html[0].get_text()\n",
    "        sales_list.append(sales)\n",
    "\n",
    "        #좋아요 수 가져오기\n",
    "        like_html=html_2.find_all(\"span\", {\"class\": \"prd_like_cnt\"})\n",
    "        like=like_html[0].get_text()\n",
    "        like_list.append(like)\n",
    "\n",
    "        #평점\n",
    "        star_html=html_2.find_all(\"span\", {\"class\": \"prd-score__rating\" })\n",
    "        if len(star_html) == 0:\n",
    "            star = \"평점 0점\"\n",
    "        else:\n",
    "            star=star_html[0].get_text()\n",
    "        star_list.append(star)\n",
    "\n",
    "\n",
    "        #구매 후기 개수 가져오기\n",
    "        review_html=html_2.find_all(\"span\", {\"class\": \"prd-score__review-count\"})\n",
    "        if len(review_html) == 0:\n",
    "            review = \"후기 0개\"\n",
    "        else:\n",
    "            review=review_html[0].get_text()\n",
    "        review_list.append(review)\n",
    "\n",
    "\n",
    "        #드라이버 닫아주기\n",
    "        driver.close()\n",
    "\n",
    "        #시간 추가\n",
    "        time.sleep(0.01)\n",
    "\n",
    "\n",
    "    musinsa_rank_df['조회수']=view_list\n",
    "    musinsa_rank_df['좋아요']=like_list\n",
    "    musinsa_rank_df['구매후기 개수']=review_list\n",
    "    musinsa_rank_df['평점']=star_list\n",
    "    musinsa_rank_df['누적판매량(1년)']=sales_list\n",
    "\n",
    "\n",
    "    return musinsa_rank_df"
   ],
   "metadata": {
    "collapsed": false,
    "pycharm": {
     "name": "#%%\n"
    }
   }
  },
  {
   "cell_type": "code",
   "execution_count": 8,
   "outputs": [
    {
     "name": "stderr",
     "output_type": "stream",
     "text": [
      "  0%|          | 0/90 [00:00<?, ?it/s]C:\\Users\\jpc10\\AppData\\Local\\Temp\\ipykernel_19664\\3077604374.py:33: DeprecationWarning: executable_path has been deprecated, please pass in a Service object\n",
      "  driver = webdriver.Chrome('chromedriver.exe')\n",
      "100%|██████████| 90/90 [25:40<00:00, 17.12s/it] \n"
     ]
    }
   ],
   "source": [
    "category_num=input(\"Category 번호를 입력하세요: \")\n",
    "page_num=input(\"Page 번호를 입력하세요: \")\n",
    "final_df=musinsa_rank(category_num,page_num)"
   ],
   "metadata": {
    "collapsed": false,
    "pycharm": {
     "name": "#%%\n"
    }
   }
  },
  {
   "cell_type": "code",
   "execution_count": 9,
   "outputs": [
    {
     "data": {
      "text/plain": "     순위                                             상품명      브랜드명  \\\n0    1위                   (시티보이) 오버핏 옥스포드 셔츠_SPYWD23C01       스파오   \n1    2위  [23SS Ver.][PACKAGE] 시티보이 빅오버 워싱 데님 셔츠_4 Color    라퍼지스토어   \n2    3위      [MUSINSA EXCLUSIVE] 뉴욕 복싱 클럽 코튼 치노 셔츠 - 블랙  폴로 랄프 로렌   \n3    4위                                   베이식 긴팔 티셔츠 2팩  무신사 스탠다드   \n4    5위                       레이어드 크루 넥 반팔 티셔츠_일반 기장 2팩  무신사 스탠다드   \n..  ...                                             ...       ...   \n85  86위                                베이식 긴팔 티셔츠 [화이트]  무신사 스탠다드   \n86  87위                    (23SS) 2 TONE ARCH TEE WHITE        예일   \n87  88위                               오버핏 그래피티 로고 후디-블랙    필루미네이트   \n88  89위              Comfort Shirt  01 (Silver  (Thin))       포터리   \n89  90위              LONELY/LOVELY FLUFF HOODIE OATMEAL        노앙   \n\n                                                  url         조회수     좋아요  \\\n0   https://www.musinsa.com/app/goods/2272830?loc=...  22.4만 회 이상  46,073   \n1   https://www.musinsa.com/app/goods/3150516?loc=...   1.5만 회 이상     884   \n2   https://www.musinsa.com/app/goods/3072191?loc=...   1.5만 회 이상     314   \n3   https://www.musinsa.com/app/goods/2149254?loc=...  14.1만 회 이상  57,235   \n4   https://www.musinsa.com/app/goods/2122566?loc=...   8.7만 회 이상  18,637   \n..                                                ...         ...     ...   \n85  https://www.musinsa.com/app/goods/1144989?loc=...   4.1만 회 이상  58,738   \n86  https://www.musinsa.com/app/goods/1841764?loc=...   4.5만 회 이상  75,338   \n87  https://www.musinsa.com/app/goods/2913659?loc=...     5만 회 이상  10,355   \n88  https://www.musinsa.com/app/goods/3043302?loc=...   1.5만 회 이상     641   \n89  https://www.musinsa.com/app/goods/3080138?loc=...   4.1천 회 이상     281   \n\n          구매후기 개수     평점  누적판매량(1년)  \n0   후기 17,548개 보기    4.9    5만 개 이상  \n1        후기 3개 보기    4.7    100개 이상  \n2           후기 0개  평점 0점    100개 이상  \n3   후기 31,434개 보기    4.9   12만 개 이상  \n4   후기 14,555개 보기    4.9    5만 개 이상  \n..            ...    ...        ...  \n85  후기 66,755개 보기    4.8  4.7만 개 이상  \n86  후기 12,873개 보기    4.8  6.4만 개 이상  \n87     후기 207개 보기    4.8    2천 개 이상  \n88      후기 31개 보기    4.9    100개 이상  \n89       후기 5개 보기      5     50개 이상  \n\n[90 rows x 9 columns]",
      "text/html": "<div>\n<style scoped>\n    .dataframe tbody tr th:only-of-type {\n        vertical-align: middle;\n    }\n\n    .dataframe tbody tr th {\n        vertical-align: top;\n    }\n\n    .dataframe thead th {\n        text-align: right;\n    }\n</style>\n<table border=\"1\" class=\"dataframe\">\n  <thead>\n    <tr style=\"text-align: right;\">\n      <th></th>\n      <th>순위</th>\n      <th>상품명</th>\n      <th>브랜드명</th>\n      <th>url</th>\n      <th>조회수</th>\n      <th>좋아요</th>\n      <th>구매후기 개수</th>\n      <th>평점</th>\n      <th>누적판매량(1년)</th>\n    </tr>\n  </thead>\n  <tbody>\n    <tr>\n      <th>0</th>\n      <td>1위</td>\n      <td>(시티보이) 오버핏 옥스포드 셔츠_SPYWD23C01</td>\n      <td>스파오</td>\n      <td>https://www.musinsa.com/app/goods/2272830?loc=...</td>\n      <td>22.4만 회 이상</td>\n      <td>46,073</td>\n      <td>후기 17,548개 보기</td>\n      <td>4.9</td>\n      <td>5만 개 이상</td>\n    </tr>\n    <tr>\n      <th>1</th>\n      <td>2위</td>\n      <td>[23SS Ver.][PACKAGE] 시티보이 빅오버 워싱 데님 셔츠_4 Color</td>\n      <td>라퍼지스토어</td>\n      <td>https://www.musinsa.com/app/goods/3150516?loc=...</td>\n      <td>1.5만 회 이상</td>\n      <td>884</td>\n      <td>후기 3개 보기</td>\n      <td>4.7</td>\n      <td>100개 이상</td>\n    </tr>\n    <tr>\n      <th>2</th>\n      <td>3위</td>\n      <td>[MUSINSA EXCLUSIVE] 뉴욕 복싱 클럽 코튼 치노 셔츠 - 블랙</td>\n      <td>폴로 랄프 로렌</td>\n      <td>https://www.musinsa.com/app/goods/3072191?loc=...</td>\n      <td>1.5만 회 이상</td>\n      <td>314</td>\n      <td>후기 0개</td>\n      <td>평점 0점</td>\n      <td>100개 이상</td>\n    </tr>\n    <tr>\n      <th>3</th>\n      <td>4위</td>\n      <td>베이식 긴팔 티셔츠 2팩</td>\n      <td>무신사 스탠다드</td>\n      <td>https://www.musinsa.com/app/goods/2149254?loc=...</td>\n      <td>14.1만 회 이상</td>\n      <td>57,235</td>\n      <td>후기 31,434개 보기</td>\n      <td>4.9</td>\n      <td>12만 개 이상</td>\n    </tr>\n    <tr>\n      <th>4</th>\n      <td>5위</td>\n      <td>레이어드 크루 넥 반팔 티셔츠_일반 기장 2팩</td>\n      <td>무신사 스탠다드</td>\n      <td>https://www.musinsa.com/app/goods/2122566?loc=...</td>\n      <td>8.7만 회 이상</td>\n      <td>18,637</td>\n      <td>후기 14,555개 보기</td>\n      <td>4.9</td>\n      <td>5만 개 이상</td>\n    </tr>\n    <tr>\n      <th>...</th>\n      <td>...</td>\n      <td>...</td>\n      <td>...</td>\n      <td>...</td>\n      <td>...</td>\n      <td>...</td>\n      <td>...</td>\n      <td>...</td>\n      <td>...</td>\n    </tr>\n    <tr>\n      <th>85</th>\n      <td>86위</td>\n      <td>베이식 긴팔 티셔츠 [화이트]</td>\n      <td>무신사 스탠다드</td>\n      <td>https://www.musinsa.com/app/goods/1144989?loc=...</td>\n      <td>4.1만 회 이상</td>\n      <td>58,738</td>\n      <td>후기 66,755개 보기</td>\n      <td>4.8</td>\n      <td>4.7만 개 이상</td>\n    </tr>\n    <tr>\n      <th>86</th>\n      <td>87위</td>\n      <td>(23SS) 2 TONE ARCH TEE WHITE</td>\n      <td>예일</td>\n      <td>https://www.musinsa.com/app/goods/1841764?loc=...</td>\n      <td>4.5만 회 이상</td>\n      <td>75,338</td>\n      <td>후기 12,873개 보기</td>\n      <td>4.8</td>\n      <td>6.4만 개 이상</td>\n    </tr>\n    <tr>\n      <th>87</th>\n      <td>88위</td>\n      <td>오버핏 그래피티 로고 후디-블랙</td>\n      <td>필루미네이트</td>\n      <td>https://www.musinsa.com/app/goods/2913659?loc=...</td>\n      <td>5만 회 이상</td>\n      <td>10,355</td>\n      <td>후기 207개 보기</td>\n      <td>4.8</td>\n      <td>2천 개 이상</td>\n    </tr>\n    <tr>\n      <th>88</th>\n      <td>89위</td>\n      <td>Comfort Shirt  01 (Silver  (Thin))</td>\n      <td>포터리</td>\n      <td>https://www.musinsa.com/app/goods/3043302?loc=...</td>\n      <td>1.5만 회 이상</td>\n      <td>641</td>\n      <td>후기 31개 보기</td>\n      <td>4.9</td>\n      <td>100개 이상</td>\n    </tr>\n    <tr>\n      <th>89</th>\n      <td>90위</td>\n      <td>LONELY/LOVELY FLUFF HOODIE OATMEAL</td>\n      <td>노앙</td>\n      <td>https://www.musinsa.com/app/goods/3080138?loc=...</td>\n      <td>4.1천 회 이상</td>\n      <td>281</td>\n      <td>후기 5개 보기</td>\n      <td>5</td>\n      <td>50개 이상</td>\n    </tr>\n  </tbody>\n</table>\n<p>90 rows × 9 columns</p>\n</div>"
     },
     "execution_count": 9,
     "metadata": {},
     "output_type": "execute_result"
    }
   ],
   "source": [
    "file_name = f\"0319 musinsa_ranking_category{category_num}_page{page_num}.csv\"\n",
    "final_df.to_csv(file_name, index=False)\n",
    "pd.read_csv(file_name)"
   ],
   "metadata": {
    "collapsed": false,
    "pycharm": {
     "name": "#%%\n"
    }
   }
  },
  {
   "cell_type": "code",
   "execution_count": null,
   "outputs": [],
   "source": [],
   "metadata": {
    "collapsed": false,
    "pycharm": {
     "name": "#%%\n"
    }
   }
  }
 ],
 "metadata": {
  "kernelspec": {
   "display_name": "Python 3",
   "language": "python",
   "name": "python3"
  },
  "language_info": {
   "codemirror_mode": {
    "name": "ipython",
    "version": 2
   },
   "file_extension": ".py",
   "mimetype": "text/x-python",
   "name": "python",
   "nbconvert_exporter": "python",
   "pygments_lexer": "ipython2",
   "version": "2.7.6"
  }
 },
 "nbformat": 4,
 "nbformat_minor": 0
}