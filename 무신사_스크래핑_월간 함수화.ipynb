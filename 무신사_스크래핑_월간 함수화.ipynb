{
 "cells": [
  {
   "cell_type": "code",
   "execution_count": 16,
   "metadata": {
    "collapsed": true
   },
   "outputs": [],
   "source": [
    "import pandas as pd\n",
    "import requests\n",
    "from bs4 import BeautifulSoup as bs\n",
    "import time\n",
    "from tqdm import tqdm"
   ]
  },
  {
   "cell_type": "code",
   "execution_count": 17,
   "outputs": [],
   "source": [
    "from selenium import webdriver"
   ],
   "metadata": {
    "collapsed": false,
    "pycharm": {
     "name": "#%%\n"
    }
   }
  },
  {
   "cell_type": "code",
   "execution_count": 18,
   "outputs": [],
   "source": [
    "def musinsa_rank(category_num,page_num):\n",
    "    url =  f\"https://www.musinsa.com/ranking/best?period=now&age=ALL&mainCategory=00{category_num}&subCategory=&leafCategory=&price=&golf=false&kids=false&newProduct=false&exclusive=false&discount=false&soldOut=false&page={page_num}&viewType=small&priceMin=&priceMax=\"\n",
    "    response = requests.get(url)\n",
    "    html = bs(response.text, 'lxml')\n",
    "    musinsa_rank_df = rbnl(html)\n",
    "\n",
    "    return musinsa_rank_df"
   ],
   "metadata": {
    "collapsed": false,
    "pycharm": {
     "name": "#%%\n"
    }
   }
  },
  {
   "cell_type": "code",
   "execution_count": 19,
   "outputs": [],
   "source": [
    "def rbnl(html):\n",
    "    musinsa_rank_df = pd.DataFrame()\n",
    "\n",
    "    #순위 뽑기\n",
    "    rank_html = html.select('#goodsRankList > li > p')\n",
    "    rank_no_list = []\n",
    "\n",
    "    for i in rank_html:\n",
    "        rank_no_list.append(i.string.strip())\n",
    "\n",
    "    musinsa_rank_df['순위'] = rank_no_list\n",
    "\n",
    "    #브랜드 이름 뽑기\n",
    "    brand_html = html.select('#goodsRankList > li > div.li_inner > div.article_info > p.item_title > a')\n",
    "    brand_list = []\n",
    "\n",
    "    for i in brand_html:\n",
    "        brand_list.append(i.string)\n",
    "\n",
    "\n",
    "\n",
    "    #링크와 의류명 뽑기\n",
    "    link_name_html = html.select('#goodsRankList > li > div.li_inner > div.article_info > p.list_info > a')\n",
    "    link_list = []\n",
    "    name_list = []\n",
    "\n",
    "    for i in link_name_html:\n",
    "        link_list.append(i['href'])\n",
    "        name_list.append(i['title'])\n",
    "\n",
    "    musinsa_rank_df['상품명']=name_list\n",
    "    musinsa_rank_df['브랜드명']=brand_list\n",
    "    musinsa_rank_df['url']=link_list\n",
    "\n",
    "    #상세 페이지 크롤링\n",
    "    musinsa_rank_df2 = specific_info(link_list)\n",
    "\n",
    "    #데이터 프레임 옆으로 합치기\n",
    "    musinsa_rank_df = pd.concat([musinsa_rank_df, musinsa_rank_df2], axis=1)\n",
    "\n",
    "    return musinsa_rank_df"
   ],
   "metadata": {
    "collapsed": false,
    "pycharm": {
     "name": "#%%\n"
    }
   }
  },
  {
   "cell_type": "code",
   "execution_count": 20,
   "outputs": [],
   "source": [
    "from pyasn1.compat.octets import null\n",
    "\n",
    "\n",
    "def specific_info(link_list):\n",
    "    headers={'User-Agent':'Mozilla/5.0 (Windows NT 10.0; Win64; x64) AppleWebKit/537.36 (KHTML, like Gecko) Chrome/101.0.4951.67 Safari/537.36'}\n",
    "\n",
    "    musinsa_rank_df = pd.DataFrame()\n",
    "    part_num_list=[]\n",
    "    sex_list=[]\n",
    "    view_list=[]\n",
    "    sales_list=[]\n",
    "    like_list=[]\n",
    "    review_list=[]\n",
    "    star_list=[]\n",
    "\n",
    "\n",
    "    for link in tqdm(link_list):\n",
    "        #         print(link)\n",
    "        response_1=requests.get(link,headers=headers)\n",
    "        html_1=bs(response_1.text, 'lxml')\n",
    "\n",
    "        #품번 리스트 생성\n",
    "        part_num_html=html_1.select('#product_order_info > div.explan_product.product_info_section > ul > li:nth-child(1) > p.product_article_contents > strong')\n",
    "        part_num=part_num_html[0].get_text().split('/')[-1].strip()\n",
    "        part_num_list.append(part_num)\n",
    "\n",
    "        #성별 리스트 생성\n",
    "        sex_html=html_1.select(\"#product_order_info > div.explan_product.product_info_section > ul > li > p.product_article_contents > span.txt_gender\")\n",
    "        sex=sex_html[0].get_text().replace('\\n',' ').strip()\n",
    "        sex_list.append(sex)\n",
    "\n",
    "        #셀레니움으로 원하는 데이터 가져오기\n",
    "        driver = webdriver.Chrome('chromedriver.exe')\n",
    "        driver.get(link)\n",
    "        sel_html=driver.page_source\n",
    "        html_2=bs(sel_html)\n",
    "\n",
    "        #조회수 가져오기\n",
    "        view_html=html_2.find_all(\"strong\", {\"id\":\"pageview_1m\"})\n",
    "        view=view_html[0].get_text()\n",
    "        view_list.append(view)\n",
    "\n",
    "        #누적 판매 가져오기\n",
    "        sales_html=html_2.find_all(\"strong\", {\"id\":\"sales_1y_qty\"})\n",
    "        sales=sales_html[0].get_text()\n",
    "        sales_list.append(sales)\n",
    "\n",
    "        #좋아요 수 가져오기\n",
    "        like_html=html_2.find_all(\"span\", {\"class\": \"prd_like_cnt\"})\n",
    "        like=like_html[0].get_text()\n",
    "        like_list.append(like)\n",
    "\n",
    "        #평점\n",
    "        star_html=html_2.find_all(\"span\", {\"class\": \"prd-score__rating\" })\n",
    "        if len(star_html) == 0:\n",
    "            star = \"평점 0점\"\n",
    "        else:\n",
    "            star=star_html[0].get_text()\n",
    "        star_list.append(star)\n",
    "\n",
    "\n",
    "        #구매 후기 개수 가져오기\n",
    "        review_html=html_2.find_all(\"span\", {\"class\": \"prd-score__review-count\"})\n",
    "        if len(review_html) == 0:\n",
    "            review = \"후기 0개\"\n",
    "        else:\n",
    "            review=review_html[0].get_text()\n",
    "        review_list.append(review)\n",
    "\n",
    "\n",
    "        #드라이버 닫아주기\n",
    "        driver.close()\n",
    "\n",
    "        #시간 추가\n",
    "        time.sleep(0.01)\n",
    "\n",
    "\n",
    "    musinsa_rank_df['조회수']=view_list\n",
    "    musinsa_rank_df['좋아요']=like_list\n",
    "    musinsa_rank_df['구매후기 개수']=review_list\n",
    "    musinsa_rank_df['평점']=star_list\n",
    "    musinsa_rank_df['누적판매량(1년)']=sales_list\n",
    "\n",
    "\n",
    "    return musinsa_rank_df"
   ],
   "metadata": {
    "collapsed": false,
    "pycharm": {
     "name": "#%%\n"
    }
   }
  },
  {
   "cell_type": "code",
   "execution_count": 26,
   "outputs": [
    {
     "name": "stderr",
     "output_type": "stream",
     "text": [
      "  0%|          | 0/90 [00:00<?, ?it/s]C:\\Users\\jpc10\\AppData\\Local\\Temp\\ipykernel_19664\\3077604374.py:33: DeprecationWarning: executable_path has been deprecated, please pass in a Service object\n",
      "  driver = webdriver.Chrome('chromedriver.exe')\n",
      "100%|██████████| 90/90 [15:07<00:00, 10.08s/it]\n"
     ]
    }
   ],
   "source": [
    "category_num=input(\"Category 번호를 입력하세요: \")\n",
    "page_num=input(\"Page 번호를 입력하세요: \")\n",
    "final_df=musinsa_rank(category_num,page_num)"
   ],
   "metadata": {
    "collapsed": false,
    "pycharm": {
     "name": "#%%\n"
    }
   }
  },
  {
   "cell_type": "markdown",
   "source": [],
   "metadata": {
    "collapsed": false
   }
  },
  {
   "cell_type": "code",
   "execution_count": 27,
   "outputs": [
    {
     "data": {
      "text/plain": "      순위                                            상품명   브랜드명  \\\n0   271위         CLASSIC LOGO HOODIE light heather gray    마리떼   \n1   272위            Pure supima boat neck pullover_Noon    우마뭉   \n2   273위                   NEW CLASSIC LOGO HOODIE navy    마리떼   \n3   274위     [SET] (맨투맨 OR 후드 선택) CGP 아치 로고 트레이닝 셋업_그레이  코드그라피   \n4   275위                   [2PACK] 코튼 크루넥 반팔_SPRWCA9U01    스파오   \n..   ...                                            ...    ...   \n85  356위                                   벨라 스웻셔츠_NAVY    그로브   \n86  357위  Shield Artwork Sweatshirt in Blue VW2AE335-22    레이브   \n87  358위              스몰 트위치 로고 에어로웜 오버핏 후드 티셔츠 멜란지 그레이      리   \n88  359위                               탑필 울 라운드 니트 (블랙)     쿠어   \n89  360위                                 베츠 어센틱 맨투맨 네이비   이벳필드   \n\n                                                  url        조회수     좋아요  \\\n0   https://www.musinsa.com/app/goods/2328168?loc=...  1.4천 회 이상     665   \n1   https://www.musinsa.com/app/goods/3081973?loc=...        NaN      14   \n2   https://www.musinsa.com/app/goods/3035965?loc=...  1.3천 회 이상     138   \n3   https://www.musinsa.com/app/goods/2096583?loc=...  2.6만 회 이상  21,713   \n4   https://www.musinsa.com/app/goods/2628879?loc=...  5.6천 회 이상   2,359   \n..                                                ...        ...     ...   \n85  https://www.musinsa.com/app/goods/3138601?loc=...  2.2천 회 이상     197   \n86  https://www.musinsa.com/app/goods/2826164?loc=...    600회 이상     368   \n87  https://www.musinsa.com/app/goods/1571510?loc=...  4.8천 회 이상  33,598   \n88  https://www.musinsa.com/app/goods/1548435?loc=...  3.2만 회 이상  16,115   \n89  https://www.musinsa.com/app/goods/1708409?loc=...  1.3만 회 이상  11,610   \n\n         구매후기 개수     평점  누적판매량(1년)  \n0      후기 64개 보기    4.9    100개 이상  \n1          후기 0개  평점 0점        NaN  \n2       후기 7개 보기      5     50개 미만  \n3   후기 1,444개 보기    4.8  4.2천 개 이상  \n4     후기 641개 보기    4.8    3천 개 이상  \n..           ...    ...        ...  \n85         후기 0개  평점 0점     50개 미만  \n86     후기 15개 보기    4.5     50개 미만  \n87  후기 3,663개 보기    4.8  4.1천 개 이상  \n88  후기 6,932개 보기    4.9  8.6천 개 이상  \n89  후기 2,216개 보기    4.8    3천 개 이상  \n\n[90 rows x 9 columns]",
      "text/html": "<div>\n<style scoped>\n    .dataframe tbody tr th:only-of-type {\n        vertical-align: middle;\n    }\n\n    .dataframe tbody tr th {\n        vertical-align: top;\n    }\n\n    .dataframe thead th {\n        text-align: right;\n    }\n</style>\n<table border=\"1\" class=\"dataframe\">\n  <thead>\n    <tr style=\"text-align: right;\">\n      <th></th>\n      <th>순위</th>\n      <th>상품명</th>\n      <th>브랜드명</th>\n      <th>url</th>\n      <th>조회수</th>\n      <th>좋아요</th>\n      <th>구매후기 개수</th>\n      <th>평점</th>\n      <th>누적판매량(1년)</th>\n    </tr>\n  </thead>\n  <tbody>\n    <tr>\n      <th>0</th>\n      <td>271위</td>\n      <td>CLASSIC LOGO HOODIE light heather gray</td>\n      <td>마리떼</td>\n      <td>https://www.musinsa.com/app/goods/2328168?loc=...</td>\n      <td>1.4천 회 이상</td>\n      <td>665</td>\n      <td>후기 64개 보기</td>\n      <td>4.9</td>\n      <td>100개 이상</td>\n    </tr>\n    <tr>\n      <th>1</th>\n      <td>272위</td>\n      <td>Pure supima boat neck pullover_Noon</td>\n      <td>우마뭉</td>\n      <td>https://www.musinsa.com/app/goods/3081973?loc=...</td>\n      <td>NaN</td>\n      <td>14</td>\n      <td>후기 0개</td>\n      <td>평점 0점</td>\n      <td>NaN</td>\n    </tr>\n    <tr>\n      <th>2</th>\n      <td>273위</td>\n      <td>NEW CLASSIC LOGO HOODIE navy</td>\n      <td>마리떼</td>\n      <td>https://www.musinsa.com/app/goods/3035965?loc=...</td>\n      <td>1.3천 회 이상</td>\n      <td>138</td>\n      <td>후기 7개 보기</td>\n      <td>5</td>\n      <td>50개 미만</td>\n    </tr>\n    <tr>\n      <th>3</th>\n      <td>274위</td>\n      <td>[SET] (맨투맨 OR 후드 선택) CGP 아치 로고 트레이닝 셋업_그레이</td>\n      <td>코드그라피</td>\n      <td>https://www.musinsa.com/app/goods/2096583?loc=...</td>\n      <td>2.6만 회 이상</td>\n      <td>21,713</td>\n      <td>후기 1,444개 보기</td>\n      <td>4.8</td>\n      <td>4.2천 개 이상</td>\n    </tr>\n    <tr>\n      <th>4</th>\n      <td>275위</td>\n      <td>[2PACK] 코튼 크루넥 반팔_SPRWCA9U01</td>\n      <td>스파오</td>\n      <td>https://www.musinsa.com/app/goods/2628879?loc=...</td>\n      <td>5.6천 회 이상</td>\n      <td>2,359</td>\n      <td>후기 641개 보기</td>\n      <td>4.8</td>\n      <td>3천 개 이상</td>\n    </tr>\n    <tr>\n      <th>...</th>\n      <td>...</td>\n      <td>...</td>\n      <td>...</td>\n      <td>...</td>\n      <td>...</td>\n      <td>...</td>\n      <td>...</td>\n      <td>...</td>\n      <td>...</td>\n    </tr>\n    <tr>\n      <th>85</th>\n      <td>356위</td>\n      <td>벨라 스웻셔츠_NAVY</td>\n      <td>그로브</td>\n      <td>https://www.musinsa.com/app/goods/3138601?loc=...</td>\n      <td>2.2천 회 이상</td>\n      <td>197</td>\n      <td>후기 0개</td>\n      <td>평점 0점</td>\n      <td>50개 미만</td>\n    </tr>\n    <tr>\n      <th>86</th>\n      <td>357위</td>\n      <td>Shield Artwork Sweatshirt in Blue VW2AE335-22</td>\n      <td>레이브</td>\n      <td>https://www.musinsa.com/app/goods/2826164?loc=...</td>\n      <td>600회 이상</td>\n      <td>368</td>\n      <td>후기 15개 보기</td>\n      <td>4.5</td>\n      <td>50개 미만</td>\n    </tr>\n    <tr>\n      <th>87</th>\n      <td>358위</td>\n      <td>스몰 트위치 로고 에어로웜 오버핏 후드 티셔츠 멜란지 그레이</td>\n      <td>리</td>\n      <td>https://www.musinsa.com/app/goods/1571510?loc=...</td>\n      <td>4.8천 회 이상</td>\n      <td>33,598</td>\n      <td>후기 3,663개 보기</td>\n      <td>4.8</td>\n      <td>4.1천 개 이상</td>\n    </tr>\n    <tr>\n      <th>88</th>\n      <td>359위</td>\n      <td>탑필 울 라운드 니트 (블랙)</td>\n      <td>쿠어</td>\n      <td>https://www.musinsa.com/app/goods/1548435?loc=...</td>\n      <td>3.2만 회 이상</td>\n      <td>16,115</td>\n      <td>후기 6,932개 보기</td>\n      <td>4.9</td>\n      <td>8.6천 개 이상</td>\n    </tr>\n    <tr>\n      <th>89</th>\n      <td>360위</td>\n      <td>베츠 어센틱 맨투맨 네이비</td>\n      <td>이벳필드</td>\n      <td>https://www.musinsa.com/app/goods/1708409?loc=...</td>\n      <td>1.3만 회 이상</td>\n      <td>11,610</td>\n      <td>후기 2,216개 보기</td>\n      <td>4.8</td>\n      <td>3천 개 이상</td>\n    </tr>\n  </tbody>\n</table>\n<p>90 rows × 9 columns</p>\n</div>"
     },
     "execution_count": 27,
     "metadata": {},
     "output_type": "execute_result"
    }
   ],
   "source": [
    "file_name = f\"0319 musinsa_ranking_category{category_num}_page{page_num}.csv\"\n",
    "final_df.to_csv(file_name, index=False)\n",
    "pd.read_csv(file_name)"
   ],
   "metadata": {
    "collapsed": false,
    "pycharm": {
     "name": "#%%\n"
    }
   }
  },
  {
   "cell_type": "code",
   "execution_count": 10,
   "outputs": [],
   "source": [],
   "metadata": {
    "collapsed": false,
    "pycharm": {
     "name": "#%%\n"
    }
   }
  },
  {
   "cell_type": "code",
   "execution_count": null,
   "outputs": [],
   "source": [],
   "metadata": {
    "collapsed": false,
    "pycharm": {
     "name": "#%%\n"
    }
   }
  }
 ],
 "metadata": {
  "kernelspec": {
   "display_name": "Python 3",
   "language": "python",
   "name": "python3"
  },
  "language_info": {
   "codemirror_mode": {
    "name": "ipython",
    "version": 2
   },
   "file_extension": ".py",
   "mimetype": "text/x-python",
   "name": "python",
   "nbconvert_exporter": "python",
   "pygments_lexer": "ipython2",
   "version": "2.7.6"
  }
 },
 "nbformat": 4,
 "nbformat_minor": 0
}