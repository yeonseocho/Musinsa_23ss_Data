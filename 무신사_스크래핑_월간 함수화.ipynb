{
 "cells": [
  {
   "cell_type": "code",
   "execution_count": 12,
   "metadata": {
    "collapsed": true
   },
   "outputs": [],
   "source": [
    "import pandas as pd\n",
    "import requests\n",
    "from bs4 import BeautifulSoup as bs\n",
    "import time\n",
    "from tqdm import tqdm"
   ]
  },
  {
   "cell_type": "code",
   "execution_count": 13,
   "outputs": [],
   "source": [
    "from selenium import webdriver"
   ],
   "metadata": {
    "collapsed": false,
    "pycharm": {
     "name": "#%%\n"
    }
   }
  },
  {
   "cell_type": "code",
   "execution_count": 14,
   "outputs": [],
   "source": [
    "def musinsa_rank(category_num,page_num):\n",
    "    url = f\"https://www.musinsa.com/ranking/best?period=month&age=ALL&mainCategory=001&subCategory=&leafCategory=&price=&golf=false&kids=false&newProduct=false&exclusive=false&discount=false&soldOut=false&page=1&viewType=small&priceMin=&priceMax=\"\n",
    "    response = requests.get(url)\n",
    "    html = bs(response.text, 'lxml')\n",
    "    musinsa_rank_df = rbnl(html)\n",
    "\n",
    "    return musinsa_rank_df"
   ],
   "metadata": {
    "collapsed": false,
    "pycharm": {
     "name": "#%%\n"
    }
   }
  },
  {
   "cell_type": "code",
   "execution_count": 15,
   "outputs": [],
   "source": [
    "def rbnl(html):\n",
    "    musinsa_rank_df = pd.DataFrame()\n",
    "\n",
    "    #순위 뽑기\n",
    "    rank_html = html.select('#goodsRankList > li > p')\n",
    "    rank_no_list = []\n",
    "\n",
    "    for i in rank_html:\n",
    "        rank_no_list.append(i.string.strip())\n",
    "\n",
    "    musinsa_rank_df['순위'] = rank_no_list\n",
    "\n",
    "    #브랜드 이름 뽑기\n",
    "    brand_html = html.select('#goodsRankList > li > div.li_inner > div.article_info > p.item_title > a')\n",
    "    brand_list = []\n",
    "\n",
    "    for i in brand_html:\n",
    "        brand_list.append(i.string)\n",
    "\n",
    "    musinsa_rank_df['브랜드명']=brand_list\n",
    "\n",
    "    #링크와 의류명 뽑기\n",
    "    link_name_html = html.select('#goodsRankList > li > div.li_inner > div.article_info > p.list_info > a')\n",
    "    link_list = []\n",
    "    name_list = []\n",
    "\n",
    "    for i in link_name_html:\n",
    "        link_list.append(i['href'])\n",
    "        name_list.append(i['title'])\n",
    "\n",
    "    musinsa_rank_df['의류명']=name_list\n",
    "    musinsa_rank_df['링크']=link_list\n",
    "\n",
    "    #상세 페이지 크롤링\n",
    "    musinsa_rank_df2 = specific_info(link_list)\n",
    "\n",
    "    #데이터 프레임 옆으로 합치기\n",
    "    musinsa_rank_df = pd.concat([musinsa_rank_df, musinsa_rank_df2], axis=1)\n",
    "\n",
    "    return musinsa_rank_df"
   ],
   "metadata": {
    "collapsed": false,
    "pycharm": {
     "name": "#%%\n"
    }
   }
  },
  {
   "cell_type": "code",
   "execution_count": 31,
   "outputs": [],
   "source": [
    "from pyasn1.compat.octets import null\n",
    "\n",
    "\n",
    "def specific_info(link_list):\n",
    "    headers={'User-Agent':'Mozilla/5.0 (Windows NT 10.0; Win64; x64) AppleWebKit/537.36 (KHTML, like Gecko) Chrome/101.0.4951.67 Safari/537.36'}\n",
    "\n",
    "    musinsa_rank_df = pd.DataFrame()\n",
    "    part_num_list=[]\n",
    "    sex_list=[]\n",
    "    view_list=[]\n",
    "    sales_list=[]\n",
    "    like_list=[]\n",
    "    review_list=[]\n",
    "\n",
    "\n",
    "    for link in tqdm(link_list):\n",
    "        #         print(link)\n",
    "        response_1=requests.get(link,headers=headers)\n",
    "        html_1=bs(response_1.text, 'lxml')\n",
    "\n",
    "        #품번 리스트 생성\n",
    "        part_num_html=html_1.select('#product_order_info > div.explan_product.product_info_section > ul > li:nth-child(1) > p.product_article_contents > strong')\n",
    "        part_num=part_num_html[0].get_text().split('/')[-1].strip()\n",
    "        part_num_list.append(part_num)\n",
    "\n",
    "        #성별 리스트 생성\n",
    "        sex_html=html_1.select(\"#product_order_info > div.explan_product.product_info_section > ul > li > p.product_article_contents > span.txt_gender\")\n",
    "        sex=sex_html[0].get_text().replace('\\n',' ').strip()\n",
    "        sex_list.append(sex)\n",
    "\n",
    "        #셀레니움으로 원하는 데이터 가져오기\n",
    "        driver = webdriver.Chrome('chromedriver.exe')\n",
    "        driver.get(link)\n",
    "        sel_html=driver.page_source\n",
    "        html_2=bs(sel_html)\n",
    "\n",
    "        #조회수 가져오기\n",
    "        view_html=html_2.find_all(\"strong\", {\"id\":\"pageview_1m\"})\n",
    "        view=view_html[0].get_text()\n",
    "        view_list.append(view)\n",
    "\n",
    "        #누적 판매 가져오기\n",
    "        sales_html=html_2.find_all(\"strong\", {\"id\":\"sales_1y_qty\"})\n",
    "        sales=sales_html[0].get_text()\n",
    "        sales_list.append(sales)\n",
    "\n",
    "        #좋아요 수 가져오기\n",
    "        like_html=html_2.find_all(\"span\", {\"class\": \"prd_like_cnt\"})\n",
    "        like=like_html[0].get_text()\n",
    "        like_list.append(like)\n",
    "\n",
    "        #구매 후기 개수 가져오기\n",
    "        review_html=html_2.find_all(\"span\", {\"class\": \"prd-score__review-count\"})\n",
    "        if len(review_html) == 0:\n",
    "            review = \"후기 0개\"\n",
    "        else:\n",
    "            review=review_html[0].get_text()\n",
    "        review_list.append(review)\n",
    "\n",
    "\n",
    "\n",
    "\n",
    "        #드라이버 닫아주기\n",
    "        driver.close()\n",
    "\n",
    "        #시간 추가\n",
    "        time.sleep(0.01)\n",
    "\n",
    "    musinsa_rank_df['품번']=part_num_list\n",
    "    musinsa_rank_df['성별']=sex_list\n",
    "    musinsa_rank_df['조회수']=view_list\n",
    "    musinsa_rank_df['누적판매량(1년)']=sales_list\n",
    "    musinsa_rank_df['좋아요']=like_list\n",
    "    musinsa_rank_df['구매후기 개수']=review_list\n",
    "\n",
    "    return musinsa_rank_df"
   ],
   "metadata": {
    "collapsed": false,
    "pycharm": {
     "name": "#%%\n"
    }
   }
  },
  {
   "cell_type": "code",
   "execution_count": 33,
   "outputs": [
    {
     "name": "stderr",
     "output_type": "stream",
     "text": [
      "  0%|          | 0/90 [00:00<?, ?it/s]C:\\Users\\jpc10\\AppData\\Local\\Temp\\ipykernel_30216\\2695187693.py:32: DeprecationWarning: executable_path has been deprecated, please pass in a Service object\n",
      "  driver = webdriver.Chrome('chromedriver.exe')\n",
      "100%|██████████| 90/90 [13:55<00:00,  9.29s/it]\n"
     ]
    }
   ],
   "source": [
    "category_num=input(\"Category 번호를 입력하세요: \")\n",
    "page_num=input(\"Page 번호를 입력하세요: \")\n",
    "final_df=musinsa_rank(category_num,page_num)"
   ],
   "metadata": {
    "collapsed": false,
    "pycharm": {
     "name": "#%%\n"
    }
   }
  },
  {
   "cell_type": "code",
   "execution_count": 34,
   "outputs": [
    {
     "data": {
      "text/plain": "     순위      브랜드명                             의류명  \\\n0    1위       수아레            워셔블 하찌 니트 - 11 COLOR   \n1    2위  무신사 스탠다드    레이어드 크루 넥 반팔 티셔츠_일반 기장 [화이트]   \n2    3위       스파오   (시티보이) 오버핏 옥스포드 셔츠_SPYWD23C01   \n3    4위        예일  (23SS) 2 TONE ARCH HOODIE GRAY   \n4    5위        토피     에센셜 후드 스웻 셔츠 (MELANGE GREY)   \n..  ...       ...                             ...   \n85  86위    필루미네이트              오버핏 그래피티 로고 후디-오트밀   \n86  87위  무신사 스탠다드                베이식 긴팔 티셔츠 [화이트]   \n87  88위    브라운브레스           TAG HOODIE - BURGUNDY   \n88  89위       수아레              [리뉴얼] 하프 터틀넥 니트 세트   \n89  90위     인템포무드           해비 코튼 썸홀 후디 : 15color   \n\n                                                   링크  \\\n0   https://www.musinsa.com/app/goods/2396645?loc=...   \n1   https://www.musinsa.com/app/goods/2086653?loc=...   \n2   https://www.musinsa.com/app/goods/2272830?loc=...   \n3   https://www.musinsa.com/app/goods/2326935?loc=...   \n4   https://www.musinsa.com/app/goods/2314616?loc=...   \n..                                                ...   \n85  https://www.musinsa.com/app/goods/3026606?loc=...   \n86  https://www.musinsa.com/app/goods/1144989?loc=...   \n87  https://www.musinsa.com/app/goods/2722805?loc=...   \n88  https://www.musinsa.com/app/goods/1558847?loc=...   \n89  https://www.musinsa.com/app/goods/2319988?loc=...   \n\n                              품번   성별         조회수   누적판매량(1년)     좋아요  \\\n0                        1709399    남  17.3만 회 이상   9.2만 개 이상  82,168   \n1                    MMATS701-WH    남    19만 회 이상  21.6만 개 이상  74,196   \n2                     SPYWD23C01    남  22.3만 회 이상     5만 개 이상  45,477   \n3                   YD01HD1007GR  남 여    14만 회 이상   6.7만 개 이상  83,129   \n4                       TAS-EHSS    남  12.6만 회 이상   4.1만 개 이상  42,641   \n..                           ...  ...         ...         ...     ...   \n85  Overfit Graffiti Logo Hoodie  남 여   6.6만 회 이상   1.7천 개 이상  13,247   \n86                   MITS0009-WH    남   4.1만 회 이상   4.8만 개 이상  58,693   \n87                   BISMHDB01BD  남 여   2.9만 회 이상   3.8천 개 이상  12,837   \n88                        670743    남   2.9만 회 이상   4.8만 개 이상  49,910   \n89                        487389    남   3.1만 회 이상     9천 개 이상  17,894   \n\n          구매후기 개수  \n0   후기 22,418개 보기  \n1   후기 37,656개 보기  \n2   후기 17,493개 보기  \n3   후기 12,577개 보기  \n4    후기 7,713개 보기  \n..            ...  \n85     후기 103개 보기  \n86  후기 66,720개 보기  \n87     후기 839개 보기  \n88  후기 27,198개 보기  \n89   후기 5,286개 보기  \n\n[90 rows x 10 columns]",
      "text/html": "<div>\n<style scoped>\n    .dataframe tbody tr th:only-of-type {\n        vertical-align: middle;\n    }\n\n    .dataframe tbody tr th {\n        vertical-align: top;\n    }\n\n    .dataframe thead th {\n        text-align: right;\n    }\n</style>\n<table border=\"1\" class=\"dataframe\">\n  <thead>\n    <tr style=\"text-align: right;\">\n      <th></th>\n      <th>순위</th>\n      <th>브랜드명</th>\n      <th>의류명</th>\n      <th>링크</th>\n      <th>품번</th>\n      <th>성별</th>\n      <th>조회수</th>\n      <th>누적판매량(1년)</th>\n      <th>좋아요</th>\n      <th>구매후기 개수</th>\n    </tr>\n  </thead>\n  <tbody>\n    <tr>\n      <th>0</th>\n      <td>1위</td>\n      <td>수아레</td>\n      <td>워셔블 하찌 니트 - 11 COLOR</td>\n      <td>https://www.musinsa.com/app/goods/2396645?loc=...</td>\n      <td>1709399</td>\n      <td>남</td>\n      <td>17.3만 회 이상</td>\n      <td>9.2만 개 이상</td>\n      <td>82,168</td>\n      <td>후기 22,418개 보기</td>\n    </tr>\n    <tr>\n      <th>1</th>\n      <td>2위</td>\n      <td>무신사 스탠다드</td>\n      <td>레이어드 크루 넥 반팔 티셔츠_일반 기장 [화이트]</td>\n      <td>https://www.musinsa.com/app/goods/2086653?loc=...</td>\n      <td>MMATS701-WH</td>\n      <td>남</td>\n      <td>19만 회 이상</td>\n      <td>21.6만 개 이상</td>\n      <td>74,196</td>\n      <td>후기 37,656개 보기</td>\n    </tr>\n    <tr>\n      <th>2</th>\n      <td>3위</td>\n      <td>스파오</td>\n      <td>(시티보이) 오버핏 옥스포드 셔츠_SPYWD23C01</td>\n      <td>https://www.musinsa.com/app/goods/2272830?loc=...</td>\n      <td>SPYWD23C01</td>\n      <td>남</td>\n      <td>22.3만 회 이상</td>\n      <td>5만 개 이상</td>\n      <td>45,477</td>\n      <td>후기 17,493개 보기</td>\n    </tr>\n    <tr>\n      <th>3</th>\n      <td>4위</td>\n      <td>예일</td>\n      <td>(23SS) 2 TONE ARCH HOODIE GRAY</td>\n      <td>https://www.musinsa.com/app/goods/2326935?loc=...</td>\n      <td>YD01HD1007GR</td>\n      <td>남 여</td>\n      <td>14만 회 이상</td>\n      <td>6.7만 개 이상</td>\n      <td>83,129</td>\n      <td>후기 12,577개 보기</td>\n    </tr>\n    <tr>\n      <th>4</th>\n      <td>5위</td>\n      <td>토피</td>\n      <td>에센셜 후드 스웻 셔츠 (MELANGE GREY)</td>\n      <td>https://www.musinsa.com/app/goods/2314616?loc=...</td>\n      <td>TAS-EHSS</td>\n      <td>남</td>\n      <td>12.6만 회 이상</td>\n      <td>4.1만 개 이상</td>\n      <td>42,641</td>\n      <td>후기 7,713개 보기</td>\n    </tr>\n    <tr>\n      <th>...</th>\n      <td>...</td>\n      <td>...</td>\n      <td>...</td>\n      <td>...</td>\n      <td>...</td>\n      <td>...</td>\n      <td>...</td>\n      <td>...</td>\n      <td>...</td>\n      <td>...</td>\n    </tr>\n    <tr>\n      <th>85</th>\n      <td>86위</td>\n      <td>필루미네이트</td>\n      <td>오버핏 그래피티 로고 후디-오트밀</td>\n      <td>https://www.musinsa.com/app/goods/3026606?loc=...</td>\n      <td>Overfit Graffiti Logo Hoodie</td>\n      <td>남 여</td>\n      <td>6.6만 회 이상</td>\n      <td>1.7천 개 이상</td>\n      <td>13,247</td>\n      <td>후기 103개 보기</td>\n    </tr>\n    <tr>\n      <th>86</th>\n      <td>87위</td>\n      <td>무신사 스탠다드</td>\n      <td>베이식 긴팔 티셔츠 [화이트]</td>\n      <td>https://www.musinsa.com/app/goods/1144989?loc=...</td>\n      <td>MITS0009-WH</td>\n      <td>남</td>\n      <td>4.1만 회 이상</td>\n      <td>4.8만 개 이상</td>\n      <td>58,693</td>\n      <td>후기 66,720개 보기</td>\n    </tr>\n    <tr>\n      <th>87</th>\n      <td>88위</td>\n      <td>브라운브레스</td>\n      <td>TAG HOODIE - BURGUNDY</td>\n      <td>https://www.musinsa.com/app/goods/2722805?loc=...</td>\n      <td>BISMHDB01BD</td>\n      <td>남 여</td>\n      <td>2.9만 회 이상</td>\n      <td>3.8천 개 이상</td>\n      <td>12,837</td>\n      <td>후기 839개 보기</td>\n    </tr>\n    <tr>\n      <th>88</th>\n      <td>89위</td>\n      <td>수아레</td>\n      <td>[리뉴얼] 하프 터틀넥 니트 세트</td>\n      <td>https://www.musinsa.com/app/goods/1558847?loc=...</td>\n      <td>670743</td>\n      <td>남</td>\n      <td>2.9만 회 이상</td>\n      <td>4.8만 개 이상</td>\n      <td>49,910</td>\n      <td>후기 27,198개 보기</td>\n    </tr>\n    <tr>\n      <th>89</th>\n      <td>90위</td>\n      <td>인템포무드</td>\n      <td>해비 코튼 썸홀 후디 : 15color</td>\n      <td>https://www.musinsa.com/app/goods/2319988?loc=...</td>\n      <td>487389</td>\n      <td>남</td>\n      <td>3.1만 회 이상</td>\n      <td>9천 개 이상</td>\n      <td>17,894</td>\n      <td>후기 5,286개 보기</td>\n    </tr>\n  </tbody>\n</table>\n<p>90 rows × 10 columns</p>\n</div>"
     },
     "execution_count": 34,
     "metadata": {},
     "output_type": "execute_result"
    }
   ],
   "source": [
    "file_name = f\"musinsa_ranking_category{category_num}_page{page_num}.csv\"\n",
    "final_df.to_csv(file_name, index=False)\n",
    "pd.read_csv(file_name)"
   ],
   "metadata": {
    "collapsed": false,
    "pycharm": {
     "name": "#%%\n"
    }
   }
  },
  {
   "cell_type": "code",
   "execution_count": null,
   "outputs": [],
   "source": [],
   "metadata": {
    "collapsed": false,
    "pycharm": {
     "name": "#%%\n"
    }
   }
  }
 ],
 "metadata": {
  "kernelspec": {
   "display_name": "Python 3",
   "language": "python",
   "name": "python3"
  },
  "language_info": {
   "codemirror_mode": {
    "name": "ipython",
    "version": 2
   },
   "file_extension": ".py",
   "mimetype": "text/x-python",
   "name": "python",
   "nbconvert_exporter": "python",
   "pygments_lexer": "ipython2",
   "version": "2.7.6"
  }
 },
 "nbformat": 4,
 "nbformat_minor": 0
}