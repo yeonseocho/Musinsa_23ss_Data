{
 "cells": [
  {
   "cell_type": "code",
   "execution_count": 14,
   "metadata": {
    "collapsed": true
   },
   "outputs": [],
   "source": [
    "import pandas as pd\n",
    "import requests\n",
    "from bs4 import BeautifulSoup as bs\n",
    "import time\n",
    "from tqdm import tqdm"
   ]
  },
  {
   "cell_type": "code",
   "execution_count": 15,
   "outputs": [
    {
     "name": "stderr",
     "output_type": "stream",
     "text": [
      "C:\\Users\\jpc10\\AppData\\Local\\Temp\\ipykernel_27640\\3192227794.py:6: DeprecationWarning: headless property is deprecated, instead use add_argument('--headless') or add_argument('--headless=new')\n",
      "  chrome_options.headless = True\n"
     ]
    }
   ],
   "source": [
    "from selenium import webdriver\n",
    "#from selenium.webdriver.chrome.options import Options\n",
    "\n",
    "#chrome_options = Options()\n",
    "# headless 설정\n",
    "#chrome_options.headless = True"
   ],
   "metadata": {
    "collapsed": false,
    "pycharm": {
     "name": "#%%\n"
    }
   }
  },
  {
   "cell_type": "code",
   "execution_count": 16,
   "outputs": [],
   "source": [
    "def musinsa_rank(category_num,page_num):\n",
    "    url =  f\"https://www.musinsa.com/ranking/best?period=now&age=ALL&mainCategory=00{category_num}&subCategory=&leafCategory=&price=&golf=false&kids=false&newProduct=false&exclusive=false&discount=false&soldOut=false&page={page_num}&viewType=small&priceMin=&priceMax=\"\n",
    "    response = requests.get(url)\n",
    "    html = bs(response.text, 'lxml')\n",
    "    musinsa_rank_df = rbnl(html)\n",
    "\n",
    "    return musinsa_rank_df"
   ],
   "metadata": {
    "collapsed": false,
    "pycharm": {
     "name": "#%%\n"
    }
   }
  },
  {
   "cell_type": "code",
   "execution_count": 17,
   "outputs": [],
   "source": [
    "def rbnl(html):\n",
    "    musinsa_rank_df = pd.DataFrame()\n",
    "\n",
    "    #순위 뽑기\n",
    "    rank_html = html.select('#goodsRankList > li > p')\n",
    "    rank_no_list = []\n",
    "\n",
    "    for i in rank_html:\n",
    "        rank_no_list.append(i.string.strip())\n",
    "\n",
    "    musinsa_rank_df['순위'] = rank_no_list\n",
    "\n",
    "    #브랜드 이름 뽑기\n",
    "    brand_html = html.select('#goodsRankList > li > div.li_inner > div.article_info > p.item_title > a')\n",
    "    brand_list = []\n",
    "\n",
    "    for i in brand_html:\n",
    "        brand_list.append(i.string)\n",
    "\n",
    "\n",
    "\n",
    "    #링크와 의류명 뽑기\n",
    "    link_name_html = html.select('#goodsRankList > li > div.li_inner > div.article_info > p.list_info > a')\n",
    "    link_list = []\n",
    "    name_list = []\n",
    "\n",
    "    for i in link_name_html:\n",
    "        link_list.append(i['href'])\n",
    "        name_list.append(i['title'])\n",
    "\n",
    "    musinsa_rank_df['상품명']=name_list\n",
    "    musinsa_rank_df['브랜드명']=brand_list\n",
    "    musinsa_rank_df['url']=link_list\n",
    "\n",
    "    #상세 페이지 크롤링\n",
    "    musinsa_rank_df2 = specific_info(link_list)\n",
    "\n",
    "    #데이터 프레임 옆으로 합치기\n",
    "    musinsa_rank_df = pd.concat([musinsa_rank_df, musinsa_rank_df2], axis=1)\n",
    "\n",
    "    return musinsa_rank_df"
   ],
   "metadata": {
    "collapsed": false,
    "pycharm": {
     "name": "#%%\n"
    }
   }
  },
  {
   "cell_type": "code",
   "execution_count": 18,
   "outputs": [],
   "source": [
    "from pyasn1.compat.octets import null\n",
    "\n",
    "\n",
    "def specific_info(link_list):\n",
    "    headers={'User-Agent':'Mozilla/5.0 (Windows NT 10.0; Win64; x64) AppleWebKit/537.36 (KHTML, like Gecko) Chrome/101.0.4951.67 Safari/537.36'}\n",
    "\n",
    "    musinsa_rank_df = pd.DataFrame()\n",
    "    part_num_list=[]\n",
    "    sex_list=[]\n",
    "    view_list=[]\n",
    "    sales_list=[]\n",
    "    like_list=[]\n",
    "    review_list=[]\n",
    "    star_list=[]\n",
    "\n",
    "\n",
    "    for link in tqdm(link_list):\n",
    "        #         print(link)\n",
    "        response_1=requests.get(link,headers=headers)\n",
    "        html_1=bs(response_1.text, 'lxml')\n",
    "\n",
    "        #품번 리스트 생성\n",
    "        part_num_html=html_1.select('#product_order_info > div.explan_product.product_info_section > ul > li:nth-child(1) > p.product_article_contents > strong')\n",
    "        part_num=part_num_html[0].get_text().split('/')[-1].strip()\n",
    "        part_num_list.append(part_num)\n",
    "\n",
    "        #성별 리스트 생성\n",
    "        sex_html=html_1.select(\"#product_order_info > div.explan_product.product_info_section > ul > li > p.product_article_contents > span.txt_gender\")\n",
    "        sex=sex_html[0].get_text().replace('\\n',' ').strip()\n",
    "        sex_list.append(sex)\n",
    "\n",
    "        #셀레니움으로 원하는 데이터 가져오기\n",
    "        driver = webdriver.Chrome('chromedriver.exe')\n",
    "        driver.get(link)\n",
    "        sel_html=driver.page_source\n",
    "        html_2=bs(sel_html)\n",
    "\n",
    "        #조회수 가져오기\n",
    "        view_html=html_2.find_all(\"strong\", {\"id\":\"pageview_1m\"})\n",
    "        view=view_html[0].get_text()\n",
    "        view_list.append(view)\n",
    "\n",
    "        #누적 판매 가져오기\n",
    "        sales_html=html_2.find_all(\"strong\", {\"id\":\"sales_1y_qty\"})\n",
    "        sales=sales_html[0].get_text()\n",
    "        sales_list.append(sales)\n",
    "\n",
    "        #좋아요 수 가져오기\n",
    "        like_html=html_2.find_all(\"span\", {\"class\": \"prd_like_cnt\"})\n",
    "        like=like_html[0].get_text()\n",
    "        like_list.append(like)\n",
    "\n",
    "        #평점\n",
    "        star_html=html_2.find_all(\"span\", {\"class\": \"prd-score__rating\" })\n",
    "        if len(star_html) == 0:\n",
    "            star = \"0\"\n",
    "        else:\n",
    "            star=star_html[0].get_text()\n",
    "        star_list.append(star)\n",
    "\n",
    "\n",
    "        #구매 후기 개수 가져오기\n",
    "        review_html=html_2.find_all(\"span\", {\"class\": \"prd-score__review-count\"})\n",
    "        if len(review_html) == 0:\n",
    "            review = \"0\"\n",
    "        else:\n",
    "            review=review_html[0].get_text()\n",
    "        review_list.append(review)\n",
    "\n",
    "\n",
    "        #드라이버 닫아주기\n",
    "        driver.close()\n",
    "\n",
    "        #시간 추가\n",
    "        time.sleep(0.01)\n",
    "\n",
    "\n",
    "    musinsa_rank_df['조회수']=view_list\n",
    "    musinsa_rank_df['좋아요']=like_list\n",
    "    musinsa_rank_df['구매후기 개수']=review_list\n",
    "    musinsa_rank_df['평점']=star_list\n",
    "    musinsa_rank_df['누적판매량(1년)']=sales_list\n",
    "\n",
    "\n",
    "    return musinsa_rank_df"
   ],
   "metadata": {
    "collapsed": false,
    "pycharm": {
     "name": "#%%\n"
    }
   }
  },
  {
   "cell_type": "code",
   "execution_count": 119,
   "outputs": [
    {
     "name": "stderr",
     "output_type": "stream",
     "text": [
      "0it [00:00, ?it/s]\n"
     ]
    }
   ],
   "source": [
    "category_num=input(\"Category 번호를 입력하세요: \")\n",
    "page_num=input(\"Page 번호를 입력하세요: \")\n",
    "final_df=musinsa_rank(category_num,page_num)"
   ],
   "metadata": {
    "collapsed": false,
    "pycharm": {
     "name": "#%%\n"
    }
   }
  },
  {
   "cell_type": "markdown",
   "source": [],
   "metadata": {
    "collapsed": false
   }
  },
  {
   "cell_type": "code",
   "execution_count": 116,
   "outputs": [
    {
     "data": {
      "text/plain": "       순위                                             상품명             브랜드명  \\\n0   4411위                         Color Line Knit (Brown)            아워스코프   \n1   4412위       RETRIEVER FRIENDS CREWNECK [MELANGE GRAY]           리트리버클럽   \n2   4413위                              엠블럼 져지 롱슬리브 티셔츠_블랙           오아이오아이   \n3   4414위                       [패키지] 아크로매틱 플루이드 린넨 포켓 셔츠              브렌슨   \n4   4415위                             메쉬드 반팔 카라 스웨터 (베이지)             엠엠지엘   \n..    ...                                             ...              ...   \n85  4496위                                벌룬핏 크루넥 니트 BLACK            인사일런스   \n86  4497위                    Narbe Half Shirt - Blue Grey          오프닝프로젝트   \n87  4498위  PHYPS® MONDAY ROUTINE STITCH HOODIE BERRY PINK  피지컬 에듀케이션 디파트먼트   \n88  4499위            차콜그레이 벌룬핏 피그먼트 다잉 후드 티셔츠 IETS3E201CG             일꼬르소   \n89  4500위                                캡 슬리브 워머 셔츠 / 블랙              오호스   \n\n                                                  url        조회수     좋아요  \\\n0   https://www.musinsa.com/app/goods/1155740?loc=...    400회 이상     126   \n1   https://www.musinsa.com/app/goods/2140537?loc=...  8.3천 회 이상  13,233   \n2   https://www.musinsa.com/app/goods/3149903?loc=...    700회 이상     125   \n3   https://www.musinsa.com/app/goods/2578564?loc=...  5.3천 회 이상   6,621   \n4   https://www.musinsa.com/app/goods/2469400?loc=...    700회 이상     947   \n..                                                ...        ...     ...   \n85  https://www.musinsa.com/app/goods/2780269?loc=...  2.2천 회 이상     351   \n86  https://www.musinsa.com/app/goods/3051777?loc=...  1.4천 회 이상     173   \n87  https://www.musinsa.com/app/goods/3073854?loc=...  6.2천 회 이상     924   \n88  https://www.musinsa.com/app/goods/2873711?loc=...  4.4천 회 이상     802   \n89  https://www.musinsa.com/app/goods/3133209?loc=...    200회 이상      74   \n\n         구매후기 개수     평점  누적판매량(1년)  \n0       후기 5개 보기      5        NaN  \n1   후기 1,428개 보기    4.9  3.2천 개 이상  \n2          후기 0개  평점 0점        NaN  \n3     후기 802개 보기    4.8  4.1천 개 이상  \n4      후기 66개 보기    4.8    100개 이상  \n..           ...    ...        ...  \n85     후기 46개 보기    4.9    100개 이상  \n86         후기 0개  평점 0점        NaN  \n87     후기 24개 보기    4.5    100개 이상  \n88     후기 61개 보기      5    200개 이상  \n89         후기 0개  평점 0점        NaN  \n\n[90 rows x 9 columns]",
      "text/html": "<div>\n<style scoped>\n    .dataframe tbody tr th:only-of-type {\n        vertical-align: middle;\n    }\n\n    .dataframe tbody tr th {\n        vertical-align: top;\n    }\n\n    .dataframe thead th {\n        text-align: right;\n    }\n</style>\n<table border=\"1\" class=\"dataframe\">\n  <thead>\n    <tr style=\"text-align: right;\">\n      <th></th>\n      <th>순위</th>\n      <th>상품명</th>\n      <th>브랜드명</th>\n      <th>url</th>\n      <th>조회수</th>\n      <th>좋아요</th>\n      <th>구매후기 개수</th>\n      <th>평점</th>\n      <th>누적판매량(1년)</th>\n    </tr>\n  </thead>\n  <tbody>\n    <tr>\n      <th>0</th>\n      <td>4411위</td>\n      <td>Color Line Knit (Brown)</td>\n      <td>아워스코프</td>\n      <td>https://www.musinsa.com/app/goods/1155740?loc=...</td>\n      <td>400회 이상</td>\n      <td>126</td>\n      <td>후기 5개 보기</td>\n      <td>5</td>\n      <td>NaN</td>\n    </tr>\n    <tr>\n      <th>1</th>\n      <td>4412위</td>\n      <td>RETRIEVER FRIENDS CREWNECK [MELANGE GRAY]</td>\n      <td>리트리버클럽</td>\n      <td>https://www.musinsa.com/app/goods/2140537?loc=...</td>\n      <td>8.3천 회 이상</td>\n      <td>13,233</td>\n      <td>후기 1,428개 보기</td>\n      <td>4.9</td>\n      <td>3.2천 개 이상</td>\n    </tr>\n    <tr>\n      <th>2</th>\n      <td>4413위</td>\n      <td>엠블럼 져지 롱슬리브 티셔츠_블랙</td>\n      <td>오아이오아이</td>\n      <td>https://www.musinsa.com/app/goods/3149903?loc=...</td>\n      <td>700회 이상</td>\n      <td>125</td>\n      <td>후기 0개</td>\n      <td>평점 0점</td>\n      <td>NaN</td>\n    </tr>\n    <tr>\n      <th>3</th>\n      <td>4414위</td>\n      <td>[패키지] 아크로매틱 플루이드 린넨 포켓 셔츠</td>\n      <td>브렌슨</td>\n      <td>https://www.musinsa.com/app/goods/2578564?loc=...</td>\n      <td>5.3천 회 이상</td>\n      <td>6,621</td>\n      <td>후기 802개 보기</td>\n      <td>4.8</td>\n      <td>4.1천 개 이상</td>\n    </tr>\n    <tr>\n      <th>4</th>\n      <td>4415위</td>\n      <td>메쉬드 반팔 카라 스웨터 (베이지)</td>\n      <td>엠엠지엘</td>\n      <td>https://www.musinsa.com/app/goods/2469400?loc=...</td>\n      <td>700회 이상</td>\n      <td>947</td>\n      <td>후기 66개 보기</td>\n      <td>4.8</td>\n      <td>100개 이상</td>\n    </tr>\n    <tr>\n      <th>...</th>\n      <td>...</td>\n      <td>...</td>\n      <td>...</td>\n      <td>...</td>\n      <td>...</td>\n      <td>...</td>\n      <td>...</td>\n      <td>...</td>\n      <td>...</td>\n    </tr>\n    <tr>\n      <th>85</th>\n      <td>4496위</td>\n      <td>벌룬핏 크루넥 니트 BLACK</td>\n      <td>인사일런스</td>\n      <td>https://www.musinsa.com/app/goods/2780269?loc=...</td>\n      <td>2.2천 회 이상</td>\n      <td>351</td>\n      <td>후기 46개 보기</td>\n      <td>4.9</td>\n      <td>100개 이상</td>\n    </tr>\n    <tr>\n      <th>86</th>\n      <td>4497위</td>\n      <td>Narbe Half Shirt - Blue Grey</td>\n      <td>오프닝프로젝트</td>\n      <td>https://www.musinsa.com/app/goods/3051777?loc=...</td>\n      <td>1.4천 회 이상</td>\n      <td>173</td>\n      <td>후기 0개</td>\n      <td>평점 0점</td>\n      <td>NaN</td>\n    </tr>\n    <tr>\n      <th>87</th>\n      <td>4498위</td>\n      <td>PHYPS® MONDAY ROUTINE STITCH HOODIE BERRY PINK</td>\n      <td>피지컬 에듀케이션 디파트먼트</td>\n      <td>https://www.musinsa.com/app/goods/3073854?loc=...</td>\n      <td>6.2천 회 이상</td>\n      <td>924</td>\n      <td>후기 24개 보기</td>\n      <td>4.5</td>\n      <td>100개 이상</td>\n    </tr>\n    <tr>\n      <th>88</th>\n      <td>4499위</td>\n      <td>차콜그레이 벌룬핏 피그먼트 다잉 후드 티셔츠 IETS3E201CG</td>\n      <td>일꼬르소</td>\n      <td>https://www.musinsa.com/app/goods/2873711?loc=...</td>\n      <td>4.4천 회 이상</td>\n      <td>802</td>\n      <td>후기 61개 보기</td>\n      <td>5</td>\n      <td>200개 이상</td>\n    </tr>\n    <tr>\n      <th>89</th>\n      <td>4500위</td>\n      <td>캡 슬리브 워머 셔츠 / 블랙</td>\n      <td>오호스</td>\n      <td>https://www.musinsa.com/app/goods/3133209?loc=...</td>\n      <td>200회 이상</td>\n      <td>74</td>\n      <td>후기 0개</td>\n      <td>평점 0점</td>\n      <td>NaN</td>\n    </tr>\n  </tbody>\n</table>\n<p>90 rows × 9 columns</p>\n</div>"
     },
     "execution_count": 116,
     "metadata": {},
     "output_type": "execute_result"
    }
   ],
   "source": [
    "file_name = f\"0319 musinsa_ranking_category{category_num}_page{page_num}.csv\"\n",
    "final_df.to_csv(file_name, index=False)\n",
    "pd.read_csv(file_name)"
   ],
   "metadata": {
    "collapsed": false,
    "pycharm": {
     "name": "#%%\n"
    }
   }
  },
  {
   "cell_type": "code",
   "execution_count": 20,
   "outputs": [],
   "source": [],
   "metadata": {
    "collapsed": false,
    "pycharm": {
     "name": "#%%\n"
    }
   }
  },
  {
   "cell_type": "code",
   "execution_count": 20,
   "outputs": [],
   "source": [],
   "metadata": {
    "collapsed": false,
    "pycharm": {
     "name": "#%%\n"
    }
   }
  }
 ],
 "metadata": {
  "kernelspec": {
   "display_name": "Python 3",
   "language": "python",
   "name": "python3"
  },
  "language_info": {
   "codemirror_mode": {
    "name": "ipython",
    "version": 2
   },
   "file_extension": ".py",
   "mimetype": "text/x-python",
   "name": "python",
   "nbconvert_exporter": "python",
   "pygments_lexer": "ipython2",
   "version": "2.7.6"
  }
 },
 "nbformat": 4,
 "nbformat_minor": 0
}