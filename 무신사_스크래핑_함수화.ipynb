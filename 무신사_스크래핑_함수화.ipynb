{
 "cells": [
  {
   "cell_type": "code",
   "execution_count": 2,
   "outputs": [],
   "source": [
    "import pandas as pd\n",
    "import requests\n",
    "from bs4 import BeautifulSoup as bs\n",
    "import time\n",
    "from tqdm import tqdm"
   ],
   "metadata": {
    "collapsed": false,
    "pycharm": {
     "name": "#%%\n"
    }
   }
  },
  {
   "cell_type": "code",
   "execution_count": 4,
   "outputs": [],
   "source": [
    "from selenium import webdriver"
   ],
   "metadata": {
    "collapsed": false,
    "pycharm": {
     "name": "#%%\n"
    }
   }
  },
  {
   "cell_type": "code",
   "execution_count": null,
   "outputs": [],
   "source": [
    "def musinsa_rank(category_num,page_num):\n",
    "    url = f\"https://www.musinsa.com/ranking/best?period=now&age=ALL&mainCategory=00{category_num}&subCategory=&leafCategory=&price=&golf=false&kids=false&newProduct=false&exclusive=false&discount=false&soldOut=false&page={page_num}&viewType=small&priceMin=&priceMax=\"\n",
    "    response = requests.get(url)\n",
    "    html = bs(response.text, 'lxml')\n",
    "    musinsa_rank_df = rbnl(html)\n",
    "\n",
    "    return musinsa_rank_df"
   ],
   "metadata": {
    "collapsed": false,
    "pycharm": {
     "name": "#%%\n"
    }
   }
  },
  {
   "cell_type": "code",
   "execution_count": 8,
   "outputs": [],
   "source": [
    "def rbnl(html):\n",
    "    musinsa_rank_df = pd.DataFrame()\n",
    "\n",
    "    #순위 뽑기\n",
    "    rank_html = html.select('#goodsRankList > li > p')\n",
    "    rank_no_list = []\n",
    "\n",
    "    for i in rank_html:\n",
    "        rank_no_list.append(i.string.strip())\n",
    "\n",
    "    musinsa_rank_df['순위'] = rank_no_list\n",
    "\n",
    "    #브랜드 이름 뽑기\n",
    "    brand_html = html.select('#goodsRankList > li > div.li_inner > div.article_info > p.item_title > a')\n",
    "    brand_list = []\n",
    "\n",
    "    for i in brand_html:\n",
    "        brand_list.append(i.string)\n",
    "\n",
    "    musinsa_rank_df['브랜드명']=brand_list\n",
    "\n",
    "    #링크와 의류명 뽑기\n",
    "    link_name_html = html.select('#goodsRankList > li > div.li_inner > div.article_info > p.list_info > a')\n",
    "    link_list = []\n",
    "    name_list = []\n",
    "\n",
    "    for i in link_name_html:\n",
    "        link_list.append(i['href'])\n",
    "        name_list.append(i['title'])\n",
    "\n",
    "    musinsa_rank_df['의류명']=name_list\n",
    "    musinsa_rank_df['링크']=link_list\n",
    "\n",
    "    #상세 페이지 크롤링\n",
    "    musinsa_rank_df2 = specific_info(link_list)\n",
    "\n",
    "    #데이터 프레임 옆으로 합치기\n",
    "    musinsa_rank_df = pd.concat([musinsa_rank_df, musinsa_rank_df2], axis=1)\n",
    "\n",
    "    return musinsa_rank_df"
   ],
   "metadata": {
    "collapsed": false,
    "pycharm": {
     "name": "#%%\n"
    }
   }
  },
  {
   "cell_type": "code",
   "execution_count": 7,
   "outputs": [],
   "source": [
    "def specific_info(link_list):\n",
    "    headers={'User-Agent':'Mozilla/5.0 (Windows NT 10.0; Win64; x64) AppleWebKit/537.36 (KHTML, like Gecko) Chrome/101.0.4951.67 Safari/537.36'}\n",
    "\n",
    "    musinsa_rank_df = pd.DataFrame()\n",
    "    part_num_list=[]\n",
    "    sex_list=[]\n",
    "    view_list=[]\n",
    "    sales_list=[]\n",
    "    like_list=[]\n",
    "\n",
    "\n",
    "    for link in tqdm(link_list):\n",
    "#         print(link)\n",
    "        response_1=requests.get(link,headers=headers)\n",
    "        html_1=bs(response_1.text, 'lxml')\n",
    "\n",
    "        #품번 리스트 생성\n",
    "        part_num_html=html_1.select('#product_order_info > div.explan_product.product_info_section > ul > li:nth-child(1) > p.product_article_contents > strong')\n",
    "        part_num=part_num_html[0].get_text().split('/')[-1].strip()\n",
    "        part_num_list.append(part_num)\n",
    "\n",
    "        #성별 리스트 생성\n",
    "        sex_html=html_1.select(\"#product_order_info > div.explan_product.product_info_section > ul > li > p.product_article_contents > span.txt_gender\")\n",
    "        sex=sex_html[0].get_text().replace('\\n',' ').strip()\n",
    "        sex_list.append(sex)\n",
    "\n",
    "        #셀레니움으로 원하는 데이터 가져오기\n",
    "        driver = webdriver.Chrome('chromedriver.exe')\n",
    "        driver.get(link)\n",
    "        sel_html=driver.page_source\n",
    "        html_2=bs(sel_html)\n",
    "\n",
    "        #조회수 가져오기\n",
    "        view_html=html_2.find_all(\"strong\", {\"id\":\"pageview_1m\"})\n",
    "        view=view_html[0].get_text()\n",
    "        view_list.append(view)\n",
    "\n",
    "        #누적 판매 가져오기\n",
    "        sales_html=html_2.find_all(\"strong\", {\"id\":\"sales_1y_qty\"})\n",
    "        sales=sales_html[0].get_text()\n",
    "        sales_list.append(sales)\n",
    "\n",
    "        #좋아요 수 가져오기\n",
    "        like_html=html_2.find_all(\"span\", {\"class\": \"prd_like_cnt\"})\n",
    "        like=like_html[0].get_text()\n",
    "        like_list.append(like)\n",
    "\n",
    "        #드라이버 닫아주기\n",
    "        driver.close()\n",
    "\n",
    "        #시간 추가\n",
    "        time.sleep(0.01)\n",
    "\n",
    "    musinsa_rank_df['품번']=part_num_list\n",
    "    musinsa_rank_df['성별']=sex_list\n",
    "    musinsa_rank_df['조회수']=view_list\n",
    "    musinsa_rank_df['누적판매량(1년)']=sales_list\n",
    "    musinsa_rank_df['좋아요']=like_list\n",
    "\n",
    "    return musinsa_rank_df"
   ],
   "metadata": {
    "collapsed": false,
    "pycharm": {
     "name": "#%%\n"
    }
   }
  },
  {
   "cell_type": "markdown",
   "source": [
    "## 파일로 저장"
   ],
   "metadata": {
    "collapsed": false,
    "pycharm": {
     "name": "#%% md\n"
    }
   }
  },
  {
   "cell_type": "code",
   "execution_count": 13,
   "outputs": [
    {
     "name": "stderr",
     "output_type": "stream",
     "text": [
      "  0%|          | 0/90 [00:00<?, ?it/s]C:\\Users\\jpc10\\AppData\\Local\\Temp\\ipykernel_37940\\2940746359.py:28: DeprecationWarning: executable_path has been deprecated, please pass in a Service object\n",
      "  driver = webdriver.Chrome('chromedriver.exe')\n",
      "100%|██████████| 90/90 [13:58<00:00,  9.31s/it]\n"
     ]
    }
   ],
   "source": [
    "category_num=input(\"Category 번호를 입력하세요: \")\n",
    "page_num=input(\"Page 번호를 입력하세요: \")\n",
    "final_df=musinsa_rank(category_num,page_num)"
   ],
   "metadata": {
    "collapsed": false,
    "pycharm": {
     "name": "#%%\n"
    }
   }
  },
  {
   "cell_type": "code",
   "execution_count": 14,
   "outputs": [
    {
     "data": {
      "text/plain": "      순위    브랜드명                                의류명  \\\n0   181위     퍼스텝          리메인 바시티 자켓 블랙/크림 JUOT4536   \n1   182위    논플로어                    윈드 테이커 자켓 7.COL   \n2   183위  애프터프레이                   카펜터 데님 워크 재킷 라벤더   \n3   184위    빠니깔레              윈터 스판 코튼 D재킷 [2COLOR]   \n4   185위    로라로라         V NECK CABLE CARDIGAN NAVY   \n..   ...     ...                                ...   \n85  266위   레프트서울           리얼 양가죽 베지터블 오버핏 자켓 [브라운]   \n86  267위    드로우핏          오버사이즈 미니멀 체크 블레이저 [BEIGE]   \n87  268위    파브레가            범피 울 히든 블루종 자켓 (미드 그레이)   \n88  269위   타미힐피거  풀 밀라노 릴렉스 가디건 (T12C6KCD020MT2BDS)   \n89  270위     엄브로      헤리티지 스탠드넥 아노락 블랙 (UN421CWTO1)   \n\n                                                   링크  \\\n0   https://www.musinsa.com/app/goods/3028088?loc=...   \n1   https://www.musinsa.com/app/goods/2732486?loc=...   \n2   https://www.musinsa.com/app/goods/3075400?loc=...   \n3   https://www.musinsa.com/app/goods/2864075?loc=...   \n4   https://www.musinsa.com/app/goods/2719743?loc=...   \n..                                                ...   \n85  https://www.musinsa.com/app/goods/3107627?loc=...   \n86  https://www.musinsa.com/app/goods/709192?loc=g...   \n87  https://www.musinsa.com/app/goods/2859173?loc=...   \n88  https://www.musinsa.com/app/goods/2700919?loc=...   \n89  https://www.musinsa.com/app/goods/2763189?loc=...   \n\n                                       품번   성별        조회수  누적판매량(1년)     좋아요  \n0                              5001963592    남  4.5만 회 이상    500개 이상   6,155  \n1                                11832746  남 여  3.2만 회 이상  1.1천 개 이상   4,723  \n2                           2110013000022    남    200회 이상        NaN      23  \n3                                D-ACJK63    남        NaN        NaN       9  \n4                              5000026935    여  2.9만 회 이상  4.9천 개 이상  26,153  \n..                                    ...  ...        ...        ...     ...  \n85                              DMY001BRN    남        NaN        NaN      25  \n86                             DFJK0002BE    남  4.9천 회 이상    400개 이상   6,457  \n87  Wool Bumpy  Blouson Jacket (Mid Grey)    남    1만 회 이상    200개 이상   1,058  \n88                      T12C6KCD020MT2BDS    남  1.7천 회 이상     50개 이상     331  \n89                         UN421CWTO1_BLK  남 여  1.8만 회 이상    400개 이상   2,699  \n\n[90 rows x 9 columns]",
      "text/html": "<div>\n<style scoped>\n    .dataframe tbody tr th:only-of-type {\n        vertical-align: middle;\n    }\n\n    .dataframe tbody tr th {\n        vertical-align: top;\n    }\n\n    .dataframe thead th {\n        text-align: right;\n    }\n</style>\n<table border=\"1\" class=\"dataframe\">\n  <thead>\n    <tr style=\"text-align: right;\">\n      <th></th>\n      <th>순위</th>\n      <th>브랜드명</th>\n      <th>의류명</th>\n      <th>링크</th>\n      <th>품번</th>\n      <th>성별</th>\n      <th>조회수</th>\n      <th>누적판매량(1년)</th>\n      <th>좋아요</th>\n    </tr>\n  </thead>\n  <tbody>\n    <tr>\n      <th>0</th>\n      <td>181위</td>\n      <td>퍼스텝</td>\n      <td>리메인 바시티 자켓 블랙/크림 JUOT4536</td>\n      <td>https://www.musinsa.com/app/goods/3028088?loc=...</td>\n      <td>5001963592</td>\n      <td>남</td>\n      <td>4.5만 회 이상</td>\n      <td>500개 이상</td>\n      <td>6,155</td>\n    </tr>\n    <tr>\n      <th>1</th>\n      <td>182위</td>\n      <td>논플로어</td>\n      <td>윈드 테이커 자켓 7.COL</td>\n      <td>https://www.musinsa.com/app/goods/2732486?loc=...</td>\n      <td>11832746</td>\n      <td>남 여</td>\n      <td>3.2만 회 이상</td>\n      <td>1.1천 개 이상</td>\n      <td>4,723</td>\n    </tr>\n    <tr>\n      <th>2</th>\n      <td>183위</td>\n      <td>애프터프레이</td>\n      <td>카펜터 데님 워크 재킷 라벤더</td>\n      <td>https://www.musinsa.com/app/goods/3075400?loc=...</td>\n      <td>2110013000022</td>\n      <td>남</td>\n      <td>200회 이상</td>\n      <td>NaN</td>\n      <td>23</td>\n    </tr>\n    <tr>\n      <th>3</th>\n      <td>184위</td>\n      <td>빠니깔레</td>\n      <td>윈터 스판 코튼 D재킷 [2COLOR]</td>\n      <td>https://www.musinsa.com/app/goods/2864075?loc=...</td>\n      <td>D-ACJK63</td>\n      <td>남</td>\n      <td>NaN</td>\n      <td>NaN</td>\n      <td>9</td>\n    </tr>\n    <tr>\n      <th>4</th>\n      <td>185위</td>\n      <td>로라로라</td>\n      <td>V NECK CABLE CARDIGAN NAVY</td>\n      <td>https://www.musinsa.com/app/goods/2719743?loc=...</td>\n      <td>5000026935</td>\n      <td>여</td>\n      <td>2.9만 회 이상</td>\n      <td>4.9천 개 이상</td>\n      <td>26,153</td>\n    </tr>\n    <tr>\n      <th>...</th>\n      <td>...</td>\n      <td>...</td>\n      <td>...</td>\n      <td>...</td>\n      <td>...</td>\n      <td>...</td>\n      <td>...</td>\n      <td>...</td>\n      <td>...</td>\n    </tr>\n    <tr>\n      <th>85</th>\n      <td>266위</td>\n      <td>레프트서울</td>\n      <td>리얼 양가죽 베지터블 오버핏 자켓 [브라운]</td>\n      <td>https://www.musinsa.com/app/goods/3107627?loc=...</td>\n      <td>DMY001BRN</td>\n      <td>남</td>\n      <td>NaN</td>\n      <td>NaN</td>\n      <td>25</td>\n    </tr>\n    <tr>\n      <th>86</th>\n      <td>267위</td>\n      <td>드로우핏</td>\n      <td>오버사이즈 미니멀 체크 블레이저 [BEIGE]</td>\n      <td>https://www.musinsa.com/app/goods/709192?loc=g...</td>\n      <td>DFJK0002BE</td>\n      <td>남</td>\n      <td>4.9천 회 이상</td>\n      <td>400개 이상</td>\n      <td>6,457</td>\n    </tr>\n    <tr>\n      <th>87</th>\n      <td>268위</td>\n      <td>파브레가</td>\n      <td>범피 울 히든 블루종 자켓 (미드 그레이)</td>\n      <td>https://www.musinsa.com/app/goods/2859173?loc=...</td>\n      <td>Wool Bumpy  Blouson Jacket (Mid Grey)</td>\n      <td>남</td>\n      <td>1만 회 이상</td>\n      <td>200개 이상</td>\n      <td>1,058</td>\n    </tr>\n    <tr>\n      <th>88</th>\n      <td>269위</td>\n      <td>타미힐피거</td>\n      <td>풀 밀라노 릴렉스 가디건 (T12C6KCD020MT2BDS)</td>\n      <td>https://www.musinsa.com/app/goods/2700919?loc=...</td>\n      <td>T12C6KCD020MT2BDS</td>\n      <td>남</td>\n      <td>1.7천 회 이상</td>\n      <td>50개 이상</td>\n      <td>331</td>\n    </tr>\n    <tr>\n      <th>89</th>\n      <td>270위</td>\n      <td>엄브로</td>\n      <td>헤리티지 스탠드넥 아노락 블랙 (UN421CWTO1)</td>\n      <td>https://www.musinsa.com/app/goods/2763189?loc=...</td>\n      <td>UN421CWTO1_BLK</td>\n      <td>남 여</td>\n      <td>1.8만 회 이상</td>\n      <td>400개 이상</td>\n      <td>2,699</td>\n    </tr>\n  </tbody>\n</table>\n<p>90 rows × 9 columns</p>\n</div>"
     },
     "execution_count": 14,
     "metadata": {},
     "output_type": "execute_result"
    }
   ],
   "source": [
    "file_name = f\"musinsa_ranking_category{category_num}_page{page_num}.csv\"\n",
    "final_df.to_csv(file_name, index=False)\n",
    "pd.read_csv(file_name)"
   ],
   "metadata": {
    "collapsed": false,
    "pycharm": {
     "name": "#%%\n"
    }
   }
  },
  {
   "cell_type": "code",
   "execution_count": null,
   "outputs": [],
   "source": [],
   "metadata": {
    "collapsed": false,
    "pycharm": {
     "name": "#%%\n"
    }
   }
  }
 ],
 "metadata": {
  "kernelspec": {
   "display_name": "Python 3",
   "language": "python",
   "name": "python3"
  },
  "language_info": {
   "codemirror_mode": {
    "name": "ipython",
    "version": 2
   },
   "file_extension": ".py",
   "mimetype": "text/x-python",
   "name": "python",
   "nbconvert_exporter": "python",
   "pygments_lexer": "ipython2",
   "version": "2.7.6"
  }
 },
 "nbformat": 4,
 "nbformat_minor": 0
}