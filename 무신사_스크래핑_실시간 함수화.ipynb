{
 "cells": [
  {
   "cell_type": "code",
   "execution_count": 1,
   "outputs": [],
   "source": [
    "import pandas as pd\n",
    "import requests\n",
    "from bs4 import BeautifulSoup as bs\n",
    "import time\n",
    "from tqdm import tqdm"
   ],
   "metadata": {
    "collapsed": false,
    "pycharm": {
     "name": "#%%\n"
    }
   }
  },
  {
   "cell_type": "code",
   "execution_count": 2,
   "outputs": [],
   "source": [
    "from selenium import webdriver"
   ],
   "metadata": {
    "collapsed": false,
    "pycharm": {
     "name": "#%%\n"
    }
   }
  },
  {
   "cell_type": "code",
   "execution_count": 3,
   "outputs": [],
   "source": [
    "def musinsa_rank(category_num,page_num):\n",
    "    url = f\"https://www.musinsa.com/ranking/best?period=now&age=ALL&mainCategory=00{category_num}&subCategory=&leafCategory=&price=&golf=false&kids=false&newProduct=false&exclusive=false&discount=false&soldOut=false&page={page_num}&viewType=small&priceMin=&priceMax=\"\n",
    "    response = requests.get(url)\n",
    "    html = bs(response.text, 'lxml')\n",
    "    musinsa_rank_df = rbnl(html)\n",
    "\n",
    "    return musinsa_rank_df"
   ],
   "metadata": {
    "collapsed": false,
    "pycharm": {
     "name": "#%%\n"
    }
   }
  },
  {
   "cell_type": "code",
   "execution_count": 4,
   "outputs": [],
   "source": [
    "def rbnl(html):\n",
    "    musinsa_rank_df = pd.DataFrame()\n",
    "\n",
    "    #순위 뽑기\n",
    "    rank_html = html.select('#goodsRankList > li > p')\n",
    "    rank_no_list = []\n",
    "\n",
    "    for i in rank_html:\n",
    "        rank_no_list.append(i.string.strip())\n",
    "\n",
    "    musinsa_rank_df['순위'] = rank_no_list\n",
    "\n",
    "    #브랜드 이름 뽑기\n",
    "    brand_html = html.select('#goodsRankList > li > div.li_inner > div.article_info > p.item_title > a')\n",
    "    brand_list = []\n",
    "\n",
    "    for i in brand_html:\n",
    "        brand_list.append(i.string)\n",
    "\n",
    "    musinsa_rank_df['브랜드명']=brand_list\n",
    "\n",
    "    #링크와 의류명 뽑기\n",
    "    link_name_html = html.select('#goodsRankList > li > div.li_inner > div.article_info > p.list_info > a')\n",
    "    link_list = []\n",
    "    name_list = []\n",
    "\n",
    "    for i in link_name_html:\n",
    "        link_list.append(i['href'])\n",
    "        name_list.append(i['title'])\n",
    "\n",
    "    musinsa_rank_df['의류명']=name_list\n",
    "    musinsa_rank_df['링크']=link_list\n",
    "\n",
    "    #상세 페이지 크롤링\n",
    "    musinsa_rank_df2 = specific_info(link_list)\n",
    "\n",
    "    #데이터 프레임 옆으로 합치기\n",
    "    musinsa_rank_df = pd.concat([musinsa_rank_df, musinsa_rank_df2], axis=1)\n",
    "\n",
    "    return musinsa_rank_df"
   ],
   "metadata": {
    "collapsed": false,
    "pycharm": {
     "name": "#%%\n"
    }
   }
  },
  {
   "cell_type": "code",
   "execution_count": 5,
   "outputs": [],
   "source": [
    "def specific_info(link_list):\n",
    "    headers={'User-Agent':'Mozilla/5.0 (Windows NT 10.0; Win64; x64) AppleWebKit/537.36 (KHTML, like Gecko) Chrome/101.0.4951.67 Safari/537.36'}\n",
    "\n",
    "    musinsa_rank_df = pd.DataFrame()\n",
    "    part_num_list=[]\n",
    "    sex_list=[]\n",
    "    view_list=[]\n",
    "    sales_list=[]\n",
    "    like_list=[]\n",
    "\n",
    "\n",
    "    for link in tqdm(link_list):\n",
    "#         print(link)\n",
    "        response_1=requests.get(link,headers=headers)\n",
    "        html_1=bs(response_1.text, 'lxml')\n",
    "\n",
    "        #품번 리스트 생성\n",
    "        part_num_html=html_1.select('#product_order_info > div.explan_product.product_info_section > ul > li:nth-child(1) > p.product_article_contents > strong')\n",
    "        part_num=part_num_html[0].get_text().split('/')[-1].strip()\n",
    "        part_num_list.append(part_num)\n",
    "\n",
    "        #성별 리스트 생성\n",
    "        sex_html=html_1.select(\"#product_order_info > div.explan_product.product_info_section > ul > li > p.product_article_contents > span.txt_gender\")\n",
    "        sex=sex_html[0].get_text().replace('\\n',' ').strip()\n",
    "        sex_list.append(sex)\n",
    "\n",
    "        #셀레니움으로 원하는 데이터 가져오기\n",
    "        driver = webdriver.Chrome('chromedriver.exe')\n",
    "        driver.get(link)\n",
    "        sel_html=driver.page_source\n",
    "        html_2=bs(sel_html)\n",
    "\n",
    "        #조회수 가져오기\n",
    "        view_html=html_2.find_all(\"strong\", {\"id\":\"pageview_1m\"})\n",
    "        view=view_html[0].get_text()\n",
    "        view_list.append(view)\n",
    "\n",
    "        #누적 판매 가져오기\n",
    "        sales_html=html_2.find_all(\"strong\", {\"id\":\"sales_1y_qty\"})\n",
    "        sales=sales_html[0].get_text()\n",
    "        sales_list.append(sales)\n",
    "\n",
    "        #좋아요 수 가져오기\n",
    "        like_html=html_2.find_all(\"span\", {\"class\": \"prd_like_cnt\"})\n",
    "        like=like_html[0].get_text()\n",
    "        like_list.append(like)\n",
    "\n",
    "        #드라이버 닫아주기\n",
    "        driver.close()\n",
    "\n",
    "        #시간 추가\n",
    "        time.sleep(0.01)\n",
    "\n",
    "    musinsa_rank_df['품번']=part_num_list\n",
    "    musinsa_rank_df['성별']=sex_list\n",
    "    musinsa_rank_df['조회수']=view_list\n",
    "    musinsa_rank_df['누적판매량(1년)']=sales_list\n",
    "    musinsa_rank_df['좋아요']=like_list\n",
    "\n",
    "    return musinsa_rank_df"
   ],
   "metadata": {
    "collapsed": false,
    "pycharm": {
     "name": "#%%\n"
    }
   }
  },
  {
   "cell_type": "markdown",
   "source": [
    "## 파일로 저장"
   ],
   "metadata": {
    "collapsed": false,
    "pycharm": {
     "name": "#%% md\n"
    }
   }
  },
  {
   "cell_type": "code",
   "execution_count": 6,
   "outputs": [
    {
     "name": "stderr",
     "output_type": "stream",
     "text": [
      "  0%|          | 0/90 [00:00<?, ?it/s]C:\\Users\\jpc10\\AppData\\Local\\Temp\\ipykernel_33136\\1172965386.py:28: DeprecationWarning: executable_path has been deprecated, please pass in a Service object\n",
      "  driver = webdriver.Chrome('chromedriver.exe')\n",
      "100%|██████████| 90/90 [12:53<00:00,  8.60s/it]\n"
     ]
    }
   ],
   "source": [
    "category_num=input(\"Category 번호를 입력하세요: \")\n",
    "page_num=input(\"Page 번호를 입력하세요: \")\n",
    "final_df=musinsa_rank(category_num,page_num)"
   ],
   "metadata": {
    "collapsed": false,
    "pycharm": {
     "name": "#%%\n"
    }
   }
  },
  {
   "cell_type": "code",
   "execution_count": 7,
   "outputs": [
    {
     "data": {
      "text/plain": "Empty DataFrame\nColumns: [순위, 브랜드명, 의류명, 링크, 품번, 성별, 조회수, 누적판매량(1년), 좋아요]\nIndex: []",
      "text/html": "<div>\n<style scoped>\n    .dataframe tbody tr th:only-of-type {\n        vertical-align: middle;\n    }\n\n    .dataframe tbody tr th {\n        vertical-align: top;\n    }\n\n    .dataframe thead th {\n        text-align: right;\n    }\n</style>\n<table border=\"1\" class=\"dataframe\">\n  <thead>\n    <tr style=\"text-align: right;\">\n      <th></th>\n      <th>순위</th>\n      <th>브랜드명</th>\n      <th>의류명</th>\n      <th>링크</th>\n      <th>품번</th>\n      <th>성별</th>\n      <th>조회수</th>\n      <th>누적판매량(1년)</th>\n      <th>좋아요</th>\n    </tr>\n  </thead>\n  <tbody>\n  </tbody>\n</table>\n</div>"
     },
     "execution_count": 7,
     "metadata": {},
     "output_type": "execute_result"
    }
   ],
   "source": [
    "file_name = f\"musinsa_ranking_category{category_num}_page{page_num}.csv\"\n",
    "final_df.to_csv(file_name, index=False)\n",
    "pd.read_csv(file_name)"
   ],
   "metadata": {
    "collapsed": false,
    "pycharm": {
     "name": "#%%\n"
    }
   }
  },
  {
   "cell_type": "code",
   "execution_count": null,
   "outputs": [],
   "source": [],
   "metadata": {
    "collapsed": false,
    "pycharm": {
     "name": "#%%\n"
    }
   }
  }
 ],
 "metadata": {
  "kernelspec": {
   "display_name": "Python 3",
   "language": "python",
   "name": "python3"
  },
  "language_info": {
   "codemirror_mode": {
    "name": "ipython",
    "version": 2
   },
   "file_extension": ".py",
   "mimetype": "text/x-python",
   "name": "python",
   "nbconvert_exporter": "python",
   "pygments_lexer": "ipython2",
   "version": "2.7.6"
  }
 },
 "nbformat": 4,
 "nbformat_minor": 0
}